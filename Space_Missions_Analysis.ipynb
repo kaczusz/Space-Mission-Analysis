{
 "cells": [
  {
   "cell_type": "markdown",
   "metadata": {
    "id": "ka_FkvXBiABo"
   },
   "source": [
    "# Space Mission Analysis 1957 - 2023"
   ]
  },
  {
   "cell_type": "markdown",
   "metadata": {
    "id": "AWaMmfxXa-p0",
    "papermill": {
     "duration": 0.035434,
     "end_time": "2020-10-20T21:34:01.886225",
     "exception": false,
     "start_time": "2020-10-20T21:34:01.850791",
     "status": "completed"
    },
    "tags": []
   },
   "source": [
    "This dataset was scraped from [nextspaceflight.com](https://nextspaceflight.com/launches/past/?page=1) using BeautifulSoup"
   ]
  },
  {
   "cell_type": "markdown",
   "metadata": {
    "id": "ErFDBihUi1jN"
   },
   "source": [
    "### Import Statements"
   ]
  },
  {
   "cell_type": "code",
   "execution_count": 2,
   "metadata": {
    "_cell_guid": "b1076dfc-b9ad-4769-8c92-a6c4dae69d19",
    "_kg_hide-input": true,
    "_kg_hide-output": true,
    "_uuid": "8f2839f25d086af736a60e9eeb907d3b93b6e0e5",
    "colab": {
     "base_uri": "https://localhost:8080/"
    },
    "execution": {
     "iopub.execute_input": "2020-10-20T21:34:02.101551Z",
     "iopub.status.busy": "2020-10-20T21:34:02.101085Z",
     "iopub.status.idle": "2020-10-20T21:34:03.726868Z",
     "shell.execute_reply": "2020-10-20T21:34:03.725783Z"
    },
    "id": "xdolY0-Sa-p1",
    "outputId": "7142dedb-82e9-457d-db44-cea4e121bdfe",
    "papermill": {
     "duration": 1.665326,
     "end_time": "2020-10-20T21:34:03.726995",
     "exception": false,
     "start_time": "2020-10-20T21:34:02.061669",
     "status": "completed"
    },
    "tags": []
   },
   "outputs": [],
   "source": [
    "import numpy as np\n",
    "import pandas as pd\n",
    "import plotly.express as px\n",
    "import matplotlib.pyplot as plt\n",
    "import seaborn as sns\n",
    "\n",
    "\n",
    "from datetime import datetime"
   ]
  },
  {
   "cell_type": "markdown",
   "metadata": {
    "id": "lovGPRgKxIgo"
   },
   "source": [
    "### Notebook Presentation"
   ]
  },
  {
   "cell_type": "code",
   "execution_count": 3,
   "metadata": {
    "id": "DHEULCOjxIIm"
   },
   "outputs": [],
   "source": [
    "pd.options.display.float_format = '{:,.2f}'.format"
   ]
  },
  {
   "cell_type": "markdown",
   "metadata": {
    "id": "yaT3QbjEa-p4",
    "papermill": {
     "duration": 0.034606,
     "end_time": "2020-10-20T21:34:03.798396",
     "exception": false,
     "start_time": "2020-10-20T21:34:03.763790",
     "status": "completed"
    },
    "tags": []
   },
   "source": [
    "### Dataset"
   ]
  },
  {
   "cell_type": "code",
   "execution_count": 4,
   "metadata": {
    "_cell_guid": "79c7e3d0-c299-4dcb-8224-4455121ee9b0",
    "_kg_hide-input": true,
    "_uuid": "d629ff2d2480ee46fbb7e2d37f6b5fab8052498a",
    "execution": {
     "iopub.execute_input": "2020-10-20T21:34:03.874195Z",
     "iopub.status.busy": "2020-10-20T21:34:03.873775Z",
     "iopub.status.idle": "2020-10-20T21:34:03.921919Z",
     "shell.execute_reply": "2020-10-20T21:34:03.921418Z"
    },
    "id": "0lDOu8aka-p4",
    "papermill": {
     "duration": 0.08876,
     "end_time": "2020-10-20T21:34:03.922028",
     "exception": false,
     "start_time": "2020-10-20T21:34:03.833268",
     "status": "completed"
    },
    "tags": []
   },
   "outputs": [],
   "source": [
    "df_data = pd.read_csv('mission_launches_updated.csv')"
   ]
  },
  {
   "cell_type": "markdown",
   "metadata": {
    "id": "jAnMiVcVjuKB"
   },
   "source": [
    "# Data Exploration\n",
    "\n"
   ]
  },
  {
   "cell_type": "code",
   "execution_count": 23,
   "metadata": {
    "id": "0tIuYcYNlPFQ"
   },
   "outputs": [
    {
     "data": {
      "text/plain": [
       "(6510, 8)"
      ]
     },
     "execution_count": 23,
     "metadata": {},
     "output_type": "execute_result"
    }
   ],
   "source": [
    "df_data.shape"
   ]
  },
  {
   "cell_type": "code",
   "execution_count": 24,
   "metadata": {
    "id": "0dw2hd9UlPmP"
   },
   "outputs": [
    {
     "name": "stdout",
     "output_type": "stream",
     "text": [
      "<class 'pandas.core.frame.DataFrame'>\n",
      "RangeIndex: 6510 entries, 0 to 6509\n",
      "Data columns (total 8 columns):\n",
      " #   Column          Non-Null Count  Dtype  \n",
      "---  ------          --------------  -----  \n",
      " 0   Unnamed: 0      6510 non-null   int64  \n",
      " 1   Organisation    6510 non-null   object \n",
      " 2   Location        6510 non-null   object \n",
      " 3   Datetime        6510 non-null   object \n",
      " 4   Details         6510 non-null   object \n",
      " 5   Status          6510 non-null   object \n",
      " 6   Price           2475 non-null   float64\n",
      " 7   Mission_status  6510 non-null   object \n",
      "dtypes: float64(1), int64(1), object(6)\n",
      "memory usage: 407.0+ KB\n"
     ]
    }
   ],
   "source": [
    "df_data.info()"
   ]
  },
  {
   "cell_type": "code",
   "execution_count": 30,
   "metadata": {},
   "outputs": [
    {
     "data": {
      "text/plain": [
       "False"
      ]
     },
     "execution_count": 30,
     "metadata": {},
     "output_type": "execute_result"
    }
   ],
   "source": [
    "df_data.duplicated().values.any()"
   ]
  },
  {
   "cell_type": "code",
   "execution_count": 31,
   "metadata": {},
   "outputs": [
    {
     "data": {
      "text/html": [
       "<div>\n",
       "<style scoped>\n",
       "    .dataframe tbody tr th:only-of-type {\n",
       "        vertical-align: middle;\n",
       "    }\n",
       "\n",
       "    .dataframe tbody tr th {\n",
       "        vertical-align: top;\n",
       "    }\n",
       "\n",
       "    .dataframe thead th {\n",
       "        text-align: right;\n",
       "    }\n",
       "</style>\n",
       "<table border=\"1\" class=\"dataframe\">\n",
       "  <thead>\n",
       "    <tr style=\"text-align: right;\">\n",
       "      <th></th>\n",
       "      <th>Organisation</th>\n",
       "      <th>Location</th>\n",
       "      <th>Datetime</th>\n",
       "      <th>Details</th>\n",
       "      <th>Status</th>\n",
       "      <th>Price</th>\n",
       "      <th>Mission_status</th>\n",
       "    </tr>\n",
       "  </thead>\n",
       "  <tbody>\n",
       "    <tr>\n",
       "      <th>0</th>\n",
       "      <td>CASC</td>\n",
       "      <td>Site 9401 (SLS-2), Jiuquan Satellite Launch Ce...</td>\n",
       "      <td>Sun Apr 16, 2023 01:36 UTC</td>\n",
       "      <td>Long March 4B | Fengyun-3G</td>\n",
       "      <td>Active</td>\n",
       "      <td>64.68</td>\n",
       "      <td>Success</td>\n",
       "    </tr>\n",
       "    <tr>\n",
       "      <th>1</th>\n",
       "      <td>SpaceX</td>\n",
       "      <td>SLC-4E, Vandenberg SFB, California, USA</td>\n",
       "      <td>Sat Apr 15, 2023 06:48 UTC</td>\n",
       "      <td>Falcon 9 Block 5 | Transporter 7</td>\n",
       "      <td>Active</td>\n",
       "      <td>67.00</td>\n",
       "      <td>Success</td>\n",
       "    </tr>\n",
       "    <tr>\n",
       "      <th>2</th>\n",
       "      <td>Arianespace</td>\n",
       "      <td>ELA-3, Guiana Space Centre, French Guiana, France</td>\n",
       "      <td>Fri Apr 14, 2023 12:14 UTC</td>\n",
       "      <td>Ariane 5 ECA | JUICE (Jupiter Icy Moons Explorer)</td>\n",
       "      <td>Active</td>\n",
       "      <td>200.00</td>\n",
       "      <td>Success</td>\n",
       "    </tr>\n",
       "    <tr>\n",
       "      <th>3</th>\n",
       "      <td>SpaceX</td>\n",
       "      <td>SLC-40, Cape Canaveral SFS, Florida, USA</td>\n",
       "      <td>Fri Apr 07, 2023 04:30 UTC</td>\n",
       "      <td>Falcon 9 Block 5 | Intelsat 40e/TEMPO</td>\n",
       "      <td>Active</td>\n",
       "      <td>67.00</td>\n",
       "      <td>Success</td>\n",
       "    </tr>\n",
       "    <tr>\n",
       "      <th>4</th>\n",
       "      <td>i-Space</td>\n",
       "      <td>Site 95, Jiuquan Satellite Launch Center, China</td>\n",
       "      <td>Fri Apr 07, 2023 04:00 UTC</td>\n",
       "      <td>Hyperbola-1 | Dummy Payload</td>\n",
       "      <td>Active</td>\n",
       "      <td>NaN</td>\n",
       "      <td>Success</td>\n",
       "    </tr>\n",
       "  </tbody>\n",
       "</table>\n",
       "</div>"
      ],
      "text/plain": [
       "  Organisation                                           Location  \\\n",
       "0         CASC  Site 9401 (SLS-2), Jiuquan Satellite Launch Ce...   \n",
       "1       SpaceX            SLC-4E, Vandenberg SFB, California, USA   \n",
       "2  Arianespace  ELA-3, Guiana Space Centre, French Guiana, France   \n",
       "3       SpaceX           SLC-40, Cape Canaveral SFS, Florida, USA   \n",
       "4      i-Space    Site 95, Jiuquan Satellite Launch Center, China   \n",
       "\n",
       "                     Datetime  \\\n",
       "0  Sun Apr 16, 2023 01:36 UTC   \n",
       "1  Sat Apr 15, 2023 06:48 UTC   \n",
       "2  Fri Apr 14, 2023 12:14 UTC   \n",
       "3  Fri Apr 07, 2023 04:30 UTC   \n",
       "4  Fri Apr 07, 2023 04:00 UTC   \n",
       "\n",
       "                                             Details  Status  Price  \\\n",
       "0                         Long March 4B | Fengyun-3G  Active  64.68   \n",
       "1                   Falcon 9 Block 5 | Transporter 7  Active  67.00   \n",
       "2  Ariane 5 ECA | JUICE (Jupiter Icy Moons Explorer)  Active 200.00   \n",
       "3              Falcon 9 Block 5 | Intelsat 40e/TEMPO  Active  67.00   \n",
       "4                        Hyperbola-1 | Dummy Payload  Active    NaN   \n",
       "\n",
       "  Mission_status  \n",
       "0        Success  \n",
       "1        Success  \n",
       "2        Success  \n",
       "3        Success  \n",
       "4        Success  "
      ]
     },
     "metadata": {},
     "output_type": "display_data"
    },
    {
     "data": {
      "text/html": [
       "<div>\n",
       "<style scoped>\n",
       "    .dataframe tbody tr th:only-of-type {\n",
       "        vertical-align: middle;\n",
       "    }\n",
       "\n",
       "    .dataframe tbody tr th {\n",
       "        vertical-align: top;\n",
       "    }\n",
       "\n",
       "    .dataframe thead th {\n",
       "        text-align: right;\n",
       "    }\n",
       "</style>\n",
       "<table border=\"1\" class=\"dataframe\">\n",
       "  <thead>\n",
       "    <tr style=\"text-align: right;\">\n",
       "      <th></th>\n",
       "      <th>Organisation</th>\n",
       "      <th>Location</th>\n",
       "      <th>Datetime</th>\n",
       "      <th>Details</th>\n",
       "      <th>Status</th>\n",
       "      <th>Price</th>\n",
       "      <th>Mission_status</th>\n",
       "    </tr>\n",
       "  </thead>\n",
       "  <tbody>\n",
       "    <tr>\n",
       "      <th>6505</th>\n",
       "      <td>US Navy</td>\n",
       "      <td>LC-18A, Cape Canaveral SFS, Florida, USA</td>\n",
       "      <td>Wed Feb 05, 1958 07:33 UTC</td>\n",
       "      <td>Vanguard | Vanguard TV3BU</td>\n",
       "      <td>Retired</td>\n",
       "      <td>NaN</td>\n",
       "      <td>Failure</td>\n",
       "    </tr>\n",
       "    <tr>\n",
       "      <th>6506</th>\n",
       "      <td>ABMA</td>\n",
       "      <td>LC-26A, Cape Canaveral SFS, Florida, USA</td>\n",
       "      <td>Sat Feb 01, 1958 03:47 UTC</td>\n",
       "      <td>Juno I | Explorer 1</td>\n",
       "      <td>Retired</td>\n",
       "      <td>NaN</td>\n",
       "      <td>Success</td>\n",
       "    </tr>\n",
       "    <tr>\n",
       "      <th>6507</th>\n",
       "      <td>US Navy</td>\n",
       "      <td>LC-18A, Cape Canaveral SFS, Florida, USA</td>\n",
       "      <td>Fri Dec 06, 1957 16:44 UTC</td>\n",
       "      <td>Vanguard | Vanguard TV3</td>\n",
       "      <td>Retired</td>\n",
       "      <td>NaN</td>\n",
       "      <td>Failure</td>\n",
       "    </tr>\n",
       "    <tr>\n",
       "      <th>6508</th>\n",
       "      <td>RVSN USSR</td>\n",
       "      <td>Site 1/5, Baikonur Cosmodrome, Kazakhstan</td>\n",
       "      <td>Sun Nov 03, 1957 02:30 UTC</td>\n",
       "      <td>Sputnik 8K71PS | Sputnik 2</td>\n",
       "      <td>Retired</td>\n",
       "      <td>NaN</td>\n",
       "      <td>Success</td>\n",
       "    </tr>\n",
       "    <tr>\n",
       "      <th>6509</th>\n",
       "      <td>RVSN USSR</td>\n",
       "      <td>Site 1/5, Baikonur Cosmodrome, Kazakhstan</td>\n",
       "      <td>Fri Oct 04, 1957 19:28 UTC</td>\n",
       "      <td>Sputnik 8K71PS | Sputnik 1</td>\n",
       "      <td>Retired</td>\n",
       "      <td>NaN</td>\n",
       "      <td>Success</td>\n",
       "    </tr>\n",
       "  </tbody>\n",
       "</table>\n",
       "</div>"
      ],
      "text/plain": [
       "     Organisation                                   Location  \\\n",
       "6505      US Navy   LC-18A, Cape Canaveral SFS, Florida, USA   \n",
       "6506         ABMA   LC-26A, Cape Canaveral SFS, Florida, USA   \n",
       "6507      US Navy   LC-18A, Cape Canaveral SFS, Florida, USA   \n",
       "6508    RVSN USSR  Site 1/5, Baikonur Cosmodrome, Kazakhstan   \n",
       "6509    RVSN USSR  Site 1/5, Baikonur Cosmodrome, Kazakhstan   \n",
       "\n",
       "                        Datetime                     Details   Status  Price  \\\n",
       "6505  Wed Feb 05, 1958 07:33 UTC   Vanguard | Vanguard TV3BU  Retired    NaN   \n",
       "6506  Sat Feb 01, 1958 03:47 UTC         Juno I | Explorer 1  Retired    NaN   \n",
       "6507  Fri Dec 06, 1957 16:44 UTC     Vanguard | Vanguard TV3  Retired    NaN   \n",
       "6508  Sun Nov 03, 1957 02:30 UTC  Sputnik 8K71PS | Sputnik 2  Retired    NaN   \n",
       "6509  Fri Oct 04, 1957 19:28 UTC  Sputnik 8K71PS | Sputnik 1  Retired    NaN   \n",
       "\n",
       "     Mission_status  \n",
       "6505        Failure  \n",
       "6506        Success  \n",
       "6507        Failure  \n",
       "6508        Success  \n",
       "6509        Success  "
      ]
     },
     "metadata": {},
     "output_type": "display_data"
    }
   ],
   "source": [
    "display(df_data.head())\n",
    "display(df_data.tail())"
   ]
  },
  {
   "cell_type": "code",
   "execution_count": 5,
   "metadata": {
    "id": "wWQvnJb0k2Ig"
   },
   "outputs": [],
   "source": [
    "df_data.drop('Unnamed: 0', axis=1, inplace=True)"
   ]
  },
  {
   "cell_type": "code",
   "execution_count": 32,
   "metadata": {
    "id": "SfxVooCYk2As"
   },
   "outputs": [
    {
     "data": {
      "text/html": [
       "<div>\n",
       "<style scoped>\n",
       "    .dataframe tbody tr th:only-of-type {\n",
       "        vertical-align: middle;\n",
       "    }\n",
       "\n",
       "    .dataframe tbody tr th {\n",
       "        vertical-align: top;\n",
       "    }\n",
       "\n",
       "    .dataframe thead th {\n",
       "        text-align: right;\n",
       "    }\n",
       "</style>\n",
       "<table border=\"1\" class=\"dataframe\">\n",
       "  <thead>\n",
       "    <tr style=\"text-align: right;\">\n",
       "      <th></th>\n",
       "      <th>Organisation</th>\n",
       "      <th>Location</th>\n",
       "      <th>Datetime</th>\n",
       "      <th>Details</th>\n",
       "      <th>Status</th>\n",
       "      <th>Price</th>\n",
       "      <th>Mission_status</th>\n",
       "    </tr>\n",
       "  </thead>\n",
       "  <tbody>\n",
       "    <tr>\n",
       "      <th>0</th>\n",
       "      <td>CASC</td>\n",
       "      <td>Site 9401 (SLS-2), Jiuquan Satellite Launch Ce...</td>\n",
       "      <td>Sun Apr 16, 2023 01:36 UTC</td>\n",
       "      <td>Long March 4B | Fengyun-3G</td>\n",
       "      <td>Active</td>\n",
       "      <td>64.68</td>\n",
       "      <td>Success</td>\n",
       "    </tr>\n",
       "    <tr>\n",
       "      <th>1</th>\n",
       "      <td>SpaceX</td>\n",
       "      <td>SLC-4E, Vandenberg SFB, California, USA</td>\n",
       "      <td>Sat Apr 15, 2023 06:48 UTC</td>\n",
       "      <td>Falcon 9 Block 5 | Transporter 7</td>\n",
       "      <td>Active</td>\n",
       "      <td>67.00</td>\n",
       "      <td>Success</td>\n",
       "    </tr>\n",
       "    <tr>\n",
       "      <th>2</th>\n",
       "      <td>Arianespace</td>\n",
       "      <td>ELA-3, Guiana Space Centre, French Guiana, France</td>\n",
       "      <td>Fri Apr 14, 2023 12:14 UTC</td>\n",
       "      <td>Ariane 5 ECA | JUICE (Jupiter Icy Moons Explorer)</td>\n",
       "      <td>Active</td>\n",
       "      <td>200.00</td>\n",
       "      <td>Success</td>\n",
       "    </tr>\n",
       "    <tr>\n",
       "      <th>3</th>\n",
       "      <td>SpaceX</td>\n",
       "      <td>SLC-40, Cape Canaveral SFS, Florida, USA</td>\n",
       "      <td>Fri Apr 07, 2023 04:30 UTC</td>\n",
       "      <td>Falcon 9 Block 5 | Intelsat 40e/TEMPO</td>\n",
       "      <td>Active</td>\n",
       "      <td>67.00</td>\n",
       "      <td>Success</td>\n",
       "    </tr>\n",
       "    <tr>\n",
       "      <th>4</th>\n",
       "      <td>i-Space</td>\n",
       "      <td>Site 95, Jiuquan Satellite Launch Center, China</td>\n",
       "      <td>Fri Apr 07, 2023 04:00 UTC</td>\n",
       "      <td>Hyperbola-1 | Dummy Payload</td>\n",
       "      <td>Active</td>\n",
       "      <td>NaN</td>\n",
       "      <td>Success</td>\n",
       "    </tr>\n",
       "  </tbody>\n",
       "</table>\n",
       "</div>"
      ],
      "text/plain": [
       "  Organisation                                           Location  \\\n",
       "0         CASC  Site 9401 (SLS-2), Jiuquan Satellite Launch Ce...   \n",
       "1       SpaceX            SLC-4E, Vandenberg SFB, California, USA   \n",
       "2  Arianespace  ELA-3, Guiana Space Centre, French Guiana, France   \n",
       "3       SpaceX           SLC-40, Cape Canaveral SFS, Florida, USA   \n",
       "4      i-Space    Site 95, Jiuquan Satellite Launch Center, China   \n",
       "\n",
       "                     Datetime  \\\n",
       "0  Sun Apr 16, 2023 01:36 UTC   \n",
       "1  Sat Apr 15, 2023 06:48 UTC   \n",
       "2  Fri Apr 14, 2023 12:14 UTC   \n",
       "3  Fri Apr 07, 2023 04:30 UTC   \n",
       "4  Fri Apr 07, 2023 04:00 UTC   \n",
       "\n",
       "                                             Details  Status  Price  \\\n",
       "0                         Long March 4B | Fengyun-3G  Active  64.68   \n",
       "1                   Falcon 9 Block 5 | Transporter 7  Active  67.00   \n",
       "2  Ariane 5 ECA | JUICE (Jupiter Icy Moons Explorer)  Active 200.00   \n",
       "3              Falcon 9 Block 5 | Intelsat 40e/TEMPO  Active  67.00   \n",
       "4                        Hyperbola-1 | Dummy Payload  Active    NaN   \n",
       "\n",
       "  Mission_status  \n",
       "0        Success  \n",
       "1        Success  \n",
       "2        Success  \n",
       "3        Success  \n",
       "4        Success  "
      ]
     },
     "execution_count": 32,
     "metadata": {},
     "output_type": "execute_result"
    }
   ],
   "source": [
    "df_data.head()"
   ]
  },
  {
   "cell_type": "markdown",
   "metadata": {
    "id": "QHon_T5sa-p_",
    "papermill": {
     "duration": 0.036712,
     "end_time": "2020-10-20T21:34:05.227032",
     "exception": false,
     "start_time": "2020-10-20T21:34:05.190320",
     "status": "completed"
    },
    "tags": []
   },
   "source": [
    "## Descriptive Statistics"
   ]
  },
  {
   "cell_type": "code",
   "execution_count": 29,
   "metadata": {
    "id": "Fh1-libjkJIK"
   },
   "outputs": [
    {
     "data": {
      "text/html": [
       "<div>\n",
       "<style scoped>\n",
       "    .dataframe tbody tr th:only-of-type {\n",
       "        vertical-align: middle;\n",
       "    }\n",
       "\n",
       "    .dataframe tbody tr th {\n",
       "        vertical-align: top;\n",
       "    }\n",
       "\n",
       "    .dataframe thead th {\n",
       "        text-align: right;\n",
       "    }\n",
       "</style>\n",
       "<table border=\"1\" class=\"dataframe\">\n",
       "  <thead>\n",
       "    <tr style=\"text-align: right;\">\n",
       "      <th></th>\n",
       "      <th>Price</th>\n",
       "    </tr>\n",
       "  </thead>\n",
       "  <tbody>\n",
       "    <tr>\n",
       "      <th>count</th>\n",
       "      <td>2,475.00</td>\n",
       "    </tr>\n",
       "    <tr>\n",
       "      <th>mean</th>\n",
       "      <td>70.31</td>\n",
       "    </tr>\n",
       "    <tr>\n",
       "      <th>std</th>\n",
       "      <td>104.15</td>\n",
       "    </tr>\n",
       "    <tr>\n",
       "      <th>min</th>\n",
       "      <td>2.50</td>\n",
       "    </tr>\n",
       "    <tr>\n",
       "      <th>25%</th>\n",
       "      <td>20.00</td>\n",
       "    </tr>\n",
       "    <tr>\n",
       "      <th>50%</th>\n",
       "      <td>29.75</td>\n",
       "    </tr>\n",
       "    <tr>\n",
       "      <th>75%</th>\n",
       "      <td>65.00</td>\n",
       "    </tr>\n",
       "    <tr>\n",
       "      <th>max</th>\n",
       "      <td>876.00</td>\n",
       "    </tr>\n",
       "  </tbody>\n",
       "</table>\n",
       "</div>"
      ],
      "text/plain": [
       "         Price\n",
       "count 2,475.00\n",
       "mean     70.31\n",
       "std     104.15\n",
       "min       2.50\n",
       "25%      20.00\n",
       "50%      29.75\n",
       "75%      65.00\n",
       "max     876.00"
      ]
     },
     "execution_count": 29,
     "metadata": {},
     "output_type": "execute_result"
    }
   ],
   "source": [
    "df_data.describe()"
   ]
  },
  {
   "cell_type": "code",
   "execution_count": null,
   "metadata": {
    "id": "dGZa5HdbkJBT"
   },
   "outputs": [],
   "source": []
  },
  {
   "cell_type": "markdown",
   "metadata": {
    "id": "cgCjcpeUkKPW"
   },
   "source": [
    "# Number of Launches per Organisation\n",
    "\n"
   ]
  },
  {
   "cell_type": "code",
   "execution_count": 39,
   "metadata": {
    "id": "rxvcIrtskxYB"
   },
   "outputs": [
    {
     "data": {
      "text/plain": [
       "Index(['RVSN USSR', 'US Air Force', 'CASC', 'Roscosmos', 'VKS RF',\n",
       "       'Arianespace', 'General Dynamics', 'SpaceX', 'NASA', 'ULA', 'Boeing',\n",
       "       'ILS', 'Martin Marietta', 'Northrop', 'ISRO', 'MHI', 'Lockheed',\n",
       "       'Starsem', 'Sea Launch', 'Rocket Lab', 'ISAS', 'Blue Origin',\n",
       "       'Kosmotras', 'ABMA', 'US Navy', 'ExPace', 'ISA', 'ESA', 'IAI',\n",
       "       'Eurockot', 'Virgin Galactic', 'CASIC', 'JAXA', 'ASI', 'CNES', 'Astra',\n",
       "       'MITT', 'Land Launch', 'Virgin Orbit', 'i-Space', 'KARI',\n",
       "       'Galactic Energy', 'KCST', 'UT', 'Armée de l'Air', 'CECLES', 'Scaled',\n",
       "       'SRC', 'AEB', 'Firefly', 'OKB-586', 'IRGC', 'Landspace', 'RAE',\n",
       "       'Sandia', 'OneSpace', 'Douglas', 'Space Pioneer', 'CAS Space', 'EER',\n",
       "       'GK LS', 'ABL SS', 'Relativity Space'],\n",
       "      dtype='object')"
      ]
     },
     "execution_count": 39,
     "metadata": {},
     "output_type": "execute_result"
    }
   ],
   "source": [
    "orgs = df_data['Organisation'].value_counts()\n",
    "orgs.index"
   ]
  },
  {
   "cell_type": "code",
   "execution_count": 45,
   "metadata": {
    "id": "qgneHUbWkw5v"
   },
   "outputs": [
    {
     "data": {
      "image/png": "[encoded data removed]",
      "text/plain": [
       "<Figure size 1400x800 with 1 Axes>"
      ]
     },
     "metadata": {},
     "output_type": "display_data"
    }
   ],
   "source": [
    "plt.figure(figsize=(14,8))\n",
    "plt.bar(orgs.index, orgs.values)\n",
    "plt.xticks(rotation=90)\n",
    "plt.xlabel('Organization')\n",
    "plt.ylabel('# of Launches')\n",
    "plt.title('Lauches per Organization since 1957', fontsize=14)\n",
    "plt.show()"
   ]
  },
  {
   "cell_type": "markdown",
   "metadata": {
    "id": "7Gwteht2kR_h"
   },
   "source": [
    "# Number of Active vs Retired Rockets\n",
    "\n"
   ]
  },
  {
   "cell_type": "code",
   "execution_count": 46,
   "metadata": {
    "id": "SxmOWS9cmTq6"
   },
   "outputs": [
    {
     "data": {
      "text/plain": [
       "Retired    5140\n",
       "Active     1370\n",
       "Name: Status, dtype: int64"
      ]
     },
     "execution_count": 46,
     "metadata": {},
     "output_type": "execute_result"
    }
   ],
   "source": [
    "df_data['Status'].value_counts()"
   ]
  },
  {
   "cell_type": "markdown",
   "metadata": {
    "id": "y9WtP5xWkYkp"
   },
   "source": [
    "# Distribution of Mission Status\n",
    "\n"
   ]
  },
  {
   "cell_type": "code",
   "execution_count": 47,
   "metadata": {
    "id": "83kY1alqmUhb"
   },
   "outputs": [
    {
     "data": {
      "text/plain": [
       "Success              5942\n",
       "Failure               448\n",
       "Partial Failure       112\n",
       "Prelaunch Failure       8\n",
       "Name: Mission_status, dtype: int64"
      ]
     },
     "execution_count": 47,
     "metadata": {},
     "output_type": "execute_result"
    }
   ],
   "source": [
    "df_data['Mission_status'].value_counts()"
   ]
  },
  {
   "cell_type": "code",
   "execution_count": null,
   "metadata": {
    "id": "bdmXcaopmUeZ"
   },
   "outputs": [],
   "source": []
  },
  {
   "cell_type": "markdown",
   "metadata": {
    "id": "jgTCihuoa-qH",
    "papermill": {
     "duration": 0.03854,
     "end_time": "2020-10-20T21:34:05.968626",
     "exception": false,
     "start_time": "2020-10-20T21:34:05.930086",
     "status": "completed"
    },
    "tags": []
   },
   "source": [
    "# Price of Launches \n",
    "\n"
   ]
  },
  {
   "cell_type": "code",
   "execution_count": 7,
   "metadata": {},
   "outputs": [
    {
     "data": {
      "text/plain": [
       "Text(0.5, 1.0, 'Prices of Launches Distibution')"
      ]
     },
     "execution_count": 7,
     "metadata": {},
     "output_type": "execute_result"
    },
    {
     "data": {
      "image/png": "[encoded data removed]",
      "text/plain": [
       "<Figure size 640x480 with 1 Axes>"
      ]
     },
     "metadata": {},
     "output_type": "display_data"
    }
   ],
   "source": [
    "plt.hist(x=df_data['Price'], bins=40)\n",
    "plt.xlabel('Price in Milions $')\n",
    "plt.title('Prices of Launches Distibution')"
   ]
  },
  {
   "cell_type": "markdown",
   "metadata": {
    "id": "QiNtigQDne3E"
   },
   "source": [
    "#  Number of Launches by Country\n",
    "\n"
   ]
  },
  {
   "cell_type": "code",
   "execution_count": 8,
   "metadata": {
    "id": "Y46-4GHrozhF"
   },
   "outputs": [
    {
     "data": {
      "text/html": [
       "<div>\n",
       "<style scoped>\n",
       "    .dataframe tbody tr th:only-of-type {\n",
       "        vertical-align: middle;\n",
       "    }\n",
       "\n",
       "    .dataframe tbody tr th {\n",
       "        vertical-align: top;\n",
       "    }\n",
       "\n",
       "    .dataframe thead th {\n",
       "        text-align: right;\n",
       "    }\n",
       "</style>\n",
       "<table border=\"1\" class=\"dataframe\">\n",
       "  <thead>\n",
       "    <tr style=\"text-align: right;\">\n",
       "      <th></th>\n",
       "      <th>Unnamed: 0</th>\n",
       "      <th>Organisation</th>\n",
       "      <th>Location</th>\n",
       "      <th>Datetime</th>\n",
       "      <th>Details</th>\n",
       "      <th>Status</th>\n",
       "      <th>Price</th>\n",
       "      <th>Mission_status</th>\n",
       "    </tr>\n",
       "  </thead>\n",
       "  <tbody>\n",
       "    <tr>\n",
       "      <th>0</th>\n",
       "      <td>0</td>\n",
       "      <td>CASC</td>\n",
       "      <td>Site 9401 (SLS-2), Jiuquan Satellite Launch Ce...</td>\n",
       "      <td>Sun Apr 16, 2023 01:36 UTC</td>\n",
       "      <td>Long March 4B | Fengyun-3G</td>\n",
       "      <td>Active</td>\n",
       "      <td>64.68</td>\n",
       "      <td>Success</td>\n",
       "    </tr>\n",
       "    <tr>\n",
       "      <th>1</th>\n",
       "      <td>1</td>\n",
       "      <td>SpaceX</td>\n",
       "      <td>SLC-4E, Vandenberg SFB, California, USA</td>\n",
       "      <td>Sat Apr 15, 2023 06:48 UTC</td>\n",
       "      <td>Falcon 9 Block 5 | Transporter 7</td>\n",
       "      <td>Active</td>\n",
       "      <td>67.00</td>\n",
       "      <td>Success</td>\n",
       "    </tr>\n",
       "    <tr>\n",
       "      <th>2</th>\n",
       "      <td>2</td>\n",
       "      <td>Arianespace</td>\n",
       "      <td>ELA-3, Guiana Space Centre, French Guiana, France</td>\n",
       "      <td>Fri Apr 14, 2023 12:14 UTC</td>\n",
       "      <td>Ariane 5 ECA | JUICE (Jupiter Icy Moons Explorer)</td>\n",
       "      <td>Active</td>\n",
       "      <td>200.00</td>\n",
       "      <td>Success</td>\n",
       "    </tr>\n",
       "    <tr>\n",
       "      <th>3</th>\n",
       "      <td>3</td>\n",
       "      <td>SpaceX</td>\n",
       "      <td>SLC-40, Cape Canaveral SFS, Florida, USA</td>\n",
       "      <td>Fri Apr 07, 2023 04:30 UTC</td>\n",
       "      <td>Falcon 9 Block 5 | Intelsat 40e/TEMPO</td>\n",
       "      <td>Active</td>\n",
       "      <td>67.00</td>\n",
       "      <td>Success</td>\n",
       "    </tr>\n",
       "    <tr>\n",
       "      <th>4</th>\n",
       "      <td>4</td>\n",
       "      <td>i-Space</td>\n",
       "      <td>Site 95, Jiuquan Satellite Launch Center, China</td>\n",
       "      <td>Fri Apr 07, 2023 04:00 UTC</td>\n",
       "      <td>Hyperbola-1 | Dummy Payload</td>\n",
       "      <td>Active</td>\n",
       "      <td>NaN</td>\n",
       "      <td>Success</td>\n",
       "    </tr>\n",
       "  </tbody>\n",
       "</table>\n",
       "</div>"
      ],
      "text/plain": [
       "   Unnamed: 0 Organisation                                           Location  \\\n",
       "0           0         CASC  Site 9401 (SLS-2), Jiuquan Satellite Launch Ce...   \n",
       "1           1       SpaceX            SLC-4E, Vandenberg SFB, California, USA   \n",
       "2           2  Arianespace  ELA-3, Guiana Space Centre, French Guiana, France   \n",
       "3           3       SpaceX           SLC-40, Cape Canaveral SFS, Florida, USA   \n",
       "4           4      i-Space    Site 95, Jiuquan Satellite Launch Center, China   \n",
       "\n",
       "                     Datetime  \\\n",
       "0  Sun Apr 16, 2023 01:36 UTC   \n",
       "1  Sat Apr 15, 2023 06:48 UTC   \n",
       "2  Fri Apr 14, 2023 12:14 UTC   \n",
       "3  Fri Apr 07, 2023 04:30 UTC   \n",
       "4  Fri Apr 07, 2023 04:00 UTC   \n",
       "\n",
       "                                             Details  Status  Price  \\\n",
       "0                         Long March 4B | Fengyun-3G  Active  64.68   \n",
       "1                   Falcon 9 Block 5 | Transporter 7  Active  67.00   \n",
       "2  Ariane 5 ECA | JUICE (Jupiter Icy Moons Explorer)  Active 200.00   \n",
       "3              Falcon 9 Block 5 | Intelsat 40e/TEMPO  Active  67.00   \n",
       "4                        Hyperbola-1 | Dummy Payload  Active    NaN   \n",
       "\n",
       "  Mission_status  \n",
       "0        Success  \n",
       "1        Success  \n",
       "2        Success  \n",
       "3        Success  \n",
       "4        Success  "
      ]
     },
     "execution_count": 8,
     "metadata": {},
     "output_type": "execute_result"
    }
   ],
   "source": [
    "df_data.head()"
   ]
  },
  {
   "cell_type": "code",
   "execution_count": 9,
   "metadata": {
    "id": "ESGRWiX6ozZG"
   },
   "outputs": [],
   "source": [
    "country = df_data['Location'].str.split(',').apply(lambda c: c[-1])\n",
    "df_data['Country'] = country"
   ]
  },
  {
   "cell_type": "code",
   "execution_count": 10,
   "metadata": {},
   "outputs": [
    {
     "data": {
      "text/html": [
       "<div>\n",
       "<style scoped>\n",
       "    .dataframe tbody tr th:only-of-type {\n",
       "        vertical-align: middle;\n",
       "    }\n",
       "\n",
       "    .dataframe tbody tr th {\n",
       "        vertical-align: top;\n",
       "    }\n",
       "\n",
       "    .dataframe thead th {\n",
       "        text-align: right;\n",
       "    }\n",
       "</style>\n",
       "<table border=\"1\" class=\"dataframe\">\n",
       "  <thead>\n",
       "    <tr style=\"text-align: right;\">\n",
       "      <th></th>\n",
       "      <th>country</th>\n",
       "      <th>count</th>\n",
       "    </tr>\n",
       "  </thead>\n",
       "  <tbody>\n",
       "    <tr>\n",
       "      <th>0</th>\n",
       "      <td>USA</td>\n",
       "      <td>1951</td>\n",
       "    </tr>\n",
       "    <tr>\n",
       "      <th>1</th>\n",
       "      <td>Russia</td>\n",
       "      <td>1804</td>\n",
       "    </tr>\n",
       "    <tr>\n",
       "      <th>2</th>\n",
       "      <td>Kazakhstan</td>\n",
       "      <td>1548</td>\n",
       "    </tr>\n",
       "    <tr>\n",
       "      <th>3</th>\n",
       "      <td>China</td>\n",
       "      <td>520</td>\n",
       "    </tr>\n",
       "    <tr>\n",
       "      <th>4</th>\n",
       "      <td>France</td>\n",
       "      <td>322</td>\n",
       "    </tr>\n",
       "    <tr>\n",
       "      <th>5</th>\n",
       "      <td>Japan</td>\n",
       "      <td>130</td>\n",
       "    </tr>\n",
       "    <tr>\n",
       "      <th>6</th>\n",
       "      <td>India</td>\n",
       "      <td>86</td>\n",
       "    </tr>\n",
       "    <tr>\n",
       "      <th>7</th>\n",
       "      <td>Pacific Ocean</td>\n",
       "      <td>36</td>\n",
       "    </tr>\n",
       "    <tr>\n",
       "      <th>8</th>\n",
       "      <td>New Zealand</td>\n",
       "      <td>33</td>\n",
       "    </tr>\n",
       "    <tr>\n",
       "      <th>9</th>\n",
       "      <td>Iran</td>\n",
       "      <td>17</td>\n",
       "    </tr>\n",
       "    <tr>\n",
       "      <th>10</th>\n",
       "      <td>Israel</td>\n",
       "      <td>14</td>\n",
       "    </tr>\n",
       "    <tr>\n",
       "      <th>11</th>\n",
       "      <td>Marshall Islands</td>\n",
       "      <td>9</td>\n",
       "    </tr>\n",
       "    <tr>\n",
       "      <th>12</th>\n",
       "      <td>Kenya</td>\n",
       "      <td>9</td>\n",
       "    </tr>\n",
       "    <tr>\n",
       "      <th>13</th>\n",
       "      <td>Australia</td>\n",
       "      <td>6</td>\n",
       "    </tr>\n",
       "    <tr>\n",
       "      <th>14</th>\n",
       "      <td>Yellow Sea</td>\n",
       "      <td>5</td>\n",
       "    </tr>\n",
       "    <tr>\n",
       "      <th>15</th>\n",
       "      <td>South Korea</td>\n",
       "      <td>5</td>\n",
       "    </tr>\n",
       "    <tr>\n",
       "      <th>16</th>\n",
       "      <td>North Korea</td>\n",
       "      <td>5</td>\n",
       "    </tr>\n",
       "    <tr>\n",
       "      <th>17</th>\n",
       "      <td>Barents Sea</td>\n",
       "      <td>3</td>\n",
       "    </tr>\n",
       "    <tr>\n",
       "      <th>18</th>\n",
       "      <td>Brazil</td>\n",
       "      <td>3</td>\n",
       "    </tr>\n",
       "    <tr>\n",
       "      <th>19</th>\n",
       "      <td>Gran Canaria</td>\n",
       "      <td>2</td>\n",
       "    </tr>\n",
       "    <tr>\n",
       "      <th>20</th>\n",
       "      <td>United Kingdom</td>\n",
       "      <td>1</td>\n",
       "    </tr>\n",
       "    <tr>\n",
       "      <th>21</th>\n",
       "      <td>Pacific Missile Range Facility</td>\n",
       "      <td>1</td>\n",
       "    </tr>\n",
       "  </tbody>\n",
       "</table>\n",
       "</div>"
      ],
      "text/plain": [
       "                            country  count\n",
       "0                               USA   1951\n",
       "1                            Russia   1804\n",
       "2                        Kazakhstan   1548\n",
       "3                             China    520\n",
       "4                            France    322\n",
       "5                             Japan    130\n",
       "6                             India     86\n",
       "7                     Pacific Ocean     36\n",
       "8                       New Zealand     33\n",
       "9                              Iran     17\n",
       "10                           Israel     14\n",
       "11                 Marshall Islands      9\n",
       "12                            Kenya      9\n",
       "13                        Australia      6\n",
       "14                       Yellow Sea      5\n",
       "15                      South Korea      5\n",
       "16                      North Korea      5\n",
       "17                      Barents Sea      3\n",
       "18                           Brazil      3\n",
       "19                     Gran Canaria      2\n",
       "20                   United Kingdom      1\n",
       "21   Pacific Missile Range Facility      1"
      ]
     },
     "execution_count": 10,
     "metadata": {},
     "output_type": "execute_result"
    }
   ],
   "source": [
    "by_country = df_data['Country'].value_counts()\n",
    "country_df = pd.DataFrame({'country': by_country.index, 'count':by_country.values})\n",
    "country_df"
   ]
  },
  {
   "cell_type": "code",
   "execution_count": 12,
   "metadata": {},
   "outputs": [
    {
     "data": {
      "application/vnd.plotly.v1+json": {
       "config": {
        "plotlyServerURL": "https://plot.ly"
       },
       "data": [
        {
         "coloraxis": "coloraxis",
         "geo": "geo",
         "hovertemplate": "<b>%{hovertext}</b><br><br>country=%{location}<br>count=%{z}<extra></extra>",
         "hovertext": [
          " USA",
          " Russia",
          " Kazakhstan",
          " China",
          " France",
          " Japan",
          " India",
          " Pacific Ocean",
          " New Zealand",
          " Iran",
          " Israel",
          " Marshall Islands",
          " Kenya",
          " Australia",
          " Yellow Sea",
          " South Korea",
          " North Korea",
          " Barents Sea",
          " Brazil",
          " Gran Canaria",
          " United Kingdom",
          " Pacific Missile Range Facility"
         ],
         "locationmode": "country names",
         "locations": [
          " USA",
          " Russia",
          " Kazakhstan",
          " China",
          " France",
          " Japan",
          " India",
          " Pacific Ocean",
          " New Zealand",
          " Iran",
          " Israel",
          " Marshall Islands",
          " Kenya",
          " Australia",
          " Yellow Sea",
          " South Korea",
          " North Korea",
          " Barents Sea",
          " Brazil",
          " Gran Canaria",
          " United Kingdom",
          " Pacific Missile Range Facility"
         ],
         "name": "",
         "type": "choropleth",
         "z": [
          1951,
          1804,
          1548,
          520,
          322,
          130,
          86,
          36,
          33,
          17,
          14,
          9,
          9,
          6,
          5,
          5,
          5,
          3,
          3,
          2,
          1,
          1
         ]
        }
       ],
       "layout": {
        "coloraxis": {
         "colorbar": {
          "title": {
           "text": "count"
          }
         },
         "colorscale": [
          [
           0,
           "rgb(253, 237, 176)"
          ],
          [
           0.09090909090909091,
           "rgb(250, 205, 145)"
          ],
          [
           0.18181818181818182,
           "rgb(246, 173, 119)"
          ],
          [
           0.2727272727272727,
           "rgb(240, 142, 98)"
          ],
          [
           0.36363636363636365,
           "rgb(231, 109, 84)"
          ],
          [
           0.45454545454545453,
           "rgb(216, 80, 83)"
          ],
          [
           0.5454545454545454,
           "rgb(195, 56, 90)"
          ],
          [
           0.6363636363636364,
           "rgb(168, 40, 96)"
          ],
          [
           0.7272727272727273,
           "rgb(138, 29, 99)"
          ],
          [
           0.8181818181818182,
           "rgb(107, 24, 93)"
          ],
          [
           0.9090909090909091,
           "rgb(76, 21, 80)"
          ],
          [
           1,
           "rgb(47, 15, 61)"
          ]
         ]
        },
        "geo": {
         "center": {},
         "domain": {
          "x": [
           0,
           1
          ],
          "y": [
           0,
           1
          ]
         }
        },
        "legend": {
         "tracegroupgap": 0
        },
        "template": {
         "data": {
          "bar": [
           {
            "error_x": {
             "color": "#2a3f5f"
            },
            "error_y": {
             "color": "#2a3f5f"
            },
            "marker": {
             "line": {
              "color": "#E5ECF6",
              "width": 0.5
             },
             "pattern": {
              "fillmode": "overlay",
              "size": 10,
              "solidity": 0.2
             }
            },
            "type": "bar"
           }
          ],
          "barpolar": [
           {
            "marker": {
             "line": {
              "color": "#E5ECF6",
              "width": 0.5
             },
             "pattern": {
              "fillmode": "overlay",
              "size": 10,
              "solidity": 0.2
             }
            },
            "type": "barpolar"
           }
          ],
          "carpet": [
           {
            "aaxis": {
             "endlinecolor": "#2a3f5f",
             "gridcolor": "white",
             "linecolor": "white",
             "minorgridcolor": "white",
             "startlinecolor": "#2a3f5f"
            },
            "baxis": {
             "endlinecolor": "#2a3f5f",
             "gridcolor": "white",
             "linecolor": "white",
             "minorgridcolor": "white",
             "startlinecolor": "#2a3f5f"
            },
            "type": "carpet"
           }
          ],
          "choropleth": [
           {
            "colorbar": {
             "outlinewidth": 0,
             "ticks": ""
            },
            "type": "choropleth"
           }
          ],
          "contour": [
           {
            "colorbar": {
             "outlinewidth": 0,
             "ticks": ""
            },
            "colorscale": [
             [
              0,
              "#0d0887"
             ],
             [
              0.1111111111111111,
              "#46039f"
             ],
             [
              0.2222222222222222,
              "#7201a8"
             ],
             [
              0.3333333333333333,
              "#9c179e"
             ],
             [
              0.4444444444444444,
              "#bd3786"
             ],
             [
              0.5555555555555556,
              "#d8576b"
             ],
             [
              0.6666666666666666,
              "#ed7953"
             ],
             [
              0.7777777777777778,
              "#fb9f3a"
             ],
             [
              0.8888888888888888,
              "#fdca26"
             ],
             [
              1,
              "#f0f921"
             ]
            ],
            "type": "contour"
           }
          ],
          "contourcarpet": [
           {
            "colorbar": {
             "outlinewidth": 0,
             "ticks": ""
            },
            "type": "contourcarpet"
           }
          ],
          "heatmap": [
           {
            "colorbar": {
             "outlinewidth": 0,
             "ticks": ""
            },
            "colorscale": [
             [
              0,
              "#0d0887"
             ],
             [
              0.1111111111111111,
              "#46039f"
             ],
             [
              0.2222222222222222,
              "#7201a8"
             ],
             [
              0.3333333333333333,
              "#9c179e"
             ],
             [
              0.4444444444444444,
              "#bd3786"
             ],
             [
              0.5555555555555556,
              "#d8576b"
             ],
             [
              0.6666666666666666,
              "#ed7953"
             ],
             [
              0.7777777777777778,
              "#fb9f3a"
             ],
             [
              0.8888888888888888,
              "#fdca26"
             ],
             [
              1,
              "#f0f921"
             ]
            ],
            "type": "heatmap"
           }
          ],
          "heatmapgl": [
           {
            "colorbar": {
             "outlinewidth": 0,
             "ticks": ""
            },
            "colorscale": [
             [
              0,
              "#0d0887"
             ],
             [
              0.1111111111111111,
              "#46039f"
             ],
             [
              0.2222222222222222,
              "#7201a8"
             ],
             [
              0.3333333333333333,
              "#9c179e"
             ],
             [
              0.4444444444444444,
              "#bd3786"
             ],
             [
              0.5555555555555556,
              "#d8576b"
             ],
             [
              0.6666666666666666,
              "#ed7953"
             ],
             [
              0.7777777777777778,
              "#fb9f3a"
             ],
             [
              0.8888888888888888,
              "#fdca26"
             ],
             [
              1,
              "#f0f921"
             ]
            ],
            "type": "heatmapgl"
           }
          ],
          "histogram": [
           {
            "marker": {
             "pattern": {
              "fillmode": "overlay",
              "size": 10,
              "solidity": 0.2
             }
            },
            "type": "histogram"
           }
          ],
          "histogram2d": [
           {
            "colorbar": {
             "outlinewidth": 0,
             "ticks": ""
            },
            "colorscale": [
             [
              0,
              "#0d0887"
             ],
             [
              0.1111111111111111,
              "#46039f"
             ],
             [
              0.2222222222222222,
              "#7201a8"
             ],
             [
              0.3333333333333333,
              "#9c179e"
             ],
             [
              0.4444444444444444,
              "#bd3786"
             ],
             [
              0.5555555555555556,
              "#d8576b"
             ],
             [
              0.6666666666666666,
              "#ed7953"
             ],
             [
              0.7777777777777778,
              "#fb9f3a"
             ],
             [
              0.8888888888888888,
              "#fdca26"
             ],
             [
              1,
              "#f0f921"
             ]
            ],
            "type": "histogram2d"
           }
          ],
          "histogram2dcontour": [
           {
            "colorbar": {
             "outlinewidth": 0,
             "ticks": ""
            },
            "colorscale": [
             [
              0,
              "#0d0887"
             ],
             [
              0.1111111111111111,
              "#46039f"
             ],
             [
              0.2222222222222222,
              "#7201a8"
             ],
             [
              0.3333333333333333,
              "#9c179e"
             ],
             [
              0.4444444444444444,
              "#bd3786"
             ],
             [
              0.5555555555555556,
              "#d8576b"
             ],
             [
              0.6666666666666666,
              "#ed7953"
             ],
             [
              0.7777777777777778,
              "#fb9f3a"
             ],
             [
              0.8888888888888888,
              "#fdca26"
             ],
             [
              1,
              "#f0f921"
             ]
            ],
            "type": "histogram2dcontour"
           }
          ],
          "mesh3d": [
           {
            "colorbar": {
             "outlinewidth": 0,
             "ticks": ""
            },
            "type": "mesh3d"
           }
          ],
          "parcoords": [
           {
            "line": {
             "colorbar": {
              "outlinewidth": 0,
              "ticks": ""
             }
            },
            "type": "parcoords"
           }
          ],
          "pie": [
           {
            "automargin": true,
            "type": "pie"
           }
          ],
          "scatter": [
           {
            "fillpattern": {
             "fillmode": "overlay",
             "size": 10,
             "solidity": 0.2
            },
            "type": "scatter"
           }
          ],
          "scatter3d": [
           {
            "line": {
             "colorbar": {
              "outlinewidth": 0,
              "ticks": ""
             }
            },
            "marker": {
             "colorbar": {
              "outlinewidth": 0,
              "ticks": ""
             }
            },
            "type": "scatter3d"
           }
          ],
          "scattercarpet": [
           {
            "marker": {
             "colorbar": {
              "outlinewidth": 0,
              "ticks": ""
             }
            },
            "type": "scattercarpet"
           }
          ],
          "scattergeo": [
           {
            "marker": {
             "colorbar": {
              "outlinewidth": 0,
              "ticks": ""
             }
            },
            "type": "scattergeo"
           }
          ],
          "scattergl": [
           {
            "marker": {
             "colorbar": {
              "outlinewidth": 0,
              "ticks": ""
             }
            },
            "type": "scattergl"
           }
          ],
          "scattermapbox": [
           {
            "marker": {
             "colorbar": {
              "outlinewidth": 0,
              "ticks": ""
             }
            },
            "type": "scattermapbox"
           }
          ],
          "scatterpolar": [
           {
            "marker": {
             "colorbar": {
              "outlinewidth": 0,
              "ticks": ""
             }
            },
            "type": "scatterpolar"
           }
          ],
          "scatterpolargl": [
           {
            "marker": {
             "colorbar": {
              "outlinewidth": 0,
              "ticks": ""
             }
            },
            "type": "scatterpolargl"
           }
          ],
          "scatterternary": [
           {
            "marker": {
             "colorbar": {
              "outlinewidth": 0,
              "ticks": ""
             }
            },
            "type": "scatterternary"
           }
          ],
          "surface": [
           {
            "colorbar": {
             "outlinewidth": 0,
             "ticks": ""
            },
            "colorscale": [
             [
              0,
              "#0d0887"
             ],
             [
              0.1111111111111111,
              "#46039f"
             ],
             [
              0.2222222222222222,
              "#7201a8"
             ],
             [
              0.3333333333333333,
              "#9c179e"
             ],
             [
              0.4444444444444444,
              "#bd3786"
             ],
             [
              0.5555555555555556,
              "#d8576b"
             ],
             [
              0.6666666666666666,
              "#ed7953"
             ],
             [
              0.7777777777777778,
              "#fb9f3a"
             ],
             [
              0.8888888888888888,
              "#fdca26"
             ],
             [
              1,
              "#f0f921"
             ]
            ],
            "type": "surface"
           }
          ],
          "table": [
           {
            "cells": {
             "fill": {
              "color": "#EBF0F8"
             },
             "line": {
              "color": "white"
             }
            },
            "header": {
             "fill": {
              "color": "#C8D4E3"
             },
             "line": {
              "color": "white"
             }
            },
            "type": "table"
           }
          ]
         },
         "layout": {
          "annotationdefaults": {
           "arrowcolor": "#2a3f5f",
           "arrowhead": 0,
           "arrowwidth": 1
          },
          "autotypenumbers": "strict",
          "coloraxis": {
           "colorbar": {
            "outlinewidth": 0,
            "ticks": ""
           }
          },
          "colorscale": {
           "diverging": [
            [
             0,
             "#8e0152"
            ],
            [
             0.1,
             "#c51b7d"
            ],
            [
             0.2,
             "#de77ae"
            ],
            [
             0.3,
             "#f1b6da"
            ],
            [
             0.4,
             "#fde0ef"
            ],
            [
             0.5,
             "#f7f7f7"
            ],
            [
             0.6,
             "#e6f5d0"
            ],
            [
             0.7,
             "#b8e186"
            ],
            [
             0.8,
             "#7fbc41"
            ],
            [
             0.9,
             "#4d9221"
            ],
            [
             1,
             "#276419"
            ]
           ],
           "sequential": [
            [
             0,
             "#0d0887"
            ],
            [
             0.1111111111111111,
             "#46039f"
            ],
            [
             0.2222222222222222,
             "#7201a8"
            ],
            [
             0.3333333333333333,
             "#9c179e"
            ],
            [
             0.4444444444444444,
             "#bd3786"
            ],
            [
             0.5555555555555556,
             "#d8576b"
            ],
            [
             0.6666666666666666,
             "#ed7953"
            ],
            [
             0.7777777777777778,
             "#fb9f3a"
            ],
            [
             0.8888888888888888,
             "#fdca26"
            ],
            [
             1,
             "#f0f921"
            ]
           ],
           "sequentialminus": [
            [
             0,
             "#0d0887"
            ],
            [
             0.1111111111111111,
             "#46039f"
            ],
            [
             0.2222222222222222,
             "#7201a8"
            ],
            [
             0.3333333333333333,
             "#9c179e"
            ],
            [
             0.4444444444444444,
             "#bd3786"
            ],
            [
             0.5555555555555556,
             "#d8576b"
            ],
            [
             0.6666666666666666,
             "#ed7953"
            ],
            [
             0.7777777777777778,
             "#fb9f3a"
            ],
            [
             0.8888888888888888,
             "#fdca26"
            ],
            [
             1,
             "#f0f921"
            ]
           ]
          },
          "colorway": [
           "#636efa",
           "#EF553B",
           "#00cc96",
           "#ab63fa",
           "#FFA15A",
           "#19d3f3",
           "#FF6692",
           "#B6E880",
           "#FF97FF",
           "#FECB52"
          ],
          "font": {
           "color": "#2a3f5f"
          },
          "geo": {
           "bgcolor": "white",
           "lakecolor": "white",
           "landcolor": "#E5ECF6",
           "showlakes": true,
           "showland": true,
           "subunitcolor": "white"
          },
          "hoverlabel": {
           "align": "left"
          },
          "hovermode": "closest",
          "mapbox": {
           "style": "light"
          },
          "paper_bgcolor": "white",
          "plot_bgcolor": "#E5ECF6",
          "polar": {
           "angularaxis": {
            "gridcolor": "white",
            "linecolor": "white",
            "ticks": ""
           },
           "bgcolor": "#E5ECF6",
           "radialaxis": {
            "gridcolor": "white",
            "linecolor": "white",
            "ticks": ""
           }
          },
          "scene": {
           "xaxis": {
            "backgroundcolor": "#E5ECF6",
            "gridcolor": "white",
            "gridwidth": 2,
            "linecolor": "white",
            "showbackground": true,
            "ticks": "",
            "zerolinecolor": "white"
           },
           "yaxis": {
            "backgroundcolor": "#E5ECF6",
            "gridcolor": "white",
            "gridwidth": 2,
            "linecolor": "white",
            "showbackground": true,
            "ticks": "",
            "zerolinecolor": "white"
           },
           "zaxis": {
            "backgroundcolor": "#E5ECF6",
            "gridcolor": "white",
            "gridwidth": 2,
            "linecolor": "white",
            "showbackground": true,
            "ticks": "",
            "zerolinecolor": "white"
           }
          },
          "shapedefaults": {
           "line": {
            "color": "#2a3f5f"
           }
          },
          "ternary": {
           "aaxis": {
            "gridcolor": "white",
            "linecolor": "white",
            "ticks": ""
           },
           "baxis": {
            "gridcolor": "white",
            "linecolor": "white",
            "ticks": ""
           },
           "bgcolor": "#E5ECF6",
           "caxis": {
            "gridcolor": "white",
            "linecolor": "white",
            "ticks": ""
           }
          },
          "title": {
           "x": 0.05
          },
          "xaxis": {
           "automargin": true,
           "gridcolor": "white",
           "linecolor": "white",
           "ticks": "",
           "title": {
            "standoff": 15
           },
           "zerolinecolor": "white",
           "zerolinewidth": 2
          },
          "yaxis": {
           "automargin": true,
           "gridcolor": "white",
           "linecolor": "white",
           "ticks": "",
           "title": {
            "standoff": 15
           },
           "zerolinecolor": "white",
           "zerolinewidth": 2
          }
         }
        },
        "title": {
         "text": "Number of Launches per Country since 1957",
         "x": 0.5
        },
        "width": 800
       }
      },
      "text/html": [
       "<div>                            <div id=\"9fab4a06-1f1d-4b5e-9a27-a5ae8b1f6030\" class=\"plotly-graph-div\" style=\"height:525px; width:800px;\"></div>            <script type=\"text/javascript\">                require([\"plotly\"], function(Plotly) {                    window.PLOTLYENV=window.PLOTLYENV || {};                                    if (document.getElementById(\"9fab4a06-1f1d-4b5e-9a27-a5ae8b1f6030\")) {                    Plotly.newPlot(                        \"9fab4a06-1f1d-4b5e-9a27-a5ae8b1f6030\",                        [{\"coloraxis\":\"coloraxis\",\"geo\":\"geo\",\"hovertemplate\":\"<b>%{hovertext}</b><br><br>country=%{location}<br>count=%{z}<extra></extra>\",\"hovertext\":[\" USA\",\" Russia\",\" Kazakhstan\",\" China\",\" France\",\" Japan\",\" India\",\" Pacific Ocean\",\" New Zealand\",\" Iran\",\" Israel\",\" Marshall Islands\",\" Kenya\",\" Australia\",\" Yellow Sea\",\" South Korea\",\" North Korea\",\" Barents Sea\",\" Brazil\",\" Gran Canaria\",\" United Kingdom\",\" Pacific Missile Range Facility\"],\"locationmode\":\"country names\",\"locations\":[\" USA\",\" Russia\",\" Kazakhstan\",\" China\",\" France\",\" Japan\",\" India\",\" Pacific Ocean\",\" New Zealand\",\" Iran\",\" Israel\",\" Marshall Islands\",\" Kenya\",\" Australia\",\" Yellow Sea\",\" South Korea\",\" North Korea\",\" Barents Sea\",\" Brazil\",\" Gran Canaria\",\" United Kingdom\",\" Pacific Missile Range Facility\"],\"name\":\"\",\"z\":[1951,1804,1548,520,322,130,86,36,33,17,14,9,9,6,5,5,5,3,3,2,1,1],\"type\":\"choropleth\"}],                        {\"template\":{\"data\":{\"histogram2dcontour\":[{\"type\":\"histogram2dcontour\",\"colorbar\":{\"outlinewidth\":0,\"ticks\":\"\"},\"colorscale\":[[0.0,\"#0d0887\"],[0.1111111111111111,\"#46039f\"],[0.2222222222222222,\"#7201a8\"],[0.3333333333333333,\"#9c179e\"],[0.4444444444444444,\"#bd3786\"],[0.5555555555555556,\"#d8576b\"],[0.6666666666666666,\"#ed7953\"],[0.7777777777777778,\"#fb9f3a\"],[0.8888888888888888,\"#fdca26\"],[1.0,\"#f0f921\"]]}],\"choropleth\":[{\"type\":\"choropleth\",\"colorbar\":{\"outlinewidth\":0,\"ticks\":\"\"}}],\"histogram2d\":[{\"type\":\"histogram2d\",\"colorbar\":{\"outlinewidth\":0,\"ticks\":\"\"},\"colorscale\":[[0.0,\"#0d0887\"],[0.1111111111111111,\"#46039f\"],[0.2222222222222222,\"#7201a8\"],[0.3333333333333333,\"#9c179e\"],[0.4444444444444444,\"#bd3786\"],[0.5555555555555556,\"#d8576b\"],[0.6666666666666666,\"#ed7953\"],[0.7777777777777778,\"#fb9f3a\"],[0.8888888888888888,\"#fdca26\"],[1.0,\"#f0f921\"]]}],\"heatmap\":[{\"type\":\"heatmap\",\"colorbar\":{\"outlinewidth\":0,\"ticks\":\"\"},\"colorscale\":[[0.0,\"#0d0887\"],[0.1111111111111111,\"#46039f\"],[0.2222222222222222,\"#7201a8\"],[0.3333333333333333,\"#9c179e\"],[0.4444444444444444,\"#bd3786\"],[0.5555555555555556,\"#d8576b\"],[0.6666666666666666,\"#ed7953\"],[0.7777777777777778,\"#fb9f3a\"],[0.8888888888888888,\"#fdca26\"],[1.0,\"#f0f921\"]]}],\"heatmapgl\":[{\"type\":\"heatmapgl\",\"colorbar\":{\"outlinewidth\":0,\"ticks\":\"\"},\"colorscale\":[[0.0,\"#0d0887\"],[0.1111111111111111,\"#46039f\"],[0.2222222222222222,\"#7201a8\"],[0.3333333333333333,\"#9c179e\"],[0.4444444444444444,\"#bd3786\"],[0.5555555555555556,\"#d8576b\"],[0.6666666666666666,\"#ed7953\"],[0.7777777777777778,\"#fb9f3a\"],[0.8888888888888888,\"#fdca26\"],[1.0,\"#f0f921\"]]}],\"contourcarpet\":[{\"type\":\"contourcarpet\",\"colorbar\":{\"outlinewidth\":0,\"ticks\":\"\"}}],\"contour\":[{\"type\":\"contour\",\"colorbar\":{\"outlinewidth\":0,\"ticks\":\"\"},\"colorscale\":[[0.0,\"#0d0887\"],[0.1111111111111111,\"#46039f\"],[0.2222222222222222,\"#7201a8\"],[0.3333333333333333,\"#9c179e\"],[0.4444444444444444,\"#bd3786\"],[0.5555555555555556,\"#d8576b\"],[0.6666666666666666,\"#ed7953\"],[0.7777777777777778,\"#fb9f3a\"],[0.8888888888888888,\"#fdca26\"],[1.0,\"#f0f921\"]]}],\"surface\":[{\"type\":\"surface\",\"colorbar\":{\"outlinewidth\":0,\"ticks\":\"\"},\"colorscale\":[[0.0,\"#0d0887\"],[0.1111111111111111,\"#46039f\"],[0.2222222222222222,\"#7201a8\"],[0.3333333333333333,\"#9c179e\"],[0.4444444444444444,\"#bd3786\"],[0.5555555555555556,\"#d8576b\"],[0.6666666666666666,\"#ed7953\"],[0.7777777777777778,\"#fb9f3a\"],[0.8888888888888888,\"#fdca26\"],[1.0,\"#f0f921\"]]}],\"mesh3d\":[{\"type\":\"mesh3d\",\"colorbar\":{\"outlinewidth\":0,\"ticks\":\"\"}}],\"scatter\":[{\"fillpattern\":{\"fillmode\":\"overlay\",\"size\":10,\"solidity\":0.2},\"type\":\"scatter\"}],\"parcoords\":[{\"type\":\"parcoords\",\"line\":{\"colorbar\":{\"outlinewidth\":0,\"ticks\":\"\"}}}],\"scatterpolargl\":[{\"type\":\"scatterpolargl\",\"marker\":{\"colorbar\":{\"outlinewidth\":0,\"ticks\":\"\"}}}],\"bar\":[{\"error_x\":{\"color\":\"#2a3f5f\"},\"error_y\":{\"color\":\"#2a3f5f\"},\"marker\":{\"line\":{\"color\":\"#E5ECF6\",\"width\":0.5},\"pattern\":{\"fillmode\":\"overlay\",\"size\":10,\"solidity\":0.2}},\"type\":\"bar\"}],\"scattergeo\":[{\"type\":\"scattergeo\",\"marker\":{\"colorbar\":{\"outlinewidth\":0,\"ticks\":\"\"}}}],\"scatterpolar\":[{\"type\":\"scatterpolar\",\"marker\":{\"colorbar\":{\"outlinewidth\":0,\"ticks\":\"\"}}}],\"histogram\":[{\"marker\":{\"pattern\":{\"fillmode\":\"overlay\",\"size\":10,\"solidity\":0.2}},\"type\":\"histogram\"}],\"scattergl\":[{\"type\":\"scattergl\",\"marker\":{\"colorbar\":{\"outlinewidth\":0,\"ticks\":\"\"}}}],\"scatter3d\":[{\"type\":\"scatter3d\",\"line\":{\"colorbar\":{\"outlinewidth\":0,\"ticks\":\"\"}},\"marker\":{\"colorbar\":{\"outlinewidth\":0,\"ticks\":\"\"}}}],\"scattermapbox\":[{\"type\":\"scattermapbox\",\"marker\":{\"colorbar\":{\"outlinewidth\":0,\"ticks\":\"\"}}}],\"scatterternary\":[{\"type\":\"scatterternary\",\"marker\":{\"colorbar\":{\"outlinewidth\":0,\"ticks\":\"\"}}}],\"scattercarpet\":[{\"type\":\"scattercarpet\",\"marker\":{\"colorbar\":{\"outlinewidth\":0,\"ticks\":\"\"}}}],\"carpet\":[{\"aaxis\":{\"endlinecolor\":\"#2a3f5f\",\"gridcolor\":\"white\",\"linecolor\":\"white\",\"minorgridcolor\":\"white\",\"startlinecolor\":\"#2a3f5f\"},\"baxis\":{\"endlinecolor\":\"#2a3f5f\",\"gridcolor\":\"white\",\"linecolor\":\"white\",\"minorgridcolor\":\"white\",\"startlinecolor\":\"#2a3f5f\"},\"type\":\"carpet\"}],\"table\":[{\"cells\":{\"fill\":{\"color\":\"#EBF0F8\"},\"line\":{\"color\":\"white\"}},\"header\":{\"fill\":{\"color\":\"#C8D4E3\"},\"line\":{\"color\":\"white\"}},\"type\":\"table\"}],\"barpolar\":[{\"marker\":{\"line\":{\"color\":\"#E5ECF6\",\"width\":0.5},\"pattern\":{\"fillmode\":\"overlay\",\"size\":10,\"solidity\":0.2}},\"type\":\"barpolar\"}],\"pie\":[{\"automargin\":true,\"type\":\"pie\"}]},\"layout\":{\"autotypenumbers\":\"strict\",\"colorway\":[\"#636efa\",\"#EF553B\",\"#00cc96\",\"#ab63fa\",\"#FFA15A\",\"#19d3f3\",\"#FF6692\",\"#B6E880\",\"#FF97FF\",\"#FECB52\"],\"font\":{\"color\":\"#2a3f5f\"},\"hovermode\":\"closest\",\"hoverlabel\":{\"align\":\"left\"},\"paper_bgcolor\":\"white\",\"plot_bgcolor\":\"#E5ECF6\",\"polar\":{\"bgcolor\":\"#E5ECF6\",\"angularaxis\":{\"gridcolor\":\"white\",\"linecolor\":\"white\",\"ticks\":\"\"},\"radialaxis\":{\"gridcolor\":\"white\",\"linecolor\":\"white\",\"ticks\":\"\"}},\"ternary\":{\"bgcolor\":\"#E5ECF6\",\"aaxis\":{\"gridcolor\":\"white\",\"linecolor\":\"white\",\"ticks\":\"\"},\"baxis\":{\"gridcolor\":\"white\",\"linecolor\":\"white\",\"ticks\":\"\"},\"caxis\":{\"gridcolor\":\"white\",\"linecolor\":\"white\",\"ticks\":\"\"}},\"coloraxis\":{\"colorbar\":{\"outlinewidth\":0,\"ticks\":\"\"}},\"colorscale\":{\"sequential\":[[0.0,\"#0d0887\"],[0.1111111111111111,\"#46039f\"],[0.2222222222222222,\"#7201a8\"],[0.3333333333333333,\"#9c179e\"],[0.4444444444444444,\"#bd3786\"],[0.5555555555555556,\"#d8576b\"],[0.6666666666666666,\"#ed7953\"],[0.7777777777777778,\"#fb9f3a\"],[0.8888888888888888,\"#fdca26\"],[1.0,\"#f0f921\"]],\"sequentialminus\":[[0.0,\"#0d0887\"],[0.1111111111111111,\"#46039f\"],[0.2222222222222222,\"#7201a8\"],[0.3333333333333333,\"#9c179e\"],[0.4444444444444444,\"#bd3786\"],[0.5555555555555556,\"#d8576b\"],[0.6666666666666666,\"#ed7953\"],[0.7777777777777778,\"#fb9f3a\"],[0.8888888888888888,\"#fdca26\"],[1.0,\"#f0f921\"]],\"diverging\":[[0,\"#8e0152\"],[0.1,\"#c51b7d\"],[0.2,\"#de77ae\"],[0.3,\"#f1b6da\"],[0.4,\"#fde0ef\"],[0.5,\"#f7f7f7\"],[0.6,\"#e6f5d0\"],[0.7,\"#b8e186\"],[0.8,\"#7fbc41\"],[0.9,\"#4d9221\"],[1,\"#276419\"]]},\"xaxis\":{\"gridcolor\":\"white\",\"linecolor\":\"white\",\"ticks\":\"\",\"title\":{\"standoff\":15},\"zerolinecolor\":\"white\",\"automargin\":true,\"zerolinewidth\":2},\"yaxis\":{\"gridcolor\":\"white\",\"linecolor\":\"white\",\"ticks\":\"\",\"title\":{\"standoff\":15},\"zerolinecolor\":\"white\",\"automargin\":true,\"zerolinewidth\":2},\"scene\":{\"xaxis\":{\"backgroundcolor\":\"#E5ECF6\",\"gridcolor\":\"white\",\"linecolor\":\"white\",\"showbackground\":true,\"ticks\":\"\",\"zerolinecolor\":\"white\",\"gridwidth\":2},\"yaxis\":{\"backgroundcolor\":\"#E5ECF6\",\"gridcolor\":\"white\",\"linecolor\":\"white\",\"showbackground\":true,\"ticks\":\"\",\"zerolinecolor\":\"white\",\"gridwidth\":2},\"zaxis\":{\"backgroundcolor\":\"#E5ECF6\",\"gridcolor\":\"white\",\"linecolor\":\"white\",\"showbackground\":true,\"ticks\":\"\",\"zerolinecolor\":\"white\",\"gridwidth\":2}},\"shapedefaults\":{\"line\":{\"color\":\"#2a3f5f\"}},\"annotationdefaults\":{\"arrowcolor\":\"#2a3f5f\",\"arrowhead\":0,\"arrowwidth\":1},\"geo\":{\"bgcolor\":\"white\",\"landcolor\":\"#E5ECF6\",\"subunitcolor\":\"white\",\"showland\":true,\"showlakes\":true,\"lakecolor\":\"white\"},\"title\":{\"x\":0.05},\"mapbox\":{\"style\":\"light\"}}},\"geo\":{\"domain\":{\"x\":[0.0,1.0],\"y\":[0.0,1.0]},\"center\":{}},\"coloraxis\":{\"colorbar\":{\"title\":{\"text\":\"count\"}},\"colorscale\":[[0.0,\"rgb(253, 237, 176)\"],[0.09090909090909091,\"rgb(250, 205, 145)\"],[0.18181818181818182,\"rgb(246, 173, 119)\"],[0.2727272727272727,\"rgb(240, 142, 98)\"],[0.36363636363636365,\"rgb(231, 109, 84)\"],[0.45454545454545453,\"rgb(216, 80, 83)\"],[0.5454545454545454,\"rgb(195, 56, 90)\"],[0.6363636363636364,\"rgb(168, 40, 96)\"],[0.7272727272727273,\"rgb(138, 29, 99)\"],[0.8181818181818182,\"rgb(107, 24, 93)\"],[0.9090909090909091,\"rgb(76, 21, 80)\"],[1.0,\"rgb(47, 15, 61)\"]]},\"legend\":{\"tracegroupgap\":0},\"title\":{\"text\":\"Number of Launches per Country since 1957\",\"x\":0.5},\"width\":800},                        {\"responsive\": true}                    ).then(function(){\n",
       "                            \n",
       "var gd = document.getElementById('9fab4a06-1f1d-4b5e-9a27-a5ae8b1f6030');\n",
       "var x = new MutationObserver(function (mutations, observer) {{\n",
       "        var display = window.getComputedStyle(gd).display;\n",
       "        if (!display || display === 'none') {{\n",
       "            console.log([gd, 'removed!']);\n",
       "            Plotly.purge(gd);\n",
       "            observer.disconnect();\n",
       "        }}\n",
       "}});\n",
       "\n",
       "// Listen for the removal of the full notebook cells\n",
       "var notebookContainer = gd.closest('#notebook-container');\n",
       "if (notebookContainer) {{\n",
       "    x.observe(notebookContainer, {childList: true});\n",
       "}}\n",
       "\n",
       "// Listen for the clearing of the current output cell\n",
       "var outputEl = gd.closest('.output');\n",
       "if (outputEl) {{\n",
       "    x.observe(outputEl, {childList: true});\n",
       "}}\n",
       "\n",
       "                        })                };                });            </script>        </div>"
      ]
     },
     "metadata": {},
     "output_type": "display_data"
    }
   ],
   "source": [
    "fig = px.choropleth(country_df, locations=\"country\",\n",
    "                    locationmode='country names',\n",
    "                    color=\"count\", # lifeExp is a column of gapminder\n",
    "                    hover_name=\"country\", # column to add to hover information\n",
    "                    color_continuous_scale=px.colors.sequential.matter,\n",
    "                   title='Number of Launches per Country since 1957',\n",
    "                   width=800)\n",
    "fig.update_layout(title_x=0.5)\n",
    "fig.show()\n",
    "fig.write_html(\"launch_per_country.html\")"
   ]
  },
  {
   "cell_type": "markdown",
   "metadata": {
    "id": "F3pwYSUlo_AK"
   },
   "source": [
    "# Number of Failures by Country\n"
   ]
  },
  {
   "cell_type": "code",
   "execution_count": 123,
   "metadata": {
    "id": "8BH4ICtro9I0"
   },
   "outputs": [
    {
     "data": {
      "text/html": [
       "<div>\n",
       "<style scoped>\n",
       "    .dataframe tbody tr th:only-of-type {\n",
       "        vertical-align: middle;\n",
       "    }\n",
       "\n",
       "    .dataframe tbody tr th {\n",
       "        vertical-align: top;\n",
       "    }\n",
       "\n",
       "    .dataframe thead th {\n",
       "        text-align: right;\n",
       "    }\n",
       "</style>\n",
       "<table border=\"1\" class=\"dataframe\">\n",
       "  <thead>\n",
       "    <tr style=\"text-align: right;\">\n",
       "      <th></th>\n",
       "      <th>Country</th>\n",
       "      <th>Mission_status</th>\n",
       "    </tr>\n",
       "  </thead>\n",
       "  <tbody>\n",
       "    <tr>\n",
       "      <th>0</th>\n",
       "      <td>Australia</td>\n",
       "      <td>4</td>\n",
       "    </tr>\n",
       "    <tr>\n",
       "      <th>1</th>\n",
       "      <td>Barents Sea</td>\n",
       "      <td>1</td>\n",
       "    </tr>\n",
       "    <tr>\n",
       "      <th>2</th>\n",
       "      <td>Brazil</td>\n",
       "      <td>2</td>\n",
       "    </tr>\n",
       "    <tr>\n",
       "      <th>3</th>\n",
       "      <td>China</td>\n",
       "      <td>26</td>\n",
       "    </tr>\n",
       "    <tr>\n",
       "      <th>4</th>\n",
       "      <td>France</td>\n",
       "      <td>15</td>\n",
       "    </tr>\n",
       "    <tr>\n",
       "      <th>5</th>\n",
       "      <td>India</td>\n",
       "      <td>10</td>\n",
       "    </tr>\n",
       "    <tr>\n",
       "      <th>6</th>\n",
       "      <td>Iran</td>\n",
       "      <td>8</td>\n",
       "    </tr>\n",
       "    <tr>\n",
       "      <th>7</th>\n",
       "      <td>Israel</td>\n",
       "      <td>4</td>\n",
       "    </tr>\n",
       "    <tr>\n",
       "      <th>8</th>\n",
       "      <td>Japan</td>\n",
       "      <td>13</td>\n",
       "    </tr>\n",
       "    <tr>\n",
       "      <th>9</th>\n",
       "      <td>Kazakhstan</td>\n",
       "      <td>113</td>\n",
       "    </tr>\n",
       "    <tr>\n",
       "      <th>10</th>\n",
       "      <td>Marshall Islands</td>\n",
       "      <td>3</td>\n",
       "    </tr>\n",
       "    <tr>\n",
       "      <th>11</th>\n",
       "      <td>New Zealand</td>\n",
       "      <td>3</td>\n",
       "    </tr>\n",
       "    <tr>\n",
       "      <th>12</th>\n",
       "      <td>North Korea</td>\n",
       "      <td>3</td>\n",
       "    </tr>\n",
       "    <tr>\n",
       "      <th>13</th>\n",
       "      <td>Pacific Missile Range Facility</td>\n",
       "      <td>1</td>\n",
       "    </tr>\n",
       "    <tr>\n",
       "      <th>14</th>\n",
       "      <td>Pacific Ocean</td>\n",
       "      <td>3</td>\n",
       "    </tr>\n",
       "    <tr>\n",
       "      <th>15</th>\n",
       "      <td>Russia</td>\n",
       "      <td>71</td>\n",
       "    </tr>\n",
       "    <tr>\n",
       "      <th>16</th>\n",
       "      <td>South Korea</td>\n",
       "      <td>3</td>\n",
       "    </tr>\n",
       "    <tr>\n",
       "      <th>17</th>\n",
       "      <td>USA</td>\n",
       "      <td>164</td>\n",
       "    </tr>\n",
       "    <tr>\n",
       "      <th>18</th>\n",
       "      <td>United Kingdom</td>\n",
       "      <td>1</td>\n",
       "    </tr>\n",
       "  </tbody>\n",
       "</table>\n",
       "</div>"
      ],
      "text/plain": [
       "                            Country  Mission_status\n",
       "0                         Australia               4\n",
       "1                       Barents Sea               1\n",
       "2                            Brazil               2\n",
       "3                             China              26\n",
       "4                            France              15\n",
       "5                             India              10\n",
       "6                              Iran               8\n",
       "7                            Israel               4\n",
       "8                             Japan              13\n",
       "9                        Kazakhstan             113\n",
       "10                 Marshall Islands               3\n",
       "11                      New Zealand               3\n",
       "12                      North Korea               3\n",
       "13   Pacific Missile Range Facility               1\n",
       "14                    Pacific Ocean               3\n",
       "15                           Russia              71\n",
       "16                      South Korea               3\n",
       "17                              USA             164\n",
       "18                   United Kingdom               1"
      ]
     },
     "execution_count": 123,
     "metadata": {},
     "output_type": "execute_result"
    }
   ],
   "source": [
    "failures_df = df_data[df_data['Mission_status'] == 'Failure'].groupby('Country').agg({'Mission_status': pd.Series.count})\n",
    "failures_df.reset_index(inplace=True)\n",
    "failures_df"
   ]
  },
  {
   "cell_type": "code",
   "execution_count": 125,
   "metadata": {
    "id": "sfw-q7Obo9GM"
   },
   "outputs": [
    {
     "data": {
      "application/vnd.plotly.v1+json": {
       "config": {
        "plotlyServerURL": "https://plot.ly"
       },
       "data": [
        {
         "coloraxis": "coloraxis",
         "geo": "geo",
         "hovertemplate": "<b>%{hovertext}</b><br><br>Country=%{location}<br>Mission_status=%{z}<extra></extra>",
         "hovertext": [
          " Australia",
          " Barents Sea",
          " Brazil",
          " China",
          " France",
          " India",
          " Iran",
          " Israel",
          " Japan",
          " Kazakhstan",
          " Marshall Islands",
          " New Zealand",
          " North Korea",
          " Pacific Missile Range Facility",
          " Pacific Ocean",
          " Russia",
          " South Korea",
          " USA",
          " United Kingdom"
         ],
         "locationmode": "country names",
         "locations": [
          " Australia",
          " Barents Sea",
          " Brazil",
          " China",
          " France",
          " India",
          " Iran",
          " Israel",
          " Japan",
          " Kazakhstan",
          " Marshall Islands",
          " New Zealand",
          " North Korea",
          " Pacific Missile Range Facility",
          " Pacific Ocean",
          " Russia",
          " South Korea",
          " USA",
          " United Kingdom"
         ],
         "name": "",
         "type": "choropleth",
         "z": [
          4,
          1,
          2,
          26,
          15,
          10,
          8,
          4,
          13,
          113,
          3,
          3,
          3,
          1,
          3,
          71,
          3,
          164,
          1
         ]
        }
       ],
       "layout": {
        "coloraxis": {
         "colorbar": {
          "title": {
           "text": "Mission_status"
          }
         },
         "colorscale": [
          [
           0,
           "#0d0887"
          ],
          [
           0.1111111111111111,
           "#46039f"
          ],
          [
           0.2222222222222222,
           "#7201a8"
          ],
          [
           0.3333333333333333,
           "#9c179e"
          ],
          [
           0.4444444444444444,
           "#bd3786"
          ],
          [
           0.5555555555555556,
           "#d8576b"
          ],
          [
           0.6666666666666666,
           "#ed7953"
          ],
          [
           0.7777777777777778,
           "#fb9f3a"
          ],
          [
           0.8888888888888888,
           "#fdca26"
          ],
          [
           1,
           "#f0f921"
          ]
         ]
        },
        "geo": {
         "center": {},
         "domain": {
          "x": [
           0,
           1
          ],
          "y": [
           0,
           1
          ]
         }
        },
        "legend": {
         "tracegroupgap": 0
        },
        "margin": {
         "t": 60
        },
        "template": {
         "data": {
          "bar": [
           {
            "error_x": {
             "color": "#2a3f5f"
            },
            "error_y": {
             "color": "#2a3f5f"
            },
            "marker": {
             "line": {
              "color": "#E5ECF6",
              "width": 0.5
             },
             "pattern": {
              "fillmode": "overlay",
              "size": 10,
              "solidity": 0.2
             }
            },
            "type": "bar"
           }
          ],
          "barpolar": [
           {
            "marker": {
             "line": {
              "color": "#E5ECF6",
              "width": 0.5
             },
             "pattern": {
              "fillmode": "overlay",
              "size": 10,
              "solidity": 0.2
             }
            },
            "type": "barpolar"
           }
          ],
          "carpet": [
           {
            "aaxis": {
             "endlinecolor": "#2a3f5f",
             "gridcolor": "white",
             "linecolor": "white",
             "minorgridcolor": "white",
             "startlinecolor": "#2a3f5f"
            },
            "baxis": {
             "endlinecolor": "#2a3f5f",
             "gridcolor": "white",
             "linecolor": "white",
             "minorgridcolor": "white",
             "startlinecolor": "#2a3f5f"
            },
            "type": "carpet"
           }
          ],
          "choropleth": [
           {
            "colorbar": {
             "outlinewidth": 0,
             "ticks": ""
            },
            "type": "choropleth"
           }
          ],
          "contour": [
           {
            "colorbar": {
             "outlinewidth": 0,
             "ticks": ""
            },
            "colorscale": [
             [
              0,
              "#0d0887"
             ],
             [
              0.1111111111111111,
              "#46039f"
             ],
             [
              0.2222222222222222,
              "#7201a8"
             ],
             [
              0.3333333333333333,
              "#9c179e"
             ],
             [
              0.4444444444444444,
              "#bd3786"
             ],
             [
              0.5555555555555556,
              "#d8576b"
             ],
             [
              0.6666666666666666,
              "#ed7953"
             ],
             [
              0.7777777777777778,
              "#fb9f3a"
             ],
             [
              0.8888888888888888,
              "#fdca26"
             ],
             [
              1,
              "#f0f921"
             ]
            ],
            "type": "contour"
           }
          ],
          "contourcarpet": [
           {
            "colorbar": {
             "outlinewidth": 0,
             "ticks": ""
            },
            "type": "contourcarpet"
           }
          ],
          "heatmap": [
           {
            "colorbar": {
             "outlinewidth": 0,
             "ticks": ""
            },
            "colorscale": [
             [
              0,
              "#0d0887"
             ],
             [
              0.1111111111111111,
              "#46039f"
             ],
             [
              0.2222222222222222,
              "#7201a8"
             ],
             [
              0.3333333333333333,
              "#9c179e"
             ],
             [
              0.4444444444444444,
              "#bd3786"
             ],
             [
              0.5555555555555556,
              "#d8576b"
             ],
             [
              0.6666666666666666,
              "#ed7953"
             ],
             [
              0.7777777777777778,
              "#fb9f3a"
             ],
             [
              0.8888888888888888,
              "#fdca26"
             ],
             [
              1,
              "#f0f921"
             ]
            ],
            "type": "heatmap"
           }
          ],
          "heatmapgl": [
           {
            "colorbar": {
             "outlinewidth": 0,
             "ticks": ""
            },
            "colorscale": [
             [
              0,
              "#0d0887"
             ],
             [
              0.1111111111111111,
              "#46039f"
             ],
             [
              0.2222222222222222,
              "#7201a8"
             ],
             [
              0.3333333333333333,
              "#9c179e"
             ],
             [
              0.4444444444444444,
              "#bd3786"
             ],
             [
              0.5555555555555556,
              "#d8576b"
             ],
             [
              0.6666666666666666,
              "#ed7953"
             ],
             [
              0.7777777777777778,
              "#fb9f3a"
             ],
             [
              0.8888888888888888,
              "#fdca26"
             ],
             [
              1,
              "#f0f921"
             ]
            ],
            "type": "heatmapgl"
           }
          ],
          "histogram": [
           {
            "marker": {
             "pattern": {
              "fillmode": "overlay",
              "size": 10,
              "solidity": 0.2
             }
            },
            "type": "histogram"
           }
          ],
          "histogram2d": [
           {
            "colorbar": {
             "outlinewidth": 0,
             "ticks": ""
            },
            "colorscale": [
             [
              0,
              "#0d0887"
             ],
             [
              0.1111111111111111,
              "#46039f"
             ],
             [
              0.2222222222222222,
              "#7201a8"
             ],
             [
              0.3333333333333333,
              "#9c179e"
             ],
             [
              0.4444444444444444,
              "#bd3786"
             ],
             [
              0.5555555555555556,
              "#d8576b"
             ],
             [
              0.6666666666666666,
              "#ed7953"
             ],
             [
              0.7777777777777778,
              "#fb9f3a"
             ],
             [
              0.8888888888888888,
              "#fdca26"
             ],
             [
              1,
              "#f0f921"
             ]
            ],
            "type": "histogram2d"
           }
          ],
          "histogram2dcontour": [
           {
            "colorbar": {
             "outlinewidth": 0,
             "ticks": ""
            },
            "colorscale": [
             [
              0,
              "#0d0887"
             ],
             [
              0.1111111111111111,
              "#46039f"
             ],
             [
              0.2222222222222222,
              "#7201a8"
             ],
             [
              0.3333333333333333,
              "#9c179e"
             ],
             [
              0.4444444444444444,
              "#bd3786"
             ],
             [
              0.5555555555555556,
              "#d8576b"
             ],
             [
              0.6666666666666666,
              "#ed7953"
             ],
             [
              0.7777777777777778,
              "#fb9f3a"
             ],
             [
              0.8888888888888888,
              "#fdca26"
             ],
             [
              1,
              "#f0f921"
             ]
            ],
            "type": "histogram2dcontour"
           }
          ],
          "mesh3d": [
           {
            "colorbar": {
             "outlinewidth": 0,
             "ticks": ""
            },
            "type": "mesh3d"
           }
          ],
          "parcoords": [
           {
            "line": {
             "colorbar": {
              "outlinewidth": 0,
              "ticks": ""
             }
            },
            "type": "parcoords"
           }
          ],
          "pie": [
           {
            "automargin": true,
            "type": "pie"
           }
          ],
          "scatter": [
           {
            "fillpattern": {
             "fillmode": "overlay",
             "size": 10,
             "solidity": 0.2
            },
            "type": "scatter"
           }
          ],
          "scatter3d": [
           {
            "line": {
             "colorbar": {
              "outlinewidth": 0,
              "ticks": ""
             }
            },
            "marker": {
             "colorbar": {
              "outlinewidth": 0,
              "ticks": ""
             }
            },
            "type": "scatter3d"
           }
          ],
          "scattercarpet": [
           {
            "marker": {
             "colorbar": {
              "outlinewidth": 0,
              "ticks": ""
             }
            },
            "type": "scattercarpet"
           }
          ],
          "scattergeo": [
           {
            "marker": {
             "colorbar": {
              "outlinewidth": 0,
              "ticks": ""
             }
            },
            "type": "scattergeo"
           }
          ],
          "scattergl": [
           {
            "marker": {
             "colorbar": {
              "outlinewidth": 0,
              "ticks": ""
             }
            },
            "type": "scattergl"
           }
          ],
          "scattermapbox": [
           {
            "marker": {
             "colorbar": {
              "outlinewidth": 0,
              "ticks": ""
             }
            },
            "type": "scattermapbox"
           }
          ],
          "scatterpolar": [
           {
            "marker": {
             "colorbar": {
              "outlinewidth": 0,
              "ticks": ""
             }
            },
            "type": "scatterpolar"
           }
          ],
          "scatterpolargl": [
           {
            "marker": {
             "colorbar": {
              "outlinewidth": 0,
              "ticks": ""
             }
            },
            "type": "scatterpolargl"
           }
          ],
          "scatterternary": [
           {
            "marker": {
             "colorbar": {
              "outlinewidth": 0,
              "ticks": ""
             }
            },
            "type": "scatterternary"
           }
          ],
          "surface": [
           {
            "colorbar": {
             "outlinewidth": 0,
             "ticks": ""
            },
            "colorscale": [
             [
              0,
              "#0d0887"
             ],
             [
              0.1111111111111111,
              "#46039f"
             ],
             [
              0.2222222222222222,
              "#7201a8"
             ],
             [
              0.3333333333333333,
              "#9c179e"
             ],
             [
              0.4444444444444444,
              "#bd3786"
             ],
             [
              0.5555555555555556,
              "#d8576b"
             ],
             [
              0.6666666666666666,
              "#ed7953"
             ],
             [
              0.7777777777777778,
              "#fb9f3a"
             ],
             [
              0.8888888888888888,
              "#fdca26"
             ],
             [
              1,
              "#f0f921"
             ]
            ],
            "type": "surface"
           }
          ],
          "table": [
           {
            "cells": {
             "fill": {
              "color": "#EBF0F8"
             },
             "line": {
              "color": "white"
             }
            },
            "header": {
             "fill": {
              "color": "#C8D4E3"
             },
             "line": {
              "color": "white"
             }
            },
            "type": "table"
           }
          ]
         },
         "layout": {
          "annotationdefaults": {
           "arrowcolor": "#2a3f5f",
           "arrowhead": 0,
           "arrowwidth": 1
          },
          "autotypenumbers": "strict",
          "coloraxis": {
           "colorbar": {
            "outlinewidth": 0,
            "ticks": ""
           }
          },
          "colorscale": {
           "diverging": [
            [
             0,
             "#8e0152"
            ],
            [
             0.1,
             "#c51b7d"
            ],
            [
             0.2,
             "#de77ae"
            ],
            [
             0.3,
             "#f1b6da"
            ],
            [
             0.4,
             "#fde0ef"
            ],
            [
             0.5,
             "#f7f7f7"
            ],
            [
             0.6,
             "#e6f5d0"
            ],
            [
             0.7,
             "#b8e186"
            ],
            [
             0.8,
             "#7fbc41"
            ],
            [
             0.9,
             "#4d9221"
            ],
            [
             1,
             "#276419"
            ]
           ],
           "sequential": [
            [
             0,
             "#0d0887"
            ],
            [
             0.1111111111111111,
             "#46039f"
            ],
            [
             0.2222222222222222,
             "#7201a8"
            ],
            [
             0.3333333333333333,
             "#9c179e"
            ],
            [
             0.4444444444444444,
             "#bd3786"
            ],
            [
             0.5555555555555556,
             "#d8576b"
            ],
            [
             0.6666666666666666,
             "#ed7953"
            ],
            [
             0.7777777777777778,
             "#fb9f3a"
            ],
            [
             0.8888888888888888,
             "#fdca26"
            ],
            [
             1,
             "#f0f921"
            ]
           ],
           "sequentialminus": [
            [
             0,
             "#0d0887"
            ],
            [
             0.1111111111111111,
             "#46039f"
            ],
            [
             0.2222222222222222,
             "#7201a8"
            ],
            [
             0.3333333333333333,
             "#9c179e"
            ],
            [
             0.4444444444444444,
             "#bd3786"
            ],
            [
             0.5555555555555556,
             "#d8576b"
            ],
            [
             0.6666666666666666,
             "#ed7953"
            ],
            [
             0.7777777777777778,
             "#fb9f3a"
            ],
            [
             0.8888888888888888,
             "#fdca26"
            ],
            [
             1,
             "#f0f921"
            ]
           ]
          },
          "colorway": [
           "#636efa",
           "#EF553B",
           "#00cc96",
           "#ab63fa",
           "#FFA15A",
           "#19d3f3",
           "#FF6692",
           "#B6E880",
           "#FF97FF",
           "#FECB52"
          ],
          "font": {
           "color": "#2a3f5f"
          },
          "geo": {
           "bgcolor": "white",
           "lakecolor": "white",
           "landcolor": "#E5ECF6",
           "showlakes": true,
           "showland": true,
           "subunitcolor": "white"
          },
          "hoverlabel": {
           "align": "left"
          },
          "hovermode": "closest",
          "mapbox": {
           "style": "light"
          },
          "paper_bgcolor": "white",
          "plot_bgcolor": "#E5ECF6",
          "polar": {
           "angularaxis": {
            "gridcolor": "white",
            "linecolor": "white",
            "ticks": ""
           },
           "bgcolor": "#E5ECF6",
           "radialaxis": {
            "gridcolor": "white",
            "linecolor": "white",
            "ticks": ""
           }
          },
          "scene": {
           "xaxis": {
            "backgroundcolor": "#E5ECF6",
            "gridcolor": "white",
            "gridwidth": 2,
            "linecolor": "white",
            "showbackground": true,
            "ticks": "",
            "zerolinecolor": "white"
           },
           "yaxis": {
            "backgroundcolor": "#E5ECF6",
            "gridcolor": "white",
            "gridwidth": 2,
            "linecolor": "white",
            "showbackground": true,
            "ticks": "",
            "zerolinecolor": "white"
           },
           "zaxis": {
            "backgroundcolor": "#E5ECF6",
            "gridcolor": "white",
            "gridwidth": 2,
            "linecolor": "white",
            "showbackground": true,
            "ticks": "",
            "zerolinecolor": "white"
           }
          },
          "shapedefaults": {
           "line": {
            "color": "#2a3f5f"
           }
          },
          "ternary": {
           "aaxis": {
            "gridcolor": "white",
            "linecolor": "white",
            "ticks": ""
           },
           "baxis": {
            "gridcolor": "white",
            "linecolor": "white",
            "ticks": ""
           },
           "bgcolor": "#E5ECF6",
           "caxis": {
            "gridcolor": "white",
            "linecolor": "white",
            "ticks": ""
           }
          },
          "title": {
           "x": 0.05
          },
          "xaxis": {
           "automargin": true,
           "gridcolor": "white",
           "linecolor": "white",
           "ticks": "",
           "title": {
            "standoff": 15
           },
           "zerolinecolor": "white",
           "zerolinewidth": 2
          },
          "yaxis": {
           "automargin": true,
           "gridcolor": "white",
           "linecolor": "white",
           "ticks": "",
           "title": {
            "standoff": 15
           },
           "zerolinecolor": "white",
           "zerolinewidth": 2
          }
         }
        }
       }
      },
      "text/html": [
       "<div>                            <div id=\"0df587b1-8f3b-4f82-ac85-d7ab50d58577\" class=\"plotly-graph-div\" style=\"height:525px; width:100%;\"></div>            <script type=\"text/javascript\">                require([\"plotly\"], function(Plotly) {                    window.PLOTLYENV=window.PLOTLYENV || {};                                    if (document.getElementById(\"0df587b1-8f3b-4f82-ac85-d7ab50d58577\")) {                    Plotly.newPlot(                        \"0df587b1-8f3b-4f82-ac85-d7ab50d58577\",                        [{\"coloraxis\":\"coloraxis\",\"geo\":\"geo\",\"hovertemplate\":\"<b>%{hovertext}</b><br><br>Country=%{location}<br>Mission_status=%{z}<extra></extra>\",\"hovertext\":[\" Australia\",\" Barents Sea\",\" Brazil\",\" China\",\" France\",\" India\",\" Iran\",\" Israel\",\" Japan\",\" Kazakhstan\",\" Marshall Islands\",\" New Zealand\",\" North Korea\",\" Pacific Missile Range Facility\",\" Pacific Ocean\",\" Russia\",\" South Korea\",\" USA\",\" United Kingdom\"],\"locationmode\":\"country names\",\"locations\":[\" Australia\",\" Barents Sea\",\" Brazil\",\" China\",\" France\",\" India\",\" Iran\",\" Israel\",\" Japan\",\" Kazakhstan\",\" Marshall Islands\",\" New Zealand\",\" North Korea\",\" Pacific Missile Range Facility\",\" Pacific Ocean\",\" Russia\",\" South Korea\",\" USA\",\" United Kingdom\"],\"name\":\"\",\"z\":[4,1,2,26,15,10,8,4,13,113,3,3,3,1,3,71,3,164,1],\"type\":\"choropleth\"}],                        {\"template\":{\"data\":{\"histogram2dcontour\":[{\"type\":\"histogram2dcontour\",\"colorbar\":{\"outlinewidth\":0,\"ticks\":\"\"},\"colorscale\":[[0.0,\"#0d0887\"],[0.1111111111111111,\"#46039f\"],[0.2222222222222222,\"#7201a8\"],[0.3333333333333333,\"#9c179e\"],[0.4444444444444444,\"#bd3786\"],[0.5555555555555556,\"#d8576b\"],[0.6666666666666666,\"#ed7953\"],[0.7777777777777778,\"#fb9f3a\"],[0.8888888888888888,\"#fdca26\"],[1.0,\"#f0f921\"]]}],\"choropleth\":[{\"type\":\"choropleth\",\"colorbar\":{\"outlinewidth\":0,\"ticks\":\"\"}}],\"histogram2d\":[{\"type\":\"histogram2d\",\"colorbar\":{\"outlinewidth\":0,\"ticks\":\"\"},\"colorscale\":[[0.0,\"#0d0887\"],[0.1111111111111111,\"#46039f\"],[0.2222222222222222,\"#7201a8\"],[0.3333333333333333,\"#9c179e\"],[0.4444444444444444,\"#bd3786\"],[0.5555555555555556,\"#d8576b\"],[0.6666666666666666,\"#ed7953\"],[0.7777777777777778,\"#fb9f3a\"],[0.8888888888888888,\"#fdca26\"],[1.0,\"#f0f921\"]]}],\"heatmap\":[{\"type\":\"heatmap\",\"colorbar\":{\"outlinewidth\":0,\"ticks\":\"\"},\"colorscale\":[[0.0,\"#0d0887\"],[0.1111111111111111,\"#46039f\"],[0.2222222222222222,\"#7201a8\"],[0.3333333333333333,\"#9c179e\"],[0.4444444444444444,\"#bd3786\"],[0.5555555555555556,\"#d8576b\"],[0.6666666666666666,\"#ed7953\"],[0.7777777777777778,\"#fb9f3a\"],[0.8888888888888888,\"#fdca26\"],[1.0,\"#f0f921\"]]}],\"heatmapgl\":[{\"type\":\"heatmapgl\",\"colorbar\":{\"outlinewidth\":0,\"ticks\":\"\"},\"colorscale\":[[0.0,\"#0d0887\"],[0.1111111111111111,\"#46039f\"],[0.2222222222222222,\"#7201a8\"],[0.3333333333333333,\"#9c179e\"],[0.4444444444444444,\"#bd3786\"],[0.5555555555555556,\"#d8576b\"],[0.6666666666666666,\"#ed7953\"],[0.7777777777777778,\"#fb9f3a\"],[0.8888888888888888,\"#fdca26\"],[1.0,\"#f0f921\"]]}],\"contourcarpet\":[{\"type\":\"contourcarpet\",\"colorbar\":{\"outlinewidth\":0,\"ticks\":\"\"}}],\"contour\":[{\"type\":\"contour\",\"colorbar\":{\"outlinewidth\":0,\"ticks\":\"\"},\"colorscale\":[[0.0,\"#0d0887\"],[0.1111111111111111,\"#46039f\"],[0.2222222222222222,\"#7201a8\"],[0.3333333333333333,\"#9c179e\"],[0.4444444444444444,\"#bd3786\"],[0.5555555555555556,\"#d8576b\"],[0.6666666666666666,\"#ed7953\"],[0.7777777777777778,\"#fb9f3a\"],[0.8888888888888888,\"#fdca26\"],[1.0,\"#f0f921\"]]}],\"surface\":[{\"type\":\"surface\",\"colorbar\":{\"outlinewidth\":0,\"ticks\":\"\"},\"colorscale\":[[0.0,\"#0d0887\"],[0.1111111111111111,\"#46039f\"],[0.2222222222222222,\"#7201a8\"],[0.3333333333333333,\"#9c179e\"],[0.4444444444444444,\"#bd3786\"],[0.5555555555555556,\"#d8576b\"],[0.6666666666666666,\"#ed7953\"],[0.7777777777777778,\"#fb9f3a\"],[0.8888888888888888,\"#fdca26\"],[1.0,\"#f0f921\"]]}],\"mesh3d\":[{\"type\":\"mesh3d\",\"colorbar\":{\"outlinewidth\":0,\"ticks\":\"\"}}],\"scatter\":[{\"fillpattern\":{\"fillmode\":\"overlay\",\"size\":10,\"solidity\":0.2},\"type\":\"scatter\"}],\"parcoords\":[{\"type\":\"parcoords\",\"line\":{\"colorbar\":{\"outlinewidth\":0,\"ticks\":\"\"}}}],\"scatterpolargl\":[{\"type\":\"scatterpolargl\",\"marker\":{\"colorbar\":{\"outlinewidth\":0,\"ticks\":\"\"}}}],\"bar\":[{\"error_x\":{\"color\":\"#2a3f5f\"},\"error_y\":{\"color\":\"#2a3f5f\"},\"marker\":{\"line\":{\"color\":\"#E5ECF6\",\"width\":0.5},\"pattern\":{\"fillmode\":\"overlay\",\"size\":10,\"solidity\":0.2}},\"type\":\"bar\"}],\"scattergeo\":[{\"type\":\"scattergeo\",\"marker\":{\"colorbar\":{\"outlinewidth\":0,\"ticks\":\"\"}}}],\"scatterpolar\":[{\"type\":\"scatterpolar\",\"marker\":{\"colorbar\":{\"outlinewidth\":0,\"ticks\":\"\"}}}],\"histogram\":[{\"marker\":{\"pattern\":{\"fillmode\":\"overlay\",\"size\":10,\"solidity\":0.2}},\"type\":\"histogram\"}],\"scattergl\":[{\"type\":\"scattergl\",\"marker\":{\"colorbar\":{\"outlinewidth\":0,\"ticks\":\"\"}}}],\"scatter3d\":[{\"type\":\"scatter3d\",\"line\":{\"colorbar\":{\"outlinewidth\":0,\"ticks\":\"\"}},\"marker\":{\"colorbar\":{\"outlinewidth\":0,\"ticks\":\"\"}}}],\"scattermapbox\":[{\"type\":\"scattermapbox\",\"marker\":{\"colorbar\":{\"outlinewidth\":0,\"ticks\":\"\"}}}],\"scatterternary\":[{\"type\":\"scatterternary\",\"marker\":{\"colorbar\":{\"outlinewidth\":0,\"ticks\":\"\"}}}],\"scattercarpet\":[{\"type\":\"scattercarpet\",\"marker\":{\"colorbar\":{\"outlinewidth\":0,\"ticks\":\"\"}}}],\"carpet\":[{\"aaxis\":{\"endlinecolor\":\"#2a3f5f\",\"gridcolor\":\"white\",\"linecolor\":\"white\",\"minorgridcolor\":\"white\",\"startlinecolor\":\"#2a3f5f\"},\"baxis\":{\"endlinecolor\":\"#2a3f5f\",\"gridcolor\":\"white\",\"linecolor\":\"white\",\"minorgridcolor\":\"white\",\"startlinecolor\":\"#2a3f5f\"},\"type\":\"carpet\"}],\"table\":[{\"cells\":{\"fill\":{\"color\":\"#EBF0F8\"},\"line\":{\"color\":\"white\"}},\"header\":{\"fill\":{\"color\":\"#C8D4E3\"},\"line\":{\"color\":\"white\"}},\"type\":\"table\"}],\"barpolar\":[{\"marker\":{\"line\":{\"color\":\"#E5ECF6\",\"width\":0.5},\"pattern\":{\"fillmode\":\"overlay\",\"size\":10,\"solidity\":0.2}},\"type\":\"barpolar\"}],\"pie\":[{\"automargin\":true,\"type\":\"pie\"}]},\"layout\":{\"autotypenumbers\":\"strict\",\"colorway\":[\"#636efa\",\"#EF553B\",\"#00cc96\",\"#ab63fa\",\"#FFA15A\",\"#19d3f3\",\"#FF6692\",\"#B6E880\",\"#FF97FF\",\"#FECB52\"],\"font\":{\"color\":\"#2a3f5f\"},\"hovermode\":\"closest\",\"hoverlabel\":{\"align\":\"left\"},\"paper_bgcolor\":\"white\",\"plot_bgcolor\":\"#E5ECF6\",\"polar\":{\"bgcolor\":\"#E5ECF6\",\"angularaxis\":{\"gridcolor\":\"white\",\"linecolor\":\"white\",\"ticks\":\"\"},\"radialaxis\":{\"gridcolor\":\"white\",\"linecolor\":\"white\",\"ticks\":\"\"}},\"ternary\":{\"bgcolor\":\"#E5ECF6\",\"aaxis\":{\"gridcolor\":\"white\",\"linecolor\":\"white\",\"ticks\":\"\"},\"baxis\":{\"gridcolor\":\"white\",\"linecolor\":\"white\",\"ticks\":\"\"},\"caxis\":{\"gridcolor\":\"white\",\"linecolor\":\"white\",\"ticks\":\"\"}},\"coloraxis\":{\"colorbar\":{\"outlinewidth\":0,\"ticks\":\"\"}},\"colorscale\":{\"sequential\":[[0.0,\"#0d0887\"],[0.1111111111111111,\"#46039f\"],[0.2222222222222222,\"#7201a8\"],[0.3333333333333333,\"#9c179e\"],[0.4444444444444444,\"#bd3786\"],[0.5555555555555556,\"#d8576b\"],[0.6666666666666666,\"#ed7953\"],[0.7777777777777778,\"#fb9f3a\"],[0.8888888888888888,\"#fdca26\"],[1.0,\"#f0f921\"]],\"sequentialminus\":[[0.0,\"#0d0887\"],[0.1111111111111111,\"#46039f\"],[0.2222222222222222,\"#7201a8\"],[0.3333333333333333,\"#9c179e\"],[0.4444444444444444,\"#bd3786\"],[0.5555555555555556,\"#d8576b\"],[0.6666666666666666,\"#ed7953\"],[0.7777777777777778,\"#fb9f3a\"],[0.8888888888888888,\"#fdca26\"],[1.0,\"#f0f921\"]],\"diverging\":[[0,\"#8e0152\"],[0.1,\"#c51b7d\"],[0.2,\"#de77ae\"],[0.3,\"#f1b6da\"],[0.4,\"#fde0ef\"],[0.5,\"#f7f7f7\"],[0.6,\"#e6f5d0\"],[0.7,\"#b8e186\"],[0.8,\"#7fbc41\"],[0.9,\"#4d9221\"],[1,\"#276419\"]]},\"xaxis\":{\"gridcolor\":\"white\",\"linecolor\":\"white\",\"ticks\":\"\",\"title\":{\"standoff\":15},\"zerolinecolor\":\"white\",\"automargin\":true,\"zerolinewidth\":2},\"yaxis\":{\"gridcolor\":\"white\",\"linecolor\":\"white\",\"ticks\":\"\",\"title\":{\"standoff\":15},\"zerolinecolor\":\"white\",\"automargin\":true,\"zerolinewidth\":2},\"scene\":{\"xaxis\":{\"backgroundcolor\":\"#E5ECF6\",\"gridcolor\":\"white\",\"linecolor\":\"white\",\"showbackground\":true,\"ticks\":\"\",\"zerolinecolor\":\"white\",\"gridwidth\":2},\"yaxis\":{\"backgroundcolor\":\"#E5ECF6\",\"gridcolor\":\"white\",\"linecolor\":\"white\",\"showbackground\":true,\"ticks\":\"\",\"zerolinecolor\":\"white\",\"gridwidth\":2},\"zaxis\":{\"backgroundcolor\":\"#E5ECF6\",\"gridcolor\":\"white\",\"linecolor\":\"white\",\"showbackground\":true,\"ticks\":\"\",\"zerolinecolor\":\"white\",\"gridwidth\":2}},\"shapedefaults\":{\"line\":{\"color\":\"#2a3f5f\"}},\"annotationdefaults\":{\"arrowcolor\":\"#2a3f5f\",\"arrowhead\":0,\"arrowwidth\":1},\"geo\":{\"bgcolor\":\"white\",\"landcolor\":\"#E5ECF6\",\"subunitcolor\":\"white\",\"showland\":true,\"showlakes\":true,\"lakecolor\":\"white\"},\"title\":{\"x\":0.05},\"mapbox\":{\"style\":\"light\"}}},\"geo\":{\"domain\":{\"x\":[0.0,1.0],\"y\":[0.0,1.0]},\"center\":{}},\"coloraxis\":{\"colorbar\":{\"title\":{\"text\":\"Mission_status\"}},\"colorscale\":[[0.0,\"#0d0887\"],[0.1111111111111111,\"#46039f\"],[0.2222222222222222,\"#7201a8\"],[0.3333333333333333,\"#9c179e\"],[0.4444444444444444,\"#bd3786\"],[0.5555555555555556,\"#d8576b\"],[0.6666666666666666,\"#ed7953\"],[0.7777777777777778,\"#fb9f3a\"],[0.8888888888888888,\"#fdca26\"],[1.0,\"#f0f921\"]]},\"legend\":{\"tracegroupgap\":0},\"margin\":{\"t\":60}},                        {\"responsive\": true}                    ).then(function(){\n",
       "                            \n",
       "var gd = document.getElementById('0df587b1-8f3b-4f82-ac85-d7ab50d58577');\n",
       "var x = new MutationObserver(function (mutations, observer) {{\n",
       "        var display = window.getComputedStyle(gd).display;\n",
       "        if (!display || display === 'none') {{\n",
       "            console.log([gd, 'removed!']);\n",
       "            Plotly.purge(gd);\n",
       "            observer.disconnect();\n",
       "        }}\n",
       "}});\n",
       "\n",
       "// Listen for the removal of the full notebook cells\n",
       "var notebookContainer = gd.closest('#notebook-container');\n",
       "if (notebookContainer) {{\n",
       "    x.observe(notebookContainer, {childList: true});\n",
       "}}\n",
       "\n",
       "// Listen for the clearing of the current output cell\n",
       "var outputEl = gd.closest('.output');\n",
       "if (outputEl) {{\n",
       "    x.observe(outputEl, {childList: true});\n",
       "}}\n",
       "\n",
       "                        })                };                });            </script>        </div>"
      ]
     },
     "metadata": {},
     "output_type": "display_data"
    }
   ],
   "source": [
    "fig = px.choropleth(failures_df, locations=\"Country\",\n",
    "                    locationmode='country names',\n",
    "                    color=\"Mission_status\", # lifeExp is a column of gapminder\n",
    "                    hover_name=\"Country\", # column to add to hover information\n",
    "                    color_continuous_scale=px.colors.sequential.Plasma)\n",
    "fig.show()"
   ]
  },
  {
   "cell_type": "markdown",
   "metadata": {
    "id": "9LqcqSrKa-qN",
    "papermill": {
     "duration": 0.039343,
     "end_time": "2020-10-20T21:34:06.591694",
     "exception": false,
     "start_time": "2020-10-20T21:34:06.552351",
     "status": "completed"
    },
    "tags": []
   },
   "source": [
    "# Sunburst Chart of the countries, organisations, and mission status. "
   ]
  },
  {
   "cell_type": "code",
   "execution_count": 130,
   "metadata": {
    "id": "MwUfpoByo3_J"
   },
   "outputs": [
    {
     "data": {
      "application/vnd.plotly.v1+json": {
       "config": {
        "plotlyServerURL": "https://plot.ly"
       },
       "data": [
        {
         "branchvalues": "total",
         "domain": {
          "x": [
           0,
           1
          ],
          "y": [
           0,
           1
          ]
         },
         "hovertemplate": "labels=%{label}<br>count=%{value}<br>parent=%{parent}<br>id=%{id}<extra></extra>",
         "ids": [
          " USA/ABL SS/Failure",
          " USA/ABMA/Failure",
          " Brazil/AEB/Failure",
          " France/Arianespace/Failure",
          " USA/Astra/Failure",
          " USA/Blue Origin/Failure",
          " USA/Boeing/Failure",
          " China/CASC/Failure",
          " China/CASIC/Failure",
          " Australia/CECLES/Failure",
          " France/CECLES/Failure",
          " France/CNES/Failure",
          " USA/EER/Failure",
          " France/ESA/Failure",
          " Russia/Eurockot/Failure",
          " China/ExPace/Failure",
          " USA/Firefly/Failure",
          " USA/General Dynamics/Failure",
          " Israel/IAI/Failure",
          " Kazakhstan/ILS/Failure",
          " Iran/ISA/Failure",
          " Japan/ISAS/Failure",
          " India/ISRO/Failure",
          " Japan/JAXA/Failure",
          " South Korea/KARI/Failure",
          " North Korea/KCST/Failure",
          " Kazakhstan/Kosmotras/Failure",
          " China/Landspace/Failure",
          " USA/Lockheed/Failure",
          " Japan/MHI/Failure",
          " Russia/MITT/Failure",
          " USA/Martin Marietta/Failure",
          " USA/NASA/Failure",
          " USA/Northrop/Failure",
          " China/OneSpace/Failure",
          " Australia/RAE/Failure",
          " Kazakhstan/RVSN USSR/Failure",
          " Russia/RVSN USSR/Failure",
          " USA/Relativity Space/Failure",
          " New Zealand/Rocket Lab/Failure",
          " Kazakhstan/Roscosmos/Failure",
          " Russia/Roscosmos/Failure",
          " Barents Sea/SRC/Failure",
          " Pacific Missile Range Facility/Sandia/Failure",
          " Pacific Ocean/Sea Launch/Failure",
          " Marshall Islands/SpaceX/Failure",
          " USA/SpaceX/Failure",
          " USA/US Air Force/Failure",
          " USA/US Navy/Failure",
          " Japan/UT/Failure",
          " Kazakhstan/VKS RF/Failure",
          " Russia/VKS RF/Failure",
          " USA/Virgin Galactic/Failure",
          " USA/Virgin Orbit/Failure",
          " United Kingdom/Virgin Orbit/Failure",
          " China/i-Space/Failure",
          " USA/ABMA/Partial Failure",
          " France/Arianespace/Partial Failure",
          " France/Armée de l'Air/Partial Failure",
          " USA/Boeing/Partial Failure",
          " China/CASC/Partial Failure",
          " France/ESA/Partial Failure",
          " USA/Firefly/Partial Failure",
          " USA/General Dynamics/Partial Failure",
          " Kazakhstan/ILS/Partial Failure",
          " Japan/ISAS/Partial Failure",
          " India/ISRO/Partial Failure",
          " Japan/MHI/Partial Failure",
          " Russia/MITT/Partial Failure",
          " USA/Martin Marietta/Partial Failure",
          " USA/NASA/Partial Failure",
          " USA/Northrop/Partial Failure",
          " Kazakhstan/RVSN USSR/Partial Failure",
          " Russia/RVSN USSR/Partial Failure",
          " Kazakhstan/Roscosmos/Partial Failure",
          " Pacific Ocean/Sea Launch/Partial Failure",
          " USA/SpaceX/Partial Failure",
          " USA/ULA/Partial Failure",
          " USA/US Air Force/Partial Failure",
          " USA/US Navy/Partial Failure",
          " Russia/VKS RF/Partial Failure",
          " USA/Virgin Galactic/Partial Failure",
          " Brazil/AEB/Prelaunch Failure",
          " Iran/ISA/Prelaunch Failure",
          " Kazakhstan/RVSN USSR/Prelaunch Failure",
          " Russia/RVSN USSR/Prelaunch Failure",
          " USA/SpaceX/Prelaunch Failure",
          " Australia/ABMA/Success",
          " USA/ABMA/Success",
          " Kenya/ASI/Success",
          " France/Arianespace/Success",
          " France/Armée de l'Air/Success",
          " USA/Astra/Success",
          " USA/Blue Origin/Success",
          " USA/Boeing/Success",
          " China/CAS Space/Success",
          " China/CASC/Success",
          " Yellow Sea/CASC/Success",
          " China/CASIC/Success",
          " France/CNES/Success",
          " USA/Douglas/Success",
          " France/ESA/Success",
          " Russia/Eurockot/Success",
          " China/ExPace/Success",
          " Kazakhstan/GK LS/Success",
          " China/Galactic Energy/Success",
          " USA/General Dynamics/Success",
          " Israel/IAI/Success",
          " Kazakhstan/ILS/Success",
          " USA/ILS/Success",
          " Iran/IRGC/Success",
          " Iran/ISA/Success",
          " Japan/ISAS/Success",
          " India/ISRO/Success",
          " Japan/JAXA/Success",
          " South Korea/KARI/Success",
          " North Korea/KCST/Success",
          " Kazakhstan/Kosmotras/Success",
          " Russia/Kosmotras/Success",
          " Kazakhstan/Land Launch/Success",
          " USA/Lockheed/Success",
          " Japan/MHI/Success",
          " Russia/MITT/Success",
          " USA/Martin Marietta/Success",
          " USA/NASA/Success",
          " Gran Canaria/Northrop/Success",
          " Marshall Islands/Northrop/Success",
          " USA/Northrop/Success",
          " Kazakhstan/OKB-586/Success",
          " Australia/RAE/Success",
          " Kazakhstan/RVSN USSR/Success",
          " Russia/RVSN USSR/Success",
          " New Zealand/Rocket Lab/Success",
          " USA/Rocket Lab/Success",
          " Kazakhstan/Roscosmos/Success",
          " Russia/Roscosmos/Success",
          " Barents Sea/SRC/Success",
          " USA/Scaled/Success",
          " Pacific Ocean/Sea Launch/Success",
          " China/Space Pioneer/Success",
          " Marshall Islands/SpaceX/Success",
          " USA/SpaceX/Success",
          " Kazakhstan/Starsem/Success",
          " Russia/Starsem/Success",
          " USA/ULA/Success",
          " USA/US Air Force/Success",
          " USA/US Navy/Success",
          " Japan/UT/Success",
          " Kazakhstan/VKS RF/Success",
          " Russia/VKS RF/Success",
          " USA/Virgin Galactic/Success",
          " USA/Virgin Orbit/Success",
          " China/i-Space/Success",
          " USA/ABL SS",
          " Australia/ABMA",
          " USA/ABMA",
          " Brazil/AEB",
          " Kenya/ASI",
          " France/Arianespace",
          " France/Armée de l'Air",
          " USA/Astra",
          " USA/Blue Origin",
          " USA/Boeing",
          " China/CAS Space",
          " China/CASC",
          " Yellow Sea/CASC",
          " China/CASIC",
          " Australia/CECLES",
          " France/CECLES",
          " France/CNES",
          " USA/Douglas",
          " USA/EER",
          " France/ESA",
          " Russia/Eurockot",
          " China/ExPace",
          " USA/Firefly",
          " Kazakhstan/GK LS",
          " China/Galactic Energy",
          " USA/General Dynamics",
          " Israel/IAI",
          " Kazakhstan/ILS",
          " USA/ILS",
          " Iran/IRGC",
          " Iran/ISA",
          " Japan/ISAS",
          " India/ISRO",
          " Japan/JAXA",
          " South Korea/KARI",
          " North Korea/KCST",
          " Kazakhstan/Kosmotras",
          " Russia/Kosmotras",
          " Kazakhstan/Land Launch",
          " China/Landspace",
          " USA/Lockheed",
          " Japan/MHI",
          " Russia/MITT",
          " USA/Martin Marietta",
          " USA/NASA",
          " Gran Canaria/Northrop",
          " Marshall Islands/Northrop",
          " USA/Northrop",
          " Kazakhstan/OKB-586",
          " China/OneSpace",
          " Australia/RAE",
          " Kazakhstan/RVSN USSR",
          " Russia/RVSN USSR",
          " USA/Relativity Space",
          " New Zealand/Rocket Lab",
          " USA/Rocket Lab",
          " Kazakhstan/Roscosmos",
          " Russia/Roscosmos",
          " Barents Sea/SRC",
          " Pacific Missile Range Facility/Sandia",
          " USA/Scaled",
          " Pacific Ocean/Sea Launch",
          " China/Space Pioneer",
          " Marshall Islands/SpaceX",
          " USA/SpaceX",
          " Kazakhstan/Starsem",
          " Russia/Starsem",
          " USA/ULA",
          " USA/US Air Force",
          " USA/US Navy",
          " Japan/UT",
          " Kazakhstan/VKS RF",
          " Russia/VKS RF",
          " USA/Virgin Galactic",
          " USA/Virgin Orbit",
          " United Kingdom/Virgin Orbit",
          " China/i-Space",
          " Australia",
          " Barents Sea",
          " Brazil",
          " China",
          " France",
          " Gran Canaria",
          " India",
          " Iran",
          " Israel",
          " Japan",
          " Kazakhstan",
          " Kenya",
          " Marshall Islands",
          " New Zealand",
          " North Korea",
          " Pacific Missile Range Facility",
          " Pacific Ocean",
          " Russia",
          " South Korea",
          " USA",
          " United Kingdom",
          " Yellow Sea"
         ],
         "labels": [
          "Failure",
          "Failure",
          "Failure",
          "Failure",
          "Failure",
          "Failure",
          "Failure",
          "Failure",
          "Failure",
          "Failure",
          "Failure",
          "Failure",
          "Failure",
          "Failure",
          "Failure",
          "Failure",
          "Failure",
          "Failure",
          "Failure",
          "Failure",
          "Failure",
          "Failure",
          "Failure",
          "Failure",
          "Failure",
          "Failure",
          "Failure",
          "Failure",
          "Failure",
          "Failure",
          "Failure",
          "Failure",
          "Failure",
          "Failure",
          "Failure",
          "Failure",
          "Failure",
          "Failure",
          "Failure",
          "Failure",
          "Failure",
          "Failure",
          "Failure",
          "Failure",
          "Failure",
          "Failure",
          "Failure",
          "Failure",
          "Failure",
          "Failure",
          "Failure",
          "Failure",
          "Failure",
          "Failure",
          "Failure",
          "Failure",
          "Partial Failure",
          "Partial Failure",
          "Partial Failure",
          "Partial Failure",
          "Partial Failure",
          "Partial Failure",
          "Partial Failure",
          "Partial Failure",
          "Partial Failure",
          "Partial Failure",
          "Partial Failure",
          "Partial Failure",
          "Partial Failure",
          "Partial Failure",
          "Partial Failure",
          "Partial Failure",
          "Partial Failure",
          "Partial Failure",
          "Partial Failure",
          "Partial Failure",
          "Partial Failure",
          "Partial Failure",
          "Partial Failure",
          "Partial Failure",
          "Partial Failure",
          "Partial Failure",
          "Prelaunch Failure",
          "Prelaunch Failure",
          "Prelaunch Failure",
          "Prelaunch Failure",
          "Prelaunch Failure",
          "Success",
          "Success",
          "Success",
          "Success",
          "Success",
          "Success",
          "Success",
          "Success",
          "Success",
          "Success",
          "Success",
          "Success",
          "Success",
          "Success",
          "Success",
          "Success",
          "Success",
          "Success",
          "Success",
          "Success",
          "Success",
          "Success",
          "Success",
          "Success",
          "Success",
          "Success",
          "Success",
          "Success",
          "Success",
          "Success",
          "Success",
          "Success",
          "Success",
          "Success",
          "Success",
          "Success",
          "Success",
          "Success",
          "Success",
          "Success",
          "Success",
          "Success",
          "Success",
          "Success",
          "Success",
          "Success",
          "Success",
          "Success",
          "Success",
          "Success",
          "Success",
          "Success",
          "Success",
          "Success",
          "Success",
          "Success",
          "Success",
          "Success",
          "Success",
          "Success",
          "Success",
          "Success",
          "Success",
          "Success",
          "Success",
          "Success",
          "ABL SS",
          "ABMA",
          "ABMA",
          "AEB",
          "ASI",
          "Arianespace",
          "Armée de l'Air",
          "Astra",
          "Blue Origin",
          "Boeing",
          "CAS Space",
          "CASC",
          "CASC",
          "CASIC",
          "CECLES",
          "CECLES",
          "CNES",
          "Douglas",
          "EER",
          "ESA",
          "Eurockot",
          "ExPace",
          "Firefly",
          "GK LS",
          "Galactic Energy",
          "General Dynamics",
          "IAI",
          "ILS",
          "ILS",
          "IRGC",
          "ISA",
          "ISAS",
          "ISRO",
          "JAXA",
          "KARI",
          "KCST",
          "Kosmotras",
          "Kosmotras",
          "Land Launch",
          "Landspace",
          "Lockheed",
          "MHI",
          "MITT",
          "Martin Marietta",
          "NASA",
          "Northrop",
          "Northrop",
          "Northrop",
          "OKB-586",
          "OneSpace",
          "RAE",
          "RVSN USSR",
          "RVSN USSR",
          "Relativity Space",
          "Rocket Lab",
          "Rocket Lab",
          "Roscosmos",
          "Roscosmos",
          "SRC",
          "Sandia",
          "Scaled",
          "Sea Launch",
          "Space Pioneer",
          "SpaceX",
          "SpaceX",
          "Starsem",
          "Starsem",
          "ULA",
          "US Air Force",
          "US Navy",
          "UT",
          "VKS RF",
          "VKS RF",
          "Virgin Galactic",
          "Virgin Orbit",
          "Virgin Orbit",
          "i-Space",
          " Australia",
          " Barents Sea",
          " Brazil",
          " China",
          " France",
          " Gran Canaria",
          " India",
          " Iran",
          " Israel",
          " Japan",
          " Kazakhstan",
          " Kenya",
          " Marshall Islands",
          " New Zealand",
          " North Korea",
          " Pacific Missile Range Facility",
          " Pacific Ocean",
          " Russia",
          " South Korea",
          " USA",
          " United Kingdom",
          " Yellow Sea"
         ],
         "name": "",
         "parents": [
          " USA/ABL SS",
          " USA/ABMA",
          " Brazil/AEB",
          " France/Arianespace",
          " USA/Astra",
          " USA/Blue Origin",
          " USA/Boeing",
          " China/CASC",
          " China/CASIC",
          " Australia/CECLES",
          " France/CECLES",
          " France/CNES",
          " USA/EER",
          " France/ESA",
          " Russia/Eurockot",
          " China/ExPace",
          " USA/Firefly",
          " USA/General Dynamics",
          " Israel/IAI",
          " Kazakhstan/ILS",
          " Iran/ISA",
          " Japan/ISAS",
          " India/ISRO",
          " Japan/JAXA",
          " South Korea/KARI",
          " North Korea/KCST",
          " Kazakhstan/Kosmotras",
          " China/Landspace",
          " USA/Lockheed",
          " Japan/MHI",
          " Russia/MITT",
          " USA/Martin Marietta",
          " USA/NASA",
          " USA/Northrop",
          " China/OneSpace",
          " Australia/RAE",
          " Kazakhstan/RVSN USSR",
          " Russia/RVSN USSR",
          " USA/Relativity Space",
          " New Zealand/Rocket Lab",
          " Kazakhstan/Roscosmos",
          " Russia/Roscosmos",
          " Barents Sea/SRC",
          " Pacific Missile Range Facility/Sandia",
          " Pacific Ocean/Sea Launch",
          " Marshall Islands/SpaceX",
          " USA/SpaceX",
          " USA/US Air Force",
          " USA/US Navy",
          " Japan/UT",
          " Kazakhstan/VKS RF",
          " Russia/VKS RF",
          " USA/Virgin Galactic",
          " USA/Virgin Orbit",
          " United Kingdom/Virgin Orbit",
          " China/i-Space",
          " USA/ABMA",
          " France/Arianespace",
          " France/Armée de l'Air",
          " USA/Boeing",
          " China/CASC",
          " France/ESA",
          " USA/Firefly",
          " USA/General Dynamics",
          " Kazakhstan/ILS",
          " Japan/ISAS",
          " India/ISRO",
          " Japan/MHI",
          " Russia/MITT",
          " USA/Martin Marietta",
          " USA/NASA",
          " USA/Northrop",
          " Kazakhstan/RVSN USSR",
          " Russia/RVSN USSR",
          " Kazakhstan/Roscosmos",
          " Pacific Ocean/Sea Launch",
          " USA/SpaceX",
          " USA/ULA",
          " USA/US Air Force",
          " USA/US Navy",
          " Russia/VKS RF",
          " USA/Virgin Galactic",
          " Brazil/AEB",
          " Iran/ISA",
          " Kazakhstan/RVSN USSR",
          " Russia/RVSN USSR",
          " USA/SpaceX",
          " Australia/ABMA",
          " USA/ABMA",
          " Kenya/ASI",
          " France/Arianespace",
          " France/Armée de l'Air",
          " USA/Astra",
          " USA/Blue Origin",
          " USA/Boeing",
          " China/CAS Space",
          " China/CASC",
          " Yellow Sea/CASC",
          " China/CASIC",
          " France/CNES",
          " USA/Douglas",
          " France/ESA",
          " Russia/Eurockot",
          " China/ExPace",
          " Kazakhstan/GK LS",
          " China/Galactic Energy",
          " USA/General Dynamics",
          " Israel/IAI",
          " Kazakhstan/ILS",
          " USA/ILS",
          " Iran/IRGC",
          " Iran/ISA",
          " Japan/ISAS",
          " India/ISRO",
          " Japan/JAXA",
          " South Korea/KARI",
          " North Korea/KCST",
          " Kazakhstan/Kosmotras",
          " Russia/Kosmotras",
          " Kazakhstan/Land Launch",
          " USA/Lockheed",
          " Japan/MHI",
          " Russia/MITT",
          " USA/Martin Marietta",
          " USA/NASA",
          " Gran Canaria/Northrop",
          " Marshall Islands/Northrop",
          " USA/Northrop",
          " Kazakhstan/OKB-586",
          " Australia/RAE",
          " Kazakhstan/RVSN USSR",
          " Russia/RVSN USSR",
          " New Zealand/Rocket Lab",
          " USA/Rocket Lab",
          " Kazakhstan/Roscosmos",
          " Russia/Roscosmos",
          " Barents Sea/SRC",
          " USA/Scaled",
          " Pacific Ocean/Sea Launch",
          " China/Space Pioneer",
          " Marshall Islands/SpaceX",
          " USA/SpaceX",
          " Kazakhstan/Starsem",
          " Russia/Starsem",
          " USA/ULA",
          " USA/US Air Force",
          " USA/US Navy",
          " Japan/UT",
          " Kazakhstan/VKS RF",
          " Russia/VKS RF",
          " USA/Virgin Galactic",
          " USA/Virgin Orbit",
          " China/i-Space",
          " USA",
          " Australia",
          " USA",
          " Brazil",
          " Kenya",
          " France",
          " France",
          " USA",
          " USA",
          " USA",
          " China",
          " China",
          " Yellow Sea",
          " China",
          " Australia",
          " France",
          " France",
          " USA",
          " USA",
          " France",
          " Russia",
          " China",
          " USA",
          " Kazakhstan",
          " China",
          " USA",
          " Israel",
          " Kazakhstan",
          " USA",
          " Iran",
          " Iran",
          " Japan",
          " India",
          " Japan",
          " South Korea",
          " North Korea",
          " Kazakhstan",
          " Russia",
          " Kazakhstan",
          " China",
          " USA",
          " Japan",
          " Russia",
          " USA",
          " USA",
          " Gran Canaria",
          " Marshall Islands",
          " USA",
          " Kazakhstan",
          " China",
          " Australia",
          " Kazakhstan",
          " Russia",
          " USA",
          " New Zealand",
          " USA",
          " Kazakhstan",
          " Russia",
          " Barents Sea",
          " Pacific Missile Range Facility",
          " USA",
          " Pacific Ocean",
          " China",
          " Marshall Islands",
          " USA",
          " Kazakhstan",
          " Russia",
          " USA",
          " USA",
          " USA",
          " Japan",
          " Kazakhstan",
          " Russia",
          " USA",
          " USA",
          " United Kingdom",
          " China",
          "",
          "",
          "",
          "",
          "",
          "",
          "",
          "",
          "",
          "",
          "",
          "",
          "",
          "",
          "",
          "",
          "",
          "",
          "",
          "",
          "",
          ""
         ],
         "type": "sunburst",
         "values": [
          1,
          8,
          2,
          9,
          5,
          1,
          3,
          15,
          2,
          3,
          1,
          2,
          1,
          3,
          1,
          3,
          1,
          37,
          4,
          4,
          8,
          3,
          10,
          2,
          3,
          3,
          1,
          2,
          5,
          4,
          1,
          11,
          10,
          7,
          1,
          1,
          90,
          60,
          1,
          3,
          14,
          1,
          1,
          1,
          3,
          3,
          2,
          55,
          14,
          4,
          4,
          8,
          1,
          1,
          1,
          3,
          1,
          3,
          1,
          2,
          9,
          1,
          1,
          11,
          3,
          1,
          5,
          1,
          1,
          3,
          5,
          2,
          13,
          24,
          3,
          1,
          4,
          1,
          7,
          1,
          7,
          1,
          1,
          1,
          4,
          1,
          1,
          1,
          7,
          9,
          283,
          3,
          2,
          22,
          133,
          1,
          455,
          5,
          7,
          6,
          1,
          10,
          12,
          14,
          1,
          5,
          203,
          10,
          90,
          40,
          2,
          6,
          26,
          71,
          7,
          2,
          2,
          11,
          10,
          6,
          74,
          81,
          5,
          100,
          207,
          2,
          4,
          75,
          2,
          1,
          874,
          1410,
          30,
          2,
          329,
          8,
          2,
          3,
          32,
          1,
          2,
          221,
          31,
          6,
          154,
          487,
          2,
          1,
          68,
          249,
          10,
          4,
          2,
          1,
          1,
          16,
          3,
          9,
          295,
          4,
          7,
          23,
          138,
          1,
          479,
          5,
          9,
          3,
          1,
          8,
          1,
          1,
          14,
          13,
          17,
          2,
          1,
          5,
          251,
          14,
          97,
          40,
          2,
          15,
          30,
          86,
          9,
          5,
          5,
          12,
          10,
          6,
          2,
          79,
          86,
          7,
          114,
          222,
          2,
          4,
          84,
          2,
          1,
          2,
          981,
          1495,
          1,
          33,
          2,
          346,
          9,
          3,
          1,
          3,
          36,
          1,
          5,
          228,
          31,
          6,
          155,
          549,
          17,
          5,
          72,
          264,
          12,
          5,
          1,
          5,
          6,
          3,
          3,
          520,
          322,
          2,
          86,
          17,
          14,
          130,
          1548,
          9,
          9,
          33,
          5,
          1,
          36,
          1804,
          5,
          1951,
          1,
          5
         ]
        }
       ],
       "layout": {
        "legend": {
         "tracegroupgap": 0
        },
        "margin": {
         "t": 60
        },
        "template": {
         "data": {
          "bar": [
           {
            "error_x": {
             "color": "#2a3f5f"
            },
            "error_y": {
             "color": "#2a3f5f"
            },
            "marker": {
             "line": {
              "color": "#E5ECF6",
              "width": 0.5
             },
             "pattern": {
              "fillmode": "overlay",
              "size": 10,
              "solidity": 0.2
             }
            },
            "type": "bar"
           }
          ],
          "barpolar": [
           {
            "marker": {
             "line": {
              "color": "#E5ECF6",
              "width": 0.5
             },
             "pattern": {
              "fillmode": "overlay",
              "size": 10,
              "solidity": 0.2
             }
            },
            "type": "barpolar"
           }
          ],
          "carpet": [
           {
            "aaxis": {
             "endlinecolor": "#2a3f5f",
             "gridcolor": "white",
             "linecolor": "white",
             "minorgridcolor": "white",
             "startlinecolor": "#2a3f5f"
            },
            "baxis": {
             "endlinecolor": "#2a3f5f",
             "gridcolor": "white",
             "linecolor": "white",
             "minorgridcolor": "white",
             "startlinecolor": "#2a3f5f"
            },
            "type": "carpet"
           }
          ],
          "choropleth": [
           {
            "colorbar": {
             "outlinewidth": 0,
             "ticks": ""
            },
            "type": "choropleth"
           }
          ],
          "contour": [
           {
            "colorbar": {
             "outlinewidth": 0,
             "ticks": ""
            },
            "colorscale": [
             [
              0,
              "#0d0887"
             ],
             [
              0.1111111111111111,
              "#46039f"
             ],
             [
              0.2222222222222222,
              "#7201a8"
             ],
             [
              0.3333333333333333,
              "#9c179e"
             ],
             [
              0.4444444444444444,
              "#bd3786"
             ],
             [
              0.5555555555555556,
              "#d8576b"
             ],
             [
              0.6666666666666666,
              "#ed7953"
             ],
             [
              0.7777777777777778,
              "#fb9f3a"
             ],
             [
              0.8888888888888888,
              "#fdca26"
             ],
             [
              1,
              "#f0f921"
             ]
            ],
            "type": "contour"
           }
          ],
          "contourcarpet": [
           {
            "colorbar": {
             "outlinewidth": 0,
             "ticks": ""
            },
            "type": "contourcarpet"
           }
          ],
          "heatmap": [
           {
            "colorbar": {
             "outlinewidth": 0,
             "ticks": ""
            },
            "colorscale": [
             [
              0,
              "#0d0887"
             ],
             [
              0.1111111111111111,
              "#46039f"
             ],
             [
              0.2222222222222222,
              "#7201a8"
             ],
             [
              0.3333333333333333,
              "#9c179e"
             ],
             [
              0.4444444444444444,
              "#bd3786"
             ],
             [
              0.5555555555555556,
              "#d8576b"
             ],
             [
              0.6666666666666666,
              "#ed7953"
             ],
             [
              0.7777777777777778,
              "#fb9f3a"
             ],
             [
              0.8888888888888888,
              "#fdca26"
             ],
             [
              1,
              "#f0f921"
             ]
            ],
            "type": "heatmap"
           }
          ],
          "heatmapgl": [
           {
            "colorbar": {
             "outlinewidth": 0,
             "ticks": ""
            },
            "colorscale": [
             [
              0,
              "#0d0887"
             ],
             [
              0.1111111111111111,
              "#46039f"
             ],
             [
              0.2222222222222222,
              "#7201a8"
             ],
             [
              0.3333333333333333,
              "#9c179e"
             ],
             [
              0.4444444444444444,
              "#bd3786"
             ],
             [
              0.5555555555555556,
              "#d8576b"
             ],
             [
              0.6666666666666666,
              "#ed7953"
             ],
             [
              0.7777777777777778,
              "#fb9f3a"
             ],
             [
              0.8888888888888888,
              "#fdca26"
             ],
             [
              1,
              "#f0f921"
             ]
            ],
            "type": "heatmapgl"
           }
          ],
          "histogram": [
           {
            "marker": {
             "pattern": {
              "fillmode": "overlay",
              "size": 10,
              "solidity": 0.2
             }
            },
            "type": "histogram"
           }
          ],
          "histogram2d": [
           {
            "colorbar": {
             "outlinewidth": 0,
             "ticks": ""
            },
            "colorscale": [
             [
              0,
              "#0d0887"
             ],
             [
              0.1111111111111111,
              "#46039f"
             ],
             [
              0.2222222222222222,
              "#7201a8"
             ],
             [
              0.3333333333333333,
              "#9c179e"
             ],
             [
              0.4444444444444444,
              "#bd3786"
             ],
             [
              0.5555555555555556,
              "#d8576b"
             ],
             [
              0.6666666666666666,
              "#ed7953"
             ],
             [
              0.7777777777777778,
              "#fb9f3a"
             ],
             [
              0.8888888888888888,
              "#fdca26"
             ],
             [
              1,
              "#f0f921"
             ]
            ],
            "type": "histogram2d"
           }
          ],
          "histogram2dcontour": [
           {
            "colorbar": {
             "outlinewidth": 0,
             "ticks": ""
            },
            "colorscale": [
             [
              0,
              "#0d0887"
             ],
             [
              0.1111111111111111,
              "#46039f"
             ],
             [
              0.2222222222222222,
              "#7201a8"
             ],
             [
              0.3333333333333333,
              "#9c179e"
             ],
             [
              0.4444444444444444,
              "#bd3786"
             ],
             [
              0.5555555555555556,
              "#d8576b"
             ],
             [
              0.6666666666666666,
              "#ed7953"
             ],
             [
              0.7777777777777778,
              "#fb9f3a"
             ],
             [
              0.8888888888888888,
              "#fdca26"
             ],
             [
              1,
              "#f0f921"
             ]
            ],
            "type": "histogram2dcontour"
           }
          ],
          "mesh3d": [
           {
            "colorbar": {
             "outlinewidth": 0,
             "ticks": ""
            },
            "type": "mesh3d"
           }
          ],
          "parcoords": [
           {
            "line": {
             "colorbar": {
              "outlinewidth": 0,
              "ticks": ""
             }
            },
            "type": "parcoords"
           }
          ],
          "pie": [
           {
            "automargin": true,
            "type": "pie"
           }
          ],
          "scatter": [
           {
            "fillpattern": {
             "fillmode": "overlay",
             "size": 10,
             "solidity": 0.2
            },
            "type": "scatter"
           }
          ],
          "scatter3d": [
           {
            "line": {
             "colorbar": {
              "outlinewidth": 0,
              "ticks": ""
             }
            },
            "marker": {
             "colorbar": {
              "outlinewidth": 0,
              "ticks": ""
             }
            },
            "type": "scatter3d"
           }
          ],
          "scattercarpet": [
           {
            "marker": {
             "colorbar": {
              "outlinewidth": 0,
              "ticks": ""
             }
            },
            "type": "scattercarpet"
           }
          ],
          "scattergeo": [
           {
            "marker": {
             "colorbar": {
              "outlinewidth": 0,
              "ticks": ""
             }
            },
            "type": "scattergeo"
           }
          ],
          "scattergl": [
           {
            "marker": {
             "colorbar": {
              "outlinewidth": 0,
              "ticks": ""
             }
            },
            "type": "scattergl"
           }
          ],
          "scattermapbox": [
           {
            "marker": {
             "colorbar": {
              "outlinewidth": 0,
              "ticks": ""
             }
            },
            "type": "scattermapbox"
           }
          ],
          "scatterpolar": [
           {
            "marker": {
             "colorbar": {
              "outlinewidth": 0,
              "ticks": ""
             }
            },
            "type": "scatterpolar"
           }
          ],
          "scatterpolargl": [
           {
            "marker": {
             "colorbar": {
              "outlinewidth": 0,
              "ticks": ""
             }
            },
            "type": "scatterpolargl"
           }
          ],
          "scatterternary": [
           {
            "marker": {
             "colorbar": {
              "outlinewidth": 0,
              "ticks": ""
             }
            },
            "type": "scatterternary"
           }
          ],
          "surface": [
           {
            "colorbar": {
             "outlinewidth": 0,
             "ticks": ""
            },
            "colorscale": [
             [
              0,
              "#0d0887"
             ],
             [
              0.1111111111111111,
              "#46039f"
             ],
             [
              0.2222222222222222,
              "#7201a8"
             ],
             [
              0.3333333333333333,
              "#9c179e"
             ],
             [
              0.4444444444444444,
              "#bd3786"
             ],
             [
              0.5555555555555556,
              "#d8576b"
             ],
             [
              0.6666666666666666,
              "#ed7953"
             ],
             [
              0.7777777777777778,
              "#fb9f3a"
             ],
             [
              0.8888888888888888,
              "#fdca26"
             ],
             [
              1,
              "#f0f921"
             ]
            ],
            "type": "surface"
           }
          ],
          "table": [
           {
            "cells": {
             "fill": {
              "color": "#EBF0F8"
             },
             "line": {
              "color": "white"
             }
            },
            "header": {
             "fill": {
              "color": "#C8D4E3"
             },
             "line": {
              "color": "white"
             }
            },
            "type": "table"
           }
          ]
         },
         "layout": {
          "annotationdefaults": {
           "arrowcolor": "#2a3f5f",
           "arrowhead": 0,
           "arrowwidth": 1
          },
          "autotypenumbers": "strict",
          "coloraxis": {
           "colorbar": {
            "outlinewidth": 0,
            "ticks": ""
           }
          },
          "colorscale": {
           "diverging": [
            [
             0,
             "#8e0152"
            ],
            [
             0.1,
             "#c51b7d"
            ],
            [
             0.2,
             "#de77ae"
            ],
            [
             0.3,
             "#f1b6da"
            ],
            [
             0.4,
             "#fde0ef"
            ],
            [
             0.5,
             "#f7f7f7"
            ],
            [
             0.6,
             "#e6f5d0"
            ],
            [
             0.7,
             "#b8e186"
            ],
            [
             0.8,
             "#7fbc41"
            ],
            [
             0.9,
             "#4d9221"
            ],
            [
             1,
             "#276419"
            ]
           ],
           "sequential": [
            [
             0,
             "#0d0887"
            ],
            [
             0.1111111111111111,
             "#46039f"
            ],
            [
             0.2222222222222222,
             "#7201a8"
            ],
            [
             0.3333333333333333,
             "#9c179e"
            ],
            [
             0.4444444444444444,
             "#bd3786"
            ],
            [
             0.5555555555555556,
             "#d8576b"
            ],
            [
             0.6666666666666666,
             "#ed7953"
            ],
            [
             0.7777777777777778,
             "#fb9f3a"
            ],
            [
             0.8888888888888888,
             "#fdca26"
            ],
            [
             1,
             "#f0f921"
            ]
           ],
           "sequentialminus": [
            [
             0,
             "#0d0887"
            ],
            [
             0.1111111111111111,
             "#46039f"
            ],
            [
             0.2222222222222222,
             "#7201a8"
            ],
            [
             0.3333333333333333,
             "#9c179e"
            ],
            [
             0.4444444444444444,
             "#bd3786"
            ],
            [
             0.5555555555555556,
             "#d8576b"
            ],
            [
             0.6666666666666666,
             "#ed7953"
            ],
            [
             0.7777777777777778,
             "#fb9f3a"
            ],
            [
             0.8888888888888888,
             "#fdca26"
            ],
            [
             1,
             "#f0f921"
            ]
           ]
          },
          "colorway": [
           "#636efa",
           "#EF553B",
           "#00cc96",
           "#ab63fa",
           "#FFA15A",
           "#19d3f3",
           "#FF6692",
           "#B6E880",
           "#FF97FF",
           "#FECB52"
          ],
          "font": {
           "color": "#2a3f5f"
          },
          "geo": {
           "bgcolor": "white",
           "lakecolor": "white",
           "landcolor": "#E5ECF6",
           "showlakes": true,
           "showland": true,
           "subunitcolor": "white"
          },
          "hoverlabel": {
           "align": "left"
          },
          "hovermode": "closest",
          "mapbox": {
           "style": "light"
          },
          "paper_bgcolor": "white",
          "plot_bgcolor": "#E5ECF6",
          "polar": {
           "angularaxis": {
            "gridcolor": "white",
            "linecolor": "white",
            "ticks": ""
           },
           "bgcolor": "#E5ECF6",
           "radialaxis": {
            "gridcolor": "white",
            "linecolor": "white",
            "ticks": ""
           }
          },
          "scene": {
           "xaxis": {
            "backgroundcolor": "#E5ECF6",
            "gridcolor": "white",
            "gridwidth": 2,
            "linecolor": "white",
            "showbackground": true,
            "ticks": "",
            "zerolinecolor": "white"
           },
           "yaxis": {
            "backgroundcolor": "#E5ECF6",
            "gridcolor": "white",
            "gridwidth": 2,
            "linecolor": "white",
            "showbackground": true,
            "ticks": "",
            "zerolinecolor": "white"
           },
           "zaxis": {
            "backgroundcolor": "#E5ECF6",
            "gridcolor": "white",
            "gridwidth": 2,
            "linecolor": "white",
            "showbackground": true,
            "ticks": "",
            "zerolinecolor": "white"
           }
          },
          "shapedefaults": {
           "line": {
            "color": "#2a3f5f"
           }
          },
          "ternary": {
           "aaxis": {
            "gridcolor": "white",
            "linecolor": "white",
            "ticks": ""
           },
           "baxis": {
            "gridcolor": "white",
            "linecolor": "white",
            "ticks": ""
           },
           "bgcolor": "#E5ECF6",
           "caxis": {
            "gridcolor": "white",
            "linecolor": "white",
            "ticks": ""
           }
          },
          "title": {
           "x": 0.05
          },
          "xaxis": {
           "automargin": true,
           "gridcolor": "white",
           "linecolor": "white",
           "ticks": "",
           "title": {
            "standoff": 15
           },
           "zerolinecolor": "white",
           "zerolinewidth": 2
          },
          "yaxis": {
           "automargin": true,
           "gridcolor": "white",
           "linecolor": "white",
           "ticks": "",
           "title": {
            "standoff": 15
           },
           "zerolinecolor": "white",
           "zerolinewidth": 2
          }
         }
        }
       }
      },
      "text/html": [
       "<div>                            <div id=\"2c8e26dc-e260-483b-8a23-0f61b7704c4b\" class=\"plotly-graph-div\" style=\"height:525px; width:100%;\"></div>            <script type=\"text/javascript\">                require([\"plotly\"], function(Plotly) {                    window.PLOTLYENV=window.PLOTLYENV || {};                                    if (document.getElementById(\"2c8e26dc-e260-483b-8a23-0f61b7704c4b\")) {                    Plotly.newPlot(                        \"2c8e26dc-e260-483b-8a23-0f61b7704c4b\",                        [{\"branchvalues\":\"total\",\"domain\":{\"x\":[0.0,1.0],\"y\":[0.0,1.0]},\"hovertemplate\":\"labels=%{label}<br>count=%{value}<br>parent=%{parent}<br>id=%{id}<extra></extra>\",\"ids\":[\" USA/ABL SS/Failure\",\" USA/ABMA/Failure\",\" Brazil/AEB/Failure\",\" France/Arianespace/Failure\",\" USA/Astra/Failure\",\" USA/Blue Origin/Failure\",\" USA/Boeing/Failure\",\" China/CASC/Failure\",\" China/CASIC/Failure\",\" Australia/CECLES/Failure\",\" France/CECLES/Failure\",\" France/CNES/Failure\",\" USA/EER/Failure\",\" France/ESA/Failure\",\" Russia/Eurockot/Failure\",\" China/ExPace/Failure\",\" USA/Firefly/Failure\",\" USA/General Dynamics/Failure\",\" Israel/IAI/Failure\",\" Kazakhstan/ILS/Failure\",\" Iran/ISA/Failure\",\" Japan/ISAS/Failure\",\" India/ISRO/Failure\",\" Japan/JAXA/Failure\",\" South Korea/KARI/Failure\",\" North Korea/KCST/Failure\",\" Kazakhstan/Kosmotras/Failure\",\" China/Landspace/Failure\",\" USA/Lockheed/Failure\",\" Japan/MHI/Failure\",\" Russia/MITT/Failure\",\" USA/Martin Marietta/Failure\",\" USA/NASA/Failure\",\" USA/Northrop/Failure\",\" China/OneSpace/Failure\",\" Australia/RAE/Failure\",\" Kazakhstan/RVSN USSR/Failure\",\" Russia/RVSN USSR/Failure\",\" USA/Relativity Space/Failure\",\" New Zealand/Rocket Lab/Failure\",\" Kazakhstan/Roscosmos/Failure\",\" Russia/Roscosmos/Failure\",\" Barents Sea/SRC/Failure\",\" Pacific Missile Range Facility/Sandia/Failure\",\" Pacific Ocean/Sea Launch/Failure\",\" Marshall Islands/SpaceX/Failure\",\" USA/SpaceX/Failure\",\" USA/US Air Force/Failure\",\" USA/US Navy/Failure\",\" Japan/UT/Failure\",\" Kazakhstan/VKS RF/Failure\",\" Russia/VKS RF/Failure\",\" USA/Virgin Galactic/Failure\",\" USA/Virgin Orbit/Failure\",\" United Kingdom/Virgin Orbit/Failure\",\" China/i-Space/Failure\",\" USA/ABMA/Partial Failure\",\" France/Arianespace/Partial Failure\",\" France/Arm\\u00e9e de l'Air/Partial Failure\",\" USA/Boeing/Partial Failure\",\" China/CASC/Partial Failure\",\" France/ESA/Partial Failure\",\" USA/Firefly/Partial Failure\",\" USA/General Dynamics/Partial Failure\",\" Kazakhstan/ILS/Partial Failure\",\" Japan/ISAS/Partial Failure\",\" India/ISRO/Partial Failure\",\" Japan/MHI/Partial Failure\",\" Russia/MITT/Partial Failure\",\" USA/Martin Marietta/Partial Failure\",\" USA/NASA/Partial Failure\",\" USA/Northrop/Partial Failure\",\" Kazakhstan/RVSN USSR/Partial Failure\",\" Russia/RVSN USSR/Partial Failure\",\" Kazakhstan/Roscosmos/Partial Failure\",\" Pacific Ocean/Sea Launch/Partial Failure\",\" USA/SpaceX/Partial Failure\",\" USA/ULA/Partial Failure\",\" USA/US Air Force/Partial Failure\",\" USA/US Navy/Partial Failure\",\" Russia/VKS RF/Partial Failure\",\" USA/Virgin Galactic/Partial Failure\",\" Brazil/AEB/Prelaunch Failure\",\" Iran/ISA/Prelaunch Failure\",\" Kazakhstan/RVSN USSR/Prelaunch Failure\",\" Russia/RVSN USSR/Prelaunch Failure\",\" USA/SpaceX/Prelaunch Failure\",\" Australia/ABMA/Success\",\" USA/ABMA/Success\",\" Kenya/ASI/Success\",\" France/Arianespace/Success\",\" France/Arm\\u00e9e de l'Air/Success\",\" USA/Astra/Success\",\" USA/Blue Origin/Success\",\" USA/Boeing/Success\",\" China/CAS Space/Success\",\" China/CASC/Success\",\" Yellow Sea/CASC/Success\",\" China/CASIC/Success\",\" France/CNES/Success\",\" USA/Douglas/Success\",\" France/ESA/Success\",\" Russia/Eurockot/Success\",\" China/ExPace/Success\",\" Kazakhstan/GK LS/Success\",\" China/Galactic Energy/Success\",\" USA/General Dynamics/Success\",\" Israel/IAI/Success\",\" Kazakhstan/ILS/Success\",\" USA/ILS/Success\",\" Iran/IRGC/Success\",\" Iran/ISA/Success\",\" Japan/ISAS/Success\",\" India/ISRO/Success\",\" Japan/JAXA/Success\",\" South Korea/KARI/Success\",\" North Korea/KCST/Success\",\" Kazakhstan/Kosmotras/Success\",\" Russia/Kosmotras/Success\",\" Kazakhstan/Land Launch/Success\",\" USA/Lockheed/Success\",\" Japan/MHI/Success\",\" Russia/MITT/Success\",\" USA/Martin Marietta/Success\",\" USA/NASA/Success\",\" Gran Canaria/Northrop/Success\",\" Marshall Islands/Northrop/Success\",\" USA/Northrop/Success\",\" Kazakhstan/OKB-586/Success\",\" Australia/RAE/Success\",\" Kazakhstan/RVSN USSR/Success\",\" Russia/RVSN USSR/Success\",\" New Zealand/Rocket Lab/Success\",\" USA/Rocket Lab/Success\",\" Kazakhstan/Roscosmos/Success\",\" Russia/Roscosmos/Success\",\" Barents Sea/SRC/Success\",\" USA/Scaled/Success\",\" Pacific Ocean/Sea Launch/Success\",\" China/Space Pioneer/Success\",\" Marshall Islands/SpaceX/Success\",\" USA/SpaceX/Success\",\" Kazakhstan/Starsem/Success\",\" Russia/Starsem/Success\",\" USA/ULA/Success\",\" USA/US Air Force/Success\",\" USA/US Navy/Success\",\" Japan/UT/Success\",\" Kazakhstan/VKS RF/Success\",\" Russia/VKS RF/Success\",\" USA/Virgin Galactic/Success\",\" USA/Virgin Orbit/Success\",\" China/i-Space/Success\",\" USA/ABL SS\",\" Australia/ABMA\",\" USA/ABMA\",\" Brazil/AEB\",\" Kenya/ASI\",\" France/Arianespace\",\" France/Arm\\u00e9e de l'Air\",\" USA/Astra\",\" USA/Blue Origin\",\" USA/Boeing\",\" China/CAS Space\",\" China/CASC\",\" Yellow Sea/CASC\",\" China/CASIC\",\" Australia/CECLES\",\" France/CECLES\",\" France/CNES\",\" USA/Douglas\",\" USA/EER\",\" France/ESA\",\" Russia/Eurockot\",\" China/ExPace\",\" USA/Firefly\",\" Kazakhstan/GK LS\",\" China/Galactic Energy\",\" USA/General Dynamics\",\" Israel/IAI\",\" Kazakhstan/ILS\",\" USA/ILS\",\" Iran/IRGC\",\" Iran/ISA\",\" Japan/ISAS\",\" India/ISRO\",\" Japan/JAXA\",\" South Korea/KARI\",\" North Korea/KCST\",\" Kazakhstan/Kosmotras\",\" Russia/Kosmotras\",\" Kazakhstan/Land Launch\",\" China/Landspace\",\" USA/Lockheed\",\" Japan/MHI\",\" Russia/MITT\",\" USA/Martin Marietta\",\" USA/NASA\",\" Gran Canaria/Northrop\",\" Marshall Islands/Northrop\",\" USA/Northrop\",\" Kazakhstan/OKB-586\",\" China/OneSpace\",\" Australia/RAE\",\" Kazakhstan/RVSN USSR\",\" Russia/RVSN USSR\",\" USA/Relativity Space\",\" New Zealand/Rocket Lab\",\" USA/Rocket Lab\",\" Kazakhstan/Roscosmos\",\" Russia/Roscosmos\",\" Barents Sea/SRC\",\" Pacific Missile Range Facility/Sandia\",\" USA/Scaled\",\" Pacific Ocean/Sea Launch\",\" China/Space Pioneer\",\" Marshall Islands/SpaceX\",\" USA/SpaceX\",\" Kazakhstan/Starsem\",\" Russia/Starsem\",\" USA/ULA\",\" USA/US Air Force\",\" USA/US Navy\",\" Japan/UT\",\" Kazakhstan/VKS RF\",\" Russia/VKS RF\",\" USA/Virgin Galactic\",\" USA/Virgin Orbit\",\" United Kingdom/Virgin Orbit\",\" China/i-Space\",\" Australia\",\" Barents Sea\",\" Brazil\",\" China\",\" France\",\" Gran Canaria\",\" India\",\" Iran\",\" Israel\",\" Japan\",\" Kazakhstan\",\" Kenya\",\" Marshall Islands\",\" New Zealand\",\" North Korea\",\" Pacific Missile Range Facility\",\" Pacific Ocean\",\" Russia\",\" South Korea\",\" USA\",\" United Kingdom\",\" Yellow Sea\"],\"labels\":[\"Failure\",\"Failure\",\"Failure\",\"Failure\",\"Failure\",\"Failure\",\"Failure\",\"Failure\",\"Failure\",\"Failure\",\"Failure\",\"Failure\",\"Failure\",\"Failure\",\"Failure\",\"Failure\",\"Failure\",\"Failure\",\"Failure\",\"Failure\",\"Failure\",\"Failure\",\"Failure\",\"Failure\",\"Failure\",\"Failure\",\"Failure\",\"Failure\",\"Failure\",\"Failure\",\"Failure\",\"Failure\",\"Failure\",\"Failure\",\"Failure\",\"Failure\",\"Failure\",\"Failure\",\"Failure\",\"Failure\",\"Failure\",\"Failure\",\"Failure\",\"Failure\",\"Failure\",\"Failure\",\"Failure\",\"Failure\",\"Failure\",\"Failure\",\"Failure\",\"Failure\",\"Failure\",\"Failure\",\"Failure\",\"Failure\",\"Partial Failure\",\"Partial Failure\",\"Partial Failure\",\"Partial Failure\",\"Partial Failure\",\"Partial Failure\",\"Partial Failure\",\"Partial Failure\",\"Partial Failure\",\"Partial Failure\",\"Partial Failure\",\"Partial Failure\",\"Partial Failure\",\"Partial Failure\",\"Partial Failure\",\"Partial Failure\",\"Partial Failure\",\"Partial Failure\",\"Partial Failure\",\"Partial Failure\",\"Partial Failure\",\"Partial Failure\",\"Partial Failure\",\"Partial Failure\",\"Partial Failure\",\"Partial Failure\",\"Prelaunch Failure\",\"Prelaunch Failure\",\"Prelaunch Failure\",\"Prelaunch Failure\",\"Prelaunch Failure\",\"Success\",\"Success\",\"Success\",\"Success\",\"Success\",\"Success\",\"Success\",\"Success\",\"Success\",\"Success\",\"Success\",\"Success\",\"Success\",\"Success\",\"Success\",\"Success\",\"Success\",\"Success\",\"Success\",\"Success\",\"Success\",\"Success\",\"Success\",\"Success\",\"Success\",\"Success\",\"Success\",\"Success\",\"Success\",\"Success\",\"Success\",\"Success\",\"Success\",\"Success\",\"Success\",\"Success\",\"Success\",\"Success\",\"Success\",\"Success\",\"Success\",\"Success\",\"Success\",\"Success\",\"Success\",\"Success\",\"Success\",\"Success\",\"Success\",\"Success\",\"Success\",\"Success\",\"Success\",\"Success\",\"Success\",\"Success\",\"Success\",\"Success\",\"Success\",\"Success\",\"Success\",\"Success\",\"Success\",\"Success\",\"Success\",\"Success\",\"ABL SS\",\"ABMA\",\"ABMA\",\"AEB\",\"ASI\",\"Arianespace\",\"Arm\\u00e9e de l'Air\",\"Astra\",\"Blue Origin\",\"Boeing\",\"CAS Space\",\"CASC\",\"CASC\",\"CASIC\",\"CECLES\",\"CECLES\",\"CNES\",\"Douglas\",\"EER\",\"ESA\",\"Eurockot\",\"ExPace\",\"Firefly\",\"GK LS\",\"Galactic Energy\",\"General Dynamics\",\"IAI\",\"ILS\",\"ILS\",\"IRGC\",\"ISA\",\"ISAS\",\"ISRO\",\"JAXA\",\"KARI\",\"KCST\",\"Kosmotras\",\"Kosmotras\",\"Land Launch\",\"Landspace\",\"Lockheed\",\"MHI\",\"MITT\",\"Martin Marietta\",\"NASA\",\"Northrop\",\"Northrop\",\"Northrop\",\"OKB-586\",\"OneSpace\",\"RAE\",\"RVSN USSR\",\"RVSN USSR\",\"Relativity Space\",\"Rocket Lab\",\"Rocket Lab\",\"Roscosmos\",\"Roscosmos\",\"SRC\",\"Sandia\",\"Scaled\",\"Sea Launch\",\"Space Pioneer\",\"SpaceX\",\"SpaceX\",\"Starsem\",\"Starsem\",\"ULA\",\"US Air Force\",\"US Navy\",\"UT\",\"VKS RF\",\"VKS RF\",\"Virgin Galactic\",\"Virgin Orbit\",\"Virgin Orbit\",\"i-Space\",\" Australia\",\" Barents Sea\",\" Brazil\",\" China\",\" France\",\" Gran Canaria\",\" India\",\" Iran\",\" Israel\",\" Japan\",\" Kazakhstan\",\" Kenya\",\" Marshall Islands\",\" New Zealand\",\" North Korea\",\" Pacific Missile Range Facility\",\" Pacific Ocean\",\" Russia\",\" South Korea\",\" USA\",\" United Kingdom\",\" Yellow Sea\"],\"name\":\"\",\"parents\":[\" USA/ABL SS\",\" USA/ABMA\",\" Brazil/AEB\",\" France/Arianespace\",\" USA/Astra\",\" USA/Blue Origin\",\" USA/Boeing\",\" China/CASC\",\" China/CASIC\",\" Australia/CECLES\",\" France/CECLES\",\" France/CNES\",\" USA/EER\",\" France/ESA\",\" Russia/Eurockot\",\" China/ExPace\",\" USA/Firefly\",\" USA/General Dynamics\",\" Israel/IAI\",\" Kazakhstan/ILS\",\" Iran/ISA\",\" Japan/ISAS\",\" India/ISRO\",\" Japan/JAXA\",\" South Korea/KARI\",\" North Korea/KCST\",\" Kazakhstan/Kosmotras\",\" China/Landspace\",\" USA/Lockheed\",\" Japan/MHI\",\" Russia/MITT\",\" USA/Martin Marietta\",\" USA/NASA\",\" USA/Northrop\",\" China/OneSpace\",\" Australia/RAE\",\" Kazakhstan/RVSN USSR\",\" Russia/RVSN USSR\",\" USA/Relativity Space\",\" New Zealand/Rocket Lab\",\" Kazakhstan/Roscosmos\",\" Russia/Roscosmos\",\" Barents Sea/SRC\",\" Pacific Missile Range Facility/Sandia\",\" Pacific Ocean/Sea Launch\",\" Marshall Islands/SpaceX\",\" USA/SpaceX\",\" USA/US Air Force\",\" USA/US Navy\",\" Japan/UT\",\" Kazakhstan/VKS RF\",\" Russia/VKS RF\",\" USA/Virgin Galactic\",\" USA/Virgin Orbit\",\" United Kingdom/Virgin Orbit\",\" China/i-Space\",\" USA/ABMA\",\" France/Arianespace\",\" France/Arm\\u00e9e de l'Air\",\" USA/Boeing\",\" China/CASC\",\" France/ESA\",\" USA/Firefly\",\" USA/General Dynamics\",\" Kazakhstan/ILS\",\" Japan/ISAS\",\" India/ISRO\",\" Japan/MHI\",\" Russia/MITT\",\" USA/Martin Marietta\",\" USA/NASA\",\" USA/Northrop\",\" Kazakhstan/RVSN USSR\",\" Russia/RVSN USSR\",\" Kazakhstan/Roscosmos\",\" Pacific Ocean/Sea Launch\",\" USA/SpaceX\",\" USA/ULA\",\" USA/US Air Force\",\" USA/US Navy\",\" Russia/VKS RF\",\" USA/Virgin Galactic\",\" Brazil/AEB\",\" Iran/ISA\",\" Kazakhstan/RVSN USSR\",\" Russia/RVSN USSR\",\" USA/SpaceX\",\" Australia/ABMA\",\" USA/ABMA\",\" Kenya/ASI\",\" France/Arianespace\",\" France/Arm\\u00e9e de l'Air\",\" USA/Astra\",\" USA/Blue Origin\",\" USA/Boeing\",\" China/CAS Space\",\" China/CASC\",\" Yellow Sea/CASC\",\" China/CASIC\",\" France/CNES\",\" USA/Douglas\",\" France/ESA\",\" Russia/Eurockot\",\" China/ExPace\",\" Kazakhstan/GK LS\",\" China/Galactic Energy\",\" USA/General Dynamics\",\" Israel/IAI\",\" Kazakhstan/ILS\",\" USA/ILS\",\" Iran/IRGC\",\" Iran/ISA\",\" Japan/ISAS\",\" India/ISRO\",\" Japan/JAXA\",\" South Korea/KARI\",\" North Korea/KCST\",\" Kazakhstan/Kosmotras\",\" Russia/Kosmotras\",\" Kazakhstan/Land Launch\",\" USA/Lockheed\",\" Japan/MHI\",\" Russia/MITT\",\" USA/Martin Marietta\",\" USA/NASA\",\" Gran Canaria/Northrop\",\" Marshall Islands/Northrop\",\" USA/Northrop\",\" Kazakhstan/OKB-586\",\" Australia/RAE\",\" Kazakhstan/RVSN USSR\",\" Russia/RVSN USSR\",\" New Zealand/Rocket Lab\",\" USA/Rocket Lab\",\" Kazakhstan/Roscosmos\",\" Russia/Roscosmos\",\" Barents Sea/SRC\",\" USA/Scaled\",\" Pacific Ocean/Sea Launch\",\" China/Space Pioneer\",\" Marshall Islands/SpaceX\",\" USA/SpaceX\",\" Kazakhstan/Starsem\",\" Russia/Starsem\",\" USA/ULA\",\" USA/US Air Force\",\" USA/US Navy\",\" Japan/UT\",\" Kazakhstan/VKS RF\",\" Russia/VKS RF\",\" USA/Virgin Galactic\",\" USA/Virgin Orbit\",\" China/i-Space\",\" USA\",\" Australia\",\" USA\",\" Brazil\",\" Kenya\",\" France\",\" France\",\" USA\",\" USA\",\" USA\",\" China\",\" China\",\" Yellow Sea\",\" China\",\" Australia\",\" France\",\" France\",\" USA\",\" USA\",\" France\",\" Russia\",\" China\",\" USA\",\" Kazakhstan\",\" China\",\" USA\",\" Israel\",\" Kazakhstan\",\" USA\",\" Iran\",\" Iran\",\" Japan\",\" India\",\" Japan\",\" South Korea\",\" North Korea\",\" Kazakhstan\",\" Russia\",\" Kazakhstan\",\" China\",\" USA\",\" Japan\",\" Russia\",\" USA\",\" USA\",\" Gran Canaria\",\" Marshall Islands\",\" USA\",\" Kazakhstan\",\" China\",\" Australia\",\" Kazakhstan\",\" Russia\",\" USA\",\" New Zealand\",\" USA\",\" Kazakhstan\",\" Russia\",\" Barents Sea\",\" Pacific Missile Range Facility\",\" USA\",\" Pacific Ocean\",\" China\",\" Marshall Islands\",\" USA\",\" Kazakhstan\",\" Russia\",\" USA\",\" USA\",\" USA\",\" Japan\",\" Kazakhstan\",\" Russia\",\" USA\",\" USA\",\" United Kingdom\",\" China\",\"\",\"\",\"\",\"\",\"\",\"\",\"\",\"\",\"\",\"\",\"\",\"\",\"\",\"\",\"\",\"\",\"\",\"\",\"\",\"\",\"\",\"\"],\"values\":[1,8,2,9,5,1,3,15,2,3,1,2,1,3,1,3,1,37,4,4,8,3,10,2,3,3,1,2,5,4,1,11,10,7,1,1,90,60,1,3,14,1,1,1,3,3,2,55,14,4,4,8,1,1,1,3,1,3,1,2,9,1,1,11,3,1,5,1,1,3,5,2,13,24,3,1,4,1,7,1,7,1,1,1,4,1,1,1,7,9,283,3,2,22,133,1,455,5,7,6,1,10,12,14,1,5,203,10,90,40,2,6,26,71,7,2,2,11,10,6,74,81,5,100,207,2,4,75,2,1,874,1410,30,2,329,8,2,3,32,1,2,221,31,6,154,487,2,1,68,249,10,4,2,1,1,16,3,9,295,4,7,23,138,1,479,5,9,3,1,8,1,1,14,13,17,2,1,5,251,14,97,40,2,15,30,86,9,5,5,12,10,6,2,79,86,7,114,222,2,4,84,2,1,2,981,1495,1,33,2,346,9,3,1,3,36,1,5,228,31,6,155,549,17,5,72,264,12,5,1,5,6,3,3,520,322,2,86,17,14,130,1548,9,9,33,5,1,36,1804,5,1951,1,5],\"type\":\"sunburst\"}],                        {\"template\":{\"data\":{\"histogram2dcontour\":[{\"type\":\"histogram2dcontour\",\"colorbar\":{\"outlinewidth\":0,\"ticks\":\"\"},\"colorscale\":[[0.0,\"#0d0887\"],[0.1111111111111111,\"#46039f\"],[0.2222222222222222,\"#7201a8\"],[0.3333333333333333,\"#9c179e\"],[0.4444444444444444,\"#bd3786\"],[0.5555555555555556,\"#d8576b\"],[0.6666666666666666,\"#ed7953\"],[0.7777777777777778,\"#fb9f3a\"],[0.8888888888888888,\"#fdca26\"],[1.0,\"#f0f921\"]]}],\"choropleth\":[{\"type\":\"choropleth\",\"colorbar\":{\"outlinewidth\":0,\"ticks\":\"\"}}],\"histogram2d\":[{\"type\":\"histogram2d\",\"colorbar\":{\"outlinewidth\":0,\"ticks\":\"\"},\"colorscale\":[[0.0,\"#0d0887\"],[0.1111111111111111,\"#46039f\"],[0.2222222222222222,\"#7201a8\"],[0.3333333333333333,\"#9c179e\"],[0.4444444444444444,\"#bd3786\"],[0.5555555555555556,\"#d8576b\"],[0.6666666666666666,\"#ed7953\"],[0.7777777777777778,\"#fb9f3a\"],[0.8888888888888888,\"#fdca26\"],[1.0,\"#f0f921\"]]}],\"heatmap\":[{\"type\":\"heatmap\",\"colorbar\":{\"outlinewidth\":0,\"ticks\":\"\"},\"colorscale\":[[0.0,\"#0d0887\"],[0.1111111111111111,\"#46039f\"],[0.2222222222222222,\"#7201a8\"],[0.3333333333333333,\"#9c179e\"],[0.4444444444444444,\"#bd3786\"],[0.5555555555555556,\"#d8576b\"],[0.6666666666666666,\"#ed7953\"],[0.7777777777777778,\"#fb9f3a\"],[0.8888888888888888,\"#fdca26\"],[1.0,\"#f0f921\"]]}],\"heatmapgl\":[{\"type\":\"heatmapgl\",\"colorbar\":{\"outlinewidth\":0,\"ticks\":\"\"},\"colorscale\":[[0.0,\"#0d0887\"],[0.1111111111111111,\"#46039f\"],[0.2222222222222222,\"#7201a8\"],[0.3333333333333333,\"#9c179e\"],[0.4444444444444444,\"#bd3786\"],[0.5555555555555556,\"#d8576b\"],[0.6666666666666666,\"#ed7953\"],[0.7777777777777778,\"#fb9f3a\"],[0.8888888888888888,\"#fdca26\"],[1.0,\"#f0f921\"]]}],\"contourcarpet\":[{\"type\":\"contourcarpet\",\"colorbar\":{\"outlinewidth\":0,\"ticks\":\"\"}}],\"contour\":[{\"type\":\"contour\",\"colorbar\":{\"outlinewidth\":0,\"ticks\":\"\"},\"colorscale\":[[0.0,\"#0d0887\"],[0.1111111111111111,\"#46039f\"],[0.2222222222222222,\"#7201a8\"],[0.3333333333333333,\"#9c179e\"],[0.4444444444444444,\"#bd3786\"],[0.5555555555555556,\"#d8576b\"],[0.6666666666666666,\"#ed7953\"],[0.7777777777777778,\"#fb9f3a\"],[0.8888888888888888,\"#fdca26\"],[1.0,\"#f0f921\"]]}],\"surface\":[{\"type\":\"surface\",\"colorbar\":{\"outlinewidth\":0,\"ticks\":\"\"},\"colorscale\":[[0.0,\"#0d0887\"],[0.1111111111111111,\"#46039f\"],[0.2222222222222222,\"#7201a8\"],[0.3333333333333333,\"#9c179e\"],[0.4444444444444444,\"#bd3786\"],[0.5555555555555556,\"#d8576b\"],[0.6666666666666666,\"#ed7953\"],[0.7777777777777778,\"#fb9f3a\"],[0.8888888888888888,\"#fdca26\"],[1.0,\"#f0f921\"]]}],\"mesh3d\":[{\"type\":\"mesh3d\",\"colorbar\":{\"outlinewidth\":0,\"ticks\":\"\"}}],\"scatter\":[{\"fillpattern\":{\"fillmode\":\"overlay\",\"size\":10,\"solidity\":0.2},\"type\":\"scatter\"}],\"parcoords\":[{\"type\":\"parcoords\",\"line\":{\"colorbar\":{\"outlinewidth\":0,\"ticks\":\"\"}}}],\"scatterpolargl\":[{\"type\":\"scatterpolargl\",\"marker\":{\"colorbar\":{\"outlinewidth\":0,\"ticks\":\"\"}}}],\"bar\":[{\"error_x\":{\"color\":\"#2a3f5f\"},\"error_y\":{\"color\":\"#2a3f5f\"},\"marker\":{\"line\":{\"color\":\"#E5ECF6\",\"width\":0.5},\"pattern\":{\"fillmode\":\"overlay\",\"size\":10,\"solidity\":0.2}},\"type\":\"bar\"}],\"scattergeo\":[{\"type\":\"scattergeo\",\"marker\":{\"colorbar\":{\"outlinewidth\":0,\"ticks\":\"\"}}}],\"scatterpolar\":[{\"type\":\"scatterpolar\",\"marker\":{\"colorbar\":{\"outlinewidth\":0,\"ticks\":\"\"}}}],\"histogram\":[{\"marker\":{\"pattern\":{\"fillmode\":\"overlay\",\"size\":10,\"solidity\":0.2}},\"type\":\"histogram\"}],\"scattergl\":[{\"type\":\"scattergl\",\"marker\":{\"colorbar\":{\"outlinewidth\":0,\"ticks\":\"\"}}}],\"scatter3d\":[{\"type\":\"scatter3d\",\"line\":{\"colorbar\":{\"outlinewidth\":0,\"ticks\":\"\"}},\"marker\":{\"colorbar\":{\"outlinewidth\":0,\"ticks\":\"\"}}}],\"scattermapbox\":[{\"type\":\"scattermapbox\",\"marker\":{\"colorbar\":{\"outlinewidth\":0,\"ticks\":\"\"}}}],\"scatterternary\":[{\"type\":\"scatterternary\",\"marker\":{\"colorbar\":{\"outlinewidth\":0,\"ticks\":\"\"}}}],\"scattercarpet\":[{\"type\":\"scattercarpet\",\"marker\":{\"colorbar\":{\"outlinewidth\":0,\"ticks\":\"\"}}}],\"carpet\":[{\"aaxis\":{\"endlinecolor\":\"#2a3f5f\",\"gridcolor\":\"white\",\"linecolor\":\"white\",\"minorgridcolor\":\"white\",\"startlinecolor\":\"#2a3f5f\"},\"baxis\":{\"endlinecolor\":\"#2a3f5f\",\"gridcolor\":\"white\",\"linecolor\":\"white\",\"minorgridcolor\":\"white\",\"startlinecolor\":\"#2a3f5f\"},\"type\":\"carpet\"}],\"table\":[{\"cells\":{\"fill\":{\"color\":\"#EBF0F8\"},\"line\":{\"color\":\"white\"}},\"header\":{\"fill\":{\"color\":\"#C8D4E3\"},\"line\":{\"color\":\"white\"}},\"type\":\"table\"}],\"barpolar\":[{\"marker\":{\"line\":{\"color\":\"#E5ECF6\",\"width\":0.5},\"pattern\":{\"fillmode\":\"overlay\",\"size\":10,\"solidity\":0.2}},\"type\":\"barpolar\"}],\"pie\":[{\"automargin\":true,\"type\":\"pie\"}]},\"layout\":{\"autotypenumbers\":\"strict\",\"colorway\":[\"#636efa\",\"#EF553B\",\"#00cc96\",\"#ab63fa\",\"#FFA15A\",\"#19d3f3\",\"#FF6692\",\"#B6E880\",\"#FF97FF\",\"#FECB52\"],\"font\":{\"color\":\"#2a3f5f\"},\"hovermode\":\"closest\",\"hoverlabel\":{\"align\":\"left\"},\"paper_bgcolor\":\"white\",\"plot_bgcolor\":\"#E5ECF6\",\"polar\":{\"bgcolor\":\"#E5ECF6\",\"angularaxis\":{\"gridcolor\":\"white\",\"linecolor\":\"white\",\"ticks\":\"\"},\"radialaxis\":{\"gridcolor\":\"white\",\"linecolor\":\"white\",\"ticks\":\"\"}},\"ternary\":{\"bgcolor\":\"#E5ECF6\",\"aaxis\":{\"gridcolor\":\"white\",\"linecolor\":\"white\",\"ticks\":\"\"},\"baxis\":{\"gridcolor\":\"white\",\"linecolor\":\"white\",\"ticks\":\"\"},\"caxis\":{\"gridcolor\":\"white\",\"linecolor\":\"white\",\"ticks\":\"\"}},\"coloraxis\":{\"colorbar\":{\"outlinewidth\":0,\"ticks\":\"\"}},\"colorscale\":{\"sequential\":[[0.0,\"#0d0887\"],[0.1111111111111111,\"#46039f\"],[0.2222222222222222,\"#7201a8\"],[0.3333333333333333,\"#9c179e\"],[0.4444444444444444,\"#bd3786\"],[0.5555555555555556,\"#d8576b\"],[0.6666666666666666,\"#ed7953\"],[0.7777777777777778,\"#fb9f3a\"],[0.8888888888888888,\"#fdca26\"],[1.0,\"#f0f921\"]],\"sequentialminus\":[[0.0,\"#0d0887\"],[0.1111111111111111,\"#46039f\"],[0.2222222222222222,\"#7201a8\"],[0.3333333333333333,\"#9c179e\"],[0.4444444444444444,\"#bd3786\"],[0.5555555555555556,\"#d8576b\"],[0.6666666666666666,\"#ed7953\"],[0.7777777777777778,\"#fb9f3a\"],[0.8888888888888888,\"#fdca26\"],[1.0,\"#f0f921\"]],\"diverging\":[[0,\"#8e0152\"],[0.1,\"#c51b7d\"],[0.2,\"#de77ae\"],[0.3,\"#f1b6da\"],[0.4,\"#fde0ef\"],[0.5,\"#f7f7f7\"],[0.6,\"#e6f5d0\"],[0.7,\"#b8e186\"],[0.8,\"#7fbc41\"],[0.9,\"#4d9221\"],[1,\"#276419\"]]},\"xaxis\":{\"gridcolor\":\"white\",\"linecolor\":\"white\",\"ticks\":\"\",\"title\":{\"standoff\":15},\"zerolinecolor\":\"white\",\"automargin\":true,\"zerolinewidth\":2},\"yaxis\":{\"gridcolor\":\"white\",\"linecolor\":\"white\",\"ticks\":\"\",\"title\":{\"standoff\":15},\"zerolinecolor\":\"white\",\"automargin\":true,\"zerolinewidth\":2},\"scene\":{\"xaxis\":{\"backgroundcolor\":\"#E5ECF6\",\"gridcolor\":\"white\",\"linecolor\":\"white\",\"showbackground\":true,\"ticks\":\"\",\"zerolinecolor\":\"white\",\"gridwidth\":2},\"yaxis\":{\"backgroundcolor\":\"#E5ECF6\",\"gridcolor\":\"white\",\"linecolor\":\"white\",\"showbackground\":true,\"ticks\":\"\",\"zerolinecolor\":\"white\",\"gridwidth\":2},\"zaxis\":{\"backgroundcolor\":\"#E5ECF6\",\"gridcolor\":\"white\",\"linecolor\":\"white\",\"showbackground\":true,\"ticks\":\"\",\"zerolinecolor\":\"white\",\"gridwidth\":2}},\"shapedefaults\":{\"line\":{\"color\":\"#2a3f5f\"}},\"annotationdefaults\":{\"arrowcolor\":\"#2a3f5f\",\"arrowhead\":0,\"arrowwidth\":1},\"geo\":{\"bgcolor\":\"white\",\"landcolor\":\"#E5ECF6\",\"subunitcolor\":\"white\",\"showland\":true,\"showlakes\":true,\"lakecolor\":\"white\"},\"title\":{\"x\":0.05},\"mapbox\":{\"style\":\"light\"}}},\"legend\":{\"tracegroupgap\":0},\"margin\":{\"t\":60}},                        {\"responsive\": true}                    ).then(function(){\n",
       "                            \n",
       "var gd = document.getElementById('2c8e26dc-e260-483b-8a23-0f61b7704c4b');\n",
       "var x = new MutationObserver(function (mutations, observer) {{\n",
       "        var display = window.getComputedStyle(gd).display;\n",
       "        if (!display || display === 'none') {{\n",
       "            console.log([gd, 'removed!']);\n",
       "            Plotly.purge(gd);\n",
       "            observer.disconnect();\n",
       "        }}\n",
       "}});\n",
       "\n",
       "// Listen for the removal of the full notebook cells\n",
       "var notebookContainer = gd.closest('#notebook-container');\n",
       "if (notebookContainer) {{\n",
       "    x.observe(notebookContainer, {childList: true});\n",
       "}}\n",
       "\n",
       "// Listen for the clearing of the current output cell\n",
       "var outputEl = gd.closest('.output');\n",
       "if (outputEl) {{\n",
       "    x.observe(outputEl, {childList: true});\n",
       "}}\n",
       "\n",
       "                        })                };                });            </script>        </div>"
      ]
     },
     "metadata": {},
     "output_type": "display_data"
    }
   ],
   "source": [
    "burst = px.sunburst(df_data, path=['Country','Organisation', 'Mission_status'])\n",
    "burst.show()\n",
    "burst.write_html(\"suburst.html\")"
   ]
  },
  {
   "cell_type": "markdown",
   "metadata": {
    "id": "70pG1BCZa-qY",
    "papermill": {
     "duration": 0.062712,
     "end_time": "2020-10-20T21:34:07.951200",
     "exception": false,
     "start_time": "2020-10-20T21:34:07.888488",
     "status": "completed"
    },
    "tags": []
   },
   "source": [
    "# Money Spent by Organisation on Space Missions"
   ]
  },
  {
   "cell_type": "code",
   "execution_count": 13,
   "metadata": {
    "id": "IaJYxwEVpKHy"
   },
   "outputs": [],
   "source": [
    "price_df = df_data[['Organisation','Price']].dropna()\n",
    "p_df = price_df.groupby('Organisation').sum().sort_values('Price', ascending=False)"
   ]
  },
  {
   "cell_type": "code",
   "execution_count": 15,
   "metadata": {
    "id": "orIFf-appPDL"
   },
   "outputs": [
    {
     "data": {
      "image/png": "[encoded data removed]",
      "text/plain": [
       "<Figure size 1200x900 with 1 Axes>"
      ]
     },
     "metadata": {},
     "output_type": "display_data"
    }
   ],
   "source": [
    "plt.figure(figsize=(12,9))\n",
    "plt.bar(p_df.index, p_df['Price'])\n",
    "\n",
    "plt.xlabel('Organisation')\n",
    "plt.ylabel('$ Millions')\n",
    "plt.xticks(rotation=90)\n",
    "plt.title('Expenses on Launches per Organisation')\n",
    "\n",
    "plt.show()"
   ]
  },
  {
   "cell_type": "markdown",
   "metadata": {
    "id": "DpsWkPxzpPXs"
   },
   "source": [
    "# Average Expenses by Organisation per Launch"
   ]
  },
  {
   "cell_type": "code",
   "execution_count": 199,
   "metadata": {
    "id": "opYJ6GiRpTk5"
   },
   "outputs": [
    {
     "name": "stderr",
     "output_type": "stream",
     "text": [
      "C:\\Users\\kaczo\\AppData\\Local\\Temp\\ipykernel_20812\\1528561184.py:5: SettingWithCopyWarning:\n",
      "\n",
      "\n",
      "A value is trying to be set on a copy of a slice from a DataFrame.\n",
      "Try using .loc[row_indexer,col_indexer] = value instead\n",
      "\n",
      "See the caveats in the documentation: https://pandas.pydata.org/pandas-docs/stable/user_guide/indexing.html#returning-a-view-versus-a-copy\n",
      "\n",
      "C:\\Users\\kaczo\\AppData\\Local\\Temp\\ipykernel_20812\\1528561184.py:8: SettingWithCopyWarning:\n",
      "\n",
      "\n",
      "A value is trying to be set on a copy of a slice from a DataFrame\n",
      "\n",
      "See the caveats in the documentation: https://pandas.pydata.org/pandas-docs/stable/user_guide/indexing.html#returning-a-view-versus-a-copy\n",
      "\n"
     ]
    },
    {
     "data": {
      "text/html": [
       "<div>\n",
       "<style scoped>\n",
       "    .dataframe tbody tr th:only-of-type {\n",
       "        vertical-align: middle;\n",
       "    }\n",
       "\n",
       "    .dataframe tbody tr th {\n",
       "        vertical-align: top;\n",
       "    }\n",
       "\n",
       "    .dataframe thead th {\n",
       "        text-align: right;\n",
       "    }\n",
       "</style>\n",
       "<table border=\"1\" class=\"dataframe\">\n",
       "  <thead>\n",
       "    <tr style=\"text-align: right;\">\n",
       "      <th></th>\n",
       "      <th>Organisation</th>\n",
       "      <th>Price</th>\n",
       "    </tr>\n",
       "  </thead>\n",
       "  <tbody>\n",
       "    <tr>\n",
       "      <th>0</th>\n",
       "      <td>CASC</td>\n",
       "      <td>64.68</td>\n",
       "    </tr>\n",
       "    <tr>\n",
       "      <th>1</th>\n",
       "      <td>SpaceX</td>\n",
       "      <td>67.00</td>\n",
       "    </tr>\n",
       "    <tr>\n",
       "      <th>2</th>\n",
       "      <td>Arianespace</td>\n",
       "      <td>200.00</td>\n",
       "    </tr>\n",
       "    <tr>\n",
       "      <th>3</th>\n",
       "      <td>SpaceX</td>\n",
       "      <td>67.00</td>\n",
       "    </tr>\n",
       "    <tr>\n",
       "      <th>5</th>\n",
       "      <td>SpaceX</td>\n",
       "      <td>67.00</td>\n",
       "    </tr>\n",
       "    <tr>\n",
       "      <th>...</th>\n",
       "      <td>...</td>\n",
       "      <td>...</td>\n",
       "    </tr>\n",
       "    <tr>\n",
       "      <th>6493</th>\n",
       "      <td>US Air Force</td>\n",
       "      <td>59.65</td>\n",
       "    </tr>\n",
       "    <tr>\n",
       "      <th>6499</th>\n",
       "      <td>RVSN USSR</td>\n",
       "      <td>21.61</td>\n",
       "    </tr>\n",
       "    <tr>\n",
       "      <th>6501</th>\n",
       "      <td>RVSN USSR</td>\n",
       "      <td>21.61</td>\n",
       "    </tr>\n",
       "    <tr>\n",
       "      <th>6508</th>\n",
       "      <td>RVSN USSR</td>\n",
       "      <td>21.61</td>\n",
       "    </tr>\n",
       "    <tr>\n",
       "      <th>6509</th>\n",
       "      <td>RVSN USSR</td>\n",
       "      <td>21.61</td>\n",
       "    </tr>\n",
       "  </tbody>\n",
       "</table>\n",
       "<p>6016 rows × 2 columns</p>\n",
       "</div>"
      ],
      "text/plain": [
       "      Organisation  Price\n",
       "0             CASC  64.68\n",
       "1           SpaceX  67.00\n",
       "2      Arianespace 200.00\n",
       "3           SpaceX  67.00\n",
       "5           SpaceX  67.00\n",
       "...            ...    ...\n",
       "6493  US Air Force  59.65\n",
       "6499     RVSN USSR  21.61\n",
       "6501     RVSN USSR  21.61\n",
       "6508     RVSN USSR  21.61\n",
       "6509     RVSN USSR  21.61\n",
       "\n",
       "[6016 rows x 2 columns]"
      ]
     },
     "execution_count": 199,
     "metadata": {},
     "output_type": "execute_result"
    }
   ],
   "source": [
    "org_per_launch = df_data[['Organisation','Price']]\n",
    "\n",
    "# mean = org_per_launch.groupby('Organisation')['Price'].mean()\n",
    "\n",
    "org_per_launch['Price'] = org_per_launch.groupby('Organisation').transform(lambda x: x.fillna(x.mean()))\n",
    "\n",
    "org_per_launch.isna().values.sum() #was 4k to 400\n",
    "org_per_launch.dropna(inplace=True)\n",
    "org_per_launch\n"
   ]
  },
  {
   "cell_type": "code",
   "execution_count": 200,
   "metadata": {},
   "outputs": [
    {
     "data": {
      "text/html": [
       "<div>\n",
       "<style scoped>\n",
       "    .dataframe tbody tr th:only-of-type {\n",
       "        vertical-align: middle;\n",
       "    }\n",
       "\n",
       "    .dataframe tbody tr th {\n",
       "        vertical-align: top;\n",
       "    }\n",
       "\n",
       "    .dataframe thead th {\n",
       "        text-align: right;\n",
       "    }\n",
       "</style>\n",
       "<table border=\"1\" class=\"dataframe\">\n",
       "  <thead>\n",
       "    <tr style=\"text-align: right;\">\n",
       "      <th></th>\n",
       "      <th>Price</th>\n",
       "    </tr>\n",
       "    <tr>\n",
       "      <th>Organisation</th>\n",
       "      <th></th>\n",
       "    </tr>\n",
       "  </thead>\n",
       "  <tbody>\n",
       "    <tr>\n",
       "      <th>ABL SS</th>\n",
       "      <td>12.00</td>\n",
       "    </tr>\n",
       "    <tr>\n",
       "      <th>Arianespace</th>\n",
       "      <td>141.54</td>\n",
       "    </tr>\n",
       "    <tr>\n",
       "      <th>Astra</th>\n",
       "      <td>2.50</td>\n",
       "    </tr>\n",
       "    <tr>\n",
       "      <th>Boeing</th>\n",
       "      <td>177.29</td>\n",
       "    </tr>\n",
       "    <tr>\n",
       "      <th>CASC</th>\n",
       "      <td>39.96</td>\n",
       "    </tr>\n",
       "    <tr>\n",
       "      <th>CASIC</th>\n",
       "      <td>5.80</td>\n",
       "    </tr>\n",
       "    <tr>\n",
       "      <th>EER</th>\n",
       "      <td>20.00</td>\n",
       "    </tr>\n",
       "    <tr>\n",
       "      <th>ESA</th>\n",
       "      <td>37.00</td>\n",
       "    </tr>\n",
       "    <tr>\n",
       "      <th>Eurockot</th>\n",
       "      <td>13.00</td>\n",
       "    </tr>\n",
       "    <tr>\n",
       "      <th>ExPace</th>\n",
       "      <td>8.45</td>\n",
       "    </tr>\n",
       "    <tr>\n",
       "      <th>Firefly</th>\n",
       "      <td>15.00</td>\n",
       "    </tr>\n",
       "    <tr>\n",
       "      <th>GK LS</th>\n",
       "      <td>23.00</td>\n",
       "    </tr>\n",
       "    <tr>\n",
       "      <th>Galactic Energy</th>\n",
       "      <td>4.90</td>\n",
       "    </tr>\n",
       "    <tr>\n",
       "      <th>ILS</th>\n",
       "      <td>71.01</td>\n",
       "    </tr>\n",
       "    <tr>\n",
       "      <th>ISRO</th>\n",
       "      <td>33.30</td>\n",
       "    </tr>\n",
       "    <tr>\n",
       "      <th>JAXA</th>\n",
       "      <td>49.20</td>\n",
       "    </tr>\n",
       "    <tr>\n",
       "      <th>Kosmotras</th>\n",
       "      <td>29.00</td>\n",
       "    </tr>\n",
       "    <tr>\n",
       "      <th>Lockheed</th>\n",
       "      <td>35.00</td>\n",
       "    </tr>\n",
       "    <tr>\n",
       "      <th>MHI</th>\n",
       "      <td>94.06</td>\n",
       "    </tr>\n",
       "    <tr>\n",
       "      <th>Martin Marietta</th>\n",
       "      <td>80.16</td>\n",
       "    </tr>\n",
       "    <tr>\n",
       "      <th>NASA</th>\n",
       "      <td>453.11</td>\n",
       "    </tr>\n",
       "    <tr>\n",
       "      <th>Northrop</th>\n",
       "      <td>49.28</td>\n",
       "    </tr>\n",
       "    <tr>\n",
       "      <th>RVSN USSR</th>\n",
       "      <td>21.61</td>\n",
       "    </tr>\n",
       "    <tr>\n",
       "      <th>Relativity Space</th>\n",
       "      <td>12.00</td>\n",
       "    </tr>\n",
       "    <tr>\n",
       "      <th>Rocket Lab</th>\n",
       "      <td>7.50</td>\n",
       "    </tr>\n",
       "    <tr>\n",
       "      <th>Roscosmos</th>\n",
       "      <td>30.70</td>\n",
       "    </tr>\n",
       "    <tr>\n",
       "      <th>Sandia</th>\n",
       "      <td>15.00</td>\n",
       "    </tr>\n",
       "    <tr>\n",
       "      <th>SpaceX</th>\n",
       "      <td>64.68</td>\n",
       "    </tr>\n",
       "    <tr>\n",
       "      <th>Starsem</th>\n",
       "      <td>25.64</td>\n",
       "    </tr>\n",
       "    <tr>\n",
       "      <th>ULA</th>\n",
       "      <td>154.11</td>\n",
       "    </tr>\n",
       "    <tr>\n",
       "      <th>US Air Force</th>\n",
       "      <td>59.65</td>\n",
       "    </tr>\n",
       "    <tr>\n",
       "      <th>VKS RF</th>\n",
       "      <td>22.22</td>\n",
       "    </tr>\n",
       "    <tr>\n",
       "      <th>Virgin Orbit</th>\n",
       "      <td>12.00</td>\n",
       "    </tr>\n",
       "  </tbody>\n",
       "</table>\n",
       "</div>"
      ],
      "text/plain": [
       "                  Price\n",
       "Organisation           \n",
       "ABL SS            12.00\n",
       "Arianespace      141.54\n",
       "Astra              2.50\n",
       "Boeing           177.29\n",
       "CASC              39.96\n",
       "CASIC              5.80\n",
       "EER               20.00\n",
       "ESA               37.00\n",
       "Eurockot          13.00\n",
       "ExPace             8.45\n",
       "Firefly           15.00\n",
       "GK LS             23.00\n",
       "Galactic Energy    4.90\n",
       "ILS               71.01\n",
       "ISRO              33.30\n",
       "JAXA              49.20\n",
       "Kosmotras         29.00\n",
       "Lockheed          35.00\n",
       "MHI               94.06\n",
       "Martin Marietta   80.16\n",
       "NASA             453.11\n",
       "Northrop          49.28\n",
       "RVSN USSR         21.61\n",
       "Relativity Space  12.00\n",
       "Rocket Lab         7.50\n",
       "Roscosmos         30.70\n",
       "Sandia            15.00\n",
       "SpaceX            64.68\n",
       "Starsem           25.64\n",
       "ULA              154.11\n",
       "US Air Force      59.65\n",
       "VKS RF            22.22\n",
       "Virgin Orbit      12.00"
      ]
     },
     "execution_count": 200,
     "metadata": {},
     "output_type": "execute_result"
    }
   ],
   "source": [
    "org_per_launch=org_per_launch.groupby('Organisation').agg({'Price':pd.Series.mean})\n",
    "org_per_launch"
   ]
  },
  {
   "cell_type": "code",
   "execution_count": 201,
   "metadata": {
    "id": "VEkHzAk2pTvj"
   },
   "outputs": [
    {
     "data": {
      "text/html": [
       "<div>\n",
       "<style scoped>\n",
       "    .dataframe tbody tr th:only-of-type {\n",
       "        vertical-align: middle;\n",
       "    }\n",
       "\n",
       "    .dataframe tbody tr th {\n",
       "        vertical-align: top;\n",
       "    }\n",
       "\n",
       "    .dataframe thead th {\n",
       "        text-align: right;\n",
       "    }\n",
       "</style>\n",
       "<table border=\"1\" class=\"dataframe\">\n",
       "  <thead>\n",
       "    <tr style=\"text-align: right;\">\n",
       "      <th></th>\n",
       "      <th>Avg_Price_per_Launch</th>\n",
       "    </tr>\n",
       "    <tr>\n",
       "      <th>Organisation</th>\n",
       "      <th></th>\n",
       "    </tr>\n",
       "  </thead>\n",
       "  <tbody>\n",
       "    <tr>\n",
       "      <th>NASA</th>\n",
       "      <td>453.11</td>\n",
       "    </tr>\n",
       "    <tr>\n",
       "      <th>Boeing</th>\n",
       "      <td>177.29</td>\n",
       "    </tr>\n",
       "    <tr>\n",
       "      <th>ULA</th>\n",
       "      <td>154.11</td>\n",
       "    </tr>\n",
       "    <tr>\n",
       "      <th>Arianespace</th>\n",
       "      <td>141.54</td>\n",
       "    </tr>\n",
       "    <tr>\n",
       "      <th>MHI</th>\n",
       "      <td>94.06</td>\n",
       "    </tr>\n",
       "    <tr>\n",
       "      <th>Martin Marietta</th>\n",
       "      <td>80.16</td>\n",
       "    </tr>\n",
       "    <tr>\n",
       "      <th>ILS</th>\n",
       "      <td>71.01</td>\n",
       "    </tr>\n",
       "    <tr>\n",
       "      <th>SpaceX</th>\n",
       "      <td>64.68</td>\n",
       "    </tr>\n",
       "    <tr>\n",
       "      <th>US Air Force</th>\n",
       "      <td>59.65</td>\n",
       "    </tr>\n",
       "    <tr>\n",
       "      <th>Northrop</th>\n",
       "      <td>49.28</td>\n",
       "    </tr>\n",
       "    <tr>\n",
       "      <th>JAXA</th>\n",
       "      <td>49.20</td>\n",
       "    </tr>\n",
       "    <tr>\n",
       "      <th>CASC</th>\n",
       "      <td>39.96</td>\n",
       "    </tr>\n",
       "    <tr>\n",
       "      <th>ESA</th>\n",
       "      <td>37.00</td>\n",
       "    </tr>\n",
       "    <tr>\n",
       "      <th>Lockheed</th>\n",
       "      <td>35.00</td>\n",
       "    </tr>\n",
       "    <tr>\n",
       "      <th>ISRO</th>\n",
       "      <td>33.30</td>\n",
       "    </tr>\n",
       "    <tr>\n",
       "      <th>Roscosmos</th>\n",
       "      <td>30.70</td>\n",
       "    </tr>\n",
       "    <tr>\n",
       "      <th>Kosmotras</th>\n",
       "      <td>29.00</td>\n",
       "    </tr>\n",
       "    <tr>\n",
       "      <th>Starsem</th>\n",
       "      <td>25.64</td>\n",
       "    </tr>\n",
       "    <tr>\n",
       "      <th>GK LS</th>\n",
       "      <td>23.00</td>\n",
       "    </tr>\n",
       "    <tr>\n",
       "      <th>VKS RF</th>\n",
       "      <td>22.22</td>\n",
       "    </tr>\n",
       "    <tr>\n",
       "      <th>RVSN USSR</th>\n",
       "      <td>21.61</td>\n",
       "    </tr>\n",
       "    <tr>\n",
       "      <th>EER</th>\n",
       "      <td>20.00</td>\n",
       "    </tr>\n",
       "    <tr>\n",
       "      <th>Firefly</th>\n",
       "      <td>15.00</td>\n",
       "    </tr>\n",
       "    <tr>\n",
       "      <th>Sandia</th>\n",
       "      <td>15.00</td>\n",
       "    </tr>\n",
       "    <tr>\n",
       "      <th>Eurockot</th>\n",
       "      <td>13.00</td>\n",
       "    </tr>\n",
       "    <tr>\n",
       "      <th>ABL SS</th>\n",
       "      <td>12.00</td>\n",
       "    </tr>\n",
       "    <tr>\n",
       "      <th>Relativity Space</th>\n",
       "      <td>12.00</td>\n",
       "    </tr>\n",
       "    <tr>\n",
       "      <th>Virgin Orbit</th>\n",
       "      <td>12.00</td>\n",
       "    </tr>\n",
       "    <tr>\n",
       "      <th>ExPace</th>\n",
       "      <td>8.45</td>\n",
       "    </tr>\n",
       "    <tr>\n",
       "      <th>Rocket Lab</th>\n",
       "      <td>7.50</td>\n",
       "    </tr>\n",
       "    <tr>\n",
       "      <th>CASIC</th>\n",
       "      <td>5.80</td>\n",
       "    </tr>\n",
       "    <tr>\n",
       "      <th>Galactic Energy</th>\n",
       "      <td>4.90</td>\n",
       "    </tr>\n",
       "    <tr>\n",
       "      <th>Astra</th>\n",
       "      <td>2.50</td>\n",
       "    </tr>\n",
       "  </tbody>\n",
       "</table>\n",
       "</div>"
      ],
      "text/plain": [
       "                  Avg_Price_per_Launch\n",
       "Organisation                          \n",
       "NASA                            453.11\n",
       "Boeing                          177.29\n",
       "ULA                             154.11\n",
       "Arianespace                     141.54\n",
       "MHI                              94.06\n",
       "Martin Marietta                  80.16\n",
       "ILS                              71.01\n",
       "SpaceX                           64.68\n",
       "US Air Force                     59.65\n",
       "Northrop                         49.28\n",
       "JAXA                             49.20\n",
       "CASC                             39.96\n",
       "ESA                              37.00\n",
       "Lockheed                         35.00\n",
       "ISRO                             33.30\n",
       "Roscosmos                        30.70\n",
       "Kosmotras                        29.00\n",
       "Starsem                          25.64\n",
       "GK LS                            23.00\n",
       "VKS RF                           22.22\n",
       "RVSN USSR                        21.61\n",
       "EER                              20.00\n",
       "Firefly                          15.00\n",
       "Sandia                           15.00\n",
       "Eurockot                         13.00\n",
       "ABL SS                           12.00\n",
       "Relativity Space                 12.00\n",
       "Virgin Orbit                     12.00\n",
       "ExPace                            8.45\n",
       "Rocket Lab                        7.50\n",
       "CASIC                             5.80\n",
       "Galactic Energy                   4.90\n",
       "Astra                             2.50"
      ]
     },
     "execution_count": 201,
     "metadata": {},
     "output_type": "execute_result"
    }
   ],
   "source": [
    "org_per_launch.rename(inplace=True, columns={'Price': 'Avg_Price_per_Launch'})\n",
    "org_per_launch.sort_values('Avg_Price_per_Launch', ascending=False)"
   ]
  },
  {
   "cell_type": "markdown",
   "metadata": {
    "id": "yRa1BbPoa-qf",
    "papermill": {
     "duration": 0.042662,
     "end_time": "2020-10-20T21:34:09.943196",
     "exception": false,
     "start_time": "2020-10-20T21:34:09.900534",
     "status": "completed"
    },
    "tags": []
   },
   "source": [
    "#  Number of Launches per Year"
   ]
  },
  {
   "cell_type": "code",
   "execution_count": 8,
   "metadata": {
    "id": "_9FohVh3pcAJ"
   },
   "outputs": [],
   "source": [
    "df = df_data\n",
    "df['Country'] = df['Location'].str.split(',').apply(lambda c: c[-1])\n",
    "df['Datetime'] = pd.to_datetime(df['Datetime'])"
   ]
  },
  {
   "cell_type": "code",
   "execution_count": 9,
   "metadata": {
    "id": "b2pggcZBpb4x"
   },
   "outputs": [
    {
     "data": {
      "text/plain": [
       "0       2023\n",
       "1       2023\n",
       "2       2023\n",
       "3       2023\n",
       "4       2023\n",
       "        ... \n",
       "6505    1958\n",
       "6506    1958\n",
       "6507    1957\n",
       "6508    1957\n",
       "6509    1957\n",
       "Name: Year, Length: 6510, dtype: int64"
      ]
     },
     "execution_count": 9,
     "metadata": {},
     "output_type": "execute_result"
    }
   ],
   "source": [
    "df['Year'] = df['Datetime'].apply(lambda x: x.year)\n",
    "df['Year']"
   ]
  },
  {
   "cell_type": "code",
   "execution_count": 235,
   "metadata": {},
   "outputs": [
    {
     "data": {
      "text/html": [
       "<div>\n",
       "<style scoped>\n",
       "    .dataframe tbody tr th:only-of-type {\n",
       "        vertical-align: middle;\n",
       "    }\n",
       "\n",
       "    .dataframe tbody tr th {\n",
       "        vertical-align: top;\n",
       "    }\n",
       "\n",
       "    .dataframe thead th {\n",
       "        text-align: right;\n",
       "    }\n",
       "</style>\n",
       "<table border=\"1\" class=\"dataframe\">\n",
       "  <thead>\n",
       "    <tr style=\"text-align: right;\">\n",
       "      <th></th>\n",
       "      <th>Count</th>\n",
       "    </tr>\n",
       "    <tr>\n",
       "      <th>Year</th>\n",
       "      <th></th>\n",
       "    </tr>\n",
       "  </thead>\n",
       "  <tbody>\n",
       "    <tr>\n",
       "      <th>1957</th>\n",
       "      <td>3</td>\n",
       "    </tr>\n",
       "    <tr>\n",
       "      <th>1958</th>\n",
       "      <td>28</td>\n",
       "    </tr>\n",
       "    <tr>\n",
       "      <th>1959</th>\n",
       "      <td>24</td>\n",
       "    </tr>\n",
       "    <tr>\n",
       "      <th>1960</th>\n",
       "      <td>41</td>\n",
       "    </tr>\n",
       "    <tr>\n",
       "      <th>1961</th>\n",
       "      <td>56</td>\n",
       "    </tr>\n",
       "    <tr>\n",
       "      <th>...</th>\n",
       "      <td>...</td>\n",
       "    </tr>\n",
       "    <tr>\n",
       "      <th>2019</th>\n",
       "      <td>107</td>\n",
       "    </tr>\n",
       "    <tr>\n",
       "      <th>2020</th>\n",
       "      <td>118</td>\n",
       "    </tr>\n",
       "    <tr>\n",
       "      <th>2021</th>\n",
       "      <td>157</td>\n",
       "    </tr>\n",
       "    <tr>\n",
       "      <th>2022</th>\n",
       "      <td>191</td>\n",
       "    </tr>\n",
       "    <tr>\n",
       "      <th>2023</th>\n",
       "      <td>59</td>\n",
       "    </tr>\n",
       "  </tbody>\n",
       "</table>\n",
       "<p>67 rows × 1 columns</p>\n",
       "</div>"
      ],
      "text/plain": [
       "      Count\n",
       "Year       \n",
       "1957      3\n",
       "1958     28\n",
       "1959     24\n",
       "1960     41\n",
       "1961     56\n",
       "...     ...\n",
       "2019    107\n",
       "2020    118\n",
       "2021    157\n",
       "2022    191\n",
       "2023     59\n",
       "\n",
       "[67 rows x 1 columns]"
      ]
     },
     "execution_count": 235,
     "metadata": {},
     "output_type": "execute_result"
    }
   ],
   "source": [
    "launches_by_year = df.groupby('Year').agg({'Location': pd.Series.count})\n",
    "launches_by_year.rename(columns={'Location': 'Count'})"
   ]
  },
  {
   "cell_type": "code",
   "execution_count": 246,
   "metadata": {},
   "outputs": [
    {
     "data": {
      "image/png": "[encoded data removed]",
      "text/plain": [
       "<Figure size 1000x800 with 1 Axes>"
      ]
     },
     "metadata": {},
     "output_type": "display_data"
    }
   ],
   "source": [
    "fig = plt.figure(figsize=(10,8))\n",
    "\n",
    "plt.plot(launches_by_year.index, launches_by_year['Location'])\n",
    "plt.xlim(launches_by_year.index.min(),launches_by_year.index.max())\n",
    "         \n",
    "plt.xlabel('Year')\n",
    "plt.ylabel('# of Launches')\n",
    "plt.title('Launches per Year since 1957', fontsize=14)\n",
    "plt.show()"
   ]
  },
  {
   "cell_type": "code",
   "execution_count": 248,
   "metadata": {},
   "outputs": [
    {
     "data": {
      "image/png": "[encoded data removed]",
      "text/plain": [
       "<Figure size 1000x800 with 1 Axes>"
      ]
     },
     "metadata": {},
     "output_type": "display_data"
    }
   ],
   "source": [
    "#excluding unfinished year 2023\n",
    "fig = plt.figure(figsize=(10,8))\n",
    "\n",
    "plt.plot(launches_by_year.index[:-1], launches_by_year['Location'][:-1])\n",
    "plt.xlim(launches_by_year.index.min(),launches_by_year.index.max()-1)\n",
    "         \n",
    "plt.xlabel('Year', fontsize=12)\n",
    "plt.ylabel('# of Launches', fontsize=12)\n",
    "plt.title('Launches per Year since 1957', fontsize=14)\n",
    "plt.show()"
   ]
  },
  {
   "cell_type": "code",
   "execution_count": 25,
   "metadata": {
    "id": "H1N2aBs5tH9z"
   },
   "outputs": [],
   "source": [
    "#xticks locators\n",
    "import matplotlib.dates as mdates\n",
    "\n",
    "years = mdates.YearLocator()\n",
    "months = mdates.MonthLocator()\n",
    "years_fmt = mdates.DateFormatter('%Y')"
   ]
  },
  {
   "cell_type": "markdown",
   "metadata": {
    "id": "t-avMIZoa-qh",
    "papermill": {
     "duration": 0.044409,
     "end_time": "2020-10-20T21:34:10.162592",
     "exception": false,
     "start_time": "2020-10-20T21:34:10.118183",
     "status": "completed"
    },
    "tags": []
   },
   "source": [
    "# Launches per Month\n",
    "\n"
   ]
  },
  {
   "cell_type": "code",
   "execution_count": 273,
   "metadata": {
    "id": "zmtp5uBHppFG"
   },
   "outputs": [],
   "source": [
    "df['Month'] = df['Datetime'].apply(lambda x: x.month)\n",
    "# df['Month'] = df['Datetime'].apply(lambda x: x.strftime('%b'))"
   ]
  },
  {
   "cell_type": "code",
   "execution_count": 274,
   "metadata": {},
   "outputs": [
    {
     "data": {
      "text/plain": [
       "0      2023-04-01\n",
       "1      2023-04-01\n",
       "2      2023-04-01\n",
       "3      2023-04-01\n",
       "4      2023-04-01\n",
       "          ...    \n",
       "6505   1958-02-01\n",
       "6506   1958-02-01\n",
       "6507   1957-12-01\n",
       "6508   1957-11-01\n",
       "6509   1957-10-01\n",
       "Name: YM, Length: 6510, dtype: datetime64[ns]"
      ]
     },
     "execution_count": 274,
     "metadata": {},
     "output_type": "execute_result"
    }
   ],
   "source": [
    "df['YM'] = pd.to_datetime(df[['Year','Month']].assign(DAY=1))\n",
    "df['YM']"
   ]
  },
  {
   "cell_type": "code",
   "execution_count": null,
   "metadata": {},
   "outputs": [],
   "source": [
    "import calendar\n",
    "df['Month'] = df['Month'].apply(lambda x: calendar.month_abbr[x])"
   ]
  },
  {
   "cell_type": "code",
   "execution_count": 265,
   "metadata": {
    "id": "fnk2m_cpppJo"
   },
   "outputs": [
    {
     "data": {
      "text/plain": [
       "Year  Month\n",
       "2023  Mar      24\n",
       "2021  Dec      24\n",
       "2022  Oct      23\n",
       "1971  Dec      20\n",
       "2022  Nov      20\n",
       "               ..\n",
       "1958  Nov       1\n",
       "1957  Nov       1\n",
       "1959  Jan       1\n",
       "      Jul       1\n",
       "1957  Dec       1\n",
       "Length: 783, dtype: int64"
      ]
     },
     "execution_count": 265,
     "metadata": {},
     "output_type": "execute_result"
    }
   ],
   "source": [
    "df[['Year','Month']].value_counts()"
   ]
  },
  {
   "cell_type": "code",
   "execution_count": 269,
   "metadata": {},
   "outputs": [
    {
     "data": {
      "text/plain": [
       "Dec    683\n",
       "Oct    588\n",
       "Jun    583\n",
       "Sep    567\n",
       "Apr    565\n",
       "Aug    560\n",
       "Jul    533\n",
       "Nov    518\n",
       "Mar    517\n",
       "May    514\n",
       "Feb    487\n",
       "Jan    395\n",
       "Name: Month, dtype: int64"
      ]
     },
     "execution_count": 269,
     "metadata": {},
     "output_type": "execute_result"
    }
   ],
   "source": [
    "df['Month'].value_counts()"
   ]
  },
  {
   "cell_type": "code",
   "execution_count": 280,
   "metadata": {},
   "outputs": [
    {
     "data": {
      "text/html": [
       "<div>\n",
       "<style scoped>\n",
       "    .dataframe tbody tr th:only-of-type {\n",
       "        vertical-align: middle;\n",
       "    }\n",
       "\n",
       "    .dataframe tbody tr th {\n",
       "        vertical-align: top;\n",
       "    }\n",
       "\n",
       "    .dataframe thead th {\n",
       "        text-align: right;\n",
       "    }\n",
       "</style>\n",
       "<table border=\"1\" class=\"dataframe\">\n",
       "  <thead>\n",
       "    <tr style=\"text-align: right;\">\n",
       "      <th></th>\n",
       "      <th>Count</th>\n",
       "    </tr>\n",
       "    <tr>\n",
       "      <th>YM</th>\n",
       "      <th></th>\n",
       "    </tr>\n",
       "  </thead>\n",
       "  <tbody>\n",
       "    <tr>\n",
       "      <th>1957-10-01</th>\n",
       "      <td>1</td>\n",
       "    </tr>\n",
       "    <tr>\n",
       "      <th>1957-11-01</th>\n",
       "      <td>1</td>\n",
       "    </tr>\n",
       "    <tr>\n",
       "      <th>1957-12-01</th>\n",
       "      <td>1</td>\n",
       "    </tr>\n",
       "    <tr>\n",
       "      <th>1958-02-01</th>\n",
       "      <td>2</td>\n",
       "    </tr>\n",
       "    <tr>\n",
       "      <th>1958-03-01</th>\n",
       "      <td>3</td>\n",
       "    </tr>\n",
       "    <tr>\n",
       "      <th>...</th>\n",
       "      <td>...</td>\n",
       "    </tr>\n",
       "    <tr>\n",
       "      <th>2022-12-01</th>\n",
       "      <td>18</td>\n",
       "    </tr>\n",
       "    <tr>\n",
       "      <th>2023-01-01</th>\n",
       "      <td>16</td>\n",
       "    </tr>\n",
       "    <tr>\n",
       "      <th>2023-02-01</th>\n",
       "      <td>12</td>\n",
       "    </tr>\n",
       "    <tr>\n",
       "      <th>2023-03-01</th>\n",
       "      <td>24</td>\n",
       "    </tr>\n",
       "    <tr>\n",
       "      <th>2023-04-01</th>\n",
       "      <td>7</td>\n",
       "    </tr>\n",
       "  </tbody>\n",
       "</table>\n",
       "<p>783 rows × 1 columns</p>\n",
       "</div>"
      ],
      "text/plain": [
       "            Count\n",
       "YM               \n",
       "1957-10-01      1\n",
       "1957-11-01      1\n",
       "1957-12-01      1\n",
       "1958-02-01      2\n",
       "1958-03-01      3\n",
       "...           ...\n",
       "2022-12-01     18\n",
       "2023-01-01     16\n",
       "2023-02-01     12\n",
       "2023-03-01     24\n",
       "2023-04-01      7\n",
       "\n",
       "[783 rows x 1 columns]"
      ]
     },
     "execution_count": 280,
     "metadata": {},
     "output_type": "execute_result"
    }
   ],
   "source": [
    "by_month = df.groupby('YM').agg({'Month':pd.Series.count})\n",
    "by_month.rename(columns={'Month':'Count'}, inplace=True)\n",
    "by_month"
   ]
  },
  {
   "cell_type": "code",
   "execution_count": 287,
   "metadata": {},
   "outputs": [
    {
     "data": {
      "text/plain": [
       "Text(0.5, 1.0, 'Number of Launches per Month since 1957')"
      ]
     },
     "execution_count": 287,
     "metadata": {},
     "output_type": "execute_result"
    },
    {
     "data": {
      "image/png": "[encoded data removed]",
      "text/plain": [
       "<Figure size 640x480 with 1 Axes>"
      ]
     },
     "metadata": {},
     "output_type": "display_data"
    }
   ],
   "source": [
    "rolling_avg = by_month.rolling(window=6).mean()\n",
    "plt.plot(rolling_avg.index,\n",
    "        rolling_avg['Count'])\n",
    "\n",
    "plt.xlim([rolling_avg.index.min(), rolling_avg.index.max()])\n",
    "ax = plt.gca()\n",
    "ax.xaxis.set_minor_locator(years)\n",
    "plt.title('Number of Launches per Month since 1957')"
   ]
  },
  {
   "cell_type": "markdown",
   "metadata": {
    "id": "dPQ_N_sfa-qo",
    "papermill": {
     "duration": 0.067915,
     "end_time": "2020-10-20T21:34:11.122539",
     "exception": false,
     "start_time": "2020-10-20T21:34:11.054624",
     "status": "completed"
    },
    "tags": []
   },
   "source": [
    "# Launch Prices by years \n",
    "\n"
   ]
  },
  {
   "cell_type": "code",
   "execution_count": 15,
   "metadata": {
    "id": "hFc-2M5-qCrv"
   },
   "outputs": [
    {
     "name": "stderr",
     "output_type": "stream",
     "text": [
      "C:\\Users\\kaczo\\AppData\\Local\\Temp\\ipykernel_5876\\3626545266.py:2: SettingWithCopyWarning: \n",
      "A value is trying to be set on a copy of a slice from a DataFrame\n",
      "\n",
      "See the caveats in the documentation: https://pandas.pydata.org/pandas-docs/stable/user_guide/indexing.html#returning-a-view-versus-a-copy\n",
      "  price_per_year.dropna(inplace=True)\n"
     ]
    }
   ],
   "source": [
    "price_per_year = df[['Year','Price']]\n",
    "price_per_year.dropna(inplace=True)"
   ]
  },
  {
   "cell_type": "code",
   "execution_count": 22,
   "metadata": {
    "id": "ggYFiAsEqC6J"
   },
   "outputs": [
    {
     "data": {
      "text/html": [
       "<div>\n",
       "<style scoped>\n",
       "    .dataframe tbody tr th:only-of-type {\n",
       "        vertical-align: middle;\n",
       "    }\n",
       "\n",
       "    .dataframe tbody tr th {\n",
       "        vertical-align: top;\n",
       "    }\n",
       "\n",
       "    .dataframe thead th {\n",
       "        text-align: right;\n",
       "    }\n",
       "</style>\n",
       "<table border=\"1\" class=\"dataframe\">\n",
       "  <thead>\n",
       "    <tr style=\"text-align: right;\">\n",
       "      <th></th>\n",
       "      <th>Price</th>\n",
       "    </tr>\n",
       "    <tr>\n",
       "      <th>Year</th>\n",
       "      <th></th>\n",
       "    </tr>\n",
       "  </thead>\n",
       "  <tbody>\n",
       "    <tr>\n",
       "      <th>1964</th>\n",
       "      <td>63.23</td>\n",
       "    </tr>\n",
       "    <tr>\n",
       "      <th>1965</th>\n",
       "      <td>63.23</td>\n",
       "    </tr>\n",
       "    <tr>\n",
       "      <th>1966</th>\n",
       "      <td>59.00</td>\n",
       "    </tr>\n",
       "    <tr>\n",
       "      <th>1967</th>\n",
       "      <td>59.00</td>\n",
       "    </tr>\n",
       "    <tr>\n",
       "      <th>1968</th>\n",
       "      <td>59.00</td>\n",
       "    </tr>\n",
       "  </tbody>\n",
       "</table>\n",
       "</div>"
      ],
      "text/plain": [
       "      Price\n",
       "Year       \n",
       "1964  63.23\n",
       "1965  63.23\n",
       "1966  59.00\n",
       "1967  59.00\n",
       "1968  59.00"
      ]
     },
     "execution_count": 22,
     "metadata": {},
     "output_type": "execute_result"
    }
   ],
   "source": [
    "price_per_year = price_per_year.groupby('Year').mean()\n",
    "price_per_year.head()"
   ]
  },
  {
   "cell_type": "code",
   "execution_count": 97,
   "metadata": {},
   "outputs": [
    {
     "data": {
      "image/png": "[encoded data removed]",
      "text/plain": [
       "<Figure size 640x480 with 1 Axes>"
      ]
     },
     "metadata": {},
     "output_type": "display_data"
    }
   ],
   "source": [
    "plt.plot(price_per_year.index, price_per_year['Price'])\n",
    "plt.xlim([price_per_year.index.min(), price_per_year.index.max()])\n",
    "ax = plt.gca()\n",
    "plt.ylabel('Avg Price')\n",
    "plt.xlabel('Year')\n",
    "plt.title('Launch Price Over Time')\n",
    "ax.xaxis.set_minor_locator(years)\n",
    "plt.show()"
   ]
  },
  {
   "cell_type": "markdown",
   "metadata": {
    "id": "8OYrWyiOa-qs",
    "papermill": {
     "duration": 0.047152,
     "end_time": "2020-10-20T21:34:11.681371",
     "exception": false,
     "start_time": "2020-10-20T21:34:11.634219",
     "status": "completed"
    },
    "tags": []
   },
   "source": [
    "# Top 10 Organisations: Number of Launches per year \n",
    "\n"
   ]
  },
  {
   "cell_type": "code",
   "execution_count": 75,
   "metadata": {
    "id": "RcsrPPpAqVFj"
   },
   "outputs": [
    {
     "data": {
      "text/html": [
       "<div>\n",
       "<style scoped>\n",
       "    .dataframe tbody tr th:only-of-type {\n",
       "        vertical-align: middle;\n",
       "    }\n",
       "\n",
       "    .dataframe tbody tr th {\n",
       "        vertical-align: top;\n",
       "    }\n",
       "\n",
       "    .dataframe thead th {\n",
       "        text-align: right;\n",
       "    }\n",
       "</style>\n",
       "<table border=\"1\" class=\"dataframe\">\n",
       "  <thead>\n",
       "    <tr style=\"text-align: right;\">\n",
       "      <th></th>\n",
       "      <th>Organisation</th>\n",
       "      <th>Location</th>\n",
       "    </tr>\n",
       "  </thead>\n",
       "  <tbody>\n",
       "    <tr>\n",
       "      <th>44</th>\n",
       "      <td>RVSN USSR</td>\n",
       "      <td>2476</td>\n",
       "    </tr>\n",
       "    <tr>\n",
       "      <th>56</th>\n",
       "      <td>US Air Force</td>\n",
       "      <td>549</td>\n",
       "    </tr>\n",
       "    <tr>\n",
       "      <th>10</th>\n",
       "      <td>CASC</td>\n",
       "      <td>484</td>\n",
       "    </tr>\n",
       "    <tr>\n",
       "      <th>47</th>\n",
       "      <td>Roscosmos</td>\n",
       "      <td>355</td>\n",
       "    </tr>\n",
       "    <tr>\n",
       "      <th>59</th>\n",
       "      <td>VKS RF</td>\n",
       "      <td>336</td>\n",
       "    </tr>\n",
       "    <tr>\n",
       "      <th>4</th>\n",
       "      <td>Arianespace</td>\n",
       "      <td>295</td>\n",
       "    </tr>\n",
       "    <tr>\n",
       "      <th>22</th>\n",
       "      <td>General Dynamics</td>\n",
       "      <td>251</td>\n",
       "    </tr>\n",
       "    <tr>\n",
       "      <th>53</th>\n",
       "      <td>SpaceX</td>\n",
       "      <td>233</td>\n",
       "    </tr>\n",
       "    <tr>\n",
       "      <th>39</th>\n",
       "      <td>NASA</td>\n",
       "      <td>222</td>\n",
       "    </tr>\n",
       "    <tr>\n",
       "      <th>55</th>\n",
       "      <td>ULA</td>\n",
       "      <td>155</td>\n",
       "    </tr>\n",
       "  </tbody>\n",
       "</table>\n",
       "</div>"
      ],
      "text/plain": [
       "        Organisation  Location\n",
       "44         RVSN USSR      2476\n",
       "56      US Air Force       549\n",
       "10              CASC       484\n",
       "47         Roscosmos       355\n",
       "59            VKS RF       336\n",
       "4        Arianespace       295\n",
       "22  General Dynamics       251\n",
       "53            SpaceX       233\n",
       "39              NASA       222\n",
       "55               ULA       155"
      ]
     },
     "execution_count": 75,
     "metadata": {},
     "output_type": "execute_result"
    }
   ],
   "source": [
    "top10_org = df.groupby(['Organisation'], as_index=False).count().sort_values('Location',ascending=False)[['Organisation','Location']][:10]\n",
    "# top10_org.reset_index(inplace=True)\n",
    "# top10_org = top10_org[['Organisation','Location']].rename(columns={'Location':'Count'})\n",
    "top10_org"
   ]
  },
  {
   "cell_type": "code",
   "execution_count": 79,
   "metadata": {
    "id": "1IgfafiyqWEe"
   },
   "outputs": [
    {
     "data": {
      "text/html": [
       "<div>\n",
       "<style scoped>\n",
       "    .dataframe tbody tr th:only-of-type {\n",
       "        vertical-align: middle;\n",
       "    }\n",
       "\n",
       "    .dataframe tbody tr th {\n",
       "        vertical-align: top;\n",
       "    }\n",
       "\n",
       "    .dataframe thead th {\n",
       "        text-align: right;\n",
       "    }\n",
       "</style>\n",
       "<table border=\"1\" class=\"dataframe\">\n",
       "  <thead>\n",
       "    <tr style=\"text-align: right;\">\n",
       "      <th></th>\n",
       "      <th>Organisation</th>\n",
       "      <th>Year</th>\n",
       "      <th>Location</th>\n",
       "    </tr>\n",
       "  </thead>\n",
       "  <tbody>\n",
       "    <tr>\n",
       "      <th>0</th>\n",
       "      <td>ABL SS</td>\n",
       "      <td>2023</td>\n",
       "      <td>1</td>\n",
       "    </tr>\n",
       "    <tr>\n",
       "      <th>1</th>\n",
       "      <td>ABMA</td>\n",
       "      <td>1958</td>\n",
       "      <td>7</td>\n",
       "    </tr>\n",
       "    <tr>\n",
       "      <th>2</th>\n",
       "      <td>ABMA</td>\n",
       "      <td>1959</td>\n",
       "      <td>4</td>\n",
       "    </tr>\n",
       "    <tr>\n",
       "      <th>3</th>\n",
       "      <td>ABMA</td>\n",
       "      <td>1960</td>\n",
       "      <td>2</td>\n",
       "    </tr>\n",
       "    <tr>\n",
       "      <th>4</th>\n",
       "      <td>ABMA</td>\n",
       "      <td>1961</td>\n",
       "      <td>3</td>\n",
       "    </tr>\n",
       "    <tr>\n",
       "      <th>...</th>\n",
       "      <td>...</td>\n",
       "      <td>...</td>\n",
       "      <td>...</td>\n",
       "    </tr>\n",
       "    <tr>\n",
       "      <th>783</th>\n",
       "      <td>Virgin Orbit</td>\n",
       "      <td>2023</td>\n",
       "      <td>1</td>\n",
       "    </tr>\n",
       "    <tr>\n",
       "      <th>784</th>\n",
       "      <td>i-Space</td>\n",
       "      <td>2019</td>\n",
       "      <td>1</td>\n",
       "    </tr>\n",
       "    <tr>\n",
       "      <th>785</th>\n",
       "      <td>i-Space</td>\n",
       "      <td>2021</td>\n",
       "      <td>2</td>\n",
       "    </tr>\n",
       "    <tr>\n",
       "      <th>786</th>\n",
       "      <td>i-Space</td>\n",
       "      <td>2022</td>\n",
       "      <td>1</td>\n",
       "    </tr>\n",
       "    <tr>\n",
       "      <th>787</th>\n",
       "      <td>i-Space</td>\n",
       "      <td>2023</td>\n",
       "      <td>1</td>\n",
       "    </tr>\n",
       "  </tbody>\n",
       "</table>\n",
       "<p>788 rows × 3 columns</p>\n",
       "</div>"
      ],
      "text/plain": [
       "     Organisation  Year  Location\n",
       "0          ABL SS  2023         1\n",
       "1            ABMA  1958         7\n",
       "2            ABMA  1959         4\n",
       "3            ABMA  1960         2\n",
       "4            ABMA  1961         3\n",
       "..            ...   ...       ...\n",
       "783  Virgin Orbit  2023         1\n",
       "784       i-Space  2019         1\n",
       "785       i-Space  2021         2\n",
       "786       i-Space  2022         1\n",
       "787       i-Space  2023         1\n",
       "\n",
       "[788 rows x 3 columns]"
      ]
     },
     "execution_count": 79,
     "metadata": {},
     "output_type": "execute_result"
    }
   ],
   "source": [
    "org_by_year = df[['Organisation', 'Year','Location']].groupby(['Organisation','Year'],as_index=False).count()\n",
    "org_by_year "
   ]
  },
  {
   "cell_type": "code",
   "execution_count": 88,
   "metadata": {
    "id": "akCDKT8CqVjG"
   },
   "outputs": [
    {
     "data": {
      "text/html": [
       "<div>\n",
       "<style scoped>\n",
       "    .dataframe tbody tr th:only-of-type {\n",
       "        vertical-align: middle;\n",
       "    }\n",
       "\n",
       "    .dataframe tbody tr th {\n",
       "        vertical-align: top;\n",
       "    }\n",
       "\n",
       "    .dataframe thead th {\n",
       "        text-align: right;\n",
       "    }\n",
       "</style>\n",
       "<table border=\"1\" class=\"dataframe\">\n",
       "  <thead>\n",
       "    <tr style=\"text-align: right;\">\n",
       "      <th></th>\n",
       "      <th>Organisation</th>\n",
       "      <th>Total</th>\n",
       "      <th>Year</th>\n",
       "      <th>per_year</th>\n",
       "    </tr>\n",
       "  </thead>\n",
       "  <tbody>\n",
       "    <tr>\n",
       "      <th>0</th>\n",
       "      <td>RVSN USSR</td>\n",
       "      <td>2476</td>\n",
       "      <td>1957</td>\n",
       "      <td>2</td>\n",
       "    </tr>\n",
       "    <tr>\n",
       "      <th>1</th>\n",
       "      <td>RVSN USSR</td>\n",
       "      <td>2476</td>\n",
       "      <td>1958</td>\n",
       "      <td>5</td>\n",
       "    </tr>\n",
       "    <tr>\n",
       "      <th>2</th>\n",
       "      <td>RVSN USSR</td>\n",
       "      <td>2476</td>\n",
       "      <td>1959</td>\n",
       "      <td>4</td>\n",
       "    </tr>\n",
       "    <tr>\n",
       "      <th>3</th>\n",
       "      <td>RVSN USSR</td>\n",
       "      <td>2476</td>\n",
       "      <td>1960</td>\n",
       "      <td>9</td>\n",
       "    </tr>\n",
       "    <tr>\n",
       "      <th>4</th>\n",
       "      <td>RVSN USSR</td>\n",
       "      <td>2476</td>\n",
       "      <td>1961</td>\n",
       "      <td>9</td>\n",
       "    </tr>\n",
       "    <tr>\n",
       "      <th>...</th>\n",
       "      <td>...</td>\n",
       "      <td>...</td>\n",
       "      <td>...</td>\n",
       "      <td>...</td>\n",
       "    </tr>\n",
       "    <tr>\n",
       "      <th>342</th>\n",
       "      <td>ULA</td>\n",
       "      <td>155</td>\n",
       "      <td>2018</td>\n",
       "      <td>8</td>\n",
       "    </tr>\n",
       "    <tr>\n",
       "      <th>343</th>\n",
       "      <td>ULA</td>\n",
       "      <td>155</td>\n",
       "      <td>2019</td>\n",
       "      <td>5</td>\n",
       "    </tr>\n",
       "    <tr>\n",
       "      <th>344</th>\n",
       "      <td>ULA</td>\n",
       "      <td>155</td>\n",
       "      <td>2020</td>\n",
       "      <td>6</td>\n",
       "    </tr>\n",
       "    <tr>\n",
       "      <th>345</th>\n",
       "      <td>ULA</td>\n",
       "      <td>155</td>\n",
       "      <td>2021</td>\n",
       "      <td>5</td>\n",
       "    </tr>\n",
       "    <tr>\n",
       "      <th>346</th>\n",
       "      <td>ULA</td>\n",
       "      <td>155</td>\n",
       "      <td>2022</td>\n",
       "      <td>8</td>\n",
       "    </tr>\n",
       "  </tbody>\n",
       "</table>\n",
       "<p>347 rows × 4 columns</p>\n",
       "</div>"
      ],
      "text/plain": [
       "    Organisation  Total  Year  per_year\n",
       "0      RVSN USSR   2476  1957         2\n",
       "1      RVSN USSR   2476  1958         5\n",
       "2      RVSN USSR   2476  1959         4\n",
       "3      RVSN USSR   2476  1960         9\n",
       "4      RVSN USSR   2476  1961         9\n",
       "..           ...    ...   ...       ...\n",
       "342          ULA    155  2018         8\n",
       "343          ULA    155  2019         5\n",
       "344          ULA    155  2020         6\n",
       "345          ULA    155  2021         5\n",
       "346          ULA    155  2022         8\n",
       "\n",
       "[347 rows x 4 columns]"
      ]
     },
     "execution_count": 88,
     "metadata": {},
     "output_type": "execute_result"
    }
   ],
   "source": [
    "merged_df = pd.merge(top10_org, org_by_year, on='Organisation')\n",
    "merged_df.rename(columns={'Location_x':'Total','Location_y':'per_year'}, inplace=True)\n",
    "merged_df"
   ]
  },
  {
   "cell_type": "code",
   "execution_count": 93,
   "metadata": {},
   "outputs": [
    {
     "data": {
      "application/vnd.plotly.v1+json": {
       "config": {
        "plotlyServerURL": "https://plot.ly"
       },
       "data": [
        {
         "hovertemplate": "Organisation=RVSN USSR<br>Year=%{x}<br>per_year=%{y}<extra></extra>",
         "legendgroup": "RVSN USSR",
         "line": {
          "color": "#636efa",
          "dash": "solid"
         },
         "marker": {
          "symbol": "circle"
         },
         "mode": "lines",
         "name": "RVSN USSR",
         "orientation": "v",
         "showlegend": true,
         "type": "scatter",
         "x": [
          1957,
          1958,
          1959,
          1960,
          1961,
          1962,
          1963,
          1964,
          1965,
          1966,
          1967,
          1968,
          1969,
          1970,
          1971,
          1972,
          1973,
          1974,
          1975,
          1976,
          1977,
          1978,
          1979,
          1980,
          1981,
          1982,
          1983,
          1984,
          1985,
          1986,
          1987,
          1988,
          1989,
          1990,
          1991
         ],
         "xaxis": "x",
         "y": [
          2,
          5,
          4,
          9,
          9,
          22,
          24,
          36,
          54,
          54,
          74,
          81,
          84,
          89,
          92,
          80,
          91,
          86,
          93,
          100,
          102,
          91,
          89,
          90,
          100,
          108,
          101,
          99,
          101,
          95,
          99,
          95,
          75,
          80,
          62
         ],
         "yaxis": "y"
        },
        {
         "hovertemplate": "Organisation=US Air Force<br>Year=%{x}<br>per_year=%{y}<extra></extra>",
         "legendgroup": "US Air Force",
         "line": {
          "color": "#EF553B",
          "dash": "solid"
         },
         "marker": {
          "symbol": "circle"
         },
         "mode": "lines",
         "name": "US Air Force",
         "orientation": "v",
         "showlegend": true,
         "type": "scatter",
         "x": [
          1958,
          1959,
          1960,
          1961,
          1962,
          1963,
          1964,
          1965,
          1966,
          1967,
          1968,
          1969,
          1970,
          1971,
          1972,
          1973,
          1974,
          1975,
          1976,
          1977,
          1978,
          1979,
          1980,
          1981,
          1982,
          1983,
          1984,
          1985,
          1986,
          1987,
          1988,
          1990,
          1991,
          1992,
          1993,
          1994
         ],
         "xaxis": "x",
         "y": [
          2,
          10,
          21,
          23,
          41,
          35,
          39,
          37,
          34,
          42,
          33,
          30,
          22,
          19,
          18,
          11,
          15,
          17,
          15,
          14,
          12,
          6,
          4,
          7,
          8,
          10,
          6,
          2,
          3,
          3,
          4,
          1,
          1,
          2,
          1,
          1
         ],
         "yaxis": "y"
        },
        {
         "hovertemplate": "Organisation=CASC<br>Year=%{x}<br>per_year=%{y}<extra></extra>",
         "legendgroup": "CASC",
         "line": {
          "color": "#00cc96",
          "dash": "solid"
         },
         "marker": {
          "symbol": "circle"
         },
         "mode": "lines",
         "name": "CASC",
         "orientation": "v",
         "showlegend": true,
         "type": "scatter",
         "x": [
          1970,
          1971,
          1972,
          1973,
          1974,
          1975,
          1976,
          1977,
          1978,
          1979,
          1981,
          1982,
          1983,
          1984,
          1985,
          1986,
          1987,
          1988,
          1990,
          1991,
          1992,
          1993,
          1994,
          1995,
          1996,
          1997,
          1998,
          1999,
          2000,
          2001,
          2002,
          2003,
          2004,
          2005,
          2006,
          2007,
          2008,
          2009,
          2010,
          2011,
          2012,
          2013,
          2014,
          2015,
          2016,
          2017,
          2018,
          2019,
          2020,
          2021,
          2022,
          2023
         ],
         "xaxis": "x",
         "y": [
          1,
          1,
          1,
          1,
          2,
          3,
          3,
          1,
          2,
          1,
          1,
          1,
          1,
          3,
          1,
          2,
          2,
          4,
          5,
          1,
          4,
          1,
          5,
          3,
          4,
          6,
          6,
          4,
          5,
          1,
          4,
          6,
          8,
          5,
          6,
          10,
          11,
          6,
          15,
          19,
          19,
          14,
          15,
          19,
          22,
          16,
          37,
          27,
          34,
          48,
          54,
          13
         ],
         "yaxis": "y"
        },
        {
         "hovertemplate": "Organisation=Roscosmos<br>Year=%{x}<br>per_year=%{y}<extra></extra>",
         "legendgroup": "Roscosmos",
         "line": {
          "color": "#ab63fa",
          "dash": "solid"
         },
         "marker": {
          "symbol": "circle"
         },
         "mode": "lines",
         "name": "Roscosmos",
         "orientation": "v",
         "showlegend": true,
         "type": "scatter",
         "x": [
          1992,
          1993,
          1994,
          1995,
          1996,
          1997,
          1998,
          1999,
          2000,
          2001,
          2002,
          2003,
          2004,
          2005,
          2006,
          2007,
          2008,
          2009,
          2010,
          2011,
          2012,
          2013,
          2014,
          2015,
          2016,
          2017,
          2018,
          2019,
          2020,
          2021,
          2022,
          2023
         ],
         "xaxis": "x",
         "y": [
          15,
          13,
          21,
          14,
          12,
          11,
          9,
          7,
          13,
          10,
          8,
          8,
          9,
          9,
          7,
          10,
          10,
          13,
          13,
          16,
          12,
          12,
          16,
          14,
          10,
          11,
          13,
          13,
          5,
          10,
          8,
          3
         ],
         "yaxis": "y"
        },
        {
         "hovertemplate": "Organisation=VKS RF<br>Year=%{x}<br>per_year=%{y}<extra></extra>",
         "legendgroup": "VKS RF",
         "line": {
          "color": "#FFA15A",
          "dash": "solid"
         },
         "marker": {
          "symbol": "circle"
         },
         "mode": "lines",
         "name": "VKS RF",
         "orientation": "v",
         "showlegend": true,
         "type": "scatter",
         "x": [
          1992,
          1993,
          1994,
          1995,
          1996,
          1997,
          1998,
          1999,
          2000,
          2001,
          2002,
          2003,
          2004,
          2005,
          2006,
          2007,
          2008,
          2009,
          2010,
          2011,
          2012,
          2013,
          2014,
          2015,
          2016,
          2017,
          2018,
          2019,
          2020,
          2021,
          2022,
          2023
         ],
         "xaxis": "x",
         "y": [
          40,
          34,
          28,
          18,
          14,
          12,
          12,
          9,
          10,
          10,
          9,
          8,
          9,
          7,
          7,
          6,
          7,
          6,
          5,
          7,
          3,
          9,
          12,
          7,
          4,
          4,
          3,
          8,
          7,
          5,
          13,
          3
         ],
         "yaxis": "y"
        },
        {
         "hovertemplate": "Organisation=Arianespace<br>Year=%{x}<br>per_year=%{y}<extra></extra>",
         "legendgroup": "Arianespace",
         "line": {
          "color": "#19d3f3",
          "dash": "solid"
         },
         "marker": {
          "symbol": "circle"
         },
         "mode": "lines",
         "name": "Arianespace",
         "orientation": "v",
         "showlegend": true,
         "type": "scatter",
         "x": [
          1984,
          1985,
          1986,
          1987,
          1988,
          1989,
          1990,
          1991,
          1992,
          1993,
          1994,
          1995,
          1996,
          1997,
          1998,
          1999,
          2000,
          2001,
          2002,
          2003,
          2004,
          2005,
          2006,
          2007,
          2008,
          2009,
          2010,
          2011,
          2012,
          2013,
          2014,
          2015,
          2016,
          2017,
          2018,
          2019,
          2020,
          2021,
          2022,
          2023
         ],
         "xaxis": "x",
         "y": [
          3,
          4,
          3,
          2,
          6,
          7,
          6,
          8,
          7,
          7,
          8,
          11,
          10,
          11,
          10,
          10,
          12,
          8,
          12,
          4,
          3,
          5,
          5,
          6,
          6,
          7,
          6,
          7,
          9,
          7,
          11,
          12,
          11,
          11,
          11,
          9,
          7,
          7,
          5,
          1
         ],
         "yaxis": "y"
        },
        {
         "hovertemplate": "Organisation=General Dynamics<br>Year=%{x}<br>per_year=%{y}<extra></extra>",
         "legendgroup": "General Dynamics",
         "line": {
          "color": "#FF6692",
          "dash": "solid"
         },
         "marker": {
          "symbol": "circle"
         },
         "mode": "lines",
         "name": "General Dynamics",
         "orientation": "v",
         "showlegend": true,
         "type": "scatter",
         "x": [
          1959,
          1960,
          1961,
          1962,
          1963,
          1964,
          1965,
          1966,
          1967,
          1968,
          1969,
          1970,
          1971,
          1972,
          1973,
          1974,
          1975,
          1976,
          1977,
          1978,
          1979,
          1980,
          1981,
          1982,
          1983,
          1984,
          1985,
          1986,
          1987,
          1988,
          1989,
          1990,
          1991,
          1992,
          1993,
          1994,
          1995
         ],
         "xaxis": "x",
         "y": [
          1,
          5,
          8,
          14,
          9,
          18,
          19,
          33,
          14,
          8,
          5,
          3,
          6,
          6,
          4,
          2,
          5,
          4,
          7,
          14,
          4,
          8,
          6,
          3,
          6,
          5,
          5,
          3,
          3,
          2,
          1,
          2,
          4,
          5,
          6,
          2,
          1
         ],
         "yaxis": "y"
        },
        {
         "hovertemplate": "Organisation=SpaceX<br>Year=%{x}<br>per_year=%{y}<extra></extra>",
         "legendgroup": "SpaceX",
         "line": {
          "color": "#B6E880",
          "dash": "solid"
         },
         "marker": {
          "symbol": "circle"
         },
         "mode": "lines",
         "name": "SpaceX",
         "orientation": "v",
         "showlegend": true,
         "type": "scatter",
         "x": [
          2006,
          2007,
          2008,
          2009,
          2010,
          2012,
          2013,
          2014,
          2015,
          2016,
          2017,
          2018,
          2019,
          2020,
          2021,
          2022,
          2023
         ],
         "xaxis": "x",
         "y": [
          1,
          1,
          2,
          1,
          2,
          2,
          3,
          6,
          7,
          9,
          18,
          21,
          13,
          27,
          35,
          61,
          24
         ],
         "yaxis": "y"
        },
        {
         "hovertemplate": "Organisation=NASA<br>Year=%{x}<br>per_year=%{y}<extra></extra>",
         "legendgroup": "NASA",
         "line": {
          "color": "#FF97FF",
          "dash": "solid"
         },
         "marker": {
          "symbol": "circle"
         },
         "mode": "lines",
         "name": "NASA",
         "orientation": "v",
         "showlegend": true,
         "type": "scatter",
         "x": [
          1958,
          1959,
          1960,
          1961,
          1962,
          1963,
          1964,
          1965,
          1966,
          1967,
          1968,
          1969,
          1970,
          1971,
          1972,
          1973,
          1974,
          1975,
          1979,
          1981,
          1982,
          1983,
          1984,
          1985,
          1986,
          1988,
          1989,
          1990,
          1991,
          1992,
          1993,
          1994,
          1995,
          1996,
          1997,
          1998,
          1999,
          2000,
          2001,
          2002,
          2003,
          2005,
          2006,
          2007,
          2008,
          2009,
          2010,
          2011,
          2022
         ],
         "xaxis": "x",
         "y": [
          2,
          1,
          4,
          13,
          7,
          3,
          7,
          12,
          9,
          1,
          5,
          4,
          2,
          4,
          3,
          4,
          1,
          1,
          2,
          2,
          3,
          4,
          5,
          9,
          2,
          2,
          5,
          6,
          6,
          8,
          7,
          7,
          7,
          7,
          8,
          5,
          3,
          5,
          6,
          5,
          1,
          1,
          3,
          3,
          4,
          6,
          3,
          3,
          1
         ],
         "yaxis": "y"
        },
        {
         "hovertemplate": "Organisation=ULA<br>Year=%{x}<br>per_year=%{y}<extra></extra>",
         "legendgroup": "ULA",
         "line": {
          "color": "#FECB52",
          "dash": "solid"
         },
         "marker": {
          "symbol": "circle"
         },
         "mode": "lines",
         "name": "ULA",
         "orientation": "v",
         "showlegend": true,
         "type": "scatter",
         "x": [
          2006,
          2007,
          2008,
          2009,
          2010,
          2011,
          2012,
          2013,
          2014,
          2015,
          2016,
          2017,
          2018,
          2019,
          2020,
          2021,
          2022
         ],
         "xaxis": "x",
         "y": [
          1,
          13,
          7,
          16,
          8,
          11,
          10,
          11,
          14,
          12,
          12,
          8,
          8,
          5,
          6,
          5,
          8
         ],
         "yaxis": "y"
        }
       ],
       "layout": {
        "legend": {
         "title": {
          "text": "Organisation"
         },
         "tracegroupgap": 0
        },
        "template": {
         "data": {
          "bar": [
           {
            "error_x": {
             "color": "#2a3f5f"
            },
            "error_y": {
             "color": "#2a3f5f"
            },
            "marker": {
             "line": {
              "color": "#E5ECF6",
              "width": 0.5
             },
             "pattern": {
              "fillmode": "overlay",
              "size": 10,
              "solidity": 0.2
             }
            },
            "type": "bar"
           }
          ],
          "barpolar": [
           {
            "marker": {
             "line": {
              "color": "#E5ECF6",
              "width": 0.5
             },
             "pattern": {
              "fillmode": "overlay",
              "size": 10,
              "solidity": 0.2
             }
            },
            "type": "barpolar"
           }
          ],
          "carpet": [
           {
            "aaxis": {
             "endlinecolor": "#2a3f5f",
             "gridcolor": "white",
             "linecolor": "white",
             "minorgridcolor": "white",
             "startlinecolor": "#2a3f5f"
            },
            "baxis": {
             "endlinecolor": "#2a3f5f",
             "gridcolor": "white",
             "linecolor": "white",
             "minorgridcolor": "white",
             "startlinecolor": "#2a3f5f"
            },
            "type": "carpet"
           }
          ],
          "choropleth": [
           {
            "colorbar": {
             "outlinewidth": 0,
             "ticks": ""
            },
            "type": "choropleth"
           }
          ],
          "contour": [
           {
            "colorbar": {
             "outlinewidth": 0,
             "ticks": ""
            },
            "colorscale": [
             [
              0,
              "#0d0887"
             ],
             [
              0.1111111111111111,
              "#46039f"
             ],
             [
              0.2222222222222222,
              "#7201a8"
             ],
             [
              0.3333333333333333,
              "#9c179e"
             ],
             [
              0.4444444444444444,
              "#bd3786"
             ],
             [
              0.5555555555555556,
              "#d8576b"
             ],
             [
              0.6666666666666666,
              "#ed7953"
             ],
             [
              0.7777777777777778,
              "#fb9f3a"
             ],
             [
              0.8888888888888888,
              "#fdca26"
             ],
             [
              1,
              "#f0f921"
             ]
            ],
            "type": "contour"
           }
          ],
          "contourcarpet": [
           {
            "colorbar": {
             "outlinewidth": 0,
             "ticks": ""
            },
            "type": "contourcarpet"
           }
          ],
          "heatmap": [
           {
            "colorbar": {
             "outlinewidth": 0,
             "ticks": ""
            },
            "colorscale": [
             [
              0,
              "#0d0887"
             ],
             [
              0.1111111111111111,
              "#46039f"
             ],
             [
              0.2222222222222222,
              "#7201a8"
             ],
             [
              0.3333333333333333,
              "#9c179e"
             ],
             [
              0.4444444444444444,
              "#bd3786"
             ],
             [
              0.5555555555555556,
              "#d8576b"
             ],
             [
              0.6666666666666666,
              "#ed7953"
             ],
             [
              0.7777777777777778,
              "#fb9f3a"
             ],
             [
              0.8888888888888888,
              "#fdca26"
             ],
             [
              1,
              "#f0f921"
             ]
            ],
            "type": "heatmap"
           }
          ],
          "heatmapgl": [
           {
            "colorbar": {
             "outlinewidth": 0,
             "ticks": ""
            },
            "colorscale": [
             [
              0,
              "#0d0887"
             ],
             [
              0.1111111111111111,
              "#46039f"
             ],
             [
              0.2222222222222222,
              "#7201a8"
             ],
             [
              0.3333333333333333,
              "#9c179e"
             ],
             [
              0.4444444444444444,
              "#bd3786"
             ],
             [
              0.5555555555555556,
              "#d8576b"
             ],
             [
              0.6666666666666666,
              "#ed7953"
             ],
             [
              0.7777777777777778,
              "#fb9f3a"
             ],
             [
              0.8888888888888888,
              "#fdca26"
             ],
             [
              1,
              "#f0f921"
             ]
            ],
            "type": "heatmapgl"
           }
          ],
          "histogram": [
           {
            "marker": {
             "pattern": {
              "fillmode": "overlay",
              "size": 10,
              "solidity": 0.2
             }
            },
            "type": "histogram"
           }
          ],
          "histogram2d": [
           {
            "colorbar": {
             "outlinewidth": 0,
             "ticks": ""
            },
            "colorscale": [
             [
              0,
              "#0d0887"
             ],
             [
              0.1111111111111111,
              "#46039f"
             ],
             [
              0.2222222222222222,
              "#7201a8"
             ],
             [
              0.3333333333333333,
              "#9c179e"
             ],
             [
              0.4444444444444444,
              "#bd3786"
             ],
             [
              0.5555555555555556,
              "#d8576b"
             ],
             [
              0.6666666666666666,
              "#ed7953"
             ],
             [
              0.7777777777777778,
              "#fb9f3a"
             ],
             [
              0.8888888888888888,
              "#fdca26"
             ],
             [
              1,
              "#f0f921"
             ]
            ],
            "type": "histogram2d"
           }
          ],
          "histogram2dcontour": [
           {
            "colorbar": {
             "outlinewidth": 0,
             "ticks": ""
            },
            "colorscale": [
             [
              0,
              "#0d0887"
             ],
             [
              0.1111111111111111,
              "#46039f"
             ],
             [
              0.2222222222222222,
              "#7201a8"
             ],
             [
              0.3333333333333333,
              "#9c179e"
             ],
             [
              0.4444444444444444,
              "#bd3786"
             ],
             [
              0.5555555555555556,
              "#d8576b"
             ],
             [
              0.6666666666666666,
              "#ed7953"
             ],
             [
              0.7777777777777778,
              "#fb9f3a"
             ],
             [
              0.8888888888888888,
              "#fdca26"
             ],
             [
              1,
              "#f0f921"
             ]
            ],
            "type": "histogram2dcontour"
           }
          ],
          "mesh3d": [
           {
            "colorbar": {
             "outlinewidth": 0,
             "ticks": ""
            },
            "type": "mesh3d"
           }
          ],
          "parcoords": [
           {
            "line": {
             "colorbar": {
              "outlinewidth": 0,
              "ticks": ""
             }
            },
            "type": "parcoords"
           }
          ],
          "pie": [
           {
            "automargin": true,
            "type": "pie"
           }
          ],
          "scatter": [
           {
            "fillpattern": {
             "fillmode": "overlay",
             "size": 10,
             "solidity": 0.2
            },
            "type": "scatter"
           }
          ],
          "scatter3d": [
           {
            "line": {
             "colorbar": {
              "outlinewidth": 0,
              "ticks": ""
             }
            },
            "marker": {
             "colorbar": {
              "outlinewidth": 0,
              "ticks": ""
             }
            },
            "type": "scatter3d"
           }
          ],
          "scattercarpet": [
           {
            "marker": {
             "colorbar": {
              "outlinewidth": 0,
              "ticks": ""
             }
            },
            "type": "scattercarpet"
           }
          ],
          "scattergeo": [
           {
            "marker": {
             "colorbar": {
              "outlinewidth": 0,
              "ticks": ""
             }
            },
            "type": "scattergeo"
           }
          ],
          "scattergl": [
           {
            "marker": {
             "colorbar": {
              "outlinewidth": 0,
              "ticks": ""
             }
            },
            "type": "scattergl"
           }
          ],
          "scattermapbox": [
           {
            "marker": {
             "colorbar": {
              "outlinewidth": 0,
              "ticks": ""
             }
            },
            "type": "scattermapbox"
           }
          ],
          "scatterpolar": [
           {
            "marker": {
             "colorbar": {
              "outlinewidth": 0,
              "ticks": ""
             }
            },
            "type": "scatterpolar"
           }
          ],
          "scatterpolargl": [
           {
            "marker": {
             "colorbar": {
              "outlinewidth": 0,
              "ticks": ""
             }
            },
            "type": "scatterpolargl"
           }
          ],
          "scatterternary": [
           {
            "marker": {
             "colorbar": {
              "outlinewidth": 0,
              "ticks": ""
             }
            },
            "type": "scatterternary"
           }
          ],
          "surface": [
           {
            "colorbar": {
             "outlinewidth": 0,
             "ticks": ""
            },
            "colorscale": [
             [
              0,
              "#0d0887"
             ],
             [
              0.1111111111111111,
              "#46039f"
             ],
             [
              0.2222222222222222,
              "#7201a8"
             ],
             [
              0.3333333333333333,
              "#9c179e"
             ],
             [
              0.4444444444444444,
              "#bd3786"
             ],
             [
              0.5555555555555556,
              "#d8576b"
             ],
             [
              0.6666666666666666,
              "#ed7953"
             ],
             [
              0.7777777777777778,
              "#fb9f3a"
             ],
             [
              0.8888888888888888,
              "#fdca26"
             ],
             [
              1,
              "#f0f921"
             ]
            ],
            "type": "surface"
           }
          ],
          "table": [
           {
            "cells": {
             "fill": {
              "color": "#EBF0F8"
             },
             "line": {
              "color": "white"
             }
            },
            "header": {
             "fill": {
              "color": "#C8D4E3"
             },
             "line": {
              "color": "white"
             }
            },
            "type": "table"
           }
          ]
         },
         "layout": {
          "annotationdefaults": {
           "arrowcolor": "#2a3f5f",
           "arrowhead": 0,
           "arrowwidth": 1
          },
          "autotypenumbers": "strict",
          "coloraxis": {
           "colorbar": {
            "outlinewidth": 0,
            "ticks": ""
           }
          },
          "colorscale": {
           "diverging": [
            [
             0,
             "#8e0152"
            ],
            [
             0.1,
             "#c51b7d"
            ],
            [
             0.2,
             "#de77ae"
            ],
            [
             0.3,
             "#f1b6da"
            ],
            [
             0.4,
             "#fde0ef"
            ],
            [
             0.5,
             "#f7f7f7"
            ],
            [
             0.6,
             "#e6f5d0"
            ],
            [
             0.7,
             "#b8e186"
            ],
            [
             0.8,
             "#7fbc41"
            ],
            [
             0.9,
             "#4d9221"
            ],
            [
             1,
             "#276419"
            ]
           ],
           "sequential": [
            [
             0,
             "#0d0887"
            ],
            [
             0.1111111111111111,
             "#46039f"
            ],
            [
             0.2222222222222222,
             "#7201a8"
            ],
            [
             0.3333333333333333,
             "#9c179e"
            ],
            [
             0.4444444444444444,
             "#bd3786"
            ],
            [
             0.5555555555555556,
             "#d8576b"
            ],
            [
             0.6666666666666666,
             "#ed7953"
            ],
            [
             0.7777777777777778,
             "#fb9f3a"
            ],
            [
             0.8888888888888888,
             "#fdca26"
            ],
            [
             1,
             "#f0f921"
            ]
           ],
           "sequentialminus": [
            [
             0,
             "#0d0887"
            ],
            [
             0.1111111111111111,
             "#46039f"
            ],
            [
             0.2222222222222222,
             "#7201a8"
            ],
            [
             0.3333333333333333,
             "#9c179e"
            ],
            [
             0.4444444444444444,
             "#bd3786"
            ],
            [
             0.5555555555555556,
             "#d8576b"
            ],
            [
             0.6666666666666666,
             "#ed7953"
            ],
            [
             0.7777777777777778,
             "#fb9f3a"
            ],
            [
             0.8888888888888888,
             "#fdca26"
            ],
            [
             1,
             "#f0f921"
            ]
           ]
          },
          "colorway": [
           "#636efa",
           "#EF553B",
           "#00cc96",
           "#ab63fa",
           "#FFA15A",
           "#19d3f3",
           "#FF6692",
           "#B6E880",
           "#FF97FF",
           "#FECB52"
          ],
          "font": {
           "color": "#2a3f5f"
          },
          "geo": {
           "bgcolor": "white",
           "lakecolor": "white",
           "landcolor": "#E5ECF6",
           "showlakes": true,
           "showland": true,
           "subunitcolor": "white"
          },
          "hoverlabel": {
           "align": "left"
          },
          "hovermode": "closest",
          "mapbox": {
           "style": "light"
          },
          "paper_bgcolor": "white",
          "plot_bgcolor": "#E5ECF6",
          "polar": {
           "angularaxis": {
            "gridcolor": "white",
            "linecolor": "white",
            "ticks": ""
           },
           "bgcolor": "#E5ECF6",
           "radialaxis": {
            "gridcolor": "white",
            "linecolor": "white",
            "ticks": ""
           }
          },
          "scene": {
           "xaxis": {
            "backgroundcolor": "#E5ECF6",
            "gridcolor": "white",
            "gridwidth": 2,
            "linecolor": "white",
            "showbackground": true,
            "ticks": "",
            "zerolinecolor": "white"
           },
           "yaxis": {
            "backgroundcolor": "#E5ECF6",
            "gridcolor": "white",
            "gridwidth": 2,
            "linecolor": "white",
            "showbackground": true,
            "ticks": "",
            "zerolinecolor": "white"
           },
           "zaxis": {
            "backgroundcolor": "#E5ECF6",
            "gridcolor": "white",
            "gridwidth": 2,
            "linecolor": "white",
            "showbackground": true,
            "ticks": "",
            "zerolinecolor": "white"
           }
          },
          "shapedefaults": {
           "line": {
            "color": "#2a3f5f"
           }
          },
          "ternary": {
           "aaxis": {
            "gridcolor": "white",
            "linecolor": "white",
            "ticks": ""
           },
           "baxis": {
            "gridcolor": "white",
            "linecolor": "white",
            "ticks": ""
           },
           "bgcolor": "#E5ECF6",
           "caxis": {
            "gridcolor": "white",
            "linecolor": "white",
            "ticks": ""
           }
          },
          "title": {
           "x": 0.05
          },
          "xaxis": {
           "automargin": true,
           "gridcolor": "white",
           "linecolor": "white",
           "ticks": "",
           "title": {
            "standoff": 15
           },
           "zerolinecolor": "white",
           "zerolinewidth": 2
          },
          "yaxis": {
           "automargin": true,
           "gridcolor": "white",
           "linecolor": "white",
           "ticks": "",
           "title": {
            "standoff": 15
           },
           "zerolinecolor": "white",
           "zerolinewidth": 2
          }
         }
        },
        "title": {
         "text": "Number of Launches over Time by the Top 10 Organisations"
        },
        "xaxis": {
         "anchor": "y",
         "domain": [
          0,
          1
         ],
         "title": {
          "text": "Year"
         }
        },
        "yaxis": {
         "anchor": "x",
         "domain": [
          0,
          1
         ],
         "title": {
          "text": "# of Launches"
         }
        }
       }
      },
      "text/html": [
       "<div>                            <div id=\"54699d3f-5815-4e31-8040-5c70cc388e90\" class=\"plotly-graph-div\" style=\"height:525px; width:100%;\"></div>            <script type=\"text/javascript\">                require([\"plotly\"], function(Plotly) {                    window.PLOTLYENV=window.PLOTLYENV || {};                                    if (document.getElementById(\"54699d3f-5815-4e31-8040-5c70cc388e90\")) {                    Plotly.newPlot(                        \"54699d3f-5815-4e31-8040-5c70cc388e90\",                        [{\"hovertemplate\":\"Organisation=RVSN USSR<br>Year=%{x}<br>per_year=%{y}<extra></extra>\",\"legendgroup\":\"RVSN USSR\",\"line\":{\"color\":\"#636efa\",\"dash\":\"solid\"},\"marker\":{\"symbol\":\"circle\"},\"mode\":\"lines\",\"name\":\"RVSN USSR\",\"orientation\":\"v\",\"showlegend\":true,\"x\":[1957,1958,1959,1960,1961,1962,1963,1964,1965,1966,1967,1968,1969,1970,1971,1972,1973,1974,1975,1976,1977,1978,1979,1980,1981,1982,1983,1984,1985,1986,1987,1988,1989,1990,1991],\"xaxis\":\"x\",\"y\":[2,5,4,9,9,22,24,36,54,54,74,81,84,89,92,80,91,86,93,100,102,91,89,90,100,108,101,99,101,95,99,95,75,80,62],\"yaxis\":\"y\",\"type\":\"scatter\"},{\"hovertemplate\":\"Organisation=US Air Force<br>Year=%{x}<br>per_year=%{y}<extra></extra>\",\"legendgroup\":\"US Air Force\",\"line\":{\"color\":\"#EF553B\",\"dash\":\"solid\"},\"marker\":{\"symbol\":\"circle\"},\"mode\":\"lines\",\"name\":\"US Air Force\",\"orientation\":\"v\",\"showlegend\":true,\"x\":[1958,1959,1960,1961,1962,1963,1964,1965,1966,1967,1968,1969,1970,1971,1972,1973,1974,1975,1976,1977,1978,1979,1980,1981,1982,1983,1984,1985,1986,1987,1988,1990,1991,1992,1993,1994],\"xaxis\":\"x\",\"y\":[2,10,21,23,41,35,39,37,34,42,33,30,22,19,18,11,15,17,15,14,12,6,4,7,8,10,6,2,3,3,4,1,1,2,1,1],\"yaxis\":\"y\",\"type\":\"scatter\"},{\"hovertemplate\":\"Organisation=CASC<br>Year=%{x}<br>per_year=%{y}<extra></extra>\",\"legendgroup\":\"CASC\",\"line\":{\"color\":\"#00cc96\",\"dash\":\"solid\"},\"marker\":{\"symbol\":\"circle\"},\"mode\":\"lines\",\"name\":\"CASC\",\"orientation\":\"v\",\"showlegend\":true,\"x\":[1970,1971,1972,1973,1974,1975,1976,1977,1978,1979,1981,1982,1983,1984,1985,1986,1987,1988,1990,1991,1992,1993,1994,1995,1996,1997,1998,1999,2000,2001,2002,2003,2004,2005,2006,2007,2008,2009,2010,2011,2012,2013,2014,2015,2016,2017,2018,2019,2020,2021,2022,2023],\"xaxis\":\"x\",\"y\":[1,1,1,1,2,3,3,1,2,1,1,1,1,3,1,2,2,4,5,1,4,1,5,3,4,6,6,4,5,1,4,6,8,5,6,10,11,6,15,19,19,14,15,19,22,16,37,27,34,48,54,13],\"yaxis\":\"y\",\"type\":\"scatter\"},{\"hovertemplate\":\"Organisation=Roscosmos<br>Year=%{x}<br>per_year=%{y}<extra></extra>\",\"legendgroup\":\"Roscosmos\",\"line\":{\"color\":\"#ab63fa\",\"dash\":\"solid\"},\"marker\":{\"symbol\":\"circle\"},\"mode\":\"lines\",\"name\":\"Roscosmos\",\"orientation\":\"v\",\"showlegend\":true,\"x\":[1992,1993,1994,1995,1996,1997,1998,1999,2000,2001,2002,2003,2004,2005,2006,2007,2008,2009,2010,2011,2012,2013,2014,2015,2016,2017,2018,2019,2020,2021,2022,2023],\"xaxis\":\"x\",\"y\":[15,13,21,14,12,11,9,7,13,10,8,8,9,9,7,10,10,13,13,16,12,12,16,14,10,11,13,13,5,10,8,3],\"yaxis\":\"y\",\"type\":\"scatter\"},{\"hovertemplate\":\"Organisation=VKS RF<br>Year=%{x}<br>per_year=%{y}<extra></extra>\",\"legendgroup\":\"VKS RF\",\"line\":{\"color\":\"#FFA15A\",\"dash\":\"solid\"},\"marker\":{\"symbol\":\"circle\"},\"mode\":\"lines\",\"name\":\"VKS RF\",\"orientation\":\"v\",\"showlegend\":true,\"x\":[1992,1993,1994,1995,1996,1997,1998,1999,2000,2001,2002,2003,2004,2005,2006,2007,2008,2009,2010,2011,2012,2013,2014,2015,2016,2017,2018,2019,2020,2021,2022,2023],\"xaxis\":\"x\",\"y\":[40,34,28,18,14,12,12,9,10,10,9,8,9,7,7,6,7,6,5,7,3,9,12,7,4,4,3,8,7,5,13,3],\"yaxis\":\"y\",\"type\":\"scatter\"},{\"hovertemplate\":\"Organisation=Arianespace<br>Year=%{x}<br>per_year=%{y}<extra></extra>\",\"legendgroup\":\"Arianespace\",\"line\":{\"color\":\"#19d3f3\",\"dash\":\"solid\"},\"marker\":{\"symbol\":\"circle\"},\"mode\":\"lines\",\"name\":\"Arianespace\",\"orientation\":\"v\",\"showlegend\":true,\"x\":[1984,1985,1986,1987,1988,1989,1990,1991,1992,1993,1994,1995,1996,1997,1998,1999,2000,2001,2002,2003,2004,2005,2006,2007,2008,2009,2010,2011,2012,2013,2014,2015,2016,2017,2018,2019,2020,2021,2022,2023],\"xaxis\":\"x\",\"y\":[3,4,3,2,6,7,6,8,7,7,8,11,10,11,10,10,12,8,12,4,3,5,5,6,6,7,6,7,9,7,11,12,11,11,11,9,7,7,5,1],\"yaxis\":\"y\",\"type\":\"scatter\"},{\"hovertemplate\":\"Organisation=General Dynamics<br>Year=%{x}<br>per_year=%{y}<extra></extra>\",\"legendgroup\":\"General Dynamics\",\"line\":{\"color\":\"#FF6692\",\"dash\":\"solid\"},\"marker\":{\"symbol\":\"circle\"},\"mode\":\"lines\",\"name\":\"General Dynamics\",\"orientation\":\"v\",\"showlegend\":true,\"x\":[1959,1960,1961,1962,1963,1964,1965,1966,1967,1968,1969,1970,1971,1972,1973,1974,1975,1976,1977,1978,1979,1980,1981,1982,1983,1984,1985,1986,1987,1988,1989,1990,1991,1992,1993,1994,1995],\"xaxis\":\"x\",\"y\":[1,5,8,14,9,18,19,33,14,8,5,3,6,6,4,2,5,4,7,14,4,8,6,3,6,5,5,3,3,2,1,2,4,5,6,2,1],\"yaxis\":\"y\",\"type\":\"scatter\"},{\"hovertemplate\":\"Organisation=SpaceX<br>Year=%{x}<br>per_year=%{y}<extra></extra>\",\"legendgroup\":\"SpaceX\",\"line\":{\"color\":\"#B6E880\",\"dash\":\"solid\"},\"marker\":{\"symbol\":\"circle\"},\"mode\":\"lines\",\"name\":\"SpaceX\",\"orientation\":\"v\",\"showlegend\":true,\"x\":[2006,2007,2008,2009,2010,2012,2013,2014,2015,2016,2017,2018,2019,2020,2021,2022,2023],\"xaxis\":\"x\",\"y\":[1,1,2,1,2,2,3,6,7,9,18,21,13,27,35,61,24],\"yaxis\":\"y\",\"type\":\"scatter\"},{\"hovertemplate\":\"Organisation=NASA<br>Year=%{x}<br>per_year=%{y}<extra></extra>\",\"legendgroup\":\"NASA\",\"line\":{\"color\":\"#FF97FF\",\"dash\":\"solid\"},\"marker\":{\"symbol\":\"circle\"},\"mode\":\"lines\",\"name\":\"NASA\",\"orientation\":\"v\",\"showlegend\":true,\"x\":[1958,1959,1960,1961,1962,1963,1964,1965,1966,1967,1968,1969,1970,1971,1972,1973,1974,1975,1979,1981,1982,1983,1984,1985,1986,1988,1989,1990,1991,1992,1993,1994,1995,1996,1997,1998,1999,2000,2001,2002,2003,2005,2006,2007,2008,2009,2010,2011,2022],\"xaxis\":\"x\",\"y\":[2,1,4,13,7,3,7,12,9,1,5,4,2,4,3,4,1,1,2,2,3,4,5,9,2,2,5,6,6,8,7,7,7,7,8,5,3,5,6,5,1,1,3,3,4,6,3,3,1],\"yaxis\":\"y\",\"type\":\"scatter\"},{\"hovertemplate\":\"Organisation=ULA<br>Year=%{x}<br>per_year=%{y}<extra></extra>\",\"legendgroup\":\"ULA\",\"line\":{\"color\":\"#FECB52\",\"dash\":\"solid\"},\"marker\":{\"symbol\":\"circle\"},\"mode\":\"lines\",\"name\":\"ULA\",\"orientation\":\"v\",\"showlegend\":true,\"x\":[2006,2007,2008,2009,2010,2011,2012,2013,2014,2015,2016,2017,2018,2019,2020,2021,2022],\"xaxis\":\"x\",\"y\":[1,13,7,16,8,11,10,11,14,12,12,8,8,5,6,5,8],\"yaxis\":\"y\",\"type\":\"scatter\"}],                        {\"template\":{\"data\":{\"histogram2dcontour\":[{\"type\":\"histogram2dcontour\",\"colorbar\":{\"outlinewidth\":0,\"ticks\":\"\"},\"colorscale\":[[0.0,\"#0d0887\"],[0.1111111111111111,\"#46039f\"],[0.2222222222222222,\"#7201a8\"],[0.3333333333333333,\"#9c179e\"],[0.4444444444444444,\"#bd3786\"],[0.5555555555555556,\"#d8576b\"],[0.6666666666666666,\"#ed7953\"],[0.7777777777777778,\"#fb9f3a\"],[0.8888888888888888,\"#fdca26\"],[1.0,\"#f0f921\"]]}],\"choropleth\":[{\"type\":\"choropleth\",\"colorbar\":{\"outlinewidth\":0,\"ticks\":\"\"}}],\"histogram2d\":[{\"type\":\"histogram2d\",\"colorbar\":{\"outlinewidth\":0,\"ticks\":\"\"},\"colorscale\":[[0.0,\"#0d0887\"],[0.1111111111111111,\"#46039f\"],[0.2222222222222222,\"#7201a8\"],[0.3333333333333333,\"#9c179e\"],[0.4444444444444444,\"#bd3786\"],[0.5555555555555556,\"#d8576b\"],[0.6666666666666666,\"#ed7953\"],[0.7777777777777778,\"#fb9f3a\"],[0.8888888888888888,\"#fdca26\"],[1.0,\"#f0f921\"]]}],\"heatmap\":[{\"type\":\"heatmap\",\"colorbar\":{\"outlinewidth\":0,\"ticks\":\"\"},\"colorscale\":[[0.0,\"#0d0887\"],[0.1111111111111111,\"#46039f\"],[0.2222222222222222,\"#7201a8\"],[0.3333333333333333,\"#9c179e\"],[0.4444444444444444,\"#bd3786\"],[0.5555555555555556,\"#d8576b\"],[0.6666666666666666,\"#ed7953\"],[0.7777777777777778,\"#fb9f3a\"],[0.8888888888888888,\"#fdca26\"],[1.0,\"#f0f921\"]]}],\"heatmapgl\":[{\"type\":\"heatmapgl\",\"colorbar\":{\"outlinewidth\":0,\"ticks\":\"\"},\"colorscale\":[[0.0,\"#0d0887\"],[0.1111111111111111,\"#46039f\"],[0.2222222222222222,\"#7201a8\"],[0.3333333333333333,\"#9c179e\"],[0.4444444444444444,\"#bd3786\"],[0.5555555555555556,\"#d8576b\"],[0.6666666666666666,\"#ed7953\"],[0.7777777777777778,\"#fb9f3a\"],[0.8888888888888888,\"#fdca26\"],[1.0,\"#f0f921\"]]}],\"contourcarpet\":[{\"type\":\"contourcarpet\",\"colorbar\":{\"outlinewidth\":0,\"ticks\":\"\"}}],\"contour\":[{\"type\":\"contour\",\"colorbar\":{\"outlinewidth\":0,\"ticks\":\"\"},\"colorscale\":[[0.0,\"#0d0887\"],[0.1111111111111111,\"#46039f\"],[0.2222222222222222,\"#7201a8\"],[0.3333333333333333,\"#9c179e\"],[0.4444444444444444,\"#bd3786\"],[0.5555555555555556,\"#d8576b\"],[0.6666666666666666,\"#ed7953\"],[0.7777777777777778,\"#fb9f3a\"],[0.8888888888888888,\"#fdca26\"],[1.0,\"#f0f921\"]]}],\"surface\":[{\"type\":\"surface\",\"colorbar\":{\"outlinewidth\":0,\"ticks\":\"\"},\"colorscale\":[[0.0,\"#0d0887\"],[0.1111111111111111,\"#46039f\"],[0.2222222222222222,\"#7201a8\"],[0.3333333333333333,\"#9c179e\"],[0.4444444444444444,\"#bd3786\"],[0.5555555555555556,\"#d8576b\"],[0.6666666666666666,\"#ed7953\"],[0.7777777777777778,\"#fb9f3a\"],[0.8888888888888888,\"#fdca26\"],[1.0,\"#f0f921\"]]}],\"mesh3d\":[{\"type\":\"mesh3d\",\"colorbar\":{\"outlinewidth\":0,\"ticks\":\"\"}}],\"scatter\":[{\"fillpattern\":{\"fillmode\":\"overlay\",\"size\":10,\"solidity\":0.2},\"type\":\"scatter\"}],\"parcoords\":[{\"type\":\"parcoords\",\"line\":{\"colorbar\":{\"outlinewidth\":0,\"ticks\":\"\"}}}],\"scatterpolargl\":[{\"type\":\"scatterpolargl\",\"marker\":{\"colorbar\":{\"outlinewidth\":0,\"ticks\":\"\"}}}],\"bar\":[{\"error_x\":{\"color\":\"#2a3f5f\"},\"error_y\":{\"color\":\"#2a3f5f\"},\"marker\":{\"line\":{\"color\":\"#E5ECF6\",\"width\":0.5},\"pattern\":{\"fillmode\":\"overlay\",\"size\":10,\"solidity\":0.2}},\"type\":\"bar\"}],\"scattergeo\":[{\"type\":\"scattergeo\",\"marker\":{\"colorbar\":{\"outlinewidth\":0,\"ticks\":\"\"}}}],\"scatterpolar\":[{\"type\":\"scatterpolar\",\"marker\":{\"colorbar\":{\"outlinewidth\":0,\"ticks\":\"\"}}}],\"histogram\":[{\"marker\":{\"pattern\":{\"fillmode\":\"overlay\",\"size\":10,\"solidity\":0.2}},\"type\":\"histogram\"}],\"scattergl\":[{\"type\":\"scattergl\",\"marker\":{\"colorbar\":{\"outlinewidth\":0,\"ticks\":\"\"}}}],\"scatter3d\":[{\"type\":\"scatter3d\",\"line\":{\"colorbar\":{\"outlinewidth\":0,\"ticks\":\"\"}},\"marker\":{\"colorbar\":{\"outlinewidth\":0,\"ticks\":\"\"}}}],\"scattermapbox\":[{\"type\":\"scattermapbox\",\"marker\":{\"colorbar\":{\"outlinewidth\":0,\"ticks\":\"\"}}}],\"scatterternary\":[{\"type\":\"scatterternary\",\"marker\":{\"colorbar\":{\"outlinewidth\":0,\"ticks\":\"\"}}}],\"scattercarpet\":[{\"type\":\"scattercarpet\",\"marker\":{\"colorbar\":{\"outlinewidth\":0,\"ticks\":\"\"}}}],\"carpet\":[{\"aaxis\":{\"endlinecolor\":\"#2a3f5f\",\"gridcolor\":\"white\",\"linecolor\":\"white\",\"minorgridcolor\":\"white\",\"startlinecolor\":\"#2a3f5f\"},\"baxis\":{\"endlinecolor\":\"#2a3f5f\",\"gridcolor\":\"white\",\"linecolor\":\"white\",\"minorgridcolor\":\"white\",\"startlinecolor\":\"#2a3f5f\"},\"type\":\"carpet\"}],\"table\":[{\"cells\":{\"fill\":{\"color\":\"#EBF0F8\"},\"line\":{\"color\":\"white\"}},\"header\":{\"fill\":{\"color\":\"#C8D4E3\"},\"line\":{\"color\":\"white\"}},\"type\":\"table\"}],\"barpolar\":[{\"marker\":{\"line\":{\"color\":\"#E5ECF6\",\"width\":0.5},\"pattern\":{\"fillmode\":\"overlay\",\"size\":10,\"solidity\":0.2}},\"type\":\"barpolar\"}],\"pie\":[{\"automargin\":true,\"type\":\"pie\"}]},\"layout\":{\"autotypenumbers\":\"strict\",\"colorway\":[\"#636efa\",\"#EF553B\",\"#00cc96\",\"#ab63fa\",\"#FFA15A\",\"#19d3f3\",\"#FF6692\",\"#B6E880\",\"#FF97FF\",\"#FECB52\"],\"font\":{\"color\":\"#2a3f5f\"},\"hovermode\":\"closest\",\"hoverlabel\":{\"align\":\"left\"},\"paper_bgcolor\":\"white\",\"plot_bgcolor\":\"#E5ECF6\",\"polar\":{\"bgcolor\":\"#E5ECF6\",\"angularaxis\":{\"gridcolor\":\"white\",\"linecolor\":\"white\",\"ticks\":\"\"},\"radialaxis\":{\"gridcolor\":\"white\",\"linecolor\":\"white\",\"ticks\":\"\"}},\"ternary\":{\"bgcolor\":\"#E5ECF6\",\"aaxis\":{\"gridcolor\":\"white\",\"linecolor\":\"white\",\"ticks\":\"\"},\"baxis\":{\"gridcolor\":\"white\",\"linecolor\":\"white\",\"ticks\":\"\"},\"caxis\":{\"gridcolor\":\"white\",\"linecolor\":\"white\",\"ticks\":\"\"}},\"coloraxis\":{\"colorbar\":{\"outlinewidth\":0,\"ticks\":\"\"}},\"colorscale\":{\"sequential\":[[0.0,\"#0d0887\"],[0.1111111111111111,\"#46039f\"],[0.2222222222222222,\"#7201a8\"],[0.3333333333333333,\"#9c179e\"],[0.4444444444444444,\"#bd3786\"],[0.5555555555555556,\"#d8576b\"],[0.6666666666666666,\"#ed7953\"],[0.7777777777777778,\"#fb9f3a\"],[0.8888888888888888,\"#fdca26\"],[1.0,\"#f0f921\"]],\"sequentialminus\":[[0.0,\"#0d0887\"],[0.1111111111111111,\"#46039f\"],[0.2222222222222222,\"#7201a8\"],[0.3333333333333333,\"#9c179e\"],[0.4444444444444444,\"#bd3786\"],[0.5555555555555556,\"#d8576b\"],[0.6666666666666666,\"#ed7953\"],[0.7777777777777778,\"#fb9f3a\"],[0.8888888888888888,\"#fdca26\"],[1.0,\"#f0f921\"]],\"diverging\":[[0,\"#8e0152\"],[0.1,\"#c51b7d\"],[0.2,\"#de77ae\"],[0.3,\"#f1b6da\"],[0.4,\"#fde0ef\"],[0.5,\"#f7f7f7\"],[0.6,\"#e6f5d0\"],[0.7,\"#b8e186\"],[0.8,\"#7fbc41\"],[0.9,\"#4d9221\"],[1,\"#276419\"]]},\"xaxis\":{\"gridcolor\":\"white\",\"linecolor\":\"white\",\"ticks\":\"\",\"title\":{\"standoff\":15},\"zerolinecolor\":\"white\",\"automargin\":true,\"zerolinewidth\":2},\"yaxis\":{\"gridcolor\":\"white\",\"linecolor\":\"white\",\"ticks\":\"\",\"title\":{\"standoff\":15},\"zerolinecolor\":\"white\",\"automargin\":true,\"zerolinewidth\":2},\"scene\":{\"xaxis\":{\"backgroundcolor\":\"#E5ECF6\",\"gridcolor\":\"white\",\"linecolor\":\"white\",\"showbackground\":true,\"ticks\":\"\",\"zerolinecolor\":\"white\",\"gridwidth\":2},\"yaxis\":{\"backgroundcolor\":\"#E5ECF6\",\"gridcolor\":\"white\",\"linecolor\":\"white\",\"showbackground\":true,\"ticks\":\"\",\"zerolinecolor\":\"white\",\"gridwidth\":2},\"zaxis\":{\"backgroundcolor\":\"#E5ECF6\",\"gridcolor\":\"white\",\"linecolor\":\"white\",\"showbackground\":true,\"ticks\":\"\",\"zerolinecolor\":\"white\",\"gridwidth\":2}},\"shapedefaults\":{\"line\":{\"color\":\"#2a3f5f\"}},\"annotationdefaults\":{\"arrowcolor\":\"#2a3f5f\",\"arrowhead\":0,\"arrowwidth\":1},\"geo\":{\"bgcolor\":\"white\",\"landcolor\":\"#E5ECF6\",\"subunitcolor\":\"white\",\"showland\":true,\"showlakes\":true,\"lakecolor\":\"white\"},\"title\":{\"x\":0.05},\"mapbox\":{\"style\":\"light\"}}},\"xaxis\":{\"anchor\":\"y\",\"domain\":[0.0,1.0],\"title\":{\"text\":\"Year\"}},\"yaxis\":{\"anchor\":\"x\",\"domain\":[0.0,1.0],\"title\":{\"text\":\"# of Launches\"}},\"legend\":{\"title\":{\"text\":\"Organisation\"},\"tracegroupgap\":0},\"title\":{\"text\":\"Number of Launches over Time by the Top 10 Organisations\"}},                        {\"responsive\": true}                    ).then(function(){\n",
       "                            \n",
       "var gd = document.getElementById('54699d3f-5815-4e31-8040-5c70cc388e90');\n",
       "var x = new MutationObserver(function (mutations, observer) {{\n",
       "        var display = window.getComputedStyle(gd).display;\n",
       "        if (!display || display === 'none') {{\n",
       "            console.log([gd, 'removed!']);\n",
       "            Plotly.purge(gd);\n",
       "            observer.disconnect();\n",
       "        }}\n",
       "}});\n",
       "\n",
       "// Listen for the removal of the full notebook cells\n",
       "var notebookContainer = gd.closest('#notebook-container');\n",
       "if (notebookContainer) {{\n",
       "    x.observe(notebookContainer, {childList: true});\n",
       "}}\n",
       "\n",
       "// Listen for the clearing of the current output cell\n",
       "var outputEl = gd.closest('.output');\n",
       "if (outputEl) {{\n",
       "    x.observe(outputEl, {childList: true});\n",
       "}}\n",
       "\n",
       "                        })                };                });            </script>        </div>"
      ]
     },
     "metadata": {},
     "output_type": "display_data"
    }
   ],
   "source": [
    "plot = px.line(merged_df,\n",
    "              x='Year',\n",
    "              y='per_year',\n",
    "              color='Organisation',\n",
    "              title='Number of Launches over Time by the Top 10 Organisations')\n",
    "plot.update_layout(xaxis_title='Year',\n",
    "                  yaxis_title='# of Launches')\n",
    "plot.show()"
   ]
  },
  {
   "cell_type": "markdown",
   "metadata": {
    "id": "S5aOC7bGr2OX"
   },
   "source": [
    "# Countries with most launches per year\n",
    "\n"
   ]
  },
  {
   "cell_type": "code",
   "execution_count": 157,
   "metadata": {
    "id": "_h0grIXKsOz_"
   },
   "outputs": [
    {
     "data": {
      "text/html": [
       "<div>\n",
       "<style scoped>\n",
       "    .dataframe tbody tr th:only-of-type {\n",
       "        vertical-align: middle;\n",
       "    }\n",
       "\n",
       "    .dataframe tbody tr th {\n",
       "        vertical-align: top;\n",
       "    }\n",
       "\n",
       "    .dataframe thead th {\n",
       "        text-align: right;\n",
       "    }\n",
       "</style>\n",
       "<table border=\"1\" class=\"dataframe\">\n",
       "  <thead>\n",
       "    <tr style=\"text-align: right;\">\n",
       "      <th></th>\n",
       "      <th>Year</th>\n",
       "      <th>Country</th>\n",
       "      <th>Num_launches</th>\n",
       "    </tr>\n",
       "  </thead>\n",
       "  <tbody>\n",
       "    <tr>\n",
       "      <th>0</th>\n",
       "      <td>1957</td>\n",
       "      <td>Kazakhstan</td>\n",
       "      <td>2</td>\n",
       "    </tr>\n",
       "    <tr>\n",
       "      <th>1</th>\n",
       "      <td>1957</td>\n",
       "      <td>USA</td>\n",
       "      <td>1</td>\n",
       "    </tr>\n",
       "    <tr>\n",
       "      <th>2</th>\n",
       "      <td>1958</td>\n",
       "      <td>Kazakhstan</td>\n",
       "      <td>5</td>\n",
       "    </tr>\n",
       "    <tr>\n",
       "      <th>3</th>\n",
       "      <td>1958</td>\n",
       "      <td>USA</td>\n",
       "      <td>23</td>\n",
       "    </tr>\n",
       "    <tr>\n",
       "      <th>4</th>\n",
       "      <td>1959</td>\n",
       "      <td>Kazakhstan</td>\n",
       "      <td>4</td>\n",
       "    </tr>\n",
       "    <tr>\n",
       "      <th>...</th>\n",
       "      <td>...</td>\n",
       "      <td>...</td>\n",
       "      <td>...</td>\n",
       "    </tr>\n",
       "    <tr>\n",
       "      <th>471</th>\n",
       "      <td>2023</td>\n",
       "      <td>Kazakhstan</td>\n",
       "      <td>4</td>\n",
       "    </tr>\n",
       "    <tr>\n",
       "      <th>472</th>\n",
       "      <td>2023</td>\n",
       "      <td>New Zealand</td>\n",
       "      <td>1</td>\n",
       "    </tr>\n",
       "    <tr>\n",
       "      <th>473</th>\n",
       "      <td>2023</td>\n",
       "      <td>Russia</td>\n",
       "      <td>2</td>\n",
       "    </tr>\n",
       "    <tr>\n",
       "      <th>474</th>\n",
       "      <td>2023</td>\n",
       "      <td>USA</td>\n",
       "      <td>28</td>\n",
       "    </tr>\n",
       "    <tr>\n",
       "      <th>475</th>\n",
       "      <td>2023</td>\n",
       "      <td>United Kingdom</td>\n",
       "      <td>1</td>\n",
       "    </tr>\n",
       "  </tbody>\n",
       "</table>\n",
       "<p>476 rows × 3 columns</p>\n",
       "</div>"
      ],
      "text/plain": [
       "     Year          Country  Num_launches\n",
       "0    1957       Kazakhstan             2\n",
       "1    1957              USA             1\n",
       "2    1958       Kazakhstan             5\n",
       "3    1958              USA            23\n",
       "4    1959       Kazakhstan             4\n",
       "..    ...              ...           ...\n",
       "471  2023       Kazakhstan             4\n",
       "472  2023      New Zealand             1\n",
       "473  2023           Russia             2\n",
       "474  2023              USA            28\n",
       "475  2023   United Kingdom             1\n",
       "\n",
       "[476 rows x 3 columns]"
      ]
     },
     "execution_count": 157,
     "metadata": {},
     "output_type": "execute_result"
    }
   ],
   "source": [
    "max_launch_ct = df.groupby(['Year','Country'], as_index=False).agg({'Status':pd.Series.count})\n",
    "max_launch_ct.rename(columns={'Status':'Num_launches'},inplace=True)\n",
    "max_launch_ct"
   ]
  },
  {
   "cell_type": "code",
   "execution_count": 161,
   "metadata": {
    "id": "zgVysedmsOp4"
   },
   "outputs": [
    {
     "data": {
      "text/html": [
       "<div>\n",
       "<style scoped>\n",
       "    .dataframe tbody tr th:only-of-type {\n",
       "        vertical-align: middle;\n",
       "    }\n",
       "\n",
       "    .dataframe tbody tr th {\n",
       "        vertical-align: top;\n",
       "    }\n",
       "\n",
       "    .dataframe thead th {\n",
       "        text-align: right;\n",
       "    }\n",
       "</style>\n",
       "<table border=\"1\" class=\"dataframe\">\n",
       "  <thead>\n",
       "    <tr style=\"text-align: right;\">\n",
       "      <th></th>\n",
       "      <th></th>\n",
       "      <th>Year</th>\n",
       "      <th>Country</th>\n",
       "      <th>Num_launches</th>\n",
       "    </tr>\n",
       "    <tr>\n",
       "      <th>Year</th>\n",
       "      <th></th>\n",
       "      <th></th>\n",
       "      <th></th>\n",
       "      <th></th>\n",
       "    </tr>\n",
       "  </thead>\n",
       "  <tbody>\n",
       "    <tr>\n",
       "      <th>1957</th>\n",
       "      <th>0</th>\n",
       "      <td>1957</td>\n",
       "      <td>Kazakhstan</td>\n",
       "      <td>2</td>\n",
       "    </tr>\n",
       "    <tr>\n",
       "      <th>1958</th>\n",
       "      <th>3</th>\n",
       "      <td>1958</td>\n",
       "      <td>USA</td>\n",
       "      <td>23</td>\n",
       "    </tr>\n",
       "    <tr>\n",
       "      <th>1959</th>\n",
       "      <th>5</th>\n",
       "      <td>1959</td>\n",
       "      <td>USA</td>\n",
       "      <td>20</td>\n",
       "    </tr>\n",
       "    <tr>\n",
       "      <th>1960</th>\n",
       "      <th>7</th>\n",
       "      <td>1960</td>\n",
       "      <td>USA</td>\n",
       "      <td>32</td>\n",
       "    </tr>\n",
       "    <tr>\n",
       "      <th>1961</th>\n",
       "      <th>10</th>\n",
       "      <td>1961</td>\n",
       "      <td>USA</td>\n",
       "      <td>47</td>\n",
       "    </tr>\n",
       "    <tr>\n",
       "      <th>...</th>\n",
       "      <th>...</th>\n",
       "      <td>...</td>\n",
       "      <td>...</td>\n",
       "      <td>...</td>\n",
       "    </tr>\n",
       "    <tr>\n",
       "      <th>2019</th>\n",
       "      <th>424</th>\n",
       "      <td>2019</td>\n",
       "      <td>China</td>\n",
       "      <td>33</td>\n",
       "    </tr>\n",
       "    <tr>\n",
       "      <th>2020</th>\n",
       "      <th>443</th>\n",
       "      <td>2020</td>\n",
       "      <td>USA</td>\n",
       "      <td>41</td>\n",
       "    </tr>\n",
       "    <tr>\n",
       "      <th>2021</th>\n",
       "      <th>454</th>\n",
       "      <td>2021</td>\n",
       "      <td>USA</td>\n",
       "      <td>57</td>\n",
       "    </tr>\n",
       "    <tr>\n",
       "      <th>2022</th>\n",
       "      <th>464</th>\n",
       "      <td>2022</td>\n",
       "      <td>USA</td>\n",
       "      <td>82</td>\n",
       "    </tr>\n",
       "    <tr>\n",
       "      <th>2023</th>\n",
       "      <th>474</th>\n",
       "      <td>2023</td>\n",
       "      <td>USA</td>\n",
       "      <td>28</td>\n",
       "    </tr>\n",
       "  </tbody>\n",
       "</table>\n",
       "<p>67 rows × 3 columns</p>\n",
       "</div>"
      ],
      "text/plain": [
       "          Year      Country  Num_launches\n",
       "Year                                     \n",
       "1957 0    1957   Kazakhstan             2\n",
       "1958 3    1958          USA            23\n",
       "1959 5    1959          USA            20\n",
       "1960 7    1960          USA            32\n",
       "1961 10   1961          USA            47\n",
       "...        ...          ...           ...\n",
       "2019 424  2019        China            33\n",
       "2020 443  2020          USA            41\n",
       "2021 454  2021          USA            57\n",
       "2022 464  2022          USA            82\n",
       "2023 474  2023          USA            28\n",
       "\n",
       "[67 rows x 3 columns]"
      ]
     },
     "execution_count": 161,
     "metadata": {},
     "output_type": "execute_result"
    }
   ],
   "source": [
    "max_launch_ct.groupby('Year').apply(lambda x: x.nlargest(1,'Num_launches'))"
   ]
  },
  {
   "cell_type": "code",
   "execution_count": 163,
   "metadata": {},
   "outputs": [
    {
     "data": {
      "text/html": [
       "<div>\n",
       "<style scoped>\n",
       "    .dataframe tbody tr th:only-of-type {\n",
       "        vertical-align: middle;\n",
       "    }\n",
       "\n",
       "    .dataframe tbody tr th {\n",
       "        vertical-align: top;\n",
       "    }\n",
       "\n",
       "    .dataframe thead th {\n",
       "        text-align: right;\n",
       "    }\n",
       "</style>\n",
       "<table border=\"1\" class=\"dataframe\">\n",
       "  <thead>\n",
       "    <tr style=\"text-align: right;\">\n",
       "      <th></th>\n",
       "      <th></th>\n",
       "      <th>Year</th>\n",
       "      <th>Country</th>\n",
       "      <th>Num_launches</th>\n",
       "    </tr>\n",
       "    <tr>\n",
       "      <th>Year</th>\n",
       "      <th></th>\n",
       "      <th></th>\n",
       "      <th></th>\n",
       "      <th></th>\n",
       "    </tr>\n",
       "  </thead>\n",
       "  <tbody>\n",
       "    <tr>\n",
       "      <th>1957</th>\n",
       "      <th>0</th>\n",
       "      <td>1957</td>\n",
       "      <td>Kazakhstan</td>\n",
       "      <td>2</td>\n",
       "    </tr>\n",
       "    <tr>\n",
       "      <th>1958</th>\n",
       "      <th>2</th>\n",
       "      <td>1958</td>\n",
       "      <td>USA</td>\n",
       "      <td>5</td>\n",
       "    </tr>\n",
       "    <tr>\n",
       "      <th>1959</th>\n",
       "      <th>4</th>\n",
       "      <td>1959</td>\n",
       "      <td>USA</td>\n",
       "      <td>8</td>\n",
       "    </tr>\n",
       "    <tr>\n",
       "      <th>1960</th>\n",
       "      <th>6</th>\n",
       "      <td>1960</td>\n",
       "      <td>USA</td>\n",
       "      <td>17</td>\n",
       "    </tr>\n",
       "    <tr>\n",
       "      <th>1961</th>\n",
       "      <th>8</th>\n",
       "      <td>1961</td>\n",
       "      <td>USA</td>\n",
       "      <td>29</td>\n",
       "    </tr>\n",
       "    <tr>\n",
       "      <th>...</th>\n",
       "      <th>...</th>\n",
       "      <td>...</td>\n",
       "      <td>...</td>\n",
       "      <td>...</td>\n",
       "    </tr>\n",
       "    <tr>\n",
       "      <th>2019</th>\n",
       "      <th>379</th>\n",
       "      <td>2019</td>\n",
       "      <td>China</td>\n",
       "      <td>31</td>\n",
       "    </tr>\n",
       "    <tr>\n",
       "      <th>2020</th>\n",
       "      <th>397</th>\n",
       "      <td>2020</td>\n",
       "      <td>USA</td>\n",
       "      <td>36</td>\n",
       "    </tr>\n",
       "    <tr>\n",
       "      <th>2021</th>\n",
       "      <th>399</th>\n",
       "      <td>2021</td>\n",
       "      <td>China</td>\n",
       "      <td>52</td>\n",
       "    </tr>\n",
       "    <tr>\n",
       "      <th>2022</th>\n",
       "      <th>416</th>\n",
       "      <td>2022</td>\n",
       "      <td>USA</td>\n",
       "      <td>78</td>\n",
       "    </tr>\n",
       "    <tr>\n",
       "      <th>2023</th>\n",
       "      <th>426</th>\n",
       "      <td>2023</td>\n",
       "      <td>USA</td>\n",
       "      <td>26</td>\n",
       "    </tr>\n",
       "  </tbody>\n",
       "</table>\n",
       "<p>67 rows × 3 columns</p>\n",
       "</div>"
      ],
      "text/plain": [
       "          Year      Country  Num_launches\n",
       "Year                                     \n",
       "1957 0    1957   Kazakhstan             2\n",
       "1958 2    1958          USA             5\n",
       "1959 4    1959          USA             8\n",
       "1960 6    1960          USA            17\n",
       "1961 8    1961          USA            29\n",
       "...        ...          ...           ...\n",
       "2019 379  2019        China            31\n",
       "2020 397  2020          USA            36\n",
       "2021 399  2021        China            52\n",
       "2022 416  2022          USA            78\n",
       "2023 426  2023          USA            26\n",
       "\n",
       "[67 rows x 3 columns]"
      ]
     },
     "execution_count": 163,
     "metadata": {},
     "output_type": "execute_result"
    }
   ],
   "source": [
    "#FOR SUCCESSFUL MISSION ONLY\n",
    "max_launch_ct = df[df['Mission_status'] == 'Success']\n",
    "max_launch_ct = max_launch_ct.groupby(['Year','Country'], as_index=False).agg({'Status':pd.Series.count})\n",
    "max_launch_ct.rename(columns={'Status':'Num_launches'},inplace=True)\n",
    "max_launch_ct.groupby('Year').apply(lambda x: x.nlargest(1,'Num_launches'))"
   ]
  },
  {
   "cell_type": "markdown",
   "metadata": {
    "id": "jQcqBfJ8serG"
   },
   "source": [
    "# Number of Launches per Organisation by year\n",
    "\n"
   ]
  },
  {
   "cell_type": "code",
   "execution_count": 164,
   "metadata": {
    "id": "jc9ImQEWsztG"
   },
   "outputs": [
    {
     "data": {
      "text/html": [
       "<div>\n",
       "<style scoped>\n",
       "    .dataframe tbody tr th:only-of-type {\n",
       "        vertical-align: middle;\n",
       "    }\n",
       "\n",
       "    .dataframe tbody tr th {\n",
       "        vertical-align: top;\n",
       "    }\n",
       "\n",
       "    .dataframe thead th {\n",
       "        text-align: right;\n",
       "    }\n",
       "</style>\n",
       "<table border=\"1\" class=\"dataframe\">\n",
       "  <thead>\n",
       "    <tr style=\"text-align: right;\">\n",
       "      <th></th>\n",
       "      <th>Year</th>\n",
       "      <th>Organisation</th>\n",
       "      <th>Num_launches</th>\n",
       "    </tr>\n",
       "  </thead>\n",
       "  <tbody>\n",
       "    <tr>\n",
       "      <th>0</th>\n",
       "      <td>1957</td>\n",
       "      <td>RVSN USSR</td>\n",
       "      <td>2</td>\n",
       "    </tr>\n",
       "    <tr>\n",
       "      <th>1</th>\n",
       "      <td>1957</td>\n",
       "      <td>US Navy</td>\n",
       "      <td>1</td>\n",
       "    </tr>\n",
       "    <tr>\n",
       "      <th>2</th>\n",
       "      <td>1958</td>\n",
       "      <td>ABMA</td>\n",
       "      <td>7</td>\n",
       "    </tr>\n",
       "    <tr>\n",
       "      <th>3</th>\n",
       "      <td>1958</td>\n",
       "      <td>NASA</td>\n",
       "      <td>2</td>\n",
       "    </tr>\n",
       "    <tr>\n",
       "      <th>4</th>\n",
       "      <td>1958</td>\n",
       "      <td>RVSN USSR</td>\n",
       "      <td>5</td>\n",
       "    </tr>\n",
       "    <tr>\n",
       "      <th>...</th>\n",
       "      <td>...</td>\n",
       "      <td>...</td>\n",
       "      <td>...</td>\n",
       "    </tr>\n",
       "    <tr>\n",
       "      <th>783</th>\n",
       "      <td>2023</td>\n",
       "      <td>Space Pioneer</td>\n",
       "      <td>1</td>\n",
       "    </tr>\n",
       "    <tr>\n",
       "      <th>784</th>\n",
       "      <td>2023</td>\n",
       "      <td>SpaceX</td>\n",
       "      <td>24</td>\n",
       "    </tr>\n",
       "    <tr>\n",
       "      <th>785</th>\n",
       "      <td>2023</td>\n",
       "      <td>VKS RF</td>\n",
       "      <td>3</td>\n",
       "    </tr>\n",
       "    <tr>\n",
       "      <th>786</th>\n",
       "      <td>2023</td>\n",
       "      <td>Virgin Orbit</td>\n",
       "      <td>1</td>\n",
       "    </tr>\n",
       "    <tr>\n",
       "      <th>787</th>\n",
       "      <td>2023</td>\n",
       "      <td>i-Space</td>\n",
       "      <td>1</td>\n",
       "    </tr>\n",
       "  </tbody>\n",
       "</table>\n",
       "<p>788 rows × 3 columns</p>\n",
       "</div>"
      ],
      "text/plain": [
       "     Year   Organisation  Num_launches\n",
       "0    1957      RVSN USSR             2\n",
       "1    1957        US Navy             1\n",
       "2    1958           ABMA             7\n",
       "3    1958           NASA             2\n",
       "4    1958      RVSN USSR             5\n",
       "..    ...            ...           ...\n",
       "783  2023  Space Pioneer             1\n",
       "784  2023         SpaceX            24\n",
       "785  2023         VKS RF             3\n",
       "786  2023   Virgin Orbit             1\n",
       "787  2023        i-Space             1\n",
       "\n",
       "[788 rows x 3 columns]"
      ]
     },
     "execution_count": 164,
     "metadata": {},
     "output_type": "execute_result"
    }
   ],
   "source": [
    "max_launch_org = df.groupby(['Year','Organisation'], as_index=False).agg({'Status':pd.Series.count})\n",
    "max_launch_org.rename(columns={'Status':'Num_launches'},inplace=True)\n",
    "max_launch_org"
   ]
  },
  {
   "cell_type": "code",
   "execution_count": 174,
   "metadata": {
    "id": "r5frxzwlsz5W"
   },
   "outputs": [
    {
     "data": {
      "application/vnd.plotly.v1+json": {
       "config": {
        "plotlyServerURL": "https://plot.ly"
       },
       "data": [
        {
         "hovertemplate": "<b>%{hovertext}</b><br><br>color=RVSN USSR<br>x=%{x}<br>y=%{y}<extra></extra>",
         "hovertext": [
          "RVSN USSR",
          "RVSN USSR",
          "RVSN USSR",
          "RVSN USSR",
          "RVSN USSR",
          "RVSN USSR",
          "RVSN USSR",
          "RVSN USSR",
          "RVSN USSR",
          "RVSN USSR",
          "RVSN USSR",
          "RVSN USSR",
          "RVSN USSR",
          "RVSN USSR",
          "RVSN USSR",
          "RVSN USSR",
          "RVSN USSR",
          "RVSN USSR",
          "RVSN USSR",
          "RVSN USSR",
          "RVSN USSR",
          "RVSN USSR",
          "RVSN USSR",
          "RVSN USSR",
          "RVSN USSR",
          "RVSN USSR",
          "RVSN USSR",
          "RVSN USSR",
          "RVSN USSR",
          "RVSN USSR",
          "RVSN USSR",
          "RVSN USSR",
          "RVSN USSR",
          "RVSN USSR",
          "RVSN USSR"
         ],
         "legendgroup": "RVSN USSR",
         "line": {
          "color": "#636efa",
          "dash": "solid"
         },
         "marker": {
          "symbol": "circle"
         },
         "mode": "lines",
         "name": "RVSN USSR",
         "orientation": "v",
         "showlegend": true,
         "type": "scatter",
         "x": [
          1957,
          1958,
          1959,
          1960,
          1961,
          1962,
          1963,
          1964,
          1965,
          1966,
          1967,
          1968,
          1969,
          1970,
          1971,
          1972,
          1973,
          1974,
          1975,
          1976,
          1977,
          1978,
          1979,
          1980,
          1981,
          1982,
          1983,
          1984,
          1985,
          1986,
          1987,
          1988,
          1989,
          1990,
          1991
         ],
         "xaxis": "x",
         "y": [
          2,
          5,
          4,
          9,
          9,
          22,
          24,
          36,
          54,
          54,
          74,
          81,
          84,
          89,
          92,
          80,
          91,
          86,
          93,
          100,
          102,
          91,
          89,
          90,
          100,
          108,
          101,
          99,
          101,
          95,
          99,
          95,
          75,
          80,
          62
         ],
         "yaxis": "y"
        },
        {
         "hovertemplate": "<b>%{hovertext}</b><br><br>color=US Navy<br>x=%{x}<br>y=%{y}<extra></extra>",
         "hovertext": [
          "US Navy",
          "US Navy",
          "US Navy"
         ],
         "legendgroup": "US Navy",
         "line": {
          "color": "#EF553B",
          "dash": "solid"
         },
         "marker": {
          "symbol": "circle"
         },
         "mode": "lines",
         "name": "US Navy",
         "orientation": "v",
         "showlegend": true,
         "type": "scatter",
         "x": [
          1957,
          1958,
          1959
         ],
         "xaxis": "x",
         "y": [
          1,
          12,
          4
         ],
         "yaxis": "y"
        },
        {
         "hovertemplate": "<b>%{hovertext}</b><br><br>color=ABMA<br>x=%{x}<br>y=%{y}<extra></extra>",
         "hovertext": [
          "ABMA",
          "ABMA",
          "ABMA",
          "ABMA",
          "ABMA"
         ],
         "legendgroup": "ABMA",
         "line": {
          "color": "#00cc96",
          "dash": "solid"
         },
         "marker": {
          "symbol": "circle"
         },
         "mode": "lines",
         "name": "ABMA",
         "orientation": "v",
         "showlegend": true,
         "type": "scatter",
         "x": [
          1958,
          1959,
          1960,
          1961,
          1967
         ],
         "xaxis": "x",
         "y": [
          7,
          4,
          2,
          3,
          1
         ],
         "yaxis": "y"
        },
        {
         "hovertemplate": "<b>%{hovertext}</b><br><br>color=NASA<br>x=%{x}<br>y=%{y}<extra></extra>",
         "hovertext": [
          "NASA",
          "NASA",
          "NASA",
          "NASA",
          "NASA",
          "NASA",
          "NASA",
          "NASA",
          "NASA",
          "NASA",
          "NASA",
          "NASA",
          "NASA",
          "NASA",
          "NASA",
          "NASA",
          "NASA",
          "NASA",
          "NASA",
          "NASA",
          "NASA",
          "NASA",
          "NASA",
          "NASA",
          "NASA",
          "NASA",
          "NASA",
          "NASA",
          "NASA",
          "NASA",
          "NASA",
          "NASA",
          "NASA",
          "NASA",
          "NASA",
          "NASA",
          "NASA",
          "NASA",
          "NASA",
          "NASA",
          "NASA",
          "NASA",
          "NASA",
          "NASA",
          "NASA",
          "NASA",
          "NASA",
          "NASA",
          "NASA"
         ],
         "legendgroup": "NASA",
         "line": {
          "color": "#ab63fa",
          "dash": "solid"
         },
         "marker": {
          "symbol": "circle"
         },
         "mode": "lines",
         "name": "NASA",
         "orientation": "v",
         "showlegend": true,
         "type": "scatter",
         "x": [
          1958,
          1959,
          1960,
          1961,
          1962,
          1963,
          1964,
          1965,
          1966,
          1967,
          1968,
          1969,
          1970,
          1971,
          1972,
          1973,
          1974,
          1975,
          1979,
          1981,
          1982,
          1983,
          1984,
          1985,
          1986,
          1988,
          1989,
          1990,
          1991,
          1992,
          1993,
          1994,
          1995,
          1996,
          1997,
          1998,
          1999,
          2000,
          2001,
          2002,
          2003,
          2005,
          2006,
          2007,
          2008,
          2009,
          2010,
          2011,
          2022
         ],
         "xaxis": "x",
         "y": [
          2,
          1,
          4,
          13,
          7,
          3,
          7,
          12,
          9,
          1,
          5,
          4,
          2,
          4,
          3,
          4,
          1,
          1,
          2,
          2,
          3,
          4,
          5,
          9,
          2,
          2,
          5,
          6,
          6,
          8,
          7,
          7,
          7,
          7,
          8,
          5,
          3,
          5,
          6,
          5,
          1,
          1,
          3,
          3,
          4,
          6,
          3,
          3,
          1
         ],
         "yaxis": "y"
        },
        {
         "hovertemplate": "<b>%{hovertext}</b><br><br>color=US Air Force<br>x=%{x}<br>y=%{y}<extra></extra>",
         "hovertext": [
          "US Air Force",
          "US Air Force",
          "US Air Force",
          "US Air Force",
          "US Air Force",
          "US Air Force",
          "US Air Force",
          "US Air Force",
          "US Air Force",
          "US Air Force",
          "US Air Force",
          "US Air Force",
          "US Air Force",
          "US Air Force",
          "US Air Force",
          "US Air Force",
          "US Air Force",
          "US Air Force",
          "US Air Force",
          "US Air Force",
          "US Air Force",
          "US Air Force",
          "US Air Force",
          "US Air Force",
          "US Air Force",
          "US Air Force",
          "US Air Force",
          "US Air Force",
          "US Air Force",
          "US Air Force",
          "US Air Force",
          "US Air Force",
          "US Air Force",
          "US Air Force",
          "US Air Force",
          "US Air Force"
         ],
         "legendgroup": "US Air Force",
         "line": {
          "color": "#FFA15A",
          "dash": "solid"
         },
         "marker": {
          "symbol": "circle"
         },
         "mode": "lines",
         "name": "US Air Force",
         "orientation": "v",
         "showlegend": true,
         "type": "scatter",
         "x": [
          1958,
          1959,
          1960,
          1961,
          1962,
          1963,
          1964,
          1965,
          1966,
          1967,
          1968,
          1969,
          1970,
          1971,
          1972,
          1973,
          1974,
          1975,
          1976,
          1977,
          1978,
          1979,
          1980,
          1981,
          1982,
          1983,
          1984,
          1985,
          1986,
          1987,
          1988,
          1990,
          1991,
          1992,
          1993,
          1994
         ],
         "xaxis": "x",
         "y": [
          2,
          10,
          21,
          23,
          41,
          35,
          39,
          37,
          34,
          42,
          33,
          30,
          22,
          19,
          18,
          11,
          15,
          17,
          15,
          14,
          12,
          6,
          4,
          7,
          8,
          10,
          6,
          2,
          3,
          3,
          4,
          1,
          1,
          2,
          1,
          1
         ],
         "yaxis": "y"
        },
        {
         "hovertemplate": "<b>%{hovertext}</b><br><br>color=General Dynamics<br>x=%{x}<br>y=%{y}<extra></extra>",
         "hovertext": [
          "General Dynamics",
          "General Dynamics",
          "General Dynamics",
          "General Dynamics",
          "General Dynamics",
          "General Dynamics",
          "General Dynamics",
          "General Dynamics",
          "General Dynamics",
          "General Dynamics",
          "General Dynamics",
          "General Dynamics",
          "General Dynamics",
          "General Dynamics",
          "General Dynamics",
          "General Dynamics",
          "General Dynamics",
          "General Dynamics",
          "General Dynamics",
          "General Dynamics",
          "General Dynamics",
          "General Dynamics",
          "General Dynamics",
          "General Dynamics",
          "General Dynamics",
          "General Dynamics",
          "General Dynamics",
          "General Dynamics",
          "General Dynamics",
          "General Dynamics",
          "General Dynamics",
          "General Dynamics",
          "General Dynamics",
          "General Dynamics",
          "General Dynamics",
          "General Dynamics",
          "General Dynamics"
         ],
         "legendgroup": "General Dynamics",
         "line": {
          "color": "#19d3f3",
          "dash": "solid"
         },
         "marker": {
          "symbol": "circle"
         },
         "mode": "lines",
         "name": "General Dynamics",
         "orientation": "v",
         "showlegend": true,
         "type": "scatter",
         "x": [
          1959,
          1960,
          1961,
          1962,
          1963,
          1964,
          1965,
          1966,
          1967,
          1968,
          1969,
          1970,
          1971,
          1972,
          1973,
          1974,
          1975,
          1976,
          1977,
          1978,
          1979,
          1980,
          1981,
          1982,
          1983,
          1984,
          1985,
          1986,
          1987,
          1988,
          1989,
          1990,
          1991,
          1992,
          1993,
          1994,
          1995
         ],
         "xaxis": "x",
         "y": [
          1,
          5,
          8,
          14,
          9,
          18,
          19,
          33,
          14,
          8,
          5,
          3,
          6,
          6,
          4,
          2,
          5,
          4,
          7,
          14,
          4,
          8,
          6,
          3,
          6,
          5,
          5,
          3,
          3,
          2,
          1,
          2,
          4,
          5,
          6,
          2,
          1
         ],
         "yaxis": "y"
        },
        {
         "hovertemplate": "<b>%{hovertext}</b><br><br>color=Armée de l'Air<br>x=%{x}<br>y=%{y}<extra></extra>",
         "hovertext": [
          "Armée de l'Air",
          "Armée de l'Air",
          "Armée de l'Air"
         ],
         "legendgroup": "Armée de l'Air",
         "line": {
          "color": "#FF6692",
          "dash": "solid"
         },
         "marker": {
          "symbol": "circle"
         },
         "mode": "lines",
         "name": "Armée de l'Air",
         "orientation": "v",
         "showlegend": true,
         "type": "scatter",
         "x": [
          1965,
          1966,
          1967
         ],
         "xaxis": "x",
         "y": [
          1,
          1,
          2
         ],
         "yaxis": "y"
        },
        {
         "hovertemplate": "<b>%{hovertext}</b><br><br>color=Martin Marietta<br>x=%{x}<br>y=%{y}<extra></extra>",
         "hovertext": [
          "Martin Marietta",
          "Martin Marietta",
          "Martin Marietta",
          "Martin Marietta",
          "Martin Marietta",
          "Martin Marietta",
          "Martin Marietta",
          "Martin Marietta",
          "Martin Marietta",
          "Martin Marietta",
          "Martin Marietta",
          "Martin Marietta",
          "Martin Marietta",
          "Martin Marietta",
          "Martin Marietta",
          "Martin Marietta",
          "Martin Marietta",
          "Martin Marietta",
          "Martin Marietta",
          "Martin Marietta",
          "Martin Marietta",
          "Martin Marietta",
          "Martin Marietta",
          "Martin Marietta",
          "Martin Marietta",
          "Martin Marietta",
          "Martin Marietta",
          "Martin Marietta",
          "Martin Marietta",
          "Martin Marietta"
         ],
         "legendgroup": "Martin Marietta",
         "line": {
          "color": "#B6E880",
          "dash": "solid"
         },
         "marker": {
          "symbol": "circle"
         },
         "mode": "lines",
         "name": "Martin Marietta",
         "orientation": "v",
         "showlegend": true,
         "type": "scatter",
         "x": [
          1965,
          1966,
          1967,
          1968,
          1969,
          1970,
          1971,
          1972,
          1973,
          1974,
          1975,
          1976,
          1977,
          1978,
          1979,
          1980,
          1981,
          1982,
          1983,
          1984,
          1985,
          1986,
          1987,
          1988,
          1989,
          1990,
          1991,
          1992,
          1993,
          1994
         ],
         "xaxis": "x",
         "y": [
          3,
          3,
          3,
          2,
          2,
          2,
          4,
          5,
          6,
          5,
          7,
          7,
          5,
          7,
          4,
          3,
          4,
          4,
          2,
          6,
          2,
          1,
          3,
          3,
          4,
          5,
          2,
          3,
          2,
          5
         ],
         "yaxis": "y"
        },
        {
         "hovertemplate": "<b>%{hovertext}</b><br><br>color=UT<br>x=%{x}<br>y=%{y}<extra></extra>",
         "hovertext": [
          "UT",
          "UT",
          "UT",
          "UT"
         ],
         "legendgroup": "UT",
         "line": {
          "color": "#FF97FF",
          "dash": "solid"
         },
         "marker": {
          "symbol": "circle"
         },
         "mode": "lines",
         "name": "UT",
         "orientation": "v",
         "showlegend": true,
         "type": "scatter",
         "x": [
          1966,
          1967,
          1969,
          1970
         ],
         "xaxis": "x",
         "y": [
          2,
          1,
          1,
          1
         ],
         "yaxis": "y"
        },
        {
         "hovertemplate": "<b>%{hovertext}</b><br><br>color=ASI<br>x=%{x}<br>y=%{y}<extra></extra>",
         "hovertext": [
          "ASI",
          "ASI",
          "ASI",
          "ASI",
          "ASI",
          "ASI",
          "ASI"
         ],
         "legendgroup": "ASI",
         "line": {
          "color": "#FECB52",
          "dash": "solid"
         },
         "marker": {
          "symbol": "circle"
         },
         "mode": "lines",
         "name": "ASI",
         "orientation": "v",
         "showlegend": true,
         "type": "scatter",
         "x": [
          1967,
          1970,
          1971,
          1972,
          1974,
          1975,
          1988
         ],
         "xaxis": "x",
         "y": [
          1,
          1,
          2,
          1,
          2,
          1,
          1
         ],
         "yaxis": "y"
        },
        {
         "hovertemplate": "<b>%{hovertext}</b><br><br>color=OKB-586<br>x=%{x}<br>y=%{y}<extra></extra>",
         "hovertext": [
          "OKB-586",
          "OKB-586"
         ],
         "legendgroup": "OKB-586",
         "line": {
          "color": "#636efa",
          "dash": "solid"
         },
         "marker": {
          "symbol": "circle"
         },
         "mode": "lines",
         "name": "OKB-586",
         "orientation": "v",
         "showlegend": true,
         "type": "scatter",
         "x": [
          1967,
          1968
         ],
         "xaxis": "x",
         "y": [
          1,
          1
         ],
         "yaxis": "y"
        },
        {
         "hovertemplate": "<b>%{hovertext}</b><br><br>color=CECLES<br>x=%{x}<br>y=%{y}<extra></extra>",
         "hovertext": [
          "CECLES",
          "CECLES",
          "CECLES",
          "CECLES"
         ],
         "legendgroup": "CECLES",
         "line": {
          "color": "#EF553B",
          "dash": "solid"
         },
         "marker": {
          "symbol": "circle"
         },
         "mode": "lines",
         "name": "CECLES",
         "orientation": "v",
         "showlegend": true,
         "type": "scatter",
         "x": [
          1968,
          1969,
          1970,
          1971
         ],
         "xaxis": "x",
         "y": [
          1,
          1,
          1,
          1
         ],
         "yaxis": "y"
        },
        {
         "hovertemplate": "<b>%{hovertext}</b><br><br>color=CASC<br>x=%{x}<br>y=%{y}<extra></extra>",
         "hovertext": [
          "CASC",
          "CASC",
          "CASC",
          "CASC",
          "CASC",
          "CASC",
          "CASC",
          "CASC",
          "CASC",
          "CASC",
          "CASC",
          "CASC",
          "CASC",
          "CASC",
          "CASC",
          "CASC",
          "CASC",
          "CASC",
          "CASC",
          "CASC",
          "CASC",
          "CASC",
          "CASC",
          "CASC",
          "CASC",
          "CASC",
          "CASC",
          "CASC",
          "CASC",
          "CASC",
          "CASC",
          "CASC",
          "CASC",
          "CASC",
          "CASC",
          "CASC",
          "CASC",
          "CASC",
          "CASC",
          "CASC",
          "CASC",
          "CASC",
          "CASC",
          "CASC",
          "CASC",
          "CASC",
          "CASC",
          "CASC",
          "CASC",
          "CASC",
          "CASC",
          "CASC"
         ],
         "legendgroup": "CASC",
         "line": {
          "color": "#00cc96",
          "dash": "solid"
         },
         "marker": {
          "symbol": "circle"
         },
         "mode": "lines",
         "name": "CASC",
         "orientation": "v",
         "showlegend": true,
         "type": "scatter",
         "x": [
          1970,
          1971,
          1972,
          1973,
          1974,
          1975,
          1976,
          1977,
          1978,
          1979,
          1981,
          1982,
          1983,
          1984,
          1985,
          1986,
          1987,
          1988,
          1990,
          1991,
          1992,
          1993,
          1994,
          1995,
          1996,
          1997,
          1998,
          1999,
          2000,
          2001,
          2002,
          2003,
          2004,
          2005,
          2006,
          2007,
          2008,
          2009,
          2010,
          2011,
          2012,
          2013,
          2014,
          2015,
          2016,
          2017,
          2018,
          2019,
          2020,
          2021,
          2022,
          2023
         ],
         "xaxis": "x",
         "y": [
          1,
          1,
          1,
          1,
          2,
          3,
          3,
          1,
          2,
          1,
          1,
          1,
          1,
          3,
          1,
          2,
          2,
          4,
          5,
          1,
          4,
          1,
          5,
          3,
          4,
          6,
          6,
          4,
          5,
          1,
          4,
          6,
          8,
          5,
          6,
          10,
          11,
          6,
          15,
          19,
          19,
          14,
          15,
          19,
          22,
          16,
          37,
          27,
          34,
          48,
          54,
          13
         ],
         "yaxis": "y"
        },
        {
         "hovertemplate": "<b>%{hovertext}</b><br><br>color=CNES<br>x=%{x}<br>y=%{y}<extra></extra>",
         "hovertext": [
          "CNES",
          "CNES",
          "CNES",
          "CNES"
         ],
         "legendgroup": "CNES",
         "line": {
          "color": "#ab63fa",
          "dash": "solid"
         },
         "marker": {
          "symbol": "circle"
         },
         "mode": "lines",
         "name": "CNES",
         "orientation": "v",
         "showlegend": true,
         "type": "scatter",
         "x": [
          1970,
          1971,
          1973,
          1975
         ],
         "xaxis": "x",
         "y": [
          2,
          2,
          1,
          3
         ],
         "yaxis": "y"
        },
        {
         "hovertemplate": "<b>%{hovertext}</b><br><br>color=ISAS<br>x=%{x}<br>y=%{y}<extra></extra>",
         "hovertext": [
          "ISAS",
          "ISAS",
          "ISAS",
          "ISAS",
          "ISAS",
          "ISAS",
          "ISAS",
          "ISAS",
          "ISAS",
          "ISAS",
          "ISAS",
          "ISAS",
          "ISAS",
          "ISAS",
          "ISAS",
          "ISAS",
          "ISAS",
          "ISAS",
          "ISAS",
          "ISAS",
          "ISAS",
          "ISAS",
          "ISAS",
          "ISAS",
          "ISAS",
          "ISAS"
         ],
         "legendgroup": "ISAS",
         "line": {
          "color": "#FFA15A",
          "dash": "solid"
         },
         "marker": {
          "symbol": "circle"
         },
         "mode": "lines",
         "name": "ISAS",
         "orientation": "v",
         "showlegend": true,
         "type": "scatter",
         "x": [
          1970,
          1971,
          1972,
          1974,
          1975,
          1976,
          1977,
          1978,
          1979,
          1980,
          1981,
          1983,
          1984,
          1985,
          1987,
          1989,
          1990,
          1991,
          1993,
          1995,
          1997,
          1998,
          2000,
          2003,
          2005,
          2006
         ],
         "xaxis": "x",
         "y": [
          1,
          2,
          1,
          1,
          1,
          1,
          1,
          2,
          1,
          1,
          1,
          1,
          1,
          2,
          1,
          1,
          1,
          1,
          1,
          1,
          1,
          1,
          1,
          1,
          1,
          2
         ],
         "yaxis": "y"
        },
        {
         "hovertemplate": "<b>%{hovertext}</b><br><br>color=RAE<br>x=%{x}<br>y=%{y}<extra></extra>",
         "hovertext": [
          "RAE",
          "RAE"
         ],
         "legendgroup": "RAE",
         "line": {
          "color": "#19d3f3",
          "dash": "solid"
         },
         "marker": {
          "symbol": "circle"
         },
         "mode": "lines",
         "name": "RAE",
         "orientation": "v",
         "showlegend": true,
         "type": "scatter",
         "x": [
          1970,
          1971
         ],
         "xaxis": "x",
         "y": [
          1,
          1
         ],
         "yaxis": "y"
        },
        {
         "hovertemplate": "<b>%{hovertext}</b><br><br>color=MHI<br>x=%{x}<br>y=%{y}<extra></extra>",
         "hovertext": [
          "MHI",
          "MHI",
          "MHI",
          "MHI",
          "MHI",
          "MHI",
          "MHI",
          "MHI",
          "MHI",
          "MHI",
          "MHI",
          "MHI",
          "MHI",
          "MHI",
          "MHI",
          "MHI",
          "MHI",
          "MHI",
          "MHI",
          "MHI",
          "MHI",
          "MHI",
          "MHI",
          "MHI",
          "MHI",
          "MHI",
          "MHI",
          "MHI",
          "MHI",
          "MHI",
          "MHI",
          "MHI",
          "MHI",
          "MHI",
          "MHI",
          "MHI",
          "MHI",
          "MHI",
          "MHI",
          "MHI",
          "MHI",
          "MHI",
          "MHI",
          "MHI"
         ],
         "legendgroup": "MHI",
         "line": {
          "color": "#FF6692",
          "dash": "solid"
         },
         "marker": {
          "symbol": "circle"
         },
         "mode": "lines",
         "name": "MHI",
         "orientation": "v",
         "showlegend": true,
         "type": "scatter",
         "x": [
          1975,
          1976,
          1977,
          1978,
          1979,
          1980,
          1981,
          1982,
          1983,
          1984,
          1986,
          1987,
          1988,
          1989,
          1990,
          1991,
          1992,
          1994,
          1995,
          1996,
          1997,
          1998,
          1999,
          2001,
          2002,
          2003,
          2005,
          2006,
          2007,
          2008,
          2009,
          2010,
          2011,
          2012,
          2013,
          2014,
          2015,
          2016,
          2017,
          2018,
          2019,
          2020,
          2021,
          2023
         ],
         "xaxis": "x",
         "y": [
          1,
          1,
          1,
          1,
          1,
          1,
          2,
          1,
          2,
          2,
          2,
          2,
          2,
          1,
          2,
          1,
          1,
          2,
          1,
          1,
          1,
          1,
          1,
          1,
          3,
          2,
          1,
          4,
          2,
          1,
          3,
          2,
          3,
          2,
          2,
          4,
          4,
          3,
          6,
          4,
          1,
          3,
          2,
          2
         ],
         "yaxis": "y"
        },
        {
         "hovertemplate": "<b>%{hovertext}</b><br><br>color=ESA<br>x=%{x}<br>y=%{y}<extra></extra>",
         "hovertext": [
          "ESA",
          "ESA",
          "ESA",
          "ESA",
          "ESA",
          "ESA",
          "ESA",
          "ESA",
          "ESA",
          "ESA",
          "ESA",
          "ESA"
         ],
         "legendgroup": "ESA",
         "line": {
          "color": "#B6E880",
          "dash": "solid"
         },
         "marker": {
          "symbol": "circle"
         },
         "mode": "lines",
         "name": "ESA",
         "orientation": "v",
         "showlegend": true,
         "type": "scatter",
         "x": [
          1979,
          1980,
          1981,
          1982,
          1983,
          1984,
          1988,
          1996,
          1997,
          1998,
          2012,
          2022
         ],
         "xaxis": "x",
         "y": [
          1,
          1,
          2,
          1,
          2,
          1,
          1,
          1,
          1,
          1,
          1,
          1
         ],
         "yaxis": "y"
        },
        {
         "hovertemplate": "<b>%{hovertext}</b><br><br>color=ISRO<br>x=%{x}<br>y=%{y}<extra></extra>",
         "hovertext": [
          "ISRO",
          "ISRO",
          "ISRO",
          "ISRO",
          "ISRO",
          "ISRO",
          "ISRO",
          "ISRO",
          "ISRO",
          "ISRO",
          "ISRO",
          "ISRO",
          "ISRO",
          "ISRO",
          "ISRO",
          "ISRO",
          "ISRO",
          "ISRO",
          "ISRO",
          "ISRO",
          "ISRO",
          "ISRO",
          "ISRO",
          "ISRO",
          "ISRO",
          "ISRO",
          "ISRO",
          "ISRO",
          "ISRO",
          "ISRO",
          "ISRO",
          "ISRO",
          "ISRO",
          "ISRO",
          "ISRO"
         ],
         "legendgroup": "ISRO",
         "line": {
          "color": "#FF97FF",
          "dash": "solid"
         },
         "marker": {
          "symbol": "circle"
         },
         "mode": "lines",
         "name": "ISRO",
         "orientation": "v",
         "showlegend": true,
         "type": "scatter",
         "x": [
          1979,
          1980,
          1981,
          1983,
          1987,
          1988,
          1992,
          1993,
          1994,
          1996,
          1997,
          1999,
          2001,
          2002,
          2003,
          2004,
          2005,
          2006,
          2007,
          2008,
          2009,
          2010,
          2011,
          2012,
          2013,
          2014,
          2015,
          2016,
          2017,
          2018,
          2019,
          2020,
          2021,
          2022,
          2023
         ],
         "xaxis": "x",
         "y": [
          1,
          1,
          1,
          1,
          1,
          1,
          1,
          1,
          2,
          1,
          1,
          1,
          2,
          1,
          2,
          1,
          1,
          1,
          3,
          3,
          2,
          3,
          3,
          2,
          3,
          5,
          5,
          7,
          5,
          7,
          6,
          2,
          2,
          5,
          2
         ],
         "yaxis": "y"
        },
        {
         "hovertemplate": "<b>%{hovertext}</b><br><br>color=Arianespace<br>x=%{x}<br>y=%{y}<extra></extra>",
         "hovertext": [
          "Arianespace",
          "Arianespace",
          "Arianespace",
          "Arianespace",
          "Arianespace",
          "Arianespace",
          "Arianespace",
          "Arianespace",
          "Arianespace",
          "Arianespace",
          "Arianespace",
          "Arianespace",
          "Arianespace",
          "Arianespace",
          "Arianespace",
          "Arianespace",
          "Arianespace",
          "Arianespace",
          "Arianespace",
          "Arianespace",
          "Arianespace",
          "Arianespace",
          "Arianespace",
          "Arianespace",
          "Arianespace",
          "Arianespace",
          "Arianespace",
          "Arianespace",
          "Arianespace",
          "Arianespace",
          "Arianespace",
          "Arianespace",
          "Arianespace",
          "Arianespace",
          "Arianespace",
          "Arianespace",
          "Arianespace",
          "Arianespace",
          "Arianespace",
          "Arianespace"
         ],
         "legendgroup": "Arianespace",
         "line": {
          "color": "#FECB52",
          "dash": "solid"
         },
         "marker": {
          "symbol": "circle"
         },
         "mode": "lines",
         "name": "Arianespace",
         "orientation": "v",
         "showlegend": true,
         "type": "scatter",
         "x": [
          1984,
          1985,
          1986,
          1987,
          1988,
          1989,
          1990,
          1991,
          1992,
          1993,
          1994,
          1995,
          1996,
          1997,
          1998,
          1999,
          2000,
          2001,
          2002,
          2003,
          2004,
          2005,
          2006,
          2007,
          2008,
          2009,
          2010,
          2011,
          2012,
          2013,
          2014,
          2015,
          2016,
          2017,
          2018,
          2019,
          2020,
          2021,
          2022,
          2023
         ],
         "xaxis": "x",
         "y": [
          3,
          4,
          3,
          2,
          6,
          7,
          6,
          8,
          7,
          7,
          8,
          11,
          10,
          11,
          10,
          10,
          12,
          8,
          12,
          4,
          3,
          5,
          5,
          6,
          6,
          7,
          6,
          7,
          9,
          7,
          11,
          12,
          11,
          11,
          11,
          9,
          7,
          7,
          5,
          1
         ],
         "yaxis": "y"
        },
        {
         "hovertemplate": "<b>%{hovertext}</b><br><br>color=IAI<br>x=%{x}<br>y=%{y}<extra></extra>",
         "hovertext": [
          "IAI",
          "IAI",
          "IAI",
          "IAI",
          "IAI",
          "IAI",
          "IAI",
          "IAI",
          "IAI",
          "IAI",
          "IAI",
          "IAI",
          "IAI",
          "IAI"
         ],
         "legendgroup": "IAI",
         "line": {
          "color": "#636efa",
          "dash": "solid"
         },
         "marker": {
          "symbol": "circle"
         },
         "mode": "lines",
         "name": "IAI",
         "orientation": "v",
         "showlegend": true,
         "type": "scatter",
         "x": [
          1988,
          1990,
          1991,
          1993,
          1995,
          1998,
          2002,
          2004,
          2007,
          2010,
          2014,
          2016,
          2020,
          2023
         ],
         "xaxis": "x",
         "y": [
          1,
          1,
          1,
          1,
          1,
          1,
          1,
          1,
          1,
          1,
          1,
          1,
          1,
          1
         ],
         "yaxis": "y"
        },
        {
         "hovertemplate": "<b>%{hovertext}</b><br><br>color=Boeing<br>x=%{x}<br>y=%{y}<extra></extra>",
         "hovertext": [
          "Boeing",
          "Boeing",
          "Boeing",
          "Boeing",
          "Boeing",
          "Boeing",
          "Boeing",
          "Boeing",
          "Boeing",
          "Boeing",
          "Boeing",
          "Boeing",
          "Boeing",
          "Boeing",
          "Boeing",
          "Boeing",
          "Boeing",
          "Boeing"
         ],
         "legendgroup": "Boeing",
         "line": {
          "color": "#EF553B",
          "dash": "solid"
         },
         "marker": {
          "symbol": "circle"
         },
         "mode": "lines",
         "name": "Boeing",
         "orientation": "v",
         "showlegend": true,
         "type": "scatter",
         "x": [
          1989,
          1990,
          1991,
          1992,
          1993,
          1994,
          1995,
          1996,
          1997,
          1998,
          1999,
          2000,
          2001,
          2002,
          2003,
          2004,
          2005,
          2006
         ],
         "xaxis": "x",
         "y": [
          7,
          11,
          5,
          11,
          7,
          3,
          3,
          10,
          11,
          13,
          11,
          7,
          7,
          4,
          9,
          8,
          3,
          8
         ],
         "yaxis": "y"
        },
        {
         "hovertemplate": "<b>%{hovertext}</b><br><br>color=Douglas<br>x=%{x}<br>y=%{y}<extra></extra>",
         "hovertext": [
          "Douglas"
         ],
         "legendgroup": "Douglas",
         "line": {
          "color": "#00cc96",
          "dash": "solid"
         },
         "marker": {
          "symbol": "circle"
         },
         "mode": "lines",
         "name": "Douglas",
         "orientation": "v",
         "showlegend": true,
         "type": "scatter",
         "x": [
          1989
         ],
         "xaxis": "x",
         "y": [
          1
         ],
         "yaxis": "y"
        },
        {
         "hovertemplate": "<b>%{hovertext}</b><br><br>color=Lockheed<br>x=%{x}<br>y=%{y}<extra></extra>",
         "hovertext": [
          "Lockheed",
          "Lockheed",
          "Lockheed",
          "Lockheed",
          "Lockheed",
          "Lockheed",
          "Lockheed",
          "Lockheed",
          "Lockheed",
          "Lockheed",
          "Lockheed",
          "Lockheed",
          "Lockheed"
         ],
         "legendgroup": "Lockheed",
         "line": {
          "color": "#ab63fa",
          "dash": "solid"
         },
         "marker": {
          "symbol": "circle"
         },
         "mode": "lines",
         "name": "Lockheed",
         "orientation": "v",
         "showlegend": true,
         "type": "scatter",
         "x": [
          1990,
          1994,
          1995,
          1996,
          1997,
          1998,
          1999,
          2000,
          2001,
          2002,
          2003,
          2004,
          2005
         ],
         "xaxis": "x",
         "y": [
          1,
          5,
          12,
          6,
          8,
          7,
          10,
          8,
          7,
          4,
          6,
          2,
          3
         ],
         "yaxis": "y"
        },
        {
         "hovertemplate": "<b>%{hovertext}</b><br><br>color=Northrop<br>x=%{x}<br>y=%{y}<extra></extra>",
         "hovertext": [
          "Northrop",
          "Northrop",
          "Northrop",
          "Northrop",
          "Northrop",
          "Northrop",
          "Northrop",
          "Northrop",
          "Northrop",
          "Northrop",
          "Northrop",
          "Northrop",
          "Northrop",
          "Northrop",
          "Northrop",
          "Northrop",
          "Northrop",
          "Northrop",
          "Northrop",
          "Northrop",
          "Northrop",
          "Northrop",
          "Northrop",
          "Northrop",
          "Northrop",
          "Northrop",
          "Northrop",
          "Northrop",
          "Northrop",
          "Northrop",
          "Northrop"
         ],
         "legendgroup": "Northrop",
         "line": {
          "color": "#FFA15A",
          "dash": "solid"
         },
         "marker": {
          "symbol": "circle"
         },
         "mode": "lines",
         "name": "Northrop",
         "orientation": "v",
         "showlegend": true,
         "type": "scatter",
         "x": [
          1990,
          1991,
          1993,
          1994,
          1995,
          1996,
          1997,
          1998,
          1999,
          2000,
          2001,
          2002,
          2003,
          2004,
          2005,
          2006,
          2007,
          2008,
          2009,
          2010,
          2011,
          2012,
          2013,
          2014,
          2016,
          2017,
          2018,
          2019,
          2020,
          2021,
          2022
         ],
         "xaxis": "x",
         "y": [
          1,
          1,
          2,
          4,
          2,
          5,
          5,
          8,
          4,
          5,
          1,
          1,
          4,
          1,
          3,
          3,
          2,
          2,
          2,
          2,
          4,
          1,
          5,
          3,
          2,
          3,
          2,
          3,
          3,
          4,
          2
         ],
         "yaxis": "y"
        },
        {
         "hovertemplate": "<b>%{hovertext}</b><br><br>color=Roscosmos<br>x=%{x}<br>y=%{y}<extra></extra>",
         "hovertext": [
          "Roscosmos",
          "Roscosmos",
          "Roscosmos",
          "Roscosmos",
          "Roscosmos",
          "Roscosmos",
          "Roscosmos",
          "Roscosmos",
          "Roscosmos",
          "Roscosmos",
          "Roscosmos",
          "Roscosmos",
          "Roscosmos",
          "Roscosmos",
          "Roscosmos",
          "Roscosmos",
          "Roscosmos",
          "Roscosmos",
          "Roscosmos",
          "Roscosmos",
          "Roscosmos",
          "Roscosmos",
          "Roscosmos",
          "Roscosmos",
          "Roscosmos",
          "Roscosmos",
          "Roscosmos",
          "Roscosmos",
          "Roscosmos",
          "Roscosmos",
          "Roscosmos",
          "Roscosmos"
         ],
         "legendgroup": "Roscosmos",
         "line": {
          "color": "#19d3f3",
          "dash": "solid"
         },
         "marker": {
          "symbol": "circle"
         },
         "mode": "lines",
         "name": "Roscosmos",
         "orientation": "v",
         "showlegend": true,
         "type": "scatter",
         "x": [
          1992,
          1993,
          1994,
          1995,
          1996,
          1997,
          1998,
          1999,
          2000,
          2001,
          2002,
          2003,
          2004,
          2005,
          2006,
          2007,
          2008,
          2009,
          2010,
          2011,
          2012,
          2013,
          2014,
          2015,
          2016,
          2017,
          2018,
          2019,
          2020,
          2021,
          2022,
          2023
         ],
         "xaxis": "x",
         "y": [
          15,
          13,
          21,
          14,
          12,
          11,
          9,
          7,
          13,
          10,
          8,
          8,
          9,
          9,
          7,
          10,
          10,
          13,
          13,
          16,
          12,
          12,
          16,
          14,
          10,
          11,
          13,
          13,
          5,
          10,
          8,
          3
         ],
         "yaxis": "y"
        },
        {
         "hovertemplate": "<b>%{hovertext}</b><br><br>color=VKS RF<br>x=%{x}<br>y=%{y}<extra></extra>",
         "hovertext": [
          "VKS RF",
          "VKS RF",
          "VKS RF",
          "VKS RF",
          "VKS RF",
          "VKS RF",
          "VKS RF",
          "VKS RF",
          "VKS RF",
          "VKS RF",
          "VKS RF",
          "VKS RF",
          "VKS RF",
          "VKS RF",
          "VKS RF",
          "VKS RF",
          "VKS RF",
          "VKS RF",
          "VKS RF",
          "VKS RF",
          "VKS RF",
          "VKS RF",
          "VKS RF",
          "VKS RF",
          "VKS RF",
          "VKS RF",
          "VKS RF",
          "VKS RF",
          "VKS RF",
          "VKS RF",
          "VKS RF",
          "VKS RF"
         ],
         "legendgroup": "VKS RF",
         "line": {
          "color": "#FF6692",
          "dash": "solid"
         },
         "marker": {
          "symbol": "circle"
         },
         "mode": "lines",
         "name": "VKS RF",
         "orientation": "v",
         "showlegend": true,
         "type": "scatter",
         "x": [
          1992,
          1993,
          1994,
          1995,
          1996,
          1997,
          1998,
          1999,
          2000,
          2001,
          2002,
          2003,
          2004,
          2005,
          2006,
          2007,
          2008,
          2009,
          2010,
          2011,
          2012,
          2013,
          2014,
          2015,
          2016,
          2017,
          2018,
          2019,
          2020,
          2021,
          2022,
          2023
         ],
         "xaxis": "x",
         "y": [
          40,
          34,
          28,
          18,
          14,
          12,
          12,
          9,
          10,
          10,
          9,
          8,
          9,
          7,
          7,
          6,
          7,
          6,
          5,
          7,
          3,
          9,
          12,
          7,
          4,
          4,
          3,
          8,
          7,
          5,
          13,
          3
         ],
         "yaxis": "y"
        },
        {
         "hovertemplate": "<b>%{hovertext}</b><br><br>color=MITT<br>x=%{x}<br>y=%{y}<extra></extra>",
         "hovertext": [
          "MITT",
          "MITT",
          "MITT",
          "MITT",
          "MITT",
          "MITT"
         ],
         "legendgroup": "MITT",
         "line": {
          "color": "#B6E880",
          "dash": "solid"
         },
         "marker": {
          "symbol": "circle"
         },
         "mode": "lines",
         "name": "MITT",
         "orientation": "v",
         "showlegend": true,
         "type": "scatter",
         "x": [
          1993,
          1995,
          1997,
          2000,
          2001,
          2006
         ],
         "xaxis": "x",
         "y": [
          1,
          1,
          2,
          1,
          1,
          1
         ],
         "yaxis": "y"
        },
        {
         "hovertemplate": "<b>%{hovertext}</b><br><br>color=EER<br>x=%{x}<br>y=%{y}<extra></extra>",
         "hovertext": [
          "EER"
         ],
         "legendgroup": "EER",
         "line": {
          "color": "#FF97FF",
          "dash": "solid"
         },
         "marker": {
          "symbol": "circle"
         },
         "mode": "lines",
         "name": "EER",
         "orientation": "v",
         "showlegend": true,
         "type": "scatter",
         "x": [
          1995
         ],
         "xaxis": "x",
         "y": [
          1
         ],
         "yaxis": "y"
        },
        {
         "hovertemplate": "<b>%{hovertext}</b><br><br>color=ILS<br>x=%{x}<br>y=%{y}<extra></extra>",
         "hovertext": [
          "ILS",
          "ILS",
          "ILS",
          "ILS",
          "ILS",
          "ILS",
          "ILS",
          "ILS",
          "ILS",
          "ILS",
          "ILS",
          "ILS",
          "ILS",
          "ILS",
          "ILS",
          "ILS",
          "ILS",
          "ILS",
          "ILS",
          "ILS",
          "ILS",
          "ILS",
          "ILS",
          "ILS"
         ],
         "legendgroup": "ILS",
         "line": {
          "color": "#FECB52",
          "dash": "solid"
         },
         "marker": {
          "symbol": "circle"
         },
         "mode": "lines",
         "name": "ILS",
         "orientation": "v",
         "showlegend": true,
         "type": "scatter",
         "x": [
          1995,
          1996,
          1997,
          1998,
          1999,
          2000,
          2001,
          2002,
          2003,
          2004,
          2005,
          2006,
          2007,
          2008,
          2009,
          2010,
          2011,
          2012,
          2013,
          2014,
          2015,
          2016,
          2017,
          2019
         ],
         "xaxis": "x",
         "y": [
          4,
          6,
          10,
          6,
          8,
          9,
          3,
          8,
          4,
          9,
          6,
          6,
          4,
          6,
          7,
          8,
          5,
          8,
          7,
          3,
          4,
          2,
          3,
          1
         ],
         "yaxis": "y"
        },
        {
         "hovertemplate": "<b>%{hovertext}</b><br><br>color=AEB<br>x=%{x}<br>y=%{y}<extra></extra>",
         "hovertext": [
          "AEB",
          "AEB",
          "AEB"
         ],
         "legendgroup": "AEB",
         "line": {
          "color": "#636efa",
          "dash": "solid"
         },
         "marker": {
          "symbol": "circle"
         },
         "mode": "lines",
         "name": "AEB",
         "orientation": "v",
         "showlegend": true,
         "type": "scatter",
         "x": [
          1997,
          1999,
          2003
         ],
         "xaxis": "x",
         "y": [
          1,
          1,
          1
         ],
         "yaxis": "y"
        },
        {
         "hovertemplate": "<b>%{hovertext}</b><br><br>color=KCST<br>x=%{x}<br>y=%{y}<extra></extra>",
         "hovertext": [
          "KCST",
          "KCST",
          "KCST",
          "KCST"
         ],
         "legendgroup": "KCST",
         "line": {
          "color": "#EF553B",
          "dash": "solid"
         },
         "marker": {
          "symbol": "circle"
         },
         "mode": "lines",
         "name": "KCST",
         "orientation": "v",
         "showlegend": true,
         "type": "scatter",
         "x": [
          1998,
          2009,
          2012,
          2016
         ],
         "xaxis": "x",
         "y": [
          1,
          1,
          2,
          1
         ],
         "yaxis": "y"
        },
        {
         "hovertemplate": "<b>%{hovertext}</b><br><br>color=SRC<br>x=%{x}<br>y=%{y}<extra></extra>",
         "hovertext": [
          "SRC",
          "SRC",
          "SRC"
         ],
         "legendgroup": "SRC",
         "line": {
          "color": "#00cc96",
          "dash": "solid"
         },
         "marker": {
          "symbol": "circle"
         },
         "mode": "lines",
         "name": "SRC",
         "orientation": "v",
         "showlegend": true,
         "type": "scatter",
         "x": [
          1998,
          2005,
          2006
         ],
         "xaxis": "x",
         "y": [
          1,
          1,
          1
         ],
         "yaxis": "y"
        },
        {
         "hovertemplate": "<b>%{hovertext}</b><br><br>color=Kosmotras<br>x=%{x}<br>y=%{y}<extra></extra>",
         "hovertext": [
          "Kosmotras",
          "Kosmotras",
          "Kosmotras",
          "Kosmotras",
          "Kosmotras",
          "Kosmotras",
          "Kosmotras",
          "Kosmotras",
          "Kosmotras",
          "Kosmotras",
          "Kosmotras",
          "Kosmotras",
          "Kosmotras",
          "Kosmotras"
         ],
         "legendgroup": "Kosmotras",
         "line": {
          "color": "#ab63fa",
          "dash": "solid"
         },
         "marker": {
          "symbol": "circle"
         },
         "mode": "lines",
         "name": "Kosmotras",
         "orientation": "v",
         "showlegend": true,
         "type": "scatter",
         "x": [
          1999,
          2000,
          2002,
          2004,
          2005,
          2006,
          2007,
          2008,
          2009,
          2010,
          2011,
          2013,
          2014,
          2015
         ],
         "xaxis": "x",
         "y": [
          1,
          1,
          1,
          1,
          1,
          2,
          3,
          2,
          1,
          3,
          1,
          2,
          2,
          1
         ],
         "yaxis": "y"
        },
        {
         "hovertemplate": "<b>%{hovertext}</b><br><br>color=Sea Launch<br>x=%{x}<br>y=%{y}<extra></extra>",
         "hovertext": [
          "Sea Launch",
          "Sea Launch",
          "Sea Launch",
          "Sea Launch",
          "Sea Launch",
          "Sea Launch",
          "Sea Launch",
          "Sea Launch",
          "Sea Launch",
          "Sea Launch",
          "Sea Launch",
          "Sea Launch",
          "Sea Launch",
          "Sea Launch",
          "Sea Launch"
         ],
         "legendgroup": "Sea Launch",
         "line": {
          "color": "#FFA15A",
          "dash": "solid"
         },
         "marker": {
          "symbol": "circle"
         },
         "mode": "lines",
         "name": "Sea Launch",
         "orientation": "v",
         "showlegend": true,
         "type": "scatter",
         "x": [
          1999,
          2000,
          2001,
          2002,
          2003,
          2004,
          2005,
          2006,
          2007,
          2008,
          2009,
          2011,
          2012,
          2013,
          2014
         ],
         "xaxis": "x",
         "y": [
          2,
          3,
          2,
          1,
          3,
          3,
          4,
          5,
          1,
          5,
          1,
          1,
          3,
          1,
          1
         ],
         "yaxis": "y"
        },
        {
         "hovertemplate": "<b>%{hovertext}</b><br><br>color=Starsem<br>x=%{x}<br>y=%{y}<extra></extra>",
         "hovertext": [
          "Starsem",
          "Starsem",
          "Starsem",
          "Starsem",
          "Starsem",
          "Starsem",
          "Starsem",
          "Starsem",
          "Starsem",
          "Starsem",
          "Starsem",
          "Starsem",
          "Starsem"
         ],
         "legendgroup": "Starsem",
         "line": {
          "color": "#19d3f3",
          "dash": "solid"
         },
         "marker": {
          "symbol": "circle"
         },
         "mode": "lines",
         "name": "Starsem",
         "orientation": "v",
         "showlegend": true,
         "type": "scatter",
         "x": [
          1999,
          2000,
          2003,
          2005,
          2006,
          2007,
          2008,
          2010,
          2011,
          2012,
          2013,
          2020,
          2021
         ],
         "xaxis": "x",
         "y": [
          6,
          4,
          2,
          3,
          2,
          3,
          1,
          1,
          2,
          1,
          1,
          3,
          8
         ],
         "yaxis": "y"
        },
        {
         "hovertemplate": "<b>%{hovertext}</b><br><br>color=Eurockot<br>x=%{x}<br>y=%{y}<extra></extra>",
         "hovertext": [
          "Eurockot",
          "Eurockot",
          "Eurockot",
          "Eurockot",
          "Eurockot",
          "Eurockot",
          "Eurockot",
          "Eurockot",
          "Eurockot",
          "Eurockot"
         ],
         "legendgroup": "Eurockot",
         "line": {
          "color": "#FF6692",
          "dash": "solid"
         },
         "marker": {
          "symbol": "circle"
         },
         "mode": "lines",
         "name": "Eurockot",
         "orientation": "v",
         "showlegend": true,
         "type": "scatter",
         "x": [
          2000,
          2002,
          2003,
          2005,
          2006,
          2009,
          2010,
          2016,
          2017,
          2018
         ],
         "xaxis": "x",
         "y": [
          1,
          2,
          2,
          1,
          1,
          2,
          1,
          1,
          1,
          1
         ],
         "yaxis": "y"
        },
        {
         "hovertemplate": "<b>%{hovertext}</b><br><br>color=CASIC<br>x=%{x}<br>y=%{y}<extra></extra>",
         "hovertext": [
          "CASIC",
          "CASIC",
          "CASIC",
          "CASIC",
          "CASIC",
          "CASIC"
         ],
         "legendgroup": "CASIC",
         "line": {
          "color": "#B6E880",
          "dash": "solid"
         },
         "marker": {
          "symbol": "circle"
         },
         "mode": "lines",
         "name": "CASIC",
         "orientation": "v",
         "showlegend": true,
         "type": "scatter",
         "x": [
          2002,
          2003,
          2013,
          2014,
          2017,
          2022
         ],
         "xaxis": "x",
         "y": [
          1,
          1,
          1,
          1,
          1,
          4
         ],
         "yaxis": "y"
        },
        {
         "hovertemplate": "<b>%{hovertext}</b><br><br>color=Scaled<br>x=%{x}<br>y=%{y}<extra></extra>",
         "hovertext": [
          "Scaled"
         ],
         "legendgroup": "Scaled",
         "line": {
          "color": "#FF97FF",
          "dash": "solid"
         },
         "marker": {
          "symbol": "circle"
         },
         "mode": "lines",
         "name": "Scaled",
         "orientation": "v",
         "showlegend": true,
         "type": "scatter",
         "x": [
          2004
         ],
         "xaxis": "x",
         "y": [
          3
         ],
         "yaxis": "y"
        },
        {
         "hovertemplate": "<b>%{hovertext}</b><br><br>color=SpaceX<br>x=%{x}<br>y=%{y}<extra></extra>",
         "hovertext": [
          "SpaceX",
          "SpaceX",
          "SpaceX",
          "SpaceX",
          "SpaceX",
          "SpaceX",
          "SpaceX",
          "SpaceX",
          "SpaceX",
          "SpaceX",
          "SpaceX",
          "SpaceX",
          "SpaceX",
          "SpaceX",
          "SpaceX",
          "SpaceX",
          "SpaceX"
         ],
         "legendgroup": "SpaceX",
         "line": {
          "color": "#FECB52",
          "dash": "solid"
         },
         "marker": {
          "symbol": "circle"
         },
         "mode": "lines",
         "name": "SpaceX",
         "orientation": "v",
         "showlegend": true,
         "type": "scatter",
         "x": [
          2006,
          2007,
          2008,
          2009,
          2010,
          2012,
          2013,
          2014,
          2015,
          2016,
          2017,
          2018,
          2019,
          2020,
          2021,
          2022,
          2023
         ],
         "xaxis": "x",
         "y": [
          1,
          1,
          2,
          1,
          2,
          2,
          3,
          6,
          7,
          9,
          18,
          21,
          13,
          27,
          35,
          61,
          24
         ],
         "yaxis": "y"
        },
        {
         "hovertemplate": "<b>%{hovertext}</b><br><br>color=ULA<br>x=%{x}<br>y=%{y}<extra></extra>",
         "hovertext": [
          "ULA",
          "ULA",
          "ULA",
          "ULA",
          "ULA",
          "ULA",
          "ULA",
          "ULA",
          "ULA",
          "ULA",
          "ULA",
          "ULA",
          "ULA",
          "ULA",
          "ULA",
          "ULA",
          "ULA"
         ],
         "legendgroup": "ULA",
         "line": {
          "color": "#636efa",
          "dash": "solid"
         },
         "marker": {
          "symbol": "circle"
         },
         "mode": "lines",
         "name": "ULA",
         "orientation": "v",
         "showlegend": true,
         "type": "scatter",
         "x": [
          2006,
          2007,
          2008,
          2009,
          2010,
          2011,
          2012,
          2013,
          2014,
          2015,
          2016,
          2017,
          2018,
          2019,
          2020,
          2021,
          2022
         ],
         "xaxis": "x",
         "y": [
          1,
          13,
          7,
          16,
          8,
          11,
          10,
          11,
          14,
          12,
          12,
          8,
          8,
          5,
          6,
          5,
          8
         ],
         "yaxis": "y"
        },
        {
         "hovertemplate": "<b>%{hovertext}</b><br><br>color=ISA<br>x=%{x}<br>y=%{y}<extra></extra>",
         "hovertext": [
          "ISA",
          "ISA",
          "ISA",
          "ISA",
          "ISA",
          "ISA",
          "ISA",
          "ISA",
          "ISA",
          "ISA"
         ],
         "legendgroup": "ISA",
         "line": {
          "color": "#EF553B",
          "dash": "solid"
         },
         "marker": {
          "symbol": "circle"
         },
         "mode": "lines",
         "name": "ISA",
         "orientation": "v",
         "showlegend": true,
         "type": "scatter",
         "x": [
          2008,
          2009,
          2011,
          2012,
          2015,
          2017,
          2019,
          2020,
          2021,
          2022
         ],
         "xaxis": "x",
         "y": [
          1,
          1,
          1,
          3,
          1,
          1,
          3,
          1,
          2,
          1
         ],
         "yaxis": "y"
        },
        {
         "hovertemplate": "<b>%{hovertext}</b><br><br>color=Land Launch<br>x=%{x}<br>y=%{y}<extra></extra>",
         "hovertext": [
          "Land Launch",
          "Land Launch",
          "Land Launch",
          "Land Launch"
         ],
         "legendgroup": "Land Launch",
         "line": {
          "color": "#00cc96",
          "dash": "solid"
         },
         "marker": {
          "symbol": "circle"
         },
         "mode": "lines",
         "name": "Land Launch",
         "orientation": "v",
         "showlegend": true,
         "type": "scatter",
         "x": [
          2008,
          2009,
          2011,
          2013
         ],
         "xaxis": "x",
         "y": [
          1,
          3,
          1,
          1
         ],
         "yaxis": "y"
        },
        {
         "hovertemplate": "<b>%{hovertext}</b><br><br>color=KARI<br>x=%{x}<br>y=%{y}<extra></extra>",
         "hovertext": [
          "KARI",
          "KARI",
          "KARI",
          "KARI",
          "KARI"
         ],
         "legendgroup": "KARI",
         "line": {
          "color": "#ab63fa",
          "dash": "solid"
         },
         "marker": {
          "symbol": "circle"
         },
         "mode": "lines",
         "name": "KARI",
         "orientation": "v",
         "showlegend": true,
         "type": "scatter",
         "x": [
          2009,
          2010,
          2013,
          2021,
          2022
         ],
         "xaxis": "x",
         "y": [
          1,
          1,
          1,
          1,
          1
         ],
         "yaxis": "y"
        },
        {
         "hovertemplate": "<b>%{hovertext}</b><br><br>color=JAXA<br>x=%{x}<br>y=%{y}<extra></extra>",
         "hovertext": [
          "JAXA",
          "JAXA",
          "JAXA",
          "JAXA",
          "JAXA",
          "JAXA",
          "JAXA",
          "JAXA"
         ],
         "legendgroup": "JAXA",
         "line": {
          "color": "#FFA15A",
          "dash": "solid"
         },
         "marker": {
          "symbol": "circle"
         },
         "mode": "lines",
         "name": "JAXA",
         "orientation": "v",
         "showlegend": true,
         "type": "scatter",
         "x": [
          2013,
          2016,
          2017,
          2018,
          2019,
          2020,
          2021,
          2022
         ],
         "xaxis": "x",
         "y": [
          1,
          1,
          1,
          2,
          1,
          1,
          1,
          1
         ],
         "yaxis": "y"
        },
        {
         "hovertemplate": "<b>%{hovertext}</b><br><br>color=Virgin Galactic<br>x=%{x}<br>y=%{y}<extra></extra>",
         "hovertext": [
          "Virgin Galactic",
          "Virgin Galactic",
          "Virgin Galactic",
          "Virgin Galactic",
          "Virgin Galactic",
          "Virgin Galactic"
         ],
         "legendgroup": "Virgin Galactic",
         "line": {
          "color": "#19d3f3",
          "dash": "solid"
         },
         "marker": {
          "symbol": "circle"
         },
         "mode": "lines",
         "name": "Virgin Galactic",
         "orientation": "v",
         "showlegend": true,
         "type": "scatter",
         "x": [
          2013,
          2014,
          2018,
          2019,
          2020,
          2021
         ],
         "xaxis": "x",
         "y": [
          2,
          2,
          4,
          1,
          1,
          2
         ],
         "yaxis": "y"
        },
        {
         "hovertemplate": "<b>%{hovertext}</b><br><br>color=Blue Origin<br>x=%{x}<br>y=%{y}<extra></extra>",
         "hovertext": [
          "Blue Origin",
          "Blue Origin",
          "Blue Origin",
          "Blue Origin",
          "Blue Origin",
          "Blue Origin",
          "Blue Origin",
          "Blue Origin"
         ],
         "legendgroup": "Blue Origin",
         "line": {
          "color": "#FF6692",
          "dash": "solid"
         },
         "marker": {
          "symbol": "circle"
         },
         "mode": "lines",
         "name": "Blue Origin",
         "orientation": "v",
         "showlegend": true,
         "type": "scatter",
         "x": [
          2015,
          2016,
          2017,
          2018,
          2019,
          2020,
          2021,
          2022
         ],
         "xaxis": "x",
         "y": [
          2,
          4,
          1,
          2,
          3,
          1,
          6,
          4
         ],
         "yaxis": "y"
        },
        {
         "hovertemplate": "<b>%{hovertext}</b><br><br>color=Sandia<br>x=%{x}<br>y=%{y}<extra></extra>",
         "hovertext": [
          "Sandia"
         ],
         "legendgroup": "Sandia",
         "line": {
          "color": "#B6E880",
          "dash": "solid"
         },
         "marker": {
          "symbol": "circle"
         },
         "mode": "lines",
         "name": "Sandia",
         "orientation": "v",
         "showlegend": true,
         "type": "scatter",
         "x": [
          2015
         ],
         "xaxis": "x",
         "y": [
          1
         ],
         "yaxis": "y"
        },
        {
         "hovertemplate": "<b>%{hovertext}</b><br><br>color=ExPace<br>x=%{x}<br>y=%{y}<extra></extra>",
         "hovertext": [
          "ExPace",
          "ExPace",
          "ExPace",
          "ExPace",
          "ExPace",
          "ExPace",
          "ExPace"
         ],
         "legendgroup": "ExPace",
         "line": {
          "color": "#FF97FF",
          "dash": "solid"
         },
         "marker": {
          "symbol": "circle"
         },
         "mode": "lines",
         "name": "ExPace",
         "orientation": "v",
         "showlegend": true,
         "type": "scatter",
         "x": [
          2017,
          2018,
          2019,
          2020,
          2021,
          2022,
          2023
         ],
         "xaxis": "x",
         "y": [
          1,
          1,
          5,
          4,
          4,
          1,
          1
         ],
         "yaxis": "y"
        },
        {
         "hovertemplate": "<b>%{hovertext}</b><br><br>color=Rocket Lab<br>x=%{x}<br>y=%{y}<extra></extra>",
         "hovertext": [
          "Rocket Lab",
          "Rocket Lab",
          "Rocket Lab",
          "Rocket Lab",
          "Rocket Lab",
          "Rocket Lab",
          "Rocket Lab"
         ],
         "legendgroup": "Rocket Lab",
         "line": {
          "color": "#FECB52",
          "dash": "solid"
         },
         "marker": {
          "symbol": "circle"
         },
         "mode": "lines",
         "name": "Rocket Lab",
         "orientation": "v",
         "showlegend": true,
         "type": "scatter",
         "x": [
          2017,
          2018,
          2019,
          2020,
          2021,
          2022,
          2023
         ],
         "xaxis": "x",
         "y": [
          1,
          3,
          6,
          7,
          6,
          9,
          3
         ],
         "yaxis": "y"
        },
        {
         "hovertemplate": "<b>%{hovertext}</b><br><br>color=Landspace<br>x=%{x}<br>y=%{y}<extra></extra>",
         "hovertext": [
          "Landspace",
          "Landspace"
         ],
         "legendgroup": "Landspace",
         "line": {
          "color": "#636efa",
          "dash": "solid"
         },
         "marker": {
          "symbol": "circle"
         },
         "mode": "lines",
         "name": "Landspace",
         "orientation": "v",
         "showlegend": true,
         "type": "scatter",
         "x": [
          2018,
          2022
         ],
         "xaxis": "x",
         "y": [
          1,
          1
         ],
         "yaxis": "y"
        },
        {
         "hovertemplate": "<b>%{hovertext}</b><br><br>color=OneSpace<br>x=%{x}<br>y=%{y}<extra></extra>",
         "hovertext": [
          "OneSpace"
         ],
         "legendgroup": "OneSpace",
         "line": {
          "color": "#EF553B",
          "dash": "solid"
         },
         "marker": {
          "symbol": "circle"
         },
         "mode": "lines",
         "name": "OneSpace",
         "orientation": "v",
         "showlegend": true,
         "type": "scatter",
         "x": [
          2019
         ],
         "xaxis": "x",
         "y": [
          1
         ],
         "yaxis": "y"
        },
        {
         "hovertemplate": "<b>%{hovertext}</b><br><br>color=i-Space<br>x=%{x}<br>y=%{y}<extra></extra>",
         "hovertext": [
          "i-Space",
          "i-Space",
          "i-Space",
          "i-Space"
         ],
         "legendgroup": "i-Space",
         "line": {
          "color": "#00cc96",
          "dash": "solid"
         },
         "marker": {
          "symbol": "circle"
         },
         "mode": "lines",
         "name": "i-Space",
         "orientation": "v",
         "showlegend": true,
         "type": "scatter",
         "x": [
          2019,
          2021,
          2022,
          2023
         ],
         "xaxis": "x",
         "y": [
          1,
          2,
          1,
          1
         ],
         "yaxis": "y"
        },
        {
         "hovertemplate": "<b>%{hovertext}</b><br><br>color=Astra<br>x=%{x}<br>y=%{y}<extra></extra>",
         "hovertext": [
          "Astra",
          "Astra",
          "Astra"
         ],
         "legendgroup": "Astra",
         "line": {
          "color": "#ab63fa",
          "dash": "solid"
         },
         "marker": {
          "symbol": "circle"
         },
         "mode": "lines",
         "name": "Astra",
         "orientation": "v",
         "showlegend": true,
         "type": "scatter",
         "x": [
          2020,
          2021,
          2022
         ],
         "xaxis": "x",
         "y": [
          2,
          2,
          3
         ],
         "yaxis": "y"
        },
        {
         "hovertemplate": "<b>%{hovertext}</b><br><br>color=Galactic Energy<br>x=%{x}<br>y=%{y}<extra></extra>",
         "hovertext": [
          "Galactic Energy",
          "Galactic Energy",
          "Galactic Energy",
          "Galactic Energy"
         ],
         "legendgroup": "Galactic Energy",
         "line": {
          "color": "#FFA15A",
          "dash": "solid"
         },
         "marker": {
          "symbol": "circle"
         },
         "mode": "lines",
         "name": "Galactic Energy",
         "orientation": "v",
         "showlegend": true,
         "type": "scatter",
         "x": [
          2020,
          2021,
          2022,
          2023
         ],
         "xaxis": "x",
         "y": [
          1,
          1,
          2,
          1
         ],
         "yaxis": "y"
        },
        {
         "hovertemplate": "<b>%{hovertext}</b><br><br>color=IRGC<br>x=%{x}<br>y=%{y}<extra></extra>",
         "hovertext": [
          "IRGC",
          "IRGC"
         ],
         "legendgroup": "IRGC",
         "line": {
          "color": "#19d3f3",
          "dash": "solid"
         },
         "marker": {
          "symbol": "circle"
         },
         "mode": "lines",
         "name": "IRGC",
         "orientation": "v",
         "showlegend": true,
         "type": "scatter",
         "x": [
          2020,
          2022
         ],
         "xaxis": "x",
         "y": [
          1,
          1
         ],
         "yaxis": "y"
        },
        {
         "hovertemplate": "<b>%{hovertext}</b><br><br>color=Virgin Orbit<br>x=%{x}<br>y=%{y}<extra></extra>",
         "hovertext": [
          "Virgin Orbit",
          "Virgin Orbit",
          "Virgin Orbit",
          "Virgin Orbit"
         ],
         "legendgroup": "Virgin Orbit",
         "line": {
          "color": "#FF6692",
          "dash": "solid"
         },
         "marker": {
          "symbol": "circle"
         },
         "mode": "lines",
         "name": "Virgin Orbit",
         "orientation": "v",
         "showlegend": true,
         "type": "scatter",
         "x": [
          2020,
          2021,
          2022,
          2023
         ],
         "xaxis": "x",
         "y": [
          1,
          2,
          2,
          1
         ],
         "yaxis": "y"
        },
        {
         "hovertemplate": "<b>%{hovertext}</b><br><br>color=Firefly<br>x=%{x}<br>y=%{y}<extra></extra>",
         "hovertext": [
          "Firefly",
          "Firefly"
         ],
         "legendgroup": "Firefly",
         "line": {
          "color": "#B6E880",
          "dash": "solid"
         },
         "marker": {
          "symbol": "circle"
         },
         "mode": "lines",
         "name": "Firefly",
         "orientation": "v",
         "showlegend": true,
         "type": "scatter",
         "x": [
          2021,
          2022
         ],
         "xaxis": "x",
         "y": [
          1,
          1
         ],
         "yaxis": "y"
        },
        {
         "hovertemplate": "<b>%{hovertext}</b><br><br>color=GK LS<br>x=%{x}<br>y=%{y}<extra></extra>",
         "hovertext": [
          "GK LS"
         ],
         "legendgroup": "GK LS",
         "line": {
          "color": "#FF97FF",
          "dash": "solid"
         },
         "marker": {
          "symbol": "circle"
         },
         "mode": "lines",
         "name": "GK LS",
         "orientation": "v",
         "showlegend": true,
         "type": "scatter",
         "x": [
          2021
         ],
         "xaxis": "x",
         "y": [
          1
         ],
         "yaxis": "y"
        },
        {
         "hovertemplate": "<b>%{hovertext}</b><br><br>color=CAS Space<br>x=%{x}<br>y=%{y}<extra></extra>",
         "hovertext": [
          "CAS Space"
         ],
         "legendgroup": "CAS Space",
         "line": {
          "color": "#FECB52",
          "dash": "solid"
         },
         "marker": {
          "symbol": "circle"
         },
         "mode": "lines",
         "name": "CAS Space",
         "orientation": "v",
         "showlegend": true,
         "type": "scatter",
         "x": [
          2022
         ],
         "xaxis": "x",
         "y": [
          1
         ],
         "yaxis": "y"
        },
        {
         "hovertemplate": "<b>%{hovertext}</b><br><br>color=ABL SS<br>x=%{x}<br>y=%{y}<extra></extra>",
         "hovertext": [
          "ABL SS"
         ],
         "legendgroup": "ABL SS",
         "line": {
          "color": "#636efa",
          "dash": "solid"
         },
         "marker": {
          "symbol": "circle"
         },
         "mode": "lines",
         "name": "ABL SS",
         "orientation": "v",
         "showlegend": true,
         "type": "scatter",
         "x": [
          2023
         ],
         "xaxis": "x",
         "y": [
          1
         ],
         "yaxis": "y"
        },
        {
         "hovertemplate": "<b>%{hovertext}</b><br><br>color=Relativity Space<br>x=%{x}<br>y=%{y}<extra></extra>",
         "hovertext": [
          "Relativity Space"
         ],
         "legendgroup": "Relativity Space",
         "line": {
          "color": "#EF553B",
          "dash": "solid"
         },
         "marker": {
          "symbol": "circle"
         },
         "mode": "lines",
         "name": "Relativity Space",
         "orientation": "v",
         "showlegend": true,
         "type": "scatter",
         "x": [
          2023
         ],
         "xaxis": "x",
         "y": [
          1
         ],
         "yaxis": "y"
        },
        {
         "hovertemplate": "<b>%{hovertext}</b><br><br>color=Space Pioneer<br>x=%{x}<br>y=%{y}<extra></extra>",
         "hovertext": [
          "Space Pioneer"
         ],
         "legendgroup": "Space Pioneer",
         "line": {
          "color": "#00cc96",
          "dash": "solid"
         },
         "marker": {
          "symbol": "circle"
         },
         "mode": "lines",
         "name": "Space Pioneer",
         "orientation": "v",
         "showlegend": true,
         "type": "scatter",
         "x": [
          2023
         ],
         "xaxis": "x",
         "y": [
          1
         ],
         "yaxis": "y"
        }
       ],
       "layout": {
        "legend": {
         "title": {
          "text": "color"
         },
         "tracegroupgap": 0
        },
        "margin": {
         "t": 60
        },
        "template": {
         "data": {
          "bar": [
           {
            "error_x": {
             "color": "#2a3f5f"
            },
            "error_y": {
             "color": "#2a3f5f"
            },
            "marker": {
             "line": {
              "color": "#E5ECF6",
              "width": 0.5
             },
             "pattern": {
              "fillmode": "overlay",
              "size": 10,
              "solidity": 0.2
             }
            },
            "type": "bar"
           }
          ],
          "barpolar": [
           {
            "marker": {
             "line": {
              "color": "#E5ECF6",
              "width": 0.5
             },
             "pattern": {
              "fillmode": "overlay",
              "size": 10,
              "solidity": 0.2
             }
            },
            "type": "barpolar"
           }
          ],
          "carpet": [
           {
            "aaxis": {
             "endlinecolor": "#2a3f5f",
             "gridcolor": "white",
             "linecolor": "white",
             "minorgridcolor": "white",
             "startlinecolor": "#2a3f5f"
            },
            "baxis": {
             "endlinecolor": "#2a3f5f",
             "gridcolor": "white",
             "linecolor": "white",
             "minorgridcolor": "white",
             "startlinecolor": "#2a3f5f"
            },
            "type": "carpet"
           }
          ],
          "choropleth": [
           {
            "colorbar": {
             "outlinewidth": 0,
             "ticks": ""
            },
            "type": "choropleth"
           }
          ],
          "contour": [
           {
            "colorbar": {
             "outlinewidth": 0,
             "ticks": ""
            },
            "colorscale": [
             [
              0,
              "#0d0887"
             ],
             [
              0.1111111111111111,
              "#46039f"
             ],
             [
              0.2222222222222222,
              "#7201a8"
             ],
             [
              0.3333333333333333,
              "#9c179e"
             ],
             [
              0.4444444444444444,
              "#bd3786"
             ],
             [
              0.5555555555555556,
              "#d8576b"
             ],
             [
              0.6666666666666666,
              "#ed7953"
             ],
             [
              0.7777777777777778,
              "#fb9f3a"
             ],
             [
              0.8888888888888888,
              "#fdca26"
             ],
             [
              1,
              "#f0f921"
             ]
            ],
            "type": "contour"
           }
          ],
          "contourcarpet": [
           {
            "colorbar": {
             "outlinewidth": 0,
             "ticks": ""
            },
            "type": "contourcarpet"
           }
          ],
          "heatmap": [
           {
            "colorbar": {
             "outlinewidth": 0,
             "ticks": ""
            },
            "colorscale": [
             [
              0,
              "#0d0887"
             ],
             [
              0.1111111111111111,
              "#46039f"
             ],
             [
              0.2222222222222222,
              "#7201a8"
             ],
             [
              0.3333333333333333,
              "#9c179e"
             ],
             [
              0.4444444444444444,
              "#bd3786"
             ],
             [
              0.5555555555555556,
              "#d8576b"
             ],
             [
              0.6666666666666666,
              "#ed7953"
             ],
             [
              0.7777777777777778,
              "#fb9f3a"
             ],
             [
              0.8888888888888888,
              "#fdca26"
             ],
             [
              1,
              "#f0f921"
             ]
            ],
            "type": "heatmap"
           }
          ],
          "heatmapgl": [
           {
            "colorbar": {
             "outlinewidth": 0,
             "ticks": ""
            },
            "colorscale": [
             [
              0,
              "#0d0887"
             ],
             [
              0.1111111111111111,
              "#46039f"
             ],
             [
              0.2222222222222222,
              "#7201a8"
             ],
             [
              0.3333333333333333,
              "#9c179e"
             ],
             [
              0.4444444444444444,
              "#bd3786"
             ],
             [
              0.5555555555555556,
              "#d8576b"
             ],
             [
              0.6666666666666666,
              "#ed7953"
             ],
             [
              0.7777777777777778,
              "#fb9f3a"
             ],
             [
              0.8888888888888888,
              "#fdca26"
             ],
             [
              1,
              "#f0f921"
             ]
            ],
            "type": "heatmapgl"
           }
          ],
          "histogram": [
           {
            "marker": {
             "pattern": {
              "fillmode": "overlay",
              "size": 10,
              "solidity": 0.2
             }
            },
            "type": "histogram"
           }
          ],
          "histogram2d": [
           {
            "colorbar": {
             "outlinewidth": 0,
             "ticks": ""
            },
            "colorscale": [
             [
              0,
              "#0d0887"
             ],
             [
              0.1111111111111111,
              "#46039f"
             ],
             [
              0.2222222222222222,
              "#7201a8"
             ],
             [
              0.3333333333333333,
              "#9c179e"
             ],
             [
              0.4444444444444444,
              "#bd3786"
             ],
             [
              0.5555555555555556,
              "#d8576b"
             ],
             [
              0.6666666666666666,
              "#ed7953"
             ],
             [
              0.7777777777777778,
              "#fb9f3a"
             ],
             [
              0.8888888888888888,
              "#fdca26"
             ],
             [
              1,
              "#f0f921"
             ]
            ],
            "type": "histogram2d"
           }
          ],
          "histogram2dcontour": [
           {
            "colorbar": {
             "outlinewidth": 0,
             "ticks": ""
            },
            "colorscale": [
             [
              0,
              "#0d0887"
             ],
             [
              0.1111111111111111,
              "#46039f"
             ],
             [
              0.2222222222222222,
              "#7201a8"
             ],
             [
              0.3333333333333333,
              "#9c179e"
             ],
             [
              0.4444444444444444,
              "#bd3786"
             ],
             [
              0.5555555555555556,
              "#d8576b"
             ],
             [
              0.6666666666666666,
              "#ed7953"
             ],
             [
              0.7777777777777778,
              "#fb9f3a"
             ],
             [
              0.8888888888888888,
              "#fdca26"
             ],
             [
              1,
              "#f0f921"
             ]
            ],
            "type": "histogram2dcontour"
           }
          ],
          "mesh3d": [
           {
            "colorbar": {
             "outlinewidth": 0,
             "ticks": ""
            },
            "type": "mesh3d"
           }
          ],
          "parcoords": [
           {
            "line": {
             "colorbar": {
              "outlinewidth": 0,
              "ticks": ""
             }
            },
            "type": "parcoords"
           }
          ],
          "pie": [
           {
            "automargin": true,
            "type": "pie"
           }
          ],
          "scatter": [
           {
            "fillpattern": {
             "fillmode": "overlay",
             "size": 10,
             "solidity": 0.2
            },
            "type": "scatter"
           }
          ],
          "scatter3d": [
           {
            "line": {
             "colorbar": {
              "outlinewidth": 0,
              "ticks": ""
             }
            },
            "marker": {
             "colorbar": {
              "outlinewidth": 0,
              "ticks": ""
             }
            },
            "type": "scatter3d"
           }
          ],
          "scattercarpet": [
           {
            "marker": {
             "colorbar": {
              "outlinewidth": 0,
              "ticks": ""
             }
            },
            "type": "scattercarpet"
           }
          ],
          "scattergeo": [
           {
            "marker": {
             "colorbar": {
              "outlinewidth": 0,
              "ticks": ""
             }
            },
            "type": "scattergeo"
           }
          ],
          "scattergl": [
           {
            "marker": {
             "colorbar": {
              "outlinewidth": 0,
              "ticks": ""
             }
            },
            "type": "scattergl"
           }
          ],
          "scattermapbox": [
           {
            "marker": {
             "colorbar": {
              "outlinewidth": 0,
              "ticks": ""
             }
            },
            "type": "scattermapbox"
           }
          ],
          "scatterpolar": [
           {
            "marker": {
             "colorbar": {
              "outlinewidth": 0,
              "ticks": ""
             }
            },
            "type": "scatterpolar"
           }
          ],
          "scatterpolargl": [
           {
            "marker": {
             "colorbar": {
              "outlinewidth": 0,
              "ticks": ""
             }
            },
            "type": "scatterpolargl"
           }
          ],
          "scatterternary": [
           {
            "marker": {
             "colorbar": {
              "outlinewidth": 0,
              "ticks": ""
             }
            },
            "type": "scatterternary"
           }
          ],
          "surface": [
           {
            "colorbar": {
             "outlinewidth": 0,
             "ticks": ""
            },
            "colorscale": [
             [
              0,
              "#0d0887"
             ],
             [
              0.1111111111111111,
              "#46039f"
             ],
             [
              0.2222222222222222,
              "#7201a8"
             ],
             [
              0.3333333333333333,
              "#9c179e"
             ],
             [
              0.4444444444444444,
              "#bd3786"
             ],
             [
              0.5555555555555556,
              "#d8576b"
             ],
             [
              0.6666666666666666,
              "#ed7953"
             ],
             [
              0.7777777777777778,
              "#fb9f3a"
             ],
             [
              0.8888888888888888,
              "#fdca26"
             ],
             [
              1,
              "#f0f921"
             ]
            ],
            "type": "surface"
           }
          ],
          "table": [
           {
            "cells": {
             "fill": {
              "color": "#EBF0F8"
             },
             "line": {
              "color": "white"
             }
            },
            "header": {
             "fill": {
              "color": "#C8D4E3"
             },
             "line": {
              "color": "white"
             }
            },
            "type": "table"
           }
          ]
         },
         "layout": {
          "annotationdefaults": {
           "arrowcolor": "#2a3f5f",
           "arrowhead": 0,
           "arrowwidth": 1
          },
          "autotypenumbers": "strict",
          "coloraxis": {
           "colorbar": {
            "outlinewidth": 0,
            "ticks": ""
           }
          },
          "colorscale": {
           "diverging": [
            [
             0,
             "#8e0152"
            ],
            [
             0.1,
             "#c51b7d"
            ],
            [
             0.2,
             "#de77ae"
            ],
            [
             0.3,
             "#f1b6da"
            ],
            [
             0.4,
             "#fde0ef"
            ],
            [
             0.5,
             "#f7f7f7"
            ],
            [
             0.6,
             "#e6f5d0"
            ],
            [
             0.7,
             "#b8e186"
            ],
            [
             0.8,
             "#7fbc41"
            ],
            [
             0.9,
             "#4d9221"
            ],
            [
             1,
             "#276419"
            ]
           ],
           "sequential": [
            [
             0,
             "#0d0887"
            ],
            [
             0.1111111111111111,
             "#46039f"
            ],
            [
             0.2222222222222222,
             "#7201a8"
            ],
            [
             0.3333333333333333,
             "#9c179e"
            ],
            [
             0.4444444444444444,
             "#bd3786"
            ],
            [
             0.5555555555555556,
             "#d8576b"
            ],
            [
             0.6666666666666666,
             "#ed7953"
            ],
            [
             0.7777777777777778,
             "#fb9f3a"
            ],
            [
             0.8888888888888888,
             "#fdca26"
            ],
            [
             1,
             "#f0f921"
            ]
           ],
           "sequentialminus": [
            [
             0,
             "#0d0887"
            ],
            [
             0.1111111111111111,
             "#46039f"
            ],
            [
             0.2222222222222222,
             "#7201a8"
            ],
            [
             0.3333333333333333,
             "#9c179e"
            ],
            [
             0.4444444444444444,
             "#bd3786"
            ],
            [
             0.5555555555555556,
             "#d8576b"
            ],
            [
             0.6666666666666666,
             "#ed7953"
            ],
            [
             0.7777777777777778,
             "#fb9f3a"
            ],
            [
             0.8888888888888888,
             "#fdca26"
            ],
            [
             1,
             "#f0f921"
            ]
           ]
          },
          "colorway": [
           "#636efa",
           "#EF553B",
           "#00cc96",
           "#ab63fa",
           "#FFA15A",
           "#19d3f3",
           "#FF6692",
           "#B6E880",
           "#FF97FF",
           "#FECB52"
          ],
          "font": {
           "color": "#2a3f5f"
          },
          "geo": {
           "bgcolor": "white",
           "lakecolor": "white",
           "landcolor": "#E5ECF6",
           "showlakes": true,
           "showland": true,
           "subunitcolor": "white"
          },
          "hoverlabel": {
           "align": "left"
          },
          "hovermode": "closest",
          "mapbox": {
           "style": "light"
          },
          "paper_bgcolor": "white",
          "plot_bgcolor": "#E5ECF6",
          "polar": {
           "angularaxis": {
            "gridcolor": "white",
            "linecolor": "white",
            "ticks": ""
           },
           "bgcolor": "#E5ECF6",
           "radialaxis": {
            "gridcolor": "white",
            "linecolor": "white",
            "ticks": ""
           }
          },
          "scene": {
           "xaxis": {
            "backgroundcolor": "#E5ECF6",
            "gridcolor": "white",
            "gridwidth": 2,
            "linecolor": "white",
            "showbackground": true,
            "ticks": "",
            "zerolinecolor": "white"
           },
           "yaxis": {
            "backgroundcolor": "#E5ECF6",
            "gridcolor": "white",
            "gridwidth": 2,
            "linecolor": "white",
            "showbackground": true,
            "ticks": "",
            "zerolinecolor": "white"
           },
           "zaxis": {
            "backgroundcolor": "#E5ECF6",
            "gridcolor": "white",
            "gridwidth": 2,
            "linecolor": "white",
            "showbackground": true,
            "ticks": "",
            "zerolinecolor": "white"
           }
          },
          "shapedefaults": {
           "line": {
            "color": "#2a3f5f"
           }
          },
          "ternary": {
           "aaxis": {
            "gridcolor": "white",
            "linecolor": "white",
            "ticks": ""
           },
           "baxis": {
            "gridcolor": "white",
            "linecolor": "white",
            "ticks": ""
           },
           "bgcolor": "#E5ECF6",
           "caxis": {
            "gridcolor": "white",
            "linecolor": "white",
            "ticks": ""
           }
          },
          "title": {
           "x": 0.05
          },
          "xaxis": {
           "automargin": true,
           "gridcolor": "white",
           "linecolor": "white",
           "ticks": "",
           "title": {
            "standoff": 15
           },
           "zerolinecolor": "white",
           "zerolinewidth": 2
          },
          "yaxis": {
           "automargin": true,
           "gridcolor": "white",
           "linecolor": "white",
           "ticks": "",
           "title": {
            "standoff": 15
           },
           "zerolinecolor": "white",
           "zerolinewidth": 2
          }
         }
        },
        "xaxis": {
         "anchor": "y",
         "domain": [
          0,
          1
         ],
         "title": {
          "text": "x"
         }
        },
        "yaxis": {
         "anchor": "x",
         "domain": [
          0,
          1
         ],
         "title": {
          "text": "y"
         }
        }
       }
      },
      "text/html": [
       "<div>                            <div id=\"b9ae4824-bf14-407d-bcf7-843c9ad5542c\" class=\"plotly-graph-div\" style=\"height:525px; width:100%;\"></div>            <script type=\"text/javascript\">                require([\"plotly\"], function(Plotly) {                    window.PLOTLYENV=window.PLOTLYENV || {};                                    if (document.getElementById(\"b9ae4824-bf14-407d-bcf7-843c9ad5542c\")) {                    Plotly.newPlot(                        \"b9ae4824-bf14-407d-bcf7-843c9ad5542c\",                        [{\"hovertemplate\":\"<b>%{hovertext}</b><br><br>color=RVSN USSR<br>x=%{x}<br>y=%{y}<extra></extra>\",\"hovertext\":[\"RVSN USSR\",\"RVSN USSR\",\"RVSN USSR\",\"RVSN USSR\",\"RVSN USSR\",\"RVSN USSR\",\"RVSN USSR\",\"RVSN USSR\",\"RVSN USSR\",\"RVSN USSR\",\"RVSN USSR\",\"RVSN USSR\",\"RVSN USSR\",\"RVSN USSR\",\"RVSN USSR\",\"RVSN USSR\",\"RVSN USSR\",\"RVSN USSR\",\"RVSN USSR\",\"RVSN USSR\",\"RVSN USSR\",\"RVSN USSR\",\"RVSN USSR\",\"RVSN USSR\",\"RVSN USSR\",\"RVSN USSR\",\"RVSN USSR\",\"RVSN USSR\",\"RVSN USSR\",\"RVSN USSR\",\"RVSN USSR\",\"RVSN USSR\",\"RVSN USSR\",\"RVSN USSR\",\"RVSN USSR\"],\"legendgroup\":\"RVSN USSR\",\"line\":{\"color\":\"#636efa\",\"dash\":\"solid\"},\"marker\":{\"symbol\":\"circle\"},\"mode\":\"lines\",\"name\":\"RVSN USSR\",\"orientation\":\"v\",\"showlegend\":true,\"x\":[1957,1958,1959,1960,1961,1962,1963,1964,1965,1966,1967,1968,1969,1970,1971,1972,1973,1974,1975,1976,1977,1978,1979,1980,1981,1982,1983,1984,1985,1986,1987,1988,1989,1990,1991],\"xaxis\":\"x\",\"y\":[2,5,4,9,9,22,24,36,54,54,74,81,84,89,92,80,91,86,93,100,102,91,89,90,100,108,101,99,101,95,99,95,75,80,62],\"yaxis\":\"y\",\"type\":\"scatter\"},{\"hovertemplate\":\"<b>%{hovertext}</b><br><br>color=US Navy<br>x=%{x}<br>y=%{y}<extra></extra>\",\"hovertext\":[\"US Navy\",\"US Navy\",\"US Navy\"],\"legendgroup\":\"US Navy\",\"line\":{\"color\":\"#EF553B\",\"dash\":\"solid\"},\"marker\":{\"symbol\":\"circle\"},\"mode\":\"lines\",\"name\":\"US Navy\",\"orientation\":\"v\",\"showlegend\":true,\"x\":[1957,1958,1959],\"xaxis\":\"x\",\"y\":[1,12,4],\"yaxis\":\"y\",\"type\":\"scatter\"},{\"hovertemplate\":\"<b>%{hovertext}</b><br><br>color=ABMA<br>x=%{x}<br>y=%{y}<extra></extra>\",\"hovertext\":[\"ABMA\",\"ABMA\",\"ABMA\",\"ABMA\",\"ABMA\"],\"legendgroup\":\"ABMA\",\"line\":{\"color\":\"#00cc96\",\"dash\":\"solid\"},\"marker\":{\"symbol\":\"circle\"},\"mode\":\"lines\",\"name\":\"ABMA\",\"orientation\":\"v\",\"showlegend\":true,\"x\":[1958,1959,1960,1961,1967],\"xaxis\":\"x\",\"y\":[7,4,2,3,1],\"yaxis\":\"y\",\"type\":\"scatter\"},{\"hovertemplate\":\"<b>%{hovertext}</b><br><br>color=NASA<br>x=%{x}<br>y=%{y}<extra></extra>\",\"hovertext\":[\"NASA\",\"NASA\",\"NASA\",\"NASA\",\"NASA\",\"NASA\",\"NASA\",\"NASA\",\"NASA\",\"NASA\",\"NASA\",\"NASA\",\"NASA\",\"NASA\",\"NASA\",\"NASA\",\"NASA\",\"NASA\",\"NASA\",\"NASA\",\"NASA\",\"NASA\",\"NASA\",\"NASA\",\"NASA\",\"NASA\",\"NASA\",\"NASA\",\"NASA\",\"NASA\",\"NASA\",\"NASA\",\"NASA\",\"NASA\",\"NASA\",\"NASA\",\"NASA\",\"NASA\",\"NASA\",\"NASA\",\"NASA\",\"NASA\",\"NASA\",\"NASA\",\"NASA\",\"NASA\",\"NASA\",\"NASA\",\"NASA\"],\"legendgroup\":\"NASA\",\"line\":{\"color\":\"#ab63fa\",\"dash\":\"solid\"},\"marker\":{\"symbol\":\"circle\"},\"mode\":\"lines\",\"name\":\"NASA\",\"orientation\":\"v\",\"showlegend\":true,\"x\":[1958,1959,1960,1961,1962,1963,1964,1965,1966,1967,1968,1969,1970,1971,1972,1973,1974,1975,1979,1981,1982,1983,1984,1985,1986,1988,1989,1990,1991,1992,1993,1994,1995,1996,1997,1998,1999,2000,2001,2002,2003,2005,2006,2007,2008,2009,2010,2011,2022],\"xaxis\":\"x\",\"y\":[2,1,4,13,7,3,7,12,9,1,5,4,2,4,3,4,1,1,2,2,3,4,5,9,2,2,5,6,6,8,7,7,7,7,8,5,3,5,6,5,1,1,3,3,4,6,3,3,1],\"yaxis\":\"y\",\"type\":\"scatter\"},{\"hovertemplate\":\"<b>%{hovertext}</b><br><br>color=US Air Force<br>x=%{x}<br>y=%{y}<extra></extra>\",\"hovertext\":[\"US Air Force\",\"US Air Force\",\"US Air Force\",\"US Air Force\",\"US Air Force\",\"US Air Force\",\"US Air Force\",\"US Air Force\",\"US Air Force\",\"US Air Force\",\"US Air Force\",\"US Air Force\",\"US Air Force\",\"US Air Force\",\"US Air Force\",\"US Air Force\",\"US Air Force\",\"US Air Force\",\"US Air Force\",\"US Air Force\",\"US Air Force\",\"US Air Force\",\"US Air Force\",\"US Air Force\",\"US Air Force\",\"US Air Force\",\"US Air Force\",\"US Air Force\",\"US Air Force\",\"US Air Force\",\"US Air Force\",\"US Air Force\",\"US Air Force\",\"US Air Force\",\"US Air Force\",\"US Air Force\"],\"legendgroup\":\"US Air Force\",\"line\":{\"color\":\"#FFA15A\",\"dash\":\"solid\"},\"marker\":{\"symbol\":\"circle\"},\"mode\":\"lines\",\"name\":\"US Air Force\",\"orientation\":\"v\",\"showlegend\":true,\"x\":[1958,1959,1960,1961,1962,1963,1964,1965,1966,1967,1968,1969,1970,1971,1972,1973,1974,1975,1976,1977,1978,1979,1980,1981,1982,1983,1984,1985,1986,1987,1988,1990,1991,1992,1993,1994],\"xaxis\":\"x\",\"y\":[2,10,21,23,41,35,39,37,34,42,33,30,22,19,18,11,15,17,15,14,12,6,4,7,8,10,6,2,3,3,4,1,1,2,1,1],\"yaxis\":\"y\",\"type\":\"scatter\"},{\"hovertemplate\":\"<b>%{hovertext}</b><br><br>color=General Dynamics<br>x=%{x}<br>y=%{y}<extra></extra>\",\"hovertext\":[\"General Dynamics\",\"General Dynamics\",\"General Dynamics\",\"General Dynamics\",\"General Dynamics\",\"General Dynamics\",\"General Dynamics\",\"General Dynamics\",\"General Dynamics\",\"General Dynamics\",\"General Dynamics\",\"General Dynamics\",\"General Dynamics\",\"General Dynamics\",\"General Dynamics\",\"General Dynamics\",\"General Dynamics\",\"General Dynamics\",\"General Dynamics\",\"General Dynamics\",\"General Dynamics\",\"General Dynamics\",\"General Dynamics\",\"General Dynamics\",\"General Dynamics\",\"General Dynamics\",\"General Dynamics\",\"General Dynamics\",\"General Dynamics\",\"General Dynamics\",\"General Dynamics\",\"General Dynamics\",\"General Dynamics\",\"General Dynamics\",\"General Dynamics\",\"General Dynamics\",\"General Dynamics\"],\"legendgroup\":\"General Dynamics\",\"line\":{\"color\":\"#19d3f3\",\"dash\":\"solid\"},\"marker\":{\"symbol\":\"circle\"},\"mode\":\"lines\",\"name\":\"General Dynamics\",\"orientation\":\"v\",\"showlegend\":true,\"x\":[1959,1960,1961,1962,1963,1964,1965,1966,1967,1968,1969,1970,1971,1972,1973,1974,1975,1976,1977,1978,1979,1980,1981,1982,1983,1984,1985,1986,1987,1988,1989,1990,1991,1992,1993,1994,1995],\"xaxis\":\"x\",\"y\":[1,5,8,14,9,18,19,33,14,8,5,3,6,6,4,2,5,4,7,14,4,8,6,3,6,5,5,3,3,2,1,2,4,5,6,2,1],\"yaxis\":\"y\",\"type\":\"scatter\"},{\"hovertemplate\":\"<b>%{hovertext}</b><br><br>color=Arm\\u00e9e de l'Air<br>x=%{x}<br>y=%{y}<extra></extra>\",\"hovertext\":[\"Arm\\u00e9e de l'Air\",\"Arm\\u00e9e de l'Air\",\"Arm\\u00e9e de l'Air\"],\"legendgroup\":\"Arm\\u00e9e de l'Air\",\"line\":{\"color\":\"#FF6692\",\"dash\":\"solid\"},\"marker\":{\"symbol\":\"circle\"},\"mode\":\"lines\",\"name\":\"Arm\\u00e9e de l'Air\",\"orientation\":\"v\",\"showlegend\":true,\"x\":[1965,1966,1967],\"xaxis\":\"x\",\"y\":[1,1,2],\"yaxis\":\"y\",\"type\":\"scatter\"},{\"hovertemplate\":\"<b>%{hovertext}</b><br><br>color=Martin Marietta<br>x=%{x}<br>y=%{y}<extra></extra>\",\"hovertext\":[\"Martin Marietta\",\"Martin Marietta\",\"Martin Marietta\",\"Martin Marietta\",\"Martin Marietta\",\"Martin Marietta\",\"Martin Marietta\",\"Martin Marietta\",\"Martin Marietta\",\"Martin Marietta\",\"Martin Marietta\",\"Martin Marietta\",\"Martin Marietta\",\"Martin Marietta\",\"Martin Marietta\",\"Martin Marietta\",\"Martin Marietta\",\"Martin Marietta\",\"Martin Marietta\",\"Martin Marietta\",\"Martin Marietta\",\"Martin Marietta\",\"Martin Marietta\",\"Martin Marietta\",\"Martin Marietta\",\"Martin Marietta\",\"Martin Marietta\",\"Martin Marietta\",\"Martin Marietta\",\"Martin Marietta\"],\"legendgroup\":\"Martin Marietta\",\"line\":{\"color\":\"#B6E880\",\"dash\":\"solid\"},\"marker\":{\"symbol\":\"circle\"},\"mode\":\"lines\",\"name\":\"Martin Marietta\",\"orientation\":\"v\",\"showlegend\":true,\"x\":[1965,1966,1967,1968,1969,1970,1971,1972,1973,1974,1975,1976,1977,1978,1979,1980,1981,1982,1983,1984,1985,1986,1987,1988,1989,1990,1991,1992,1993,1994],\"xaxis\":\"x\",\"y\":[3,3,3,2,2,2,4,5,6,5,7,7,5,7,4,3,4,4,2,6,2,1,3,3,4,5,2,3,2,5],\"yaxis\":\"y\",\"type\":\"scatter\"},{\"hovertemplate\":\"<b>%{hovertext}</b><br><br>color=UT<br>x=%{x}<br>y=%{y}<extra></extra>\",\"hovertext\":[\"UT\",\"UT\",\"UT\",\"UT\"],\"legendgroup\":\"UT\",\"line\":{\"color\":\"#FF97FF\",\"dash\":\"solid\"},\"marker\":{\"symbol\":\"circle\"},\"mode\":\"lines\",\"name\":\"UT\",\"orientation\":\"v\",\"showlegend\":true,\"x\":[1966,1967,1969,1970],\"xaxis\":\"x\",\"y\":[2,1,1,1],\"yaxis\":\"y\",\"type\":\"scatter\"},{\"hovertemplate\":\"<b>%{hovertext}</b><br><br>color=ASI<br>x=%{x}<br>y=%{y}<extra></extra>\",\"hovertext\":[\"ASI\",\"ASI\",\"ASI\",\"ASI\",\"ASI\",\"ASI\",\"ASI\"],\"legendgroup\":\"ASI\",\"line\":{\"color\":\"#FECB52\",\"dash\":\"solid\"},\"marker\":{\"symbol\":\"circle\"},\"mode\":\"lines\",\"name\":\"ASI\",\"orientation\":\"v\",\"showlegend\":true,\"x\":[1967,1970,1971,1972,1974,1975,1988],\"xaxis\":\"x\",\"y\":[1,1,2,1,2,1,1],\"yaxis\":\"y\",\"type\":\"scatter\"},{\"hovertemplate\":\"<b>%{hovertext}</b><br><br>color=OKB-586<br>x=%{x}<br>y=%{y}<extra></extra>\",\"hovertext\":[\"OKB-586\",\"OKB-586\"],\"legendgroup\":\"OKB-586\",\"line\":{\"color\":\"#636efa\",\"dash\":\"solid\"},\"marker\":{\"symbol\":\"circle\"},\"mode\":\"lines\",\"name\":\"OKB-586\",\"orientation\":\"v\",\"showlegend\":true,\"x\":[1967,1968],\"xaxis\":\"x\",\"y\":[1,1],\"yaxis\":\"y\",\"type\":\"scatter\"},{\"hovertemplate\":\"<b>%{hovertext}</b><br><br>color=CECLES<br>x=%{x}<br>y=%{y}<extra></extra>\",\"hovertext\":[\"CECLES\",\"CECLES\",\"CECLES\",\"CECLES\"],\"legendgroup\":\"CECLES\",\"line\":{\"color\":\"#EF553B\",\"dash\":\"solid\"},\"marker\":{\"symbol\":\"circle\"},\"mode\":\"lines\",\"name\":\"CECLES\",\"orientation\":\"v\",\"showlegend\":true,\"x\":[1968,1969,1970,1971],\"xaxis\":\"x\",\"y\":[1,1,1,1],\"yaxis\":\"y\",\"type\":\"scatter\"},{\"hovertemplate\":\"<b>%{hovertext}</b><br><br>color=CASC<br>x=%{x}<br>y=%{y}<extra></extra>\",\"hovertext\":[\"CASC\",\"CASC\",\"CASC\",\"CASC\",\"CASC\",\"CASC\",\"CASC\",\"CASC\",\"CASC\",\"CASC\",\"CASC\",\"CASC\",\"CASC\",\"CASC\",\"CASC\",\"CASC\",\"CASC\",\"CASC\",\"CASC\",\"CASC\",\"CASC\",\"CASC\",\"CASC\",\"CASC\",\"CASC\",\"CASC\",\"CASC\",\"CASC\",\"CASC\",\"CASC\",\"CASC\",\"CASC\",\"CASC\",\"CASC\",\"CASC\",\"CASC\",\"CASC\",\"CASC\",\"CASC\",\"CASC\",\"CASC\",\"CASC\",\"CASC\",\"CASC\",\"CASC\",\"CASC\",\"CASC\",\"CASC\",\"CASC\",\"CASC\",\"CASC\",\"CASC\"],\"legendgroup\":\"CASC\",\"line\":{\"color\":\"#00cc96\",\"dash\":\"solid\"},\"marker\":{\"symbol\":\"circle\"},\"mode\":\"lines\",\"name\":\"CASC\",\"orientation\":\"v\",\"showlegend\":true,\"x\":[1970,1971,1972,1973,1974,1975,1976,1977,1978,1979,1981,1982,1983,1984,1985,1986,1987,1988,1990,1991,1992,1993,1994,1995,1996,1997,1998,1999,2000,2001,2002,2003,2004,2005,2006,2007,2008,2009,2010,2011,2012,2013,2014,2015,2016,2017,2018,2019,2020,2021,2022,2023],\"xaxis\":\"x\",\"y\":[1,1,1,1,2,3,3,1,2,1,1,1,1,3,1,2,2,4,5,1,4,1,5,3,4,6,6,4,5,1,4,6,8,5,6,10,11,6,15,19,19,14,15,19,22,16,37,27,34,48,54,13],\"yaxis\":\"y\",\"type\":\"scatter\"},{\"hovertemplate\":\"<b>%{hovertext}</b><br><br>color=CNES<br>x=%{x}<br>y=%{y}<extra></extra>\",\"hovertext\":[\"CNES\",\"CNES\",\"CNES\",\"CNES\"],\"legendgroup\":\"CNES\",\"line\":{\"color\":\"#ab63fa\",\"dash\":\"solid\"},\"marker\":{\"symbol\":\"circle\"},\"mode\":\"lines\",\"name\":\"CNES\",\"orientation\":\"v\",\"showlegend\":true,\"x\":[1970,1971,1973,1975],\"xaxis\":\"x\",\"y\":[2,2,1,3],\"yaxis\":\"y\",\"type\":\"scatter\"},{\"hovertemplate\":\"<b>%{hovertext}</b><br><br>color=ISAS<br>x=%{x}<br>y=%{y}<extra></extra>\",\"hovertext\":[\"ISAS\",\"ISAS\",\"ISAS\",\"ISAS\",\"ISAS\",\"ISAS\",\"ISAS\",\"ISAS\",\"ISAS\",\"ISAS\",\"ISAS\",\"ISAS\",\"ISAS\",\"ISAS\",\"ISAS\",\"ISAS\",\"ISAS\",\"ISAS\",\"ISAS\",\"ISAS\",\"ISAS\",\"ISAS\",\"ISAS\",\"ISAS\",\"ISAS\",\"ISAS\"],\"legendgroup\":\"ISAS\",\"line\":{\"color\":\"#FFA15A\",\"dash\":\"solid\"},\"marker\":{\"symbol\":\"circle\"},\"mode\":\"lines\",\"name\":\"ISAS\",\"orientation\":\"v\",\"showlegend\":true,\"x\":[1970,1971,1972,1974,1975,1976,1977,1978,1979,1980,1981,1983,1984,1985,1987,1989,1990,1991,1993,1995,1997,1998,2000,2003,2005,2006],\"xaxis\":\"x\",\"y\":[1,2,1,1,1,1,1,2,1,1,1,1,1,2,1,1,1,1,1,1,1,1,1,1,1,2],\"yaxis\":\"y\",\"type\":\"scatter\"},{\"hovertemplate\":\"<b>%{hovertext}</b><br><br>color=RAE<br>x=%{x}<br>y=%{y}<extra></extra>\",\"hovertext\":[\"RAE\",\"RAE\"],\"legendgroup\":\"RAE\",\"line\":{\"color\":\"#19d3f3\",\"dash\":\"solid\"},\"marker\":{\"symbol\":\"circle\"},\"mode\":\"lines\",\"name\":\"RAE\",\"orientation\":\"v\",\"showlegend\":true,\"x\":[1970,1971],\"xaxis\":\"x\",\"y\":[1,1],\"yaxis\":\"y\",\"type\":\"scatter\"},{\"hovertemplate\":\"<b>%{hovertext}</b><br><br>color=MHI<br>x=%{x}<br>y=%{y}<extra></extra>\",\"hovertext\":[\"MHI\",\"MHI\",\"MHI\",\"MHI\",\"MHI\",\"MHI\",\"MHI\",\"MHI\",\"MHI\",\"MHI\",\"MHI\",\"MHI\",\"MHI\",\"MHI\",\"MHI\",\"MHI\",\"MHI\",\"MHI\",\"MHI\",\"MHI\",\"MHI\",\"MHI\",\"MHI\",\"MHI\",\"MHI\",\"MHI\",\"MHI\",\"MHI\",\"MHI\",\"MHI\",\"MHI\",\"MHI\",\"MHI\",\"MHI\",\"MHI\",\"MHI\",\"MHI\",\"MHI\",\"MHI\",\"MHI\",\"MHI\",\"MHI\",\"MHI\",\"MHI\"],\"legendgroup\":\"MHI\",\"line\":{\"color\":\"#FF6692\",\"dash\":\"solid\"},\"marker\":{\"symbol\":\"circle\"},\"mode\":\"lines\",\"name\":\"MHI\",\"orientation\":\"v\",\"showlegend\":true,\"x\":[1975,1976,1977,1978,1979,1980,1981,1982,1983,1984,1986,1987,1988,1989,1990,1991,1992,1994,1995,1996,1997,1998,1999,2001,2002,2003,2005,2006,2007,2008,2009,2010,2011,2012,2013,2014,2015,2016,2017,2018,2019,2020,2021,2023],\"xaxis\":\"x\",\"y\":[1,1,1,1,1,1,2,1,2,2,2,2,2,1,2,1,1,2,1,1,1,1,1,1,3,2,1,4,2,1,3,2,3,2,2,4,4,3,6,4,1,3,2,2],\"yaxis\":\"y\",\"type\":\"scatter\"},{\"hovertemplate\":\"<b>%{hovertext}</b><br><br>color=ESA<br>x=%{x}<br>y=%{y}<extra></extra>\",\"hovertext\":[\"ESA\",\"ESA\",\"ESA\",\"ESA\",\"ESA\",\"ESA\",\"ESA\",\"ESA\",\"ESA\",\"ESA\",\"ESA\",\"ESA\"],\"legendgroup\":\"ESA\",\"line\":{\"color\":\"#B6E880\",\"dash\":\"solid\"},\"marker\":{\"symbol\":\"circle\"},\"mode\":\"lines\",\"name\":\"ESA\",\"orientation\":\"v\",\"showlegend\":true,\"x\":[1979,1980,1981,1982,1983,1984,1988,1996,1997,1998,2012,2022],\"xaxis\":\"x\",\"y\":[1,1,2,1,2,1,1,1,1,1,1,1],\"yaxis\":\"y\",\"type\":\"scatter\"},{\"hovertemplate\":\"<b>%{hovertext}</b><br><br>color=ISRO<br>x=%{x}<br>y=%{y}<extra></extra>\",\"hovertext\":[\"ISRO\",\"ISRO\",\"ISRO\",\"ISRO\",\"ISRO\",\"ISRO\",\"ISRO\",\"ISRO\",\"ISRO\",\"ISRO\",\"ISRO\",\"ISRO\",\"ISRO\",\"ISRO\",\"ISRO\",\"ISRO\",\"ISRO\",\"ISRO\",\"ISRO\",\"ISRO\",\"ISRO\",\"ISRO\",\"ISRO\",\"ISRO\",\"ISRO\",\"ISRO\",\"ISRO\",\"ISRO\",\"ISRO\",\"ISRO\",\"ISRO\",\"ISRO\",\"ISRO\",\"ISRO\",\"ISRO\"],\"legendgroup\":\"ISRO\",\"line\":{\"color\":\"#FF97FF\",\"dash\":\"solid\"},\"marker\":{\"symbol\":\"circle\"},\"mode\":\"lines\",\"name\":\"ISRO\",\"orientation\":\"v\",\"showlegend\":true,\"x\":[1979,1980,1981,1983,1987,1988,1992,1993,1994,1996,1997,1999,2001,2002,2003,2004,2005,2006,2007,2008,2009,2010,2011,2012,2013,2014,2015,2016,2017,2018,2019,2020,2021,2022,2023],\"xaxis\":\"x\",\"y\":[1,1,1,1,1,1,1,1,2,1,1,1,2,1,2,1,1,1,3,3,2,3,3,2,3,5,5,7,5,7,6,2,2,5,2],\"yaxis\":\"y\",\"type\":\"scatter\"},{\"hovertemplate\":\"<b>%{hovertext}</b><br><br>color=Arianespace<br>x=%{x}<br>y=%{y}<extra></extra>\",\"hovertext\":[\"Arianespace\",\"Arianespace\",\"Arianespace\",\"Arianespace\",\"Arianespace\",\"Arianespace\",\"Arianespace\",\"Arianespace\",\"Arianespace\",\"Arianespace\",\"Arianespace\",\"Arianespace\",\"Arianespace\",\"Arianespace\",\"Arianespace\",\"Arianespace\",\"Arianespace\",\"Arianespace\",\"Arianespace\",\"Arianespace\",\"Arianespace\",\"Arianespace\",\"Arianespace\",\"Arianespace\",\"Arianespace\",\"Arianespace\",\"Arianespace\",\"Arianespace\",\"Arianespace\",\"Arianespace\",\"Arianespace\",\"Arianespace\",\"Arianespace\",\"Arianespace\",\"Arianespace\",\"Arianespace\",\"Arianespace\",\"Arianespace\",\"Arianespace\",\"Arianespace\"],\"legendgroup\":\"Arianespace\",\"line\":{\"color\":\"#FECB52\",\"dash\":\"solid\"},\"marker\":{\"symbol\":\"circle\"},\"mode\":\"lines\",\"name\":\"Arianespace\",\"orientation\":\"v\",\"showlegend\":true,\"x\":[1984,1985,1986,1987,1988,1989,1990,1991,1992,1993,1994,1995,1996,1997,1998,1999,2000,2001,2002,2003,2004,2005,2006,2007,2008,2009,2010,2011,2012,2013,2014,2015,2016,2017,2018,2019,2020,2021,2022,2023],\"xaxis\":\"x\",\"y\":[3,4,3,2,6,7,6,8,7,7,8,11,10,11,10,10,12,8,12,4,3,5,5,6,6,7,6,7,9,7,11,12,11,11,11,9,7,7,5,1],\"yaxis\":\"y\",\"type\":\"scatter\"},{\"hovertemplate\":\"<b>%{hovertext}</b><br><br>color=IAI<br>x=%{x}<br>y=%{y}<extra></extra>\",\"hovertext\":[\"IAI\",\"IAI\",\"IAI\",\"IAI\",\"IAI\",\"IAI\",\"IAI\",\"IAI\",\"IAI\",\"IAI\",\"IAI\",\"IAI\",\"IAI\",\"IAI\"],\"legendgroup\":\"IAI\",\"line\":{\"color\":\"#636efa\",\"dash\":\"solid\"},\"marker\":{\"symbol\":\"circle\"},\"mode\":\"lines\",\"name\":\"IAI\",\"orientation\":\"v\",\"showlegend\":true,\"x\":[1988,1990,1991,1993,1995,1998,2002,2004,2007,2010,2014,2016,2020,2023],\"xaxis\":\"x\",\"y\":[1,1,1,1,1,1,1,1,1,1,1,1,1,1],\"yaxis\":\"y\",\"type\":\"scatter\"},{\"hovertemplate\":\"<b>%{hovertext}</b><br><br>color=Boeing<br>x=%{x}<br>y=%{y}<extra></extra>\",\"hovertext\":[\"Boeing\",\"Boeing\",\"Boeing\",\"Boeing\",\"Boeing\",\"Boeing\",\"Boeing\",\"Boeing\",\"Boeing\",\"Boeing\",\"Boeing\",\"Boeing\",\"Boeing\",\"Boeing\",\"Boeing\",\"Boeing\",\"Boeing\",\"Boeing\"],\"legendgroup\":\"Boeing\",\"line\":{\"color\":\"#EF553B\",\"dash\":\"solid\"},\"marker\":{\"symbol\":\"circle\"},\"mode\":\"lines\",\"name\":\"Boeing\",\"orientation\":\"v\",\"showlegend\":true,\"x\":[1989,1990,1991,1992,1993,1994,1995,1996,1997,1998,1999,2000,2001,2002,2003,2004,2005,2006],\"xaxis\":\"x\",\"y\":[7,11,5,11,7,3,3,10,11,13,11,7,7,4,9,8,3,8],\"yaxis\":\"y\",\"type\":\"scatter\"},{\"hovertemplate\":\"<b>%{hovertext}</b><br><br>color=Douglas<br>x=%{x}<br>y=%{y}<extra></extra>\",\"hovertext\":[\"Douglas\"],\"legendgroup\":\"Douglas\",\"line\":{\"color\":\"#00cc96\",\"dash\":\"solid\"},\"marker\":{\"symbol\":\"circle\"},\"mode\":\"lines\",\"name\":\"Douglas\",\"orientation\":\"v\",\"showlegend\":true,\"x\":[1989],\"xaxis\":\"x\",\"y\":[1],\"yaxis\":\"y\",\"type\":\"scatter\"},{\"hovertemplate\":\"<b>%{hovertext}</b><br><br>color=Lockheed<br>x=%{x}<br>y=%{y}<extra></extra>\",\"hovertext\":[\"Lockheed\",\"Lockheed\",\"Lockheed\",\"Lockheed\",\"Lockheed\",\"Lockheed\",\"Lockheed\",\"Lockheed\",\"Lockheed\",\"Lockheed\",\"Lockheed\",\"Lockheed\",\"Lockheed\"],\"legendgroup\":\"Lockheed\",\"line\":{\"color\":\"#ab63fa\",\"dash\":\"solid\"},\"marker\":{\"symbol\":\"circle\"},\"mode\":\"lines\",\"name\":\"Lockheed\",\"orientation\":\"v\",\"showlegend\":true,\"x\":[1990,1994,1995,1996,1997,1998,1999,2000,2001,2002,2003,2004,2005],\"xaxis\":\"x\",\"y\":[1,5,12,6,8,7,10,8,7,4,6,2,3],\"yaxis\":\"y\",\"type\":\"scatter\"},{\"hovertemplate\":\"<b>%{hovertext}</b><br><br>color=Northrop<br>x=%{x}<br>y=%{y}<extra></extra>\",\"hovertext\":[\"Northrop\",\"Northrop\",\"Northrop\",\"Northrop\",\"Northrop\",\"Northrop\",\"Northrop\",\"Northrop\",\"Northrop\",\"Northrop\",\"Northrop\",\"Northrop\",\"Northrop\",\"Northrop\",\"Northrop\",\"Northrop\",\"Northrop\",\"Northrop\",\"Northrop\",\"Northrop\",\"Northrop\",\"Northrop\",\"Northrop\",\"Northrop\",\"Northrop\",\"Northrop\",\"Northrop\",\"Northrop\",\"Northrop\",\"Northrop\",\"Northrop\"],\"legendgroup\":\"Northrop\",\"line\":{\"color\":\"#FFA15A\",\"dash\":\"solid\"},\"marker\":{\"symbol\":\"circle\"},\"mode\":\"lines\",\"name\":\"Northrop\",\"orientation\":\"v\",\"showlegend\":true,\"x\":[1990,1991,1993,1994,1995,1996,1997,1998,1999,2000,2001,2002,2003,2004,2005,2006,2007,2008,2009,2010,2011,2012,2013,2014,2016,2017,2018,2019,2020,2021,2022],\"xaxis\":\"x\",\"y\":[1,1,2,4,2,5,5,8,4,5,1,1,4,1,3,3,2,2,2,2,4,1,5,3,2,3,2,3,3,4,2],\"yaxis\":\"y\",\"type\":\"scatter\"},{\"hovertemplate\":\"<b>%{hovertext}</b><br><br>color=Roscosmos<br>x=%{x}<br>y=%{y}<extra></extra>\",\"hovertext\":[\"Roscosmos\",\"Roscosmos\",\"Roscosmos\",\"Roscosmos\",\"Roscosmos\",\"Roscosmos\",\"Roscosmos\",\"Roscosmos\",\"Roscosmos\",\"Roscosmos\",\"Roscosmos\",\"Roscosmos\",\"Roscosmos\",\"Roscosmos\",\"Roscosmos\",\"Roscosmos\",\"Roscosmos\",\"Roscosmos\",\"Roscosmos\",\"Roscosmos\",\"Roscosmos\",\"Roscosmos\",\"Roscosmos\",\"Roscosmos\",\"Roscosmos\",\"Roscosmos\",\"Roscosmos\",\"Roscosmos\",\"Roscosmos\",\"Roscosmos\",\"Roscosmos\",\"Roscosmos\"],\"legendgroup\":\"Roscosmos\",\"line\":{\"color\":\"#19d3f3\",\"dash\":\"solid\"},\"marker\":{\"symbol\":\"circle\"},\"mode\":\"lines\",\"name\":\"Roscosmos\",\"orientation\":\"v\",\"showlegend\":true,\"x\":[1992,1993,1994,1995,1996,1997,1998,1999,2000,2001,2002,2003,2004,2005,2006,2007,2008,2009,2010,2011,2012,2013,2014,2015,2016,2017,2018,2019,2020,2021,2022,2023],\"xaxis\":\"x\",\"y\":[15,13,21,14,12,11,9,7,13,10,8,8,9,9,7,10,10,13,13,16,12,12,16,14,10,11,13,13,5,10,8,3],\"yaxis\":\"y\",\"type\":\"scatter\"},{\"hovertemplate\":\"<b>%{hovertext}</b><br><br>color=VKS RF<br>x=%{x}<br>y=%{y}<extra></extra>\",\"hovertext\":[\"VKS RF\",\"VKS RF\",\"VKS RF\",\"VKS RF\",\"VKS RF\",\"VKS RF\",\"VKS RF\",\"VKS RF\",\"VKS RF\",\"VKS RF\",\"VKS RF\",\"VKS RF\",\"VKS RF\",\"VKS RF\",\"VKS RF\",\"VKS RF\",\"VKS RF\",\"VKS RF\",\"VKS RF\",\"VKS RF\",\"VKS RF\",\"VKS RF\",\"VKS RF\",\"VKS RF\",\"VKS RF\",\"VKS RF\",\"VKS RF\",\"VKS RF\",\"VKS RF\",\"VKS RF\",\"VKS RF\",\"VKS RF\"],\"legendgroup\":\"VKS RF\",\"line\":{\"color\":\"#FF6692\",\"dash\":\"solid\"},\"marker\":{\"symbol\":\"circle\"},\"mode\":\"lines\",\"name\":\"VKS RF\",\"orientation\":\"v\",\"showlegend\":true,\"x\":[1992,1993,1994,1995,1996,1997,1998,1999,2000,2001,2002,2003,2004,2005,2006,2007,2008,2009,2010,2011,2012,2013,2014,2015,2016,2017,2018,2019,2020,2021,2022,2023],\"xaxis\":\"x\",\"y\":[40,34,28,18,14,12,12,9,10,10,9,8,9,7,7,6,7,6,5,7,3,9,12,7,4,4,3,8,7,5,13,3],\"yaxis\":\"y\",\"type\":\"scatter\"},{\"hovertemplate\":\"<b>%{hovertext}</b><br><br>color=MITT<br>x=%{x}<br>y=%{y}<extra></extra>\",\"hovertext\":[\"MITT\",\"MITT\",\"MITT\",\"MITT\",\"MITT\",\"MITT\"],\"legendgroup\":\"MITT\",\"line\":{\"color\":\"#B6E880\",\"dash\":\"solid\"},\"marker\":{\"symbol\":\"circle\"},\"mode\":\"lines\",\"name\":\"MITT\",\"orientation\":\"v\",\"showlegend\":true,\"x\":[1993,1995,1997,2000,2001,2006],\"xaxis\":\"x\",\"y\":[1,1,2,1,1,1],\"yaxis\":\"y\",\"type\":\"scatter\"},{\"hovertemplate\":\"<b>%{hovertext}</b><br><br>color=EER<br>x=%{x}<br>y=%{y}<extra></extra>\",\"hovertext\":[\"EER\"],\"legendgroup\":\"EER\",\"line\":{\"color\":\"#FF97FF\",\"dash\":\"solid\"},\"marker\":{\"symbol\":\"circle\"},\"mode\":\"lines\",\"name\":\"EER\",\"orientation\":\"v\",\"showlegend\":true,\"x\":[1995],\"xaxis\":\"x\",\"y\":[1],\"yaxis\":\"y\",\"type\":\"scatter\"},{\"hovertemplate\":\"<b>%{hovertext}</b><br><br>color=ILS<br>x=%{x}<br>y=%{y}<extra></extra>\",\"hovertext\":[\"ILS\",\"ILS\",\"ILS\",\"ILS\",\"ILS\",\"ILS\",\"ILS\",\"ILS\",\"ILS\",\"ILS\",\"ILS\",\"ILS\",\"ILS\",\"ILS\",\"ILS\",\"ILS\",\"ILS\",\"ILS\",\"ILS\",\"ILS\",\"ILS\",\"ILS\",\"ILS\",\"ILS\"],\"legendgroup\":\"ILS\",\"line\":{\"color\":\"#FECB52\",\"dash\":\"solid\"},\"marker\":{\"symbol\":\"circle\"},\"mode\":\"lines\",\"name\":\"ILS\",\"orientation\":\"v\",\"showlegend\":true,\"x\":[1995,1996,1997,1998,1999,2000,2001,2002,2003,2004,2005,2006,2007,2008,2009,2010,2011,2012,2013,2014,2015,2016,2017,2019],\"xaxis\":\"x\",\"y\":[4,6,10,6,8,9,3,8,4,9,6,6,4,6,7,8,5,8,7,3,4,2,3,1],\"yaxis\":\"y\",\"type\":\"scatter\"},{\"hovertemplate\":\"<b>%{hovertext}</b><br><br>color=AEB<br>x=%{x}<br>y=%{y}<extra></extra>\",\"hovertext\":[\"AEB\",\"AEB\",\"AEB\"],\"legendgroup\":\"AEB\",\"line\":{\"color\":\"#636efa\",\"dash\":\"solid\"},\"marker\":{\"symbol\":\"circle\"},\"mode\":\"lines\",\"name\":\"AEB\",\"orientation\":\"v\",\"showlegend\":true,\"x\":[1997,1999,2003],\"xaxis\":\"x\",\"y\":[1,1,1],\"yaxis\":\"y\",\"type\":\"scatter\"},{\"hovertemplate\":\"<b>%{hovertext}</b><br><br>color=KCST<br>x=%{x}<br>y=%{y}<extra></extra>\",\"hovertext\":[\"KCST\",\"KCST\",\"KCST\",\"KCST\"],\"legendgroup\":\"KCST\",\"line\":{\"color\":\"#EF553B\",\"dash\":\"solid\"},\"marker\":{\"symbol\":\"circle\"},\"mode\":\"lines\",\"name\":\"KCST\",\"orientation\":\"v\",\"showlegend\":true,\"x\":[1998,2009,2012,2016],\"xaxis\":\"x\",\"y\":[1,1,2,1],\"yaxis\":\"y\",\"type\":\"scatter\"},{\"hovertemplate\":\"<b>%{hovertext}</b><br><br>color=SRC<br>x=%{x}<br>y=%{y}<extra></extra>\",\"hovertext\":[\"SRC\",\"SRC\",\"SRC\"],\"legendgroup\":\"SRC\",\"line\":{\"color\":\"#00cc96\",\"dash\":\"solid\"},\"marker\":{\"symbol\":\"circle\"},\"mode\":\"lines\",\"name\":\"SRC\",\"orientation\":\"v\",\"showlegend\":true,\"x\":[1998,2005,2006],\"xaxis\":\"x\",\"y\":[1,1,1],\"yaxis\":\"y\",\"type\":\"scatter\"},{\"hovertemplate\":\"<b>%{hovertext}</b><br><br>color=Kosmotras<br>x=%{x}<br>y=%{y}<extra></extra>\",\"hovertext\":[\"Kosmotras\",\"Kosmotras\",\"Kosmotras\",\"Kosmotras\",\"Kosmotras\",\"Kosmotras\",\"Kosmotras\",\"Kosmotras\",\"Kosmotras\",\"Kosmotras\",\"Kosmotras\",\"Kosmotras\",\"Kosmotras\",\"Kosmotras\"],\"legendgroup\":\"Kosmotras\",\"line\":{\"color\":\"#ab63fa\",\"dash\":\"solid\"},\"marker\":{\"symbol\":\"circle\"},\"mode\":\"lines\",\"name\":\"Kosmotras\",\"orientation\":\"v\",\"showlegend\":true,\"x\":[1999,2000,2002,2004,2005,2006,2007,2008,2009,2010,2011,2013,2014,2015],\"xaxis\":\"x\",\"y\":[1,1,1,1,1,2,3,2,1,3,1,2,2,1],\"yaxis\":\"y\",\"type\":\"scatter\"},{\"hovertemplate\":\"<b>%{hovertext}</b><br><br>color=Sea Launch<br>x=%{x}<br>y=%{y}<extra></extra>\",\"hovertext\":[\"Sea Launch\",\"Sea Launch\",\"Sea Launch\",\"Sea Launch\",\"Sea Launch\",\"Sea Launch\",\"Sea Launch\",\"Sea Launch\",\"Sea Launch\",\"Sea Launch\",\"Sea Launch\",\"Sea Launch\",\"Sea Launch\",\"Sea Launch\",\"Sea Launch\"],\"legendgroup\":\"Sea Launch\",\"line\":{\"color\":\"#FFA15A\",\"dash\":\"solid\"},\"marker\":{\"symbol\":\"circle\"},\"mode\":\"lines\",\"name\":\"Sea Launch\",\"orientation\":\"v\",\"showlegend\":true,\"x\":[1999,2000,2001,2002,2003,2004,2005,2006,2007,2008,2009,2011,2012,2013,2014],\"xaxis\":\"x\",\"y\":[2,3,2,1,3,3,4,5,1,5,1,1,3,1,1],\"yaxis\":\"y\",\"type\":\"scatter\"},{\"hovertemplate\":\"<b>%{hovertext}</b><br><br>color=Starsem<br>x=%{x}<br>y=%{y}<extra></extra>\",\"hovertext\":[\"Starsem\",\"Starsem\",\"Starsem\",\"Starsem\",\"Starsem\",\"Starsem\",\"Starsem\",\"Starsem\",\"Starsem\",\"Starsem\",\"Starsem\",\"Starsem\",\"Starsem\"],\"legendgroup\":\"Starsem\",\"line\":{\"color\":\"#19d3f3\",\"dash\":\"solid\"},\"marker\":{\"symbol\":\"circle\"},\"mode\":\"lines\",\"name\":\"Starsem\",\"orientation\":\"v\",\"showlegend\":true,\"x\":[1999,2000,2003,2005,2006,2007,2008,2010,2011,2012,2013,2020,2021],\"xaxis\":\"x\",\"y\":[6,4,2,3,2,3,1,1,2,1,1,3,8],\"yaxis\":\"y\",\"type\":\"scatter\"},{\"hovertemplate\":\"<b>%{hovertext}</b><br><br>color=Eurockot<br>x=%{x}<br>y=%{y}<extra></extra>\",\"hovertext\":[\"Eurockot\",\"Eurockot\",\"Eurockot\",\"Eurockot\",\"Eurockot\",\"Eurockot\",\"Eurockot\",\"Eurockot\",\"Eurockot\",\"Eurockot\"],\"legendgroup\":\"Eurockot\",\"line\":{\"color\":\"#FF6692\",\"dash\":\"solid\"},\"marker\":{\"symbol\":\"circle\"},\"mode\":\"lines\",\"name\":\"Eurockot\",\"orientation\":\"v\",\"showlegend\":true,\"x\":[2000,2002,2003,2005,2006,2009,2010,2016,2017,2018],\"xaxis\":\"x\",\"y\":[1,2,2,1,1,2,1,1,1,1],\"yaxis\":\"y\",\"type\":\"scatter\"},{\"hovertemplate\":\"<b>%{hovertext}</b><br><br>color=CASIC<br>x=%{x}<br>y=%{y}<extra></extra>\",\"hovertext\":[\"CASIC\",\"CASIC\",\"CASIC\",\"CASIC\",\"CASIC\",\"CASIC\"],\"legendgroup\":\"CASIC\",\"line\":{\"color\":\"#B6E880\",\"dash\":\"solid\"},\"marker\":{\"symbol\":\"circle\"},\"mode\":\"lines\",\"name\":\"CASIC\",\"orientation\":\"v\",\"showlegend\":true,\"x\":[2002,2003,2013,2014,2017,2022],\"xaxis\":\"x\",\"y\":[1,1,1,1,1,4],\"yaxis\":\"y\",\"type\":\"scatter\"},{\"hovertemplate\":\"<b>%{hovertext}</b><br><br>color=Scaled<br>x=%{x}<br>y=%{y}<extra></extra>\",\"hovertext\":[\"Scaled\"],\"legendgroup\":\"Scaled\",\"line\":{\"color\":\"#FF97FF\",\"dash\":\"solid\"},\"marker\":{\"symbol\":\"circle\"},\"mode\":\"lines\",\"name\":\"Scaled\",\"orientation\":\"v\",\"showlegend\":true,\"x\":[2004],\"xaxis\":\"x\",\"y\":[3],\"yaxis\":\"y\",\"type\":\"scatter\"},{\"hovertemplate\":\"<b>%{hovertext}</b><br><br>color=SpaceX<br>x=%{x}<br>y=%{y}<extra></extra>\",\"hovertext\":[\"SpaceX\",\"SpaceX\",\"SpaceX\",\"SpaceX\",\"SpaceX\",\"SpaceX\",\"SpaceX\",\"SpaceX\",\"SpaceX\",\"SpaceX\",\"SpaceX\",\"SpaceX\",\"SpaceX\",\"SpaceX\",\"SpaceX\",\"SpaceX\",\"SpaceX\"],\"legendgroup\":\"SpaceX\",\"line\":{\"color\":\"#FECB52\",\"dash\":\"solid\"},\"marker\":{\"symbol\":\"circle\"},\"mode\":\"lines\",\"name\":\"SpaceX\",\"orientation\":\"v\",\"showlegend\":true,\"x\":[2006,2007,2008,2009,2010,2012,2013,2014,2015,2016,2017,2018,2019,2020,2021,2022,2023],\"xaxis\":\"x\",\"y\":[1,1,2,1,2,2,3,6,7,9,18,21,13,27,35,61,24],\"yaxis\":\"y\",\"type\":\"scatter\"},{\"hovertemplate\":\"<b>%{hovertext}</b><br><br>color=ULA<br>x=%{x}<br>y=%{y}<extra></extra>\",\"hovertext\":[\"ULA\",\"ULA\",\"ULA\",\"ULA\",\"ULA\",\"ULA\",\"ULA\",\"ULA\",\"ULA\",\"ULA\",\"ULA\",\"ULA\",\"ULA\",\"ULA\",\"ULA\",\"ULA\",\"ULA\"],\"legendgroup\":\"ULA\",\"line\":{\"color\":\"#636efa\",\"dash\":\"solid\"},\"marker\":{\"symbol\":\"circle\"},\"mode\":\"lines\",\"name\":\"ULA\",\"orientation\":\"v\",\"showlegend\":true,\"x\":[2006,2007,2008,2009,2010,2011,2012,2013,2014,2015,2016,2017,2018,2019,2020,2021,2022],\"xaxis\":\"x\",\"y\":[1,13,7,16,8,11,10,11,14,12,12,8,8,5,6,5,8],\"yaxis\":\"y\",\"type\":\"scatter\"},{\"hovertemplate\":\"<b>%{hovertext}</b><br><br>color=ISA<br>x=%{x}<br>y=%{y}<extra></extra>\",\"hovertext\":[\"ISA\",\"ISA\",\"ISA\",\"ISA\",\"ISA\",\"ISA\",\"ISA\",\"ISA\",\"ISA\",\"ISA\"],\"legendgroup\":\"ISA\",\"line\":{\"color\":\"#EF553B\",\"dash\":\"solid\"},\"marker\":{\"symbol\":\"circle\"},\"mode\":\"lines\",\"name\":\"ISA\",\"orientation\":\"v\",\"showlegend\":true,\"x\":[2008,2009,2011,2012,2015,2017,2019,2020,2021,2022],\"xaxis\":\"x\",\"y\":[1,1,1,3,1,1,3,1,2,1],\"yaxis\":\"y\",\"type\":\"scatter\"},{\"hovertemplate\":\"<b>%{hovertext}</b><br><br>color=Land Launch<br>x=%{x}<br>y=%{y}<extra></extra>\",\"hovertext\":[\"Land Launch\",\"Land Launch\",\"Land Launch\",\"Land Launch\"],\"legendgroup\":\"Land Launch\",\"line\":{\"color\":\"#00cc96\",\"dash\":\"solid\"},\"marker\":{\"symbol\":\"circle\"},\"mode\":\"lines\",\"name\":\"Land Launch\",\"orientation\":\"v\",\"showlegend\":true,\"x\":[2008,2009,2011,2013],\"xaxis\":\"x\",\"y\":[1,3,1,1],\"yaxis\":\"y\",\"type\":\"scatter\"},{\"hovertemplate\":\"<b>%{hovertext}</b><br><br>color=KARI<br>x=%{x}<br>y=%{y}<extra></extra>\",\"hovertext\":[\"KARI\",\"KARI\",\"KARI\",\"KARI\",\"KARI\"],\"legendgroup\":\"KARI\",\"line\":{\"color\":\"#ab63fa\",\"dash\":\"solid\"},\"marker\":{\"symbol\":\"circle\"},\"mode\":\"lines\",\"name\":\"KARI\",\"orientation\":\"v\",\"showlegend\":true,\"x\":[2009,2010,2013,2021,2022],\"xaxis\":\"x\",\"y\":[1,1,1,1,1],\"yaxis\":\"y\",\"type\":\"scatter\"},{\"hovertemplate\":\"<b>%{hovertext}</b><br><br>color=JAXA<br>x=%{x}<br>y=%{y}<extra></extra>\",\"hovertext\":[\"JAXA\",\"JAXA\",\"JAXA\",\"JAXA\",\"JAXA\",\"JAXA\",\"JAXA\",\"JAXA\"],\"legendgroup\":\"JAXA\",\"line\":{\"color\":\"#FFA15A\",\"dash\":\"solid\"},\"marker\":{\"symbol\":\"circle\"},\"mode\":\"lines\",\"name\":\"JAXA\",\"orientation\":\"v\",\"showlegend\":true,\"x\":[2013,2016,2017,2018,2019,2020,2021,2022],\"xaxis\":\"x\",\"y\":[1,1,1,2,1,1,1,1],\"yaxis\":\"y\",\"type\":\"scatter\"},{\"hovertemplate\":\"<b>%{hovertext}</b><br><br>color=Virgin Galactic<br>x=%{x}<br>y=%{y}<extra></extra>\",\"hovertext\":[\"Virgin Galactic\",\"Virgin Galactic\",\"Virgin Galactic\",\"Virgin Galactic\",\"Virgin Galactic\",\"Virgin Galactic\"],\"legendgroup\":\"Virgin Galactic\",\"line\":{\"color\":\"#19d3f3\",\"dash\":\"solid\"},\"marker\":{\"symbol\":\"circle\"},\"mode\":\"lines\",\"name\":\"Virgin Galactic\",\"orientation\":\"v\",\"showlegend\":true,\"x\":[2013,2014,2018,2019,2020,2021],\"xaxis\":\"x\",\"y\":[2,2,4,1,1,2],\"yaxis\":\"y\",\"type\":\"scatter\"},{\"hovertemplate\":\"<b>%{hovertext}</b><br><br>color=Blue Origin<br>x=%{x}<br>y=%{y}<extra></extra>\",\"hovertext\":[\"Blue Origin\",\"Blue Origin\",\"Blue Origin\",\"Blue Origin\",\"Blue Origin\",\"Blue Origin\",\"Blue Origin\",\"Blue Origin\"],\"legendgroup\":\"Blue Origin\",\"line\":{\"color\":\"#FF6692\",\"dash\":\"solid\"},\"marker\":{\"symbol\":\"circle\"},\"mode\":\"lines\",\"name\":\"Blue Origin\",\"orientation\":\"v\",\"showlegend\":true,\"x\":[2015,2016,2017,2018,2019,2020,2021,2022],\"xaxis\":\"x\",\"y\":[2,4,1,2,3,1,6,4],\"yaxis\":\"y\",\"type\":\"scatter\"},{\"hovertemplate\":\"<b>%{hovertext}</b><br><br>color=Sandia<br>x=%{x}<br>y=%{y}<extra></extra>\",\"hovertext\":[\"Sandia\"],\"legendgroup\":\"Sandia\",\"line\":{\"color\":\"#B6E880\",\"dash\":\"solid\"},\"marker\":{\"symbol\":\"circle\"},\"mode\":\"lines\",\"name\":\"Sandia\",\"orientation\":\"v\",\"showlegend\":true,\"x\":[2015],\"xaxis\":\"x\",\"y\":[1],\"yaxis\":\"y\",\"type\":\"scatter\"},{\"hovertemplate\":\"<b>%{hovertext}</b><br><br>color=ExPace<br>x=%{x}<br>y=%{y}<extra></extra>\",\"hovertext\":[\"ExPace\",\"ExPace\",\"ExPace\",\"ExPace\",\"ExPace\",\"ExPace\",\"ExPace\"],\"legendgroup\":\"ExPace\",\"line\":{\"color\":\"#FF97FF\",\"dash\":\"solid\"},\"marker\":{\"symbol\":\"circle\"},\"mode\":\"lines\",\"name\":\"ExPace\",\"orientation\":\"v\",\"showlegend\":true,\"x\":[2017,2018,2019,2020,2021,2022,2023],\"xaxis\":\"x\",\"y\":[1,1,5,4,4,1,1],\"yaxis\":\"y\",\"type\":\"scatter\"},{\"hovertemplate\":\"<b>%{hovertext}</b><br><br>color=Rocket Lab<br>x=%{x}<br>y=%{y}<extra></extra>\",\"hovertext\":[\"Rocket Lab\",\"Rocket Lab\",\"Rocket Lab\",\"Rocket Lab\",\"Rocket Lab\",\"Rocket Lab\",\"Rocket Lab\"],\"legendgroup\":\"Rocket Lab\",\"line\":{\"color\":\"#FECB52\",\"dash\":\"solid\"},\"marker\":{\"symbol\":\"circle\"},\"mode\":\"lines\",\"name\":\"Rocket Lab\",\"orientation\":\"v\",\"showlegend\":true,\"x\":[2017,2018,2019,2020,2021,2022,2023],\"xaxis\":\"x\",\"y\":[1,3,6,7,6,9,3],\"yaxis\":\"y\",\"type\":\"scatter\"},{\"hovertemplate\":\"<b>%{hovertext}</b><br><br>color=Landspace<br>x=%{x}<br>y=%{y}<extra></extra>\",\"hovertext\":[\"Landspace\",\"Landspace\"],\"legendgroup\":\"Landspace\",\"line\":{\"color\":\"#636efa\",\"dash\":\"solid\"},\"marker\":{\"symbol\":\"circle\"},\"mode\":\"lines\",\"name\":\"Landspace\",\"orientation\":\"v\",\"showlegend\":true,\"x\":[2018,2022],\"xaxis\":\"x\",\"y\":[1,1],\"yaxis\":\"y\",\"type\":\"scatter\"},{\"hovertemplate\":\"<b>%{hovertext}</b><br><br>color=OneSpace<br>x=%{x}<br>y=%{y}<extra></extra>\",\"hovertext\":[\"OneSpace\"],\"legendgroup\":\"OneSpace\",\"line\":{\"color\":\"#EF553B\",\"dash\":\"solid\"},\"marker\":{\"symbol\":\"circle\"},\"mode\":\"lines\",\"name\":\"OneSpace\",\"orientation\":\"v\",\"showlegend\":true,\"x\":[2019],\"xaxis\":\"x\",\"y\":[1],\"yaxis\":\"y\",\"type\":\"scatter\"},{\"hovertemplate\":\"<b>%{hovertext}</b><br><br>color=i-Space<br>x=%{x}<br>y=%{y}<extra></extra>\",\"hovertext\":[\"i-Space\",\"i-Space\",\"i-Space\",\"i-Space\"],\"legendgroup\":\"i-Space\",\"line\":{\"color\":\"#00cc96\",\"dash\":\"solid\"},\"marker\":{\"symbol\":\"circle\"},\"mode\":\"lines\",\"name\":\"i-Space\",\"orientation\":\"v\",\"showlegend\":true,\"x\":[2019,2021,2022,2023],\"xaxis\":\"x\",\"y\":[1,2,1,1],\"yaxis\":\"y\",\"type\":\"scatter\"},{\"hovertemplate\":\"<b>%{hovertext}</b><br><br>color=Astra<br>x=%{x}<br>y=%{y}<extra></extra>\",\"hovertext\":[\"Astra\",\"Astra\",\"Astra\"],\"legendgroup\":\"Astra\",\"line\":{\"color\":\"#ab63fa\",\"dash\":\"solid\"},\"marker\":{\"symbol\":\"circle\"},\"mode\":\"lines\",\"name\":\"Astra\",\"orientation\":\"v\",\"showlegend\":true,\"x\":[2020,2021,2022],\"xaxis\":\"x\",\"y\":[2,2,3],\"yaxis\":\"y\",\"type\":\"scatter\"},{\"hovertemplate\":\"<b>%{hovertext}</b><br><br>color=Galactic Energy<br>x=%{x}<br>y=%{y}<extra></extra>\",\"hovertext\":[\"Galactic Energy\",\"Galactic Energy\",\"Galactic Energy\",\"Galactic Energy\"],\"legendgroup\":\"Galactic Energy\",\"line\":{\"color\":\"#FFA15A\",\"dash\":\"solid\"},\"marker\":{\"symbol\":\"circle\"},\"mode\":\"lines\",\"name\":\"Galactic Energy\",\"orientation\":\"v\",\"showlegend\":true,\"x\":[2020,2021,2022,2023],\"xaxis\":\"x\",\"y\":[1,1,2,1],\"yaxis\":\"y\",\"type\":\"scatter\"},{\"hovertemplate\":\"<b>%{hovertext}</b><br><br>color=IRGC<br>x=%{x}<br>y=%{y}<extra></extra>\",\"hovertext\":[\"IRGC\",\"IRGC\"],\"legendgroup\":\"IRGC\",\"line\":{\"color\":\"#19d3f3\",\"dash\":\"solid\"},\"marker\":{\"symbol\":\"circle\"},\"mode\":\"lines\",\"name\":\"IRGC\",\"orientation\":\"v\",\"showlegend\":true,\"x\":[2020,2022],\"xaxis\":\"x\",\"y\":[1,1],\"yaxis\":\"y\",\"type\":\"scatter\"},{\"hovertemplate\":\"<b>%{hovertext}</b><br><br>color=Virgin Orbit<br>x=%{x}<br>y=%{y}<extra></extra>\",\"hovertext\":[\"Virgin Orbit\",\"Virgin Orbit\",\"Virgin Orbit\",\"Virgin Orbit\"],\"legendgroup\":\"Virgin Orbit\",\"line\":{\"color\":\"#FF6692\",\"dash\":\"solid\"},\"marker\":{\"symbol\":\"circle\"},\"mode\":\"lines\",\"name\":\"Virgin Orbit\",\"orientation\":\"v\",\"showlegend\":true,\"x\":[2020,2021,2022,2023],\"xaxis\":\"x\",\"y\":[1,2,2,1],\"yaxis\":\"y\",\"type\":\"scatter\"},{\"hovertemplate\":\"<b>%{hovertext}</b><br><br>color=Firefly<br>x=%{x}<br>y=%{y}<extra></extra>\",\"hovertext\":[\"Firefly\",\"Firefly\"],\"legendgroup\":\"Firefly\",\"line\":{\"color\":\"#B6E880\",\"dash\":\"solid\"},\"marker\":{\"symbol\":\"circle\"},\"mode\":\"lines\",\"name\":\"Firefly\",\"orientation\":\"v\",\"showlegend\":true,\"x\":[2021,2022],\"xaxis\":\"x\",\"y\":[1,1],\"yaxis\":\"y\",\"type\":\"scatter\"},{\"hovertemplate\":\"<b>%{hovertext}</b><br><br>color=GK LS<br>x=%{x}<br>y=%{y}<extra></extra>\",\"hovertext\":[\"GK LS\"],\"legendgroup\":\"GK LS\",\"line\":{\"color\":\"#FF97FF\",\"dash\":\"solid\"},\"marker\":{\"symbol\":\"circle\"},\"mode\":\"lines\",\"name\":\"GK LS\",\"orientation\":\"v\",\"showlegend\":true,\"x\":[2021],\"xaxis\":\"x\",\"y\":[1],\"yaxis\":\"y\",\"type\":\"scatter\"},{\"hovertemplate\":\"<b>%{hovertext}</b><br><br>color=CAS Space<br>x=%{x}<br>y=%{y}<extra></extra>\",\"hovertext\":[\"CAS Space\"],\"legendgroup\":\"CAS Space\",\"line\":{\"color\":\"#FECB52\",\"dash\":\"solid\"},\"marker\":{\"symbol\":\"circle\"},\"mode\":\"lines\",\"name\":\"CAS Space\",\"orientation\":\"v\",\"showlegend\":true,\"x\":[2022],\"xaxis\":\"x\",\"y\":[1],\"yaxis\":\"y\",\"type\":\"scatter\"},{\"hovertemplate\":\"<b>%{hovertext}</b><br><br>color=ABL SS<br>x=%{x}<br>y=%{y}<extra></extra>\",\"hovertext\":[\"ABL SS\"],\"legendgroup\":\"ABL SS\",\"line\":{\"color\":\"#636efa\",\"dash\":\"solid\"},\"marker\":{\"symbol\":\"circle\"},\"mode\":\"lines\",\"name\":\"ABL SS\",\"orientation\":\"v\",\"showlegend\":true,\"x\":[2023],\"xaxis\":\"x\",\"y\":[1],\"yaxis\":\"y\",\"type\":\"scatter\"},{\"hovertemplate\":\"<b>%{hovertext}</b><br><br>color=Relativity Space<br>x=%{x}<br>y=%{y}<extra></extra>\",\"hovertext\":[\"Relativity Space\"],\"legendgroup\":\"Relativity Space\",\"line\":{\"color\":\"#EF553B\",\"dash\":\"solid\"},\"marker\":{\"symbol\":\"circle\"},\"mode\":\"lines\",\"name\":\"Relativity Space\",\"orientation\":\"v\",\"showlegend\":true,\"x\":[2023],\"xaxis\":\"x\",\"y\":[1],\"yaxis\":\"y\",\"type\":\"scatter\"},{\"hovertemplate\":\"<b>%{hovertext}</b><br><br>color=Space Pioneer<br>x=%{x}<br>y=%{y}<extra></extra>\",\"hovertext\":[\"Space Pioneer\"],\"legendgroup\":\"Space Pioneer\",\"line\":{\"color\":\"#00cc96\",\"dash\":\"solid\"},\"marker\":{\"symbol\":\"circle\"},\"mode\":\"lines\",\"name\":\"Space Pioneer\",\"orientation\":\"v\",\"showlegend\":true,\"x\":[2023],\"xaxis\":\"x\",\"y\":[1],\"yaxis\":\"y\",\"type\":\"scatter\"}],                        {\"template\":{\"data\":{\"histogram2dcontour\":[{\"type\":\"histogram2dcontour\",\"colorbar\":{\"outlinewidth\":0,\"ticks\":\"\"},\"colorscale\":[[0.0,\"#0d0887\"],[0.1111111111111111,\"#46039f\"],[0.2222222222222222,\"#7201a8\"],[0.3333333333333333,\"#9c179e\"],[0.4444444444444444,\"#bd3786\"],[0.5555555555555556,\"#d8576b\"],[0.6666666666666666,\"#ed7953\"],[0.7777777777777778,\"#fb9f3a\"],[0.8888888888888888,\"#fdca26\"],[1.0,\"#f0f921\"]]}],\"choropleth\":[{\"type\":\"choropleth\",\"colorbar\":{\"outlinewidth\":0,\"ticks\":\"\"}}],\"histogram2d\":[{\"type\":\"histogram2d\",\"colorbar\":{\"outlinewidth\":0,\"ticks\":\"\"},\"colorscale\":[[0.0,\"#0d0887\"],[0.1111111111111111,\"#46039f\"],[0.2222222222222222,\"#7201a8\"],[0.3333333333333333,\"#9c179e\"],[0.4444444444444444,\"#bd3786\"],[0.5555555555555556,\"#d8576b\"],[0.6666666666666666,\"#ed7953\"],[0.7777777777777778,\"#fb9f3a\"],[0.8888888888888888,\"#fdca26\"],[1.0,\"#f0f921\"]]}],\"heatmap\":[{\"type\":\"heatmap\",\"colorbar\":{\"outlinewidth\":0,\"ticks\":\"\"},\"colorscale\":[[0.0,\"#0d0887\"],[0.1111111111111111,\"#46039f\"],[0.2222222222222222,\"#7201a8\"],[0.3333333333333333,\"#9c179e\"],[0.4444444444444444,\"#bd3786\"],[0.5555555555555556,\"#d8576b\"],[0.6666666666666666,\"#ed7953\"],[0.7777777777777778,\"#fb9f3a\"],[0.8888888888888888,\"#fdca26\"],[1.0,\"#f0f921\"]]}],\"heatmapgl\":[{\"type\":\"heatmapgl\",\"colorbar\":{\"outlinewidth\":0,\"ticks\":\"\"},\"colorscale\":[[0.0,\"#0d0887\"],[0.1111111111111111,\"#46039f\"],[0.2222222222222222,\"#7201a8\"],[0.3333333333333333,\"#9c179e\"],[0.4444444444444444,\"#bd3786\"],[0.5555555555555556,\"#d8576b\"],[0.6666666666666666,\"#ed7953\"],[0.7777777777777778,\"#fb9f3a\"],[0.8888888888888888,\"#fdca26\"],[1.0,\"#f0f921\"]]}],\"contourcarpet\":[{\"type\":\"contourcarpet\",\"colorbar\":{\"outlinewidth\":0,\"ticks\":\"\"}}],\"contour\":[{\"type\":\"contour\",\"colorbar\":{\"outlinewidth\":0,\"ticks\":\"\"},\"colorscale\":[[0.0,\"#0d0887\"],[0.1111111111111111,\"#46039f\"],[0.2222222222222222,\"#7201a8\"],[0.3333333333333333,\"#9c179e\"],[0.4444444444444444,\"#bd3786\"],[0.5555555555555556,\"#d8576b\"],[0.6666666666666666,\"#ed7953\"],[0.7777777777777778,\"#fb9f3a\"],[0.8888888888888888,\"#fdca26\"],[1.0,\"#f0f921\"]]}],\"surface\":[{\"type\":\"surface\",\"colorbar\":{\"outlinewidth\":0,\"ticks\":\"\"},\"colorscale\":[[0.0,\"#0d0887\"],[0.1111111111111111,\"#46039f\"],[0.2222222222222222,\"#7201a8\"],[0.3333333333333333,\"#9c179e\"],[0.4444444444444444,\"#bd3786\"],[0.5555555555555556,\"#d8576b\"],[0.6666666666666666,\"#ed7953\"],[0.7777777777777778,\"#fb9f3a\"],[0.8888888888888888,\"#fdca26\"],[1.0,\"#f0f921\"]]}],\"mesh3d\":[{\"type\":\"mesh3d\",\"colorbar\":{\"outlinewidth\":0,\"ticks\":\"\"}}],\"scatter\":[{\"fillpattern\":{\"fillmode\":\"overlay\",\"size\":10,\"solidity\":0.2},\"type\":\"scatter\"}],\"parcoords\":[{\"type\":\"parcoords\",\"line\":{\"colorbar\":{\"outlinewidth\":0,\"ticks\":\"\"}}}],\"scatterpolargl\":[{\"type\":\"scatterpolargl\",\"marker\":{\"colorbar\":{\"outlinewidth\":0,\"ticks\":\"\"}}}],\"bar\":[{\"error_x\":{\"color\":\"#2a3f5f\"},\"error_y\":{\"color\":\"#2a3f5f\"},\"marker\":{\"line\":{\"color\":\"#E5ECF6\",\"width\":0.5},\"pattern\":{\"fillmode\":\"overlay\",\"size\":10,\"solidity\":0.2}},\"type\":\"bar\"}],\"scattergeo\":[{\"type\":\"scattergeo\",\"marker\":{\"colorbar\":{\"outlinewidth\":0,\"ticks\":\"\"}}}],\"scatterpolar\":[{\"type\":\"scatterpolar\",\"marker\":{\"colorbar\":{\"outlinewidth\":0,\"ticks\":\"\"}}}],\"histogram\":[{\"marker\":{\"pattern\":{\"fillmode\":\"overlay\",\"size\":10,\"solidity\":0.2}},\"type\":\"histogram\"}],\"scattergl\":[{\"type\":\"scattergl\",\"marker\":{\"colorbar\":{\"outlinewidth\":0,\"ticks\":\"\"}}}],\"scatter3d\":[{\"type\":\"scatter3d\",\"line\":{\"colorbar\":{\"outlinewidth\":0,\"ticks\":\"\"}},\"marker\":{\"colorbar\":{\"outlinewidth\":0,\"ticks\":\"\"}}}],\"scattermapbox\":[{\"type\":\"scattermapbox\",\"marker\":{\"colorbar\":{\"outlinewidth\":0,\"ticks\":\"\"}}}],\"scatterternary\":[{\"type\":\"scatterternary\",\"marker\":{\"colorbar\":{\"outlinewidth\":0,\"ticks\":\"\"}}}],\"scattercarpet\":[{\"type\":\"scattercarpet\",\"marker\":{\"colorbar\":{\"outlinewidth\":0,\"ticks\":\"\"}}}],\"carpet\":[{\"aaxis\":{\"endlinecolor\":\"#2a3f5f\",\"gridcolor\":\"white\",\"linecolor\":\"white\",\"minorgridcolor\":\"white\",\"startlinecolor\":\"#2a3f5f\"},\"baxis\":{\"endlinecolor\":\"#2a3f5f\",\"gridcolor\":\"white\",\"linecolor\":\"white\",\"minorgridcolor\":\"white\",\"startlinecolor\":\"#2a3f5f\"},\"type\":\"carpet\"}],\"table\":[{\"cells\":{\"fill\":{\"color\":\"#EBF0F8\"},\"line\":{\"color\":\"white\"}},\"header\":{\"fill\":{\"color\":\"#C8D4E3\"},\"line\":{\"color\":\"white\"}},\"type\":\"table\"}],\"barpolar\":[{\"marker\":{\"line\":{\"color\":\"#E5ECF6\",\"width\":0.5},\"pattern\":{\"fillmode\":\"overlay\",\"size\":10,\"solidity\":0.2}},\"type\":\"barpolar\"}],\"pie\":[{\"automargin\":true,\"type\":\"pie\"}]},\"layout\":{\"autotypenumbers\":\"strict\",\"colorway\":[\"#636efa\",\"#EF553B\",\"#00cc96\",\"#ab63fa\",\"#FFA15A\",\"#19d3f3\",\"#FF6692\",\"#B6E880\",\"#FF97FF\",\"#FECB52\"],\"font\":{\"color\":\"#2a3f5f\"},\"hovermode\":\"closest\",\"hoverlabel\":{\"align\":\"left\"},\"paper_bgcolor\":\"white\",\"plot_bgcolor\":\"#E5ECF6\",\"polar\":{\"bgcolor\":\"#E5ECF6\",\"angularaxis\":{\"gridcolor\":\"white\",\"linecolor\":\"white\",\"ticks\":\"\"},\"radialaxis\":{\"gridcolor\":\"white\",\"linecolor\":\"white\",\"ticks\":\"\"}},\"ternary\":{\"bgcolor\":\"#E5ECF6\",\"aaxis\":{\"gridcolor\":\"white\",\"linecolor\":\"white\",\"ticks\":\"\"},\"baxis\":{\"gridcolor\":\"white\",\"linecolor\":\"white\",\"ticks\":\"\"},\"caxis\":{\"gridcolor\":\"white\",\"linecolor\":\"white\",\"ticks\":\"\"}},\"coloraxis\":{\"colorbar\":{\"outlinewidth\":0,\"ticks\":\"\"}},\"colorscale\":{\"sequential\":[[0.0,\"#0d0887\"],[0.1111111111111111,\"#46039f\"],[0.2222222222222222,\"#7201a8\"],[0.3333333333333333,\"#9c179e\"],[0.4444444444444444,\"#bd3786\"],[0.5555555555555556,\"#d8576b\"],[0.6666666666666666,\"#ed7953\"],[0.7777777777777778,\"#fb9f3a\"],[0.8888888888888888,\"#fdca26\"],[1.0,\"#f0f921\"]],\"sequentialminus\":[[0.0,\"#0d0887\"],[0.1111111111111111,\"#46039f\"],[0.2222222222222222,\"#7201a8\"],[0.3333333333333333,\"#9c179e\"],[0.4444444444444444,\"#bd3786\"],[0.5555555555555556,\"#d8576b\"],[0.6666666666666666,\"#ed7953\"],[0.7777777777777778,\"#fb9f3a\"],[0.8888888888888888,\"#fdca26\"],[1.0,\"#f0f921\"]],\"diverging\":[[0,\"#8e0152\"],[0.1,\"#c51b7d\"],[0.2,\"#de77ae\"],[0.3,\"#f1b6da\"],[0.4,\"#fde0ef\"],[0.5,\"#f7f7f7\"],[0.6,\"#e6f5d0\"],[0.7,\"#b8e186\"],[0.8,\"#7fbc41\"],[0.9,\"#4d9221\"],[1,\"#276419\"]]},\"xaxis\":{\"gridcolor\":\"white\",\"linecolor\":\"white\",\"ticks\":\"\",\"title\":{\"standoff\":15},\"zerolinecolor\":\"white\",\"automargin\":true,\"zerolinewidth\":2},\"yaxis\":{\"gridcolor\":\"white\",\"linecolor\":\"white\",\"ticks\":\"\",\"title\":{\"standoff\":15},\"zerolinecolor\":\"white\",\"automargin\":true,\"zerolinewidth\":2},\"scene\":{\"xaxis\":{\"backgroundcolor\":\"#E5ECF6\",\"gridcolor\":\"white\",\"linecolor\":\"white\",\"showbackground\":true,\"ticks\":\"\",\"zerolinecolor\":\"white\",\"gridwidth\":2},\"yaxis\":{\"backgroundcolor\":\"#E5ECF6\",\"gridcolor\":\"white\",\"linecolor\":\"white\",\"showbackground\":true,\"ticks\":\"\",\"zerolinecolor\":\"white\",\"gridwidth\":2},\"zaxis\":{\"backgroundcolor\":\"#E5ECF6\",\"gridcolor\":\"white\",\"linecolor\":\"white\",\"showbackground\":true,\"ticks\":\"\",\"zerolinecolor\":\"white\",\"gridwidth\":2}},\"shapedefaults\":{\"line\":{\"color\":\"#2a3f5f\"}},\"annotationdefaults\":{\"arrowcolor\":\"#2a3f5f\",\"arrowhead\":0,\"arrowwidth\":1},\"geo\":{\"bgcolor\":\"white\",\"landcolor\":\"#E5ECF6\",\"subunitcolor\":\"white\",\"showland\":true,\"showlakes\":true,\"lakecolor\":\"white\"},\"title\":{\"x\":0.05},\"mapbox\":{\"style\":\"light\"}}},\"xaxis\":{\"anchor\":\"y\",\"domain\":[0.0,1.0],\"title\":{\"text\":\"x\"}},\"yaxis\":{\"anchor\":\"x\",\"domain\":[0.0,1.0],\"title\":{\"text\":\"y\"}},\"legend\":{\"title\":{\"text\":\"color\"},\"tracegroupgap\":0},\"margin\":{\"t\":60}},                        {\"responsive\": true}                    ).then(function(){\n",
       "                            \n",
       "var gd = document.getElementById('b9ae4824-bf14-407d-bcf7-843c9ad5542c');\n",
       "var x = new MutationObserver(function (mutations, observer) {{\n",
       "        var display = window.getComputedStyle(gd).display;\n",
       "        if (!display || display === 'none') {{\n",
       "            console.log([gd, 'removed!']);\n",
       "            Plotly.purge(gd);\n",
       "            observer.disconnect();\n",
       "        }}\n",
       "}});\n",
       "\n",
       "// Listen for the removal of the full notebook cells\n",
       "var notebookContainer = gd.closest('#notebook-container');\n",
       "if (notebookContainer) {{\n",
       "    x.observe(notebookContainer, {childList: true});\n",
       "}}\n",
       "\n",
       "// Listen for the clearing of the current output cell\n",
       "var outputEl = gd.closest('.output');\n",
       "if (outputEl) {{\n",
       "    x.observe(outputEl, {childList: true});\n",
       "}}\n",
       "\n",
       "                        })                };                });            </script>        </div>"
      ]
     },
     "metadata": {},
     "output_type": "display_data"
    }
   ],
   "source": [
    "plot = px.line(x=max_launch_org['Year'],\n",
    "       y=max_launch_org['Num_launches'],\n",
    "       color=max_launch_org['Organisation'],\n",
    "        hover_name=max_launch_org['Organisation'])\n",
    "plot.show()"
   ]
  },
  {
   "cell_type": "code",
   "execution_count": null,
   "metadata": {
    "id": "8vHKpuc5a-rc",
    "papermill": {
     "duration": 0.092403,
     "end_time": "2020-10-20T21:34:26.709168",
     "exception": false,
     "start_time": "2020-10-20T21:34:26.616765",
     "status": "completed"
    },
    "tags": []
   },
   "outputs": [],
   "source": []
  }
 ],
 "metadata": {
  "colab": {
   "name": "Space Missions Analysis (start).ipynb",
   "provenance": []
  },
  "kernelspec": {
   "display_name": "Python 3 (ipykernel)",
   "language": "python",
   "name": "python3"
  },
  "language_info": {
   "codemirror_mode": {
    "name": "ipython",
    "version": 3
   },
   "file_extension": ".py",
   "mimetype": "text/x-python",
   "name": "python",
   "nbconvert_exporter": "python",
   "pygments_lexer": "ipython3",
   "version": "3.9.13"
  },
  "papermill": {
   "duration": 28.468597,
   "end_time": "2020-10-20T21:34:26.910951",
   "environment_variables": {},
   "exception": null,
   "input_path": "__notebook__.ipynb",
   "output_path": "__notebook__.ipynb",
   "parameters": {},
   "start_time": "2020-10-20T21:33:58.442354",
   "version": "2.1.0"
  }
 },
 "nbformat": 4,
 "nbformat_minor": 1
}
